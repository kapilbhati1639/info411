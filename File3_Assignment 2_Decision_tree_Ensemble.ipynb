{
 "cells": [
  {
   "cell_type": "code",
   "execution_count": 38,
   "id": "3b8d0e74",
   "metadata": {},
   "outputs": [
    {
     "data": {
      "text/html": [
       "<table class=\"data-frame\"><thead><tr><th></th><th>variable</th><th>mean</th><th>min</th><th>median</th><th>max</th><th>nmissing</th><th>eltype</th></tr><tr><th></th><th>Symbol</th><th>Float64</th><th>Real</th><th>Float64</th><th>Real</th><th>Int64</th><th>DataType</th></tr></thead><tbody><p>14 rows × 7 columns</p><tr><th>1</th><td>age</td><td>54.4333</td><td>29.0</td><td>55.0</td><td>77.0</td><td>0</td><td>Float64</td></tr><tr><th>2</th><td>sex</td><td>0.677778</td><td>0.0</td><td>1.0</td><td>1.0</td><td>0</td><td>Float64</td></tr><tr><th>3</th><td>chest_pain</td><td>3.17407</td><td>1.0</td><td>3.0</td><td>4.0</td><td>0</td><td>Float64</td></tr><tr><th>4</th><td>rest_bp</td><td>131.344</td><td>94.0</td><td>130.0</td><td>200.0</td><td>0</td><td>Float64</td></tr><tr><th>5</th><td>serum_cholestrol</td><td>249.659</td><td>126.0</td><td>245.0</td><td>564.0</td><td>0</td><td>Float64</td></tr><tr><th>6</th><td>fasting_blood_sugar</td><td>0.148148</td><td>0.0</td><td>0.0</td><td>1.0</td><td>0</td><td>Float64</td></tr><tr><th>7</th><td>rest_ECG</td><td>1.02222</td><td>0.0</td><td>2.0</td><td>2.0</td><td>0</td><td>Float64</td></tr><tr><th>8</th><td>max_HR</td><td>149.678</td><td>71.0</td><td>153.5</td><td>202.0</td><td>0</td><td>Float64</td></tr><tr><th>9</th><td>ex_ind_ang</td><td>0.32963</td><td>0.0</td><td>0.0</td><td>1.0</td><td>0</td><td>Float64</td></tr><tr><th>10</th><td>oldpeak</td><td>1.05</td><td>0.0</td><td>0.8</td><td>6.2</td><td>0</td><td>Float64</td></tr><tr><th>11</th><td>slope</td><td>1.58519</td><td>1.0</td><td>2.0</td><td>3.0</td><td>0</td><td>Float64</td></tr><tr><th>12</th><td>major_vessel</td><td>0.67037</td><td>0.0</td><td>0.0</td><td>3.0</td><td>0</td><td>Float64</td></tr><tr><th>13</th><td>thal</td><td>4.6963</td><td>3.0</td><td>3.0</td><td>7.0</td><td>0</td><td>Float64</td></tr><tr><th>14</th><td>heart_dis</td><td>1.44444</td><td>1</td><td>1.0</td><td>2</td><td>0</td><td>Int64</td></tr></tbody></table>"
      ],
      "text/latex": [
       "\\begin{tabular}{r|ccccccc}\n",
       "\t& variable & mean & min & median & max & nmissing & eltype\\\\\n",
       "\t\\hline\n",
       "\t& Symbol & Float64 & Real & Float64 & Real & Int64 & DataType\\\\\n",
       "\t\\hline\n",
       "\t1 & age & 54.4333 & 29.0 & 55.0 & 77.0 & 0 & Float64 \\\\\n",
       "\t2 & sex & 0.677778 & 0.0 & 1.0 & 1.0 & 0 & Float64 \\\\\n",
       "\t3 & chest\\_pain & 3.17407 & 1.0 & 3.0 & 4.0 & 0 & Float64 \\\\\n",
       "\t4 & rest\\_bp & 131.344 & 94.0 & 130.0 & 200.0 & 0 & Float64 \\\\\n",
       "\t5 & serum\\_cholestrol & 249.659 & 126.0 & 245.0 & 564.0 & 0 & Float64 \\\\\n",
       "\t6 & fasting\\_blood\\_sugar & 0.148148 & 0.0 & 0.0 & 1.0 & 0 & Float64 \\\\\n",
       "\t7 & rest\\_ECG & 1.02222 & 0.0 & 2.0 & 2.0 & 0 & Float64 \\\\\n",
       "\t8 & max\\_HR & 149.678 & 71.0 & 153.5 & 202.0 & 0 & Float64 \\\\\n",
       "\t9 & ex\\_ind\\_ang & 0.32963 & 0.0 & 0.0 & 1.0 & 0 & Float64 \\\\\n",
       "\t10 & oldpeak & 1.05 & 0.0 & 0.8 & 6.2 & 0 & Float64 \\\\\n",
       "\t11 & slope & 1.58519 & 1.0 & 2.0 & 3.0 & 0 & Float64 \\\\\n",
       "\t12 & major\\_vessel & 0.67037 & 0.0 & 0.0 & 3.0 & 0 & Float64 \\\\\n",
       "\t13 & thal & 4.6963 & 3.0 & 3.0 & 7.0 & 0 & Float64 \\\\\n",
       "\t14 & heart\\_dis & 1.44444 & 1 & 1.0 & 2 & 0 & Int64 \\\\\n",
       "\\end{tabular}\n"
      ],
      "text/plain": [
       "\u001b[1m14×7 DataFrame\u001b[0m\n",
       "\u001b[1m Row \u001b[0m│\u001b[1m variable            \u001b[0m\u001b[1m mean       \u001b[0m\u001b[1m min   \u001b[0m\u001b[1m median  \u001b[0m\u001b[1m max   \u001b[0m\u001b[1m nmissing \u001b[0m\u001b[1m eltyp\u001b[0m ⋯\n",
       "\u001b[1m     \u001b[0m│\u001b[90m Symbol              \u001b[0m\u001b[90m Float64    \u001b[0m\u001b[90m Real  \u001b[0m\u001b[90m Float64 \u001b[0m\u001b[90m Real  \u001b[0m\u001b[90m Int64    \u001b[0m\u001b[90m DataT\u001b[0m ⋯\n",
       "─────┼──────────────────────────────────────────────────────────────────────────\n",
       "   1 │ age                   54.4333     29.0     55.0   77.0         0  Float ⋯\n",
       "   2 │ sex                    0.677778    0.0      1.0    1.0         0  Float\n",
       "   3 │ chest_pain             3.17407     1.0      3.0    4.0         0  Float\n",
       "   4 │ rest_bp              131.344      94.0    130.0  200.0         0  Float\n",
       "   5 │ serum_cholestrol     249.659     126.0    245.0  564.0         0  Float ⋯\n",
       "   6 │ fasting_blood_sugar    0.148148    0.0      0.0    1.0         0  Float\n",
       "   7 │ rest_ECG               1.02222     0.0      2.0    2.0         0  Float\n",
       "   8 │ max_HR               149.678      71.0    153.5  202.0         0  Float\n",
       "   9 │ ex_ind_ang             0.32963     0.0      0.0    1.0         0  Float ⋯\n",
       "  10 │ oldpeak                1.05        0.0      0.8    6.2         0  Float\n",
       "  11 │ slope                  1.58519     1.0      2.0    3.0         0  Float\n",
       "  12 │ major_vessel           0.67037     0.0      0.0    3.0         0  Float\n",
       "  13 │ thal                   4.6963      3.0      3.0    7.0         0  Float ⋯\n",
       "  14 │ heart_dis              1.44444       1      1.0      2         0  Int64\n",
       "\u001b[36m                                                                1 column omitted\u001b[0m"
      ]
     },
     "execution_count": 38,
     "metadata": {},
     "output_type": "execute_result"
    }
   ],
   "source": [
    "using UrlDownload, Plots, DataFrames, MLJ, Random\n",
    "\n",
    "url = \"https://archive.ics.uci.edu/ml/machine-learning-databases/statlog/heart/heart.dat\";\n",
    "feature_names = [\"age\", \"sex\", \"chest_pain\", \"rest_bp\", \"serum_cholestrol\", \"fasting_blood_sugar\", \"rest_ECG\", \"max_HR\", \"ex_ind_ang\", \"oldpeak\",\n",
    "\"slope\", \"major_vessel\", \"thal\",\"heart_dis\"]\n",
    "data = urldownload(url, true, format = :CSV, header = feature_names);\n",
    "s_log = DataFrame(data)\n",
    "describe(s_log)\n"
   ]
  },
  {
   "cell_type": "code",
   "execution_count": null,
   "id": "e790e4eb",
   "metadata": {},
   "outputs": [],
   "source": []
  },
  {
   "cell_type": "code",
   "execution_count": 39,
   "id": "b8504d04",
   "metadata": {
    "scrolled": true
   },
   "outputs": [
    {
     "data": {
      "text/plain": [
       "Dict{Symbol, Type} with 9 entries:\n",
       "  :rest_ECG            => OrderedFactor\n",
       "  :chest_pain          => OrderedFactor\n",
       "  :fasting_blood_sugar => OrderedFactor\n",
       "  :major_vessel        => OrderedFactor\n",
       "  :sex                 => OrderedFactor\n",
       "  :ex_ind_ang          => OrderedFactor\n",
       "  :thal                => OrderedFactor\n",
       "  :slope               => OrderedFactor\n",
       "  :heart_dis           => OrderedFactor"
      ]
     },
     "execution_count": 39,
     "metadata": {},
     "output_type": "execute_result"
    }
   ],
   "source": [
    "autotype(s_log)"
   ]
  },
  {
   "cell_type": "code",
   "execution_count": 40,
   "id": "6a7c75a5",
   "metadata": {},
   "outputs": [
    {
     "data": {
      "text/plain": [
       "┌─────────────────────┬───────────────────────────────────┬──────────────────┐\n",
       "│\u001b[22m _.names             \u001b[0m│\u001b[22m _.types                           \u001b[0m│\u001b[22m _.scitypes       \u001b[0m│\n",
       "├─────────────────────┼───────────────────────────────────┼──────────────────┤\n",
       "│ age                 │ Float64                           │ Continuous       │\n",
       "│ sex                 │ CategoricalValue{Float64, UInt32} │ OrderedFactor{2} │\n",
       "│ chest_pain          │ CategoricalValue{Float64, UInt32} │ OrderedFactor{4} │\n",
       "│ rest_bp             │ Float64                           │ Continuous       │\n",
       "│ serum_cholestrol    │ Float64                           │ Continuous       │\n",
       "│ fasting_blood_sugar │ CategoricalValue{Float64, UInt32} │ OrderedFactor{2} │\n",
       "│ rest_ECG            │ CategoricalValue{Float64, UInt32} │ OrderedFactor{3} │\n",
       "│ max_HR              │ Float64                           │ Continuous       │\n",
       "│ ex_ind_ang          │ CategoricalValue{Float64, UInt32} │ OrderedFactor{2} │\n",
       "│ oldpeak             │ Float64                           │ Continuous       │\n",
       "│ slope               │ CategoricalValue{Float64, UInt32} │ OrderedFactor{3} │\n",
       "│ major_vessel        │ CategoricalValue{Float64, UInt32} │ OrderedFactor{4} │\n",
       "│ thal                │ CategoricalValue{Float64, UInt32} │ OrderedFactor{3} │\n",
       "│ heart_dis           │ CategoricalValue{Int64, UInt32}   │ OrderedFactor{2} │\n",
       "└─────────────────────┴───────────────────────────────────┴──────────────────┘\n",
       "_.nrows = 270\n"
      ]
     },
     "execution_count": 40,
     "metadata": {},
     "output_type": "execute_result"
    }
   ],
   "source": [
    "coerce!(s_log, autotype(s_log));\n",
    "schema(s_log)"
   ]
  },
  {
   "cell_type": "code",
   "execution_count": 41,
   "id": "c6149fa3",
   "metadata": {
    "scrolled": true
   },
   "outputs": [
    {
     "data": {
      "text/plain": [
       "┌─────────────────────┬───────────────────────────────────┬──────────────────┐\n",
       "│\u001b[22m _.names             \u001b[0m│\u001b[22m _.types                           \u001b[0m│\u001b[22m _.scitypes       \u001b[0m│\n",
       "├─────────────────────┼───────────────────────────────────┼──────────────────┤\n",
       "│ age                 │ Float64                           │ Continuous       │\n",
       "│ sex                 │ CategoricalValue{Float64, UInt32} │ OrderedFactor{2} │\n",
       "│ chest_pain          │ CategoricalValue{Float64, UInt32} │ OrderedFactor{4} │\n",
       "│ rest_bp             │ Float64                           │ Continuous       │\n",
       "│ serum_cholestrol    │ Float64                           │ Continuous       │\n",
       "│ fasting_blood_sugar │ CategoricalValue{Float64, UInt32} │ OrderedFactor{2} │\n",
       "│ rest_ECG            │ CategoricalValue{Float64, UInt32} │ OrderedFactor{3} │\n",
       "│ max_HR              │ Float64                           │ Continuous       │\n",
       "│ ex_ind_ang          │ CategoricalValue{Float64, UInt32} │ OrderedFactor{2} │\n",
       "│ oldpeak             │ Float64                           │ Continuous       │\n",
       "│ slope               │ CategoricalValue{Float64, UInt32} │ OrderedFactor{3} │\n",
       "│ major_vessel        │ CategoricalValue{Float64, UInt32} │ OrderedFactor{4} │\n",
       "│ thal                │ CategoricalValue{Float64, UInt32} │ Multiclass{3}    │\n",
       "│ heart_dis           │ CategoricalValue{Int64, UInt32}   │ OrderedFactor{2} │\n",
       "└─────────────────────┴───────────────────────────────────┴──────────────────┘\n",
       "_.nrows = 270\n"
      ]
     },
     "execution_count": 41,
     "metadata": {},
     "output_type": "execute_result"
    }
   ],
   "source": [
    "coerce!(s_log,\n",
    "          :presence => OrderedFactor,\n",
    "          :exang    => OrderedFactor,\n",
    "          :sex      => OrderedFactor,\n",
    "          :fbs      => OrderedFactor,\n",
    "          :restecg  => Multiclass,\n",
    "          :slope    => OrderedFactor,\n",
    "          :ca       => Continuous,\n",
    "          :thal     => Multiclass,\n",
    "          :cp       => Multiclass);\n",
    "schema(s_log)"
   ]
  },
  {
   "cell_type": "code",
   "execution_count": 42,
   "id": "adae12c5",
   "metadata": {},
   "outputs": [
    {
     "data": {
      "text/plain": [
       "AbstractVector{OrderedFactor{2}} (alias for AbstractArray{OrderedFactor{2}, 1})"
      ]
     },
     "execution_count": 42,
     "metadata": {},
     "output_type": "execute_result"
    }
   ],
   "source": [
    "y, X = unpack(s_log, ==(:heart_dis), name->true; rng=123);\n",
    "scitype(y)"
   ]
  },
  {
   "cell_type": "code",
   "execution_count": 43,
   "id": "0d6f6a07",
   "metadata": {
    "scrolled": false
   },
   "outputs": [
    {
     "data": {
      "text/html": [
       "<table class=\"data-frame\"><thead><tr><th></th><th>variable</th><th>mean</th><th>min</th><th>median</th><th>max</th><th>nmissing</th><th>eltype</th></tr><tr><th></th><th>Symbol</th><th>Union…</th><th>Any</th><th>Union…</th><th>Any</th><th>Int64</th><th>DataType</th></tr></thead><tbody><p>13 rows × 7 columns</p><tr><th>1</th><td>age</td><td>54.4333</td><td>29.0</td><td>55.0</td><td>77.0</td><td>0</td><td>Float64</td></tr><tr><th>2</th><td>sex</td><td></td><td>0.0</td><td></td><td>1.0</td><td>0</td><td>CategoricalValue{Float64, UInt32}</td></tr><tr><th>3</th><td>chest_pain</td><td></td><td>1.0</td><td></td><td>4.0</td><td>0</td><td>CategoricalValue{Float64, UInt32}</td></tr><tr><th>4</th><td>rest_bp</td><td>131.344</td><td>94.0</td><td>130.0</td><td>200.0</td><td>0</td><td>Float64</td></tr><tr><th>5</th><td>serum_cholestrol</td><td>249.659</td><td>126.0</td><td>245.0</td><td>564.0</td><td>0</td><td>Float64</td></tr><tr><th>6</th><td>fasting_blood_sugar</td><td></td><td>0.0</td><td></td><td>1.0</td><td>0</td><td>CategoricalValue{Float64, UInt32}</td></tr><tr><th>7</th><td>rest_ECG</td><td></td><td>0.0</td><td></td><td>2.0</td><td>0</td><td>CategoricalValue{Float64, UInt32}</td></tr><tr><th>8</th><td>max_HR</td><td>149.678</td><td>71.0</td><td>153.5</td><td>202.0</td><td>0</td><td>Float64</td></tr><tr><th>9</th><td>ex_ind_ang</td><td></td><td>0.0</td><td></td><td>1.0</td><td>0</td><td>CategoricalValue{Float64, UInt32}</td></tr><tr><th>10</th><td>oldpeak</td><td>1.05</td><td>0.0</td><td>0.8</td><td>6.2</td><td>0</td><td>Float64</td></tr><tr><th>11</th><td>slope</td><td></td><td>1.0</td><td></td><td>3.0</td><td>0</td><td>CategoricalValue{Float64, UInt32}</td></tr><tr><th>12</th><td>major_vessel</td><td></td><td>0.0</td><td></td><td>3.0</td><td>0</td><td>CategoricalValue{Float64, UInt32}</td></tr><tr><th>13</th><td>thal</td><td></td><td>3.0</td><td></td><td>7.0</td><td>0</td><td>CategoricalValue{Float64, UInt32}</td></tr></tbody></table>"
      ],
      "text/latex": [
       "\\begin{tabular}{r|ccccccc}\n",
       "\t& variable & mean & min & median & max & nmissing & eltype\\\\\n",
       "\t\\hline\n",
       "\t& Symbol & Union… & Any & Union… & Any & Int64 & DataType\\\\\n",
       "\t\\hline\n",
       "\t1 & age & 54.4333 & 29.0 & 55.0 & 77.0 & 0 & Float64 \\\\\n",
       "\t2 & sex &  & 0.0 &  & 1.0 & 0 & CategoricalValue\\{Float64, UInt32\\} \\\\\n",
       "\t3 & chest\\_pain &  & 1.0 &  & 4.0 & 0 & CategoricalValue\\{Float64, UInt32\\} \\\\\n",
       "\t4 & rest\\_bp & 131.344 & 94.0 & 130.0 & 200.0 & 0 & Float64 \\\\\n",
       "\t5 & serum\\_cholestrol & 249.659 & 126.0 & 245.0 & 564.0 & 0 & Float64 \\\\\n",
       "\t6 & fasting\\_blood\\_sugar &  & 0.0 &  & 1.0 & 0 & CategoricalValue\\{Float64, UInt32\\} \\\\\n",
       "\t7 & rest\\_ECG &  & 0.0 &  & 2.0 & 0 & CategoricalValue\\{Float64, UInt32\\} \\\\\n",
       "\t8 & max\\_HR & 149.678 & 71.0 & 153.5 & 202.0 & 0 & Float64 \\\\\n",
       "\t9 & ex\\_ind\\_ang &  & 0.0 &  & 1.0 & 0 & CategoricalValue\\{Float64, UInt32\\} \\\\\n",
       "\t10 & oldpeak & 1.05 & 0.0 & 0.8 & 6.2 & 0 & Float64 \\\\\n",
       "\t11 & slope &  & 1.0 &  & 3.0 & 0 & CategoricalValue\\{Float64, UInt32\\} \\\\\n",
       "\t12 & major\\_vessel &  & 0.0 &  & 3.0 & 0 & CategoricalValue\\{Float64, UInt32\\} \\\\\n",
       "\t13 & thal &  & 3.0 &  & 7.0 & 0 & CategoricalValue\\{Float64, UInt32\\} \\\\\n",
       "\\end{tabular}\n"
      ],
      "text/plain": [
       "\u001b[1m13×7 DataFrame\u001b[0m\n",
       "\u001b[1m Row \u001b[0m│\u001b[1m variable            \u001b[0m\u001b[1m mean    \u001b[0m\u001b[1m min   \u001b[0m\u001b[1m median \u001b[0m\u001b[1m max   \u001b[0m\u001b[1m nmissing \u001b[0m\u001b[1m eltype   \u001b[0m ⋯\n",
       "\u001b[1m     \u001b[0m│\u001b[90m Symbol              \u001b[0m\u001b[90m Union…  \u001b[0m\u001b[90m Any   \u001b[0m\u001b[90m Union… \u001b[0m\u001b[90m Any   \u001b[0m\u001b[90m Int64    \u001b[0m\u001b[90m DataType \u001b[0m ⋯\n",
       "─────┼──────────────────────────────────────────────────────────────────────────\n",
       "   1 │ age                  54.4333  29.0   55.0    77.0          0  Float64   ⋯\n",
       "   2 │ sex                 \u001b[90m         \u001b[0m 0.0   \u001b[90m        \u001b[0m 1.0           0  Categoric\n",
       "   3 │ chest_pain          \u001b[90m         \u001b[0m 1.0   \u001b[90m        \u001b[0m 4.0           0  Categoric\n",
       "   4 │ rest_bp              131.344  94.0   130.0   200.0         0  Float64\n",
       "   5 │ serum_cholestrol     249.659  126.0  245.0   564.0         0  Float64   ⋯\n",
       "   6 │ fasting_blood_sugar \u001b[90m         \u001b[0m 0.0   \u001b[90m        \u001b[0m 1.0           0  Categoric\n",
       "   7 │ rest_ECG            \u001b[90m         \u001b[0m 0.0   \u001b[90m        \u001b[0m 2.0           0  Categoric\n",
       "   8 │ max_HR               149.678  71.0   153.5   202.0         0  Float64\n",
       "   9 │ ex_ind_ang          \u001b[90m         \u001b[0m 0.0   \u001b[90m        \u001b[0m 1.0           0  Categoric ⋯\n",
       "  10 │ oldpeak              1.05     0.0    0.8     6.2           0  Float64\n",
       "  11 │ slope               \u001b[90m         \u001b[0m 1.0   \u001b[90m        \u001b[0m 3.0           0  Categoric\n",
       "  12 │ major_vessel        \u001b[90m         \u001b[0m 0.0   \u001b[90m        \u001b[0m 3.0           0  Categoric\n",
       "  13 │ thal                \u001b[90m         \u001b[0m 3.0   \u001b[90m        \u001b[0m 7.0           0  Categoric ⋯\n",
       "\u001b[36m                                                                1 column omitted\u001b[0m"
      ]
     },
     "execution_count": 43,
     "metadata": {},
     "output_type": "execute_result"
    }
   ],
   "source": [
    "describe(X)"
   ]
  },
  {
   "cell_type": "code",
   "execution_count": 44,
   "id": "676c3d37",
   "metadata": {},
   "outputs": [
    {
     "data": {
      "text/plain": [
       "┌─────────────────────┬───────────────────────────────────┬──────────────────┐\n",
       "│\u001b[22m _.names             \u001b[0m│\u001b[22m _.types                           \u001b[0m│\u001b[22m _.scitypes       \u001b[0m│\n",
       "├─────────────────────┼───────────────────────────────────┼──────────────────┤\n",
       "│ age                 │ Float64                           │ Continuous       │\n",
       "│ sex                 │ CategoricalValue{Float64, UInt32} │ OrderedFactor{2} │\n",
       "│ chest_pain          │ CategoricalValue{Float64, UInt32} │ OrderedFactor{4} │\n",
       "│ rest_bp             │ Float64                           │ Continuous       │\n",
       "│ serum_cholestrol    │ Float64                           │ Continuous       │\n",
       "│ fasting_blood_sugar │ CategoricalValue{Float64, UInt32} │ OrderedFactor{2} │\n",
       "│ rest_ECG            │ CategoricalValue{Float64, UInt32} │ OrderedFactor{3} │\n",
       "│ max_HR              │ Float64                           │ Continuous       │\n",
       "│ ex_ind_ang          │ CategoricalValue{Float64, UInt32} │ OrderedFactor{2} │\n",
       "│ oldpeak             │ Float64                           │ Continuous       │\n",
       "│ slope               │ CategoricalValue{Float64, UInt32} │ OrderedFactor{3} │\n",
       "│ major_vessel        │ CategoricalValue{Float64, UInt32} │ OrderedFactor{4} │\n",
       "│ thal                │ CategoricalValue{Float64, UInt32} │ Multiclass{3}    │\n",
       "└─────────────────────┴───────────────────────────────────┴──────────────────┘\n",
       "_.nrows = 270\n"
      ]
     },
     "execution_count": 44,
     "metadata": {},
     "output_type": "execute_result"
    }
   ],
   "source": [
    "schema(X)"
   ]
  },
  {
   "cell_type": "code",
   "execution_count": 45,
   "id": "51505734",
   "metadata": {},
   "outputs": [
    {
     "data": {
      "text/plain": [
       "5"
      ]
     },
     "execution_count": 45,
     "metadata": {},
     "output_type": "execute_result"
    }
   ],
   "source": [
    "using MLJ, Random, Plots\n",
    "\n",
    "tree = (@load DecisionTreeClassifier pkg=DecisionTree verbosity=0)()\n",
    "forest = EnsembleModel(atom=tree, n=250);\n",
    "forest.atom.n_subfeatures = 5\n"
   ]
  },
  {
   "cell_type": "code",
   "execution_count": 46,
   "id": "50e619bd",
   "metadata": {},
   "outputs": [
    {
     "data": {
      "text/plain": [
       "(atom = (max_depth = -1,\n",
       "         min_samples_leaf = 1,\n",
       "         min_samples_split = 2,\n",
       "         min_purity_increase = 0.0,\n",
       "         n_subfeatures = 5,\n",
       "         post_prune = false,\n",
       "         merge_purity_threshold = 1.0,\n",
       "         pdf_smoothing = 0.0,\n",
       "         display_depth = 5,\n",
       "         rng = Random._GLOBAL_RNG(),),\n",
       " atomic_weights = Float64[],\n",
       " bagging_fraction = 0.8,\n",
       " rng = Random._GLOBAL_RNG(),\n",
       " n = 250,\n",
       " acceleration = CPU1{Nothing}(nothing),\n",
       " out_of_bag_measure = Any[],)"
      ]
     },
     "execution_count": 46,
     "metadata": {},
     "output_type": "execute_result"
    }
   ],
   "source": [
    "params(forest) "
   ]
  },
  {
   "cell_type": "code",
   "execution_count": 47,
   "id": "a892687d",
   "metadata": {},
   "outputs": [
    {
     "name": "stderr",
     "output_type": "stream",
     "text": [
      "┌ Warning: The scitype of `X`, in `machine(model, X, ...)` is incompatible with `model=\u001b[34mProbabilisticEnsembleModel{DecisionTreeClassifier} @289\u001b[39m`:\n",
      "│ scitype(X) = Table{Union{AbstractVector{Continuous}, AbstractVector{Multiclass{3}}, AbstractVector{OrderedFactor{3}}, AbstractVector{OrderedFactor{2}}, AbstractVector{OrderedFactor{4}}}}\n",
      "│ input_scitype(model) = Table{var\"#s46\"} where var\"#s46\"<:Union{AbstractVector{var\"#s9\"} where var\"#s9\"<:Count, AbstractVector{var\"#s9\"} where var\"#s9\"<:OrderedFactor, AbstractVector{var\"#s9\"} where var\"#s9\"<:Continuous}.\n",
      "└ @ MLJBase C:\\Users\\kapil\\.julia\\packages\\MLJBase\\KWyqX\\src\\machines.jl:91\n"
     ]
    }
   ],
   "source": [
    "mach = machine(forest, X, y)\n",
    "fit!(mach, verbosity=0);"
   ]
  },
  {
   "cell_type": "code",
   "execution_count": 49,
   "id": "7b9df8a4",
   "metadata": {},
   "outputs": [
    {
     "name": "stderr",
     "output_type": "stream",
     "text": [
      "┌ Warning: The scitype of `X`, in `machine(model, X, ...)` is incompatible with `model=\u001b[34mProbabilisticEnsembleModel{DecisionTreeClassifier} @289\u001b[39m`:\n",
      "│ scitype(X) = Table{Union{AbstractVector{Continuous}, AbstractVector{Multiclass{3}}, AbstractVector{OrderedFactor{3}}, AbstractVector{OrderedFactor{2}}, AbstractVector{OrderedFactor{4}}}}\n",
      "│ input_scitype(model) = Table{var\"#s46\"} where var\"#s46\"<:Union{AbstractVector{var\"#s9\"} where var\"#s9\"<:Count, AbstractVector{var\"#s9\"} where var\"#s9\"<:OrderedFactor, AbstractVector{var\"#s9\"} where var\"#s9\"<:Continuous}.\n",
      "└ @ MLJBase C:\\Users\\kapil\\.julia\\packages\\MLJBase\\KWyqX\\src\\machines.jl:91\n",
      "\u001b[33mEvaluating over 6 folds: 100%[=========================] Time: 0:00:00\u001b[39m\n"
     ]
    },
    {
     "data": {
      "text/plain": [
       "1-element Vector{Vector{Float64}}:\n",
       " [0.4946888035034974, 0.4331606082102317, 0.426463898591711, 0.37360883868634015, 0.4475385494629994, 0.3793331409778367]"
      ]
     },
     "execution_count": 49,
     "metadata": {},
     "output_type": "execute_result"
    }
   ],
   "source": [
    "mach = machine(forest, X, y)\n",
    "perf = evaluate!(mach, resampling=CV())\n",
    "perf.per_fold"
   ]
  },
  {
   "cell_type": "code",
   "execution_count": 50,
   "id": "f70b39b6",
   "metadata": {},
   "outputs": [
    {
     "data": {
      "image/svg+xml": [
       "<?xml version=\"1.0\" encoding=\"utf-8\"?>\n",
       "<svg xmlns=\"http://www.w3.org/2000/svg\" xmlns:xlink=\"http://www.w3.org/1999/xlink\" width=\"600\" height=\"400\" viewBox=\"0 0 2400 1600\">\n",
       "<defs>\n",
       "  <clipPath id=\"clip170\">\n",
       "    <rect x=\"0\" y=\"0\" width=\"2400\" height=\"1600\"/>\n",
       "  </clipPath>\n",
       "</defs>\n",
       "<path clip-path=\"url(#clip170)\" d=\"\n",
       "M0 1600 L2400 1600 L2400 0 L0 0  Z\n",
       "  \" fill=\"#ffffff\" fill-rule=\"evenodd\" fill-opacity=\"1\"/>\n",
       "<defs>\n",
       "  <clipPath id=\"clip171\">\n",
       "    <rect x=\"480\" y=\"0\" width=\"1681\" height=\"1600\"/>\n",
       "  </clipPath>\n",
       "</defs>\n",
       "<path clip-path=\"url(#clip170)\" d=\"\n",
       "M216.436 1486.45 L2352.76 1486.45 L2352.76 47.2441 L216.436 47.2441  Z\n",
       "  \" fill=\"#ffffff\" fill-rule=\"evenodd\" fill-opacity=\"1\"/>\n",
       "<defs>\n",
       "  <clipPath id=\"clip172\">\n",
       "    <rect x=\"216\" y=\"47\" width=\"2137\" height=\"1440\"/>\n",
       "  </clipPath>\n",
       "</defs>\n",
       "<polyline clip-path=\"url(#clip172)\" style=\"stroke:#000000; stroke-linecap:butt; stroke-linejoin:round; stroke-width:2; stroke-opacity:0.1; fill:none\" points=\"\n",
       "  1284.6,1486.45 1284.6,47.2441 \n",
       "  \"/>\n",
       "<polyline clip-path=\"url(#clip170)\" style=\"stroke:#000000; stroke-linecap:butt; stroke-linejoin:round; stroke-width:4; stroke-opacity:1; fill:none\" points=\"\n",
       "  216.436,1486.45 2352.76,1486.45 \n",
       "  \"/>\n",
       "<polyline clip-path=\"url(#clip170)\" style=\"stroke:#000000; stroke-linecap:butt; stroke-linejoin:round; stroke-width:4; stroke-opacity:1; fill:none\" points=\"\n",
       "  1284.6,1486.45 1284.6,1467.55 \n",
       "  \"/>\n",
       "<path clip-path=\"url(#clip170)\" d=\"M1214.75 1514.29 L1234.61 1514.29 L1234.61 1518.22 L1219.42 1518.22 L1219.42 1528.41 L1233.13 1528.41 L1233.13 1532.34 L1219.42 1532.34 L1219.42 1548.85 L1214.75 1548.85 L1214.75 1514.29 Z\" fill=\"#000000\" fill-rule=\"evenodd\" fill-opacity=\"1\" /><path clip-path=\"url(#clip170)\" d=\"M1250.19 1525.91 Q1246.76 1525.91 1244.77 1528.59 Q1242.78 1531.26 1242.78 1535.91 Q1242.78 1540.56 1244.75 1543.25 Q1246.74 1545.91 1250.19 1545.91 Q1253.59 1545.91 1255.58 1543.22 Q1257.57 1540.54 1257.57 1535.91 Q1257.57 1531.3 1255.58 1528.62 Q1253.59 1525.91 1250.19 1525.91 M1250.19 1522.3 Q1255.74 1522.3 1258.91 1525.91 Q1262.08 1529.52 1262.08 1535.91 Q1262.08 1542.27 1258.91 1545.91 Q1255.74 1549.52 1250.19 1549.52 Q1244.61 1549.52 1241.44 1545.91 Q1238.29 1542.27 1238.29 1535.91 Q1238.29 1529.52 1241.44 1525.91 Q1244.61 1522.3 1250.19 1522.3 Z\" fill=\"#000000\" fill-rule=\"evenodd\" fill-opacity=\"1\" /><path clip-path=\"url(#clip170)\" d=\"M1284.17 1526.9 Q1283.45 1526.49 1282.59 1526.3 Q1281.76 1526.09 1280.74 1526.09 Q1277.13 1526.09 1275.19 1528.45 Q1273.26 1530.79 1273.26 1535.19 L1273.26 1548.85 L1268.98 1548.85 L1268.98 1522.92 L1273.26 1522.92 L1273.26 1526.95 Q1274.61 1524.59 1276.76 1523.45 Q1278.91 1522.3 1281.99 1522.3 Q1282.43 1522.3 1282.96 1522.37 Q1283.5 1522.41 1284.14 1522.53 L1284.17 1526.9 Z\" fill=\"#000000\" fill-rule=\"evenodd\" fill-opacity=\"1\" /><path clip-path=\"url(#clip170)\" d=\"M1309.77 1534.82 L1309.77 1536.9 L1290.19 1536.9 Q1290.46 1541.3 1292.83 1543.62 Q1295.21 1545.91 1299.45 1545.91 Q1301.9 1545.91 1304.19 1545.31 Q1306.51 1544.7 1308.77 1543.5 L1308.77 1547.53 Q1306.48 1548.5 1304.07 1549.01 Q1301.67 1549.52 1299.19 1549.52 Q1292.99 1549.52 1289.35 1545.91 Q1285.74 1542.3 1285.74 1536.14 Q1285.74 1529.77 1289.17 1526.05 Q1292.62 1522.3 1298.45 1522.3 Q1303.68 1522.3 1306.71 1525.68 Q1309.77 1529.03 1309.77 1534.82 M1305.51 1533.57 Q1305.46 1530.07 1303.54 1527.99 Q1301.64 1525.91 1298.5 1525.91 Q1294.93 1525.91 1292.78 1527.92 Q1290.65 1529.94 1290.33 1533.59 L1305.51 1533.57 Z\" fill=\"#000000\" fill-rule=\"evenodd\" fill-opacity=\"1\" /><path clip-path=\"url(#clip170)\" d=\"M1333.29 1523.69 L1333.29 1527.71 Q1331.48 1526.79 1329.54 1526.32 Q1327.59 1525.86 1325.51 1525.86 Q1322.34 1525.86 1320.74 1526.83 Q1319.17 1527.81 1319.17 1529.75 Q1319.17 1531.23 1320.3 1532.09 Q1321.44 1532.92 1324.86 1533.69 L1326.32 1534.01 Q1330.86 1534.98 1332.76 1536.76 Q1334.68 1538.52 1334.68 1541.7 Q1334.68 1545.31 1331.81 1547.41 Q1328.96 1549.52 1323.96 1549.52 Q1321.88 1549.52 1319.61 1549.1 Q1317.36 1548.71 1314.86 1547.9 L1314.86 1543.5 Q1317.22 1544.73 1319.51 1545.35 Q1321.81 1545.95 1324.05 1545.95 Q1327.06 1545.95 1328.68 1544.94 Q1330.3 1543.89 1330.3 1542.02 Q1330.3 1540.28 1329.12 1539.36 Q1327.96 1538.43 1324.01 1537.57 L1322.52 1537.23 Q1318.57 1536.39 1316.81 1534.68 Q1315.05 1532.95 1315.05 1529.94 Q1315.05 1526.28 1317.64 1524.29 Q1320.23 1522.3 1325 1522.3 Q1327.36 1522.3 1329.45 1522.64 Q1331.53 1522.99 1333.29 1523.69 Z\" fill=\"#000000\" fill-rule=\"evenodd\" fill-opacity=\"1\" /><path clip-path=\"url(#clip170)\" d=\"M1345.67 1515.56 L1345.67 1522.92 L1354.45 1522.92 L1354.45 1526.23 L1345.67 1526.23 L1345.67 1540.31 Q1345.67 1543.48 1346.53 1544.38 Q1347.41 1545.28 1350.07 1545.28 L1354.45 1545.28 L1354.45 1548.85 L1350.07 1548.85 Q1345.14 1548.85 1343.26 1547.02 Q1341.39 1545.17 1341.39 1540.31 L1341.39 1526.23 L1338.26 1526.23 L1338.26 1522.92 L1341.39 1522.92 L1341.39 1515.56 L1345.67 1515.56 Z\" fill=\"#000000\" fill-rule=\"evenodd\" fill-opacity=\"1\" /><polyline clip-path=\"url(#clip172)\" style=\"stroke:#000000; stroke-linecap:butt; stroke-linejoin:round; stroke-width:2; stroke-opacity:0.1; fill:none\" points=\"\n",
       "  216.436,1433.9 2352.76,1433.9 \n",
       "  \"/>\n",
       "<polyline clip-path=\"url(#clip172)\" style=\"stroke:#000000; stroke-linecap:butt; stroke-linejoin:round; stroke-width:2; stroke-opacity:0.1; fill:none\" points=\"\n",
       "  216.436,1151.96 2352.76,1151.96 \n",
       "  \"/>\n",
       "<polyline clip-path=\"url(#clip172)\" style=\"stroke:#000000; stroke-linecap:butt; stroke-linejoin:round; stroke-width:2; stroke-opacity:0.1; fill:none\" points=\"\n",
       "  216.436,870.022 2352.76,870.022 \n",
       "  \"/>\n",
       "<polyline clip-path=\"url(#clip172)\" style=\"stroke:#000000; stroke-linecap:butt; stroke-linejoin:round; stroke-width:2; stroke-opacity:0.1; fill:none\" points=\"\n",
       "  216.436,588.084 2352.76,588.084 \n",
       "  \"/>\n",
       "<polyline clip-path=\"url(#clip172)\" style=\"stroke:#000000; stroke-linecap:butt; stroke-linejoin:round; stroke-width:2; stroke-opacity:0.1; fill:none\" points=\"\n",
       "  216.436,306.147 2352.76,306.147 \n",
       "  \"/>\n",
       "<polyline clip-path=\"url(#clip170)\" style=\"stroke:#000000; stroke-linecap:butt; stroke-linejoin:round; stroke-width:4; stroke-opacity:1; fill:none\" points=\"\n",
       "  216.436,1486.45 216.436,47.2441 \n",
       "  \"/>\n",
       "<polyline clip-path=\"url(#clip170)\" style=\"stroke:#000000; stroke-linecap:butt; stroke-linejoin:round; stroke-width:4; stroke-opacity:1; fill:none\" points=\"\n",
       "  216.436,1433.9 235.334,1433.9 \n",
       "  \"/>\n",
       "<polyline clip-path=\"url(#clip170)\" style=\"stroke:#000000; stroke-linecap:butt; stroke-linejoin:round; stroke-width:4; stroke-opacity:1; fill:none\" points=\"\n",
       "  216.436,1151.96 235.334,1151.96 \n",
       "  \"/>\n",
       "<polyline clip-path=\"url(#clip170)\" style=\"stroke:#000000; stroke-linecap:butt; stroke-linejoin:round; stroke-width:4; stroke-opacity:1; fill:none\" points=\"\n",
       "  216.436,870.022 235.334,870.022 \n",
       "  \"/>\n",
       "<polyline clip-path=\"url(#clip170)\" style=\"stroke:#000000; stroke-linecap:butt; stroke-linejoin:round; stroke-width:4; stroke-opacity:1; fill:none\" points=\"\n",
       "  216.436,588.084 235.334,588.084 \n",
       "  \"/>\n",
       "<polyline clip-path=\"url(#clip170)\" style=\"stroke:#000000; stroke-linecap:butt; stroke-linejoin:round; stroke-width:4; stroke-opacity:1; fill:none\" points=\"\n",
       "  216.436,306.147 235.334,306.147 \n",
       "  \"/>\n",
       "<path clip-path=\"url(#clip170)\" d=\"M63.9319 1419.7 Q60.3208 1419.7 58.4921 1423.26 Q56.6865 1426.8 56.6865 1433.93 Q56.6865 1441.04 58.4921 1444.6 Q60.3208 1448.14 63.9319 1448.14 Q67.5661 1448.14 69.3717 1444.6 Q71.2004 1441.04 71.2004 1433.93 Q71.2004 1426.8 69.3717 1423.26 Q67.5661 1419.7 63.9319 1419.7 M63.9319 1415.99 Q69.742 1415.99 72.7976 1420.6 Q75.8763 1425.18 75.8763 1433.93 Q75.8763 1442.66 72.7976 1447.27 Q69.742 1451.85 63.9319 1451.85 Q58.1217 1451.85 55.043 1447.27 Q51.9875 1442.66 51.9875 1433.93 Q51.9875 1425.18 55.043 1420.6 Q58.1217 1415.99 63.9319 1415.99 Z\" fill=\"#000000\" fill-rule=\"evenodd\" fill-opacity=\"1\" /><path clip-path=\"url(#clip170)\" d=\"M84.0938 1445.3 L88.978 1445.3 L88.978 1451.18 L84.0938 1451.18 L84.0938 1445.3 Z\" fill=\"#000000\" fill-rule=\"evenodd\" fill-opacity=\"1\" /><path clip-path=\"url(#clip170)\" d=\"M113.33 1432.54 Q116.686 1433.26 118.561 1435.53 Q120.459 1437.8 120.459 1441.13 Q120.459 1446.25 116.941 1449.05 Q113.422 1451.85 106.941 1451.85 Q104.765 1451.85 102.45 1451.41 Q100.159 1450.99 97.7048 1450.14 L97.7048 1445.62 Q99.6493 1446.76 101.964 1447.33 Q104.279 1447.91 106.802 1447.91 Q111.2 1447.91 113.492 1446.18 Q115.807 1444.44 115.807 1441.13 Q115.807 1438.08 113.654 1436.36 Q111.524 1434.63 107.705 1434.63 L103.677 1434.63 L103.677 1430.78 L107.89 1430.78 Q111.339 1430.78 113.168 1429.42 Q114.996 1428.03 114.996 1425.44 Q114.996 1422.77 113.098 1421.36 Q111.223 1419.93 107.705 1419.93 Q105.783 1419.93 103.584 1420.34 Q101.385 1420.76 98.7465 1421.64 L98.7465 1417.47 Q101.409 1416.73 103.723 1416.36 Q106.061 1415.99 108.121 1415.99 Q113.445 1415.99 116.547 1418.42 Q119.649 1420.83 119.649 1424.95 Q119.649 1427.82 118.006 1429.81 Q116.362 1431.78 113.33 1432.54 Z\" fill=\"#000000\" fill-rule=\"evenodd\" fill-opacity=\"1\" /><path clip-path=\"url(#clip170)\" d=\"M128.144 1416.62 L150.367 1416.62 L150.367 1418.61 L137.82 1451.18 L132.936 1451.18 L144.742 1420.55 L128.144 1420.55 L128.144 1416.62 Z\" fill=\"#000000\" fill-rule=\"evenodd\" fill-opacity=\"1\" /><path clip-path=\"url(#clip170)\" d=\"M159.533 1416.62 L177.89 1416.62 L177.89 1420.55 L163.816 1420.55 L163.816 1429.02 Q164.834 1428.68 165.853 1428.52 Q166.871 1428.33 167.89 1428.33 Q173.677 1428.33 177.056 1431.5 Q180.436 1434.67 180.436 1440.09 Q180.436 1445.67 176.964 1448.77 Q173.491 1451.85 167.172 1451.85 Q164.996 1451.85 162.728 1451.48 Q160.482 1451.11 158.075 1450.37 L158.075 1445.67 Q160.158 1446.8 162.38 1447.36 Q164.603 1447.91 167.079 1447.91 Q171.084 1447.91 173.422 1445.81 Q175.76 1443.7 175.76 1440.09 Q175.76 1436.48 173.422 1434.37 Q171.084 1432.27 167.079 1432.27 Q165.204 1432.27 163.329 1432.68 Q161.478 1433.1 159.533 1433.98 L159.533 1416.62 Z\" fill=\"#000000\" fill-rule=\"evenodd\" fill-opacity=\"1\" /><path clip-path=\"url(#clip170)\" d=\"M62.9365 1137.76 Q59.3254 1137.76 57.4967 1141.32 Q55.6912 1144.86 55.6912 1151.99 Q55.6912 1159.1 57.4967 1162.67 Q59.3254 1166.21 62.9365 1166.21 Q66.5707 1166.21 68.3763 1162.67 Q70.205 1159.1 70.205 1151.99 Q70.205 1144.86 68.3763 1141.32 Q66.5707 1137.76 62.9365 1137.76 M62.9365 1134.05 Q68.7467 1134.05 71.8022 1138.66 Q74.8809 1143.24 74.8809 1151.99 Q74.8809 1160.72 71.8022 1165.33 Q68.7467 1169.91 62.9365 1169.91 Q57.1264 1169.91 54.0477 1165.33 Q50.9921 1160.72 50.9921 1151.99 Q50.9921 1143.24 54.0477 1138.66 Q57.1264 1134.05 62.9365 1134.05 Z\" fill=\"#000000\" fill-rule=\"evenodd\" fill-opacity=\"1\" /><path clip-path=\"url(#clip170)\" d=\"M83.0984 1163.36 L87.9827 1163.36 L87.9827 1169.24 L83.0984 1169.24 L83.0984 1163.36 Z\" fill=\"#000000\" fill-rule=\"evenodd\" fill-opacity=\"1\" /><path clip-path=\"url(#clip170)\" d=\"M111.015 1138.75 L99.2095 1157.2 L111.015 1157.2 L111.015 1138.75 M109.788 1134.68 L115.668 1134.68 L115.668 1157.2 L120.598 1157.2 L120.598 1161.09 L115.668 1161.09 L115.668 1169.24 L111.015 1169.24 L111.015 1161.09 L95.4132 1161.09 L95.4132 1156.58 L109.788 1134.68 Z\" fill=\"#000000\" fill-rule=\"evenodd\" fill-opacity=\"1\" /><path clip-path=\"url(#clip170)\" d=\"M138.33 1137.76 Q134.719 1137.76 132.89 1141.32 Q131.084 1144.86 131.084 1151.99 Q131.084 1159.1 132.89 1162.67 Q134.719 1166.21 138.33 1166.21 Q141.964 1166.21 143.769 1162.67 Q145.598 1159.1 145.598 1151.99 Q145.598 1144.86 143.769 1141.32 Q141.964 1137.76 138.33 1137.76 M138.33 1134.05 Q144.14 1134.05 147.195 1138.66 Q150.274 1143.24 150.274 1151.99 Q150.274 1160.72 147.195 1165.33 Q144.14 1169.91 138.33 1169.91 Q132.519 1169.91 129.441 1165.33 Q126.385 1160.72 126.385 1151.99 Q126.385 1143.24 129.441 1138.66 Q132.519 1134.05 138.33 1134.05 Z\" fill=\"#000000\" fill-rule=\"evenodd\" fill-opacity=\"1\" /><path clip-path=\"url(#clip170)\" d=\"M168.491 1137.76 Q164.88 1137.76 163.052 1141.32 Q161.246 1144.86 161.246 1151.99 Q161.246 1159.1 163.052 1162.67 Q164.88 1166.21 168.491 1166.21 Q172.126 1166.21 173.931 1162.67 Q175.76 1159.1 175.76 1151.99 Q175.76 1144.86 173.931 1141.32 Q172.126 1137.76 168.491 1137.76 M168.491 1134.05 Q174.302 1134.05 177.357 1138.66 Q180.436 1143.24 180.436 1151.99 Q180.436 1160.72 177.357 1165.33 Q174.302 1169.91 168.491 1169.91 Q162.681 1169.91 159.603 1165.33 Q156.547 1160.72 156.547 1151.99 Q156.547 1143.24 159.603 1138.66 Q162.681 1134.05 168.491 1134.05 Z\" fill=\"#000000\" fill-rule=\"evenodd\" fill-opacity=\"1\" /><path clip-path=\"url(#clip170)\" d=\"M63.9319 855.821 Q60.3208 855.821 58.4921 859.385 Q56.6865 862.927 56.6865 870.057 Q56.6865 877.163 58.4921 880.728 Q60.3208 884.269 63.9319 884.269 Q67.5661 884.269 69.3717 880.728 Q71.2004 877.163 71.2004 870.057 Q71.2004 862.927 69.3717 859.385 Q67.5661 855.821 63.9319 855.821 M63.9319 852.117 Q69.742 852.117 72.7976 856.723 Q75.8763 861.307 75.8763 870.057 Q75.8763 878.783 72.7976 883.39 Q69.742 887.973 63.9319 887.973 Q58.1217 887.973 55.043 883.39 Q51.9875 878.783 51.9875 870.057 Q51.9875 861.307 55.043 856.723 Q58.1217 852.117 63.9319 852.117 Z\" fill=\"#000000\" fill-rule=\"evenodd\" fill-opacity=\"1\" /><path clip-path=\"url(#clip170)\" d=\"M84.0938 881.422 L88.978 881.422 L88.978 887.302 L84.0938 887.302 L84.0938 881.422 Z\" fill=\"#000000\" fill-rule=\"evenodd\" fill-opacity=\"1\" /><path clip-path=\"url(#clip170)\" d=\"M112.01 856.816 L100.205 875.265 L112.01 875.265 L112.01 856.816 M110.783 852.742 L116.663 852.742 L116.663 875.265 L121.594 875.265 L121.594 879.154 L116.663 879.154 L116.663 887.302 L112.01 887.302 L112.01 879.154 L96.4085 879.154 L96.4085 874.64 L110.783 852.742 Z\" fill=\"#000000\" fill-rule=\"evenodd\" fill-opacity=\"1\" /><path clip-path=\"url(#clip170)\" d=\"M133.353 883.367 L149.672 883.367 L149.672 887.302 L127.728 887.302 L127.728 883.367 Q130.39 880.612 134.973 875.982 Q139.58 871.33 140.76 869.987 Q143.006 867.464 143.885 865.728 Q144.788 863.969 144.788 862.279 Q144.788 859.524 142.843 857.788 Q140.922 856.052 137.82 856.052 Q135.621 856.052 133.168 856.816 Q130.737 857.58 127.959 859.131 L127.959 854.409 Q130.783 853.274 133.237 852.696 Q135.691 852.117 137.728 852.117 Q143.098 852.117 146.293 854.802 Q149.487 857.487 149.487 861.978 Q149.487 864.108 148.677 866.029 Q147.89 867.927 145.783 870.52 Q145.205 871.191 142.103 874.408 Q139.001 877.603 133.353 883.367 Z\" fill=\"#000000\" fill-rule=\"evenodd\" fill-opacity=\"1\" /><path clip-path=\"url(#clip170)\" d=\"M159.533 852.742 L177.89 852.742 L177.89 856.677 L163.816 856.677 L163.816 865.149 Q164.834 864.802 165.853 864.64 Q166.871 864.455 167.89 864.455 Q173.677 864.455 177.056 867.626 Q180.436 870.797 180.436 876.214 Q180.436 881.793 176.964 884.894 Q173.491 887.973 167.172 887.973 Q164.996 887.973 162.728 887.603 Q160.482 887.232 158.075 886.492 L158.075 881.793 Q160.158 882.927 162.38 883.482 Q164.603 884.038 167.079 884.038 Q171.084 884.038 173.422 881.932 Q175.76 879.825 175.76 876.214 Q175.76 872.603 173.422 870.496 Q171.084 868.39 167.079 868.39 Q165.204 868.39 163.329 868.807 Q161.478 869.223 159.533 870.103 L159.533 852.742 Z\" fill=\"#000000\" fill-rule=\"evenodd\" fill-opacity=\"1\" /><path clip-path=\"url(#clip170)\" d=\"M62.9365 573.883 Q59.3254 573.883 57.4967 577.448 Q55.6912 580.989 55.6912 588.119 Q55.6912 595.225 57.4967 598.79 Q59.3254 602.332 62.9365 602.332 Q66.5707 602.332 68.3763 598.79 Q70.205 595.225 70.205 588.119 Q70.205 580.989 68.3763 577.448 Q66.5707 573.883 62.9365 573.883 M62.9365 570.179 Q68.7467 570.179 71.8022 574.786 Q74.8809 579.369 74.8809 588.119 Q74.8809 596.846 71.8022 601.452 Q68.7467 606.035 62.9365 606.035 Q57.1264 606.035 54.0477 601.452 Q50.9921 596.846 50.9921 588.119 Q50.9921 579.369 54.0477 574.786 Q57.1264 570.179 62.9365 570.179 Z\" fill=\"#000000\" fill-rule=\"evenodd\" fill-opacity=\"1\" /><path clip-path=\"url(#clip170)\" d=\"M83.0984 599.485 L87.9827 599.485 L87.9827 605.364 L83.0984 605.364 L83.0984 599.485 Z\" fill=\"#000000\" fill-rule=\"evenodd\" fill-opacity=\"1\" /><path clip-path=\"url(#clip170)\" d=\"M111.015 574.878 L99.2095 593.327 L111.015 593.327 L111.015 574.878 M109.788 570.804 L115.668 570.804 L115.668 593.327 L120.598 593.327 L120.598 597.216 L115.668 597.216 L115.668 605.364 L111.015 605.364 L111.015 597.216 L95.4132 597.216 L95.4132 592.702 L109.788 570.804 Z\" fill=\"#000000\" fill-rule=\"evenodd\" fill-opacity=\"1\" /><path clip-path=\"url(#clip170)\" d=\"M128.376 570.804 L146.732 570.804 L146.732 574.739 L132.658 574.739 L132.658 583.212 Q133.677 582.864 134.695 582.702 Q135.714 582.517 136.732 582.517 Q142.519 582.517 145.899 585.688 Q149.279 588.86 149.279 594.276 Q149.279 599.855 145.806 602.957 Q142.334 606.035 136.015 606.035 Q133.839 606.035 131.57 605.665 Q129.325 605.295 126.918 604.554 L126.918 599.855 Q129.001 600.989 131.223 601.545 Q133.445 602.1 135.922 602.1 Q139.927 602.1 142.265 599.994 Q144.603 597.887 144.603 594.276 Q144.603 590.665 142.265 588.559 Q139.927 586.452 135.922 586.452 Q134.047 586.452 132.172 586.869 Q130.32 587.286 128.376 588.165 L128.376 570.804 Z\" fill=\"#000000\" fill-rule=\"evenodd\" fill-opacity=\"1\" /><path clip-path=\"url(#clip170)\" d=\"M168.491 573.883 Q164.88 573.883 163.052 577.448 Q161.246 580.989 161.246 588.119 Q161.246 595.225 163.052 598.79 Q164.88 602.332 168.491 602.332 Q172.126 602.332 173.931 598.79 Q175.76 595.225 175.76 588.119 Q175.76 580.989 173.931 577.448 Q172.126 573.883 168.491 573.883 M168.491 570.179 Q174.302 570.179 177.357 574.786 Q180.436 579.369 180.436 588.119 Q180.436 596.846 177.357 601.452 Q174.302 606.035 168.491 606.035 Q162.681 606.035 159.603 601.452 Q156.547 596.846 156.547 588.119 Q156.547 579.369 159.603 574.786 Q162.681 570.179 168.491 570.179 Z\" fill=\"#000000\" fill-rule=\"evenodd\" fill-opacity=\"1\" /><path clip-path=\"url(#clip170)\" d=\"M63.9319 291.945 Q60.3208 291.945 58.4921 295.51 Q56.6865 299.052 56.6865 306.181 Q56.6865 313.288 58.4921 316.852 Q60.3208 320.394 63.9319 320.394 Q67.5661 320.394 69.3717 316.852 Q71.2004 313.288 71.2004 306.181 Q71.2004 299.052 69.3717 295.51 Q67.5661 291.945 63.9319 291.945 M63.9319 288.242 Q69.742 288.242 72.7976 292.848 Q75.8763 297.431 75.8763 306.181 Q75.8763 314.908 72.7976 319.514 Q69.742 324.098 63.9319 324.098 Q58.1217 324.098 55.043 319.514 Q51.9875 314.908 51.9875 306.181 Q51.9875 297.431 55.043 292.848 Q58.1217 288.242 63.9319 288.242 Z\" fill=\"#000000\" fill-rule=\"evenodd\" fill-opacity=\"1\" /><path clip-path=\"url(#clip170)\" d=\"M84.0938 317.547 L88.978 317.547 L88.978 323.427 L84.0938 323.427 L84.0938 317.547 Z\" fill=\"#000000\" fill-rule=\"evenodd\" fill-opacity=\"1\" /><path clip-path=\"url(#clip170)\" d=\"M112.01 292.941 L100.205 311.39 L112.01 311.39 L112.01 292.941 M110.783 288.867 L116.663 288.867 L116.663 311.39 L121.594 311.39 L121.594 315.278 L116.663 315.278 L116.663 323.427 L112.01 323.427 L112.01 315.278 L96.4085 315.278 L96.4085 310.765 L110.783 288.867 Z\" fill=\"#000000\" fill-rule=\"evenodd\" fill-opacity=\"1\" /><path clip-path=\"url(#clip170)\" d=\"M128.144 288.867 L150.367 288.867 L150.367 290.857 L137.82 323.427 L132.936 323.427 L144.742 292.802 L128.144 292.802 L128.144 288.867 Z\" fill=\"#000000\" fill-rule=\"evenodd\" fill-opacity=\"1\" /><path clip-path=\"url(#clip170)\" d=\"M159.533 288.867 L177.89 288.867 L177.89 292.802 L163.816 292.802 L163.816 301.274 Q164.834 300.927 165.853 300.765 Q166.871 300.579 167.89 300.579 Q173.677 300.579 177.056 303.751 Q180.436 306.922 180.436 312.339 Q180.436 317.917 176.964 321.019 Q173.491 324.098 167.172 324.098 Q164.996 324.098 162.728 323.727 Q160.482 323.357 158.075 322.616 L158.075 317.917 Q160.158 319.052 162.38 319.607 Q164.603 320.163 167.079 320.163 Q171.084 320.163 173.422 318.056 Q175.76 315.95 175.76 312.339 Q175.76 308.728 173.422 306.621 Q171.084 304.515 167.079 304.515 Q165.204 304.515 163.329 304.931 Q161.478 305.348 159.533 306.228 L159.533 288.867 Z\" fill=\"#000000\" fill-rule=\"evenodd\" fill-opacity=\"1\" /><path clip-path=\"url(#clip172)\" d=\"\n",
       "M2006.18 1445.72 L2018.32 1427.61 L2028.83 1409.51 L2037.8 1391.41 L2045.33 1373.3 L2051.57 1355.2 L2056.68 1337.1 L2060.85 1318.99 L2064.28 1300.89 L2067.18 1282.79 \n",
       "  L2069.79 1264.68 L2072.32 1246.58 L2074.98 1228.48 L2077.99 1210.37 L2081.54 1192.27 L2085.79 1174.17 L2090.88 1156.06 L2096.93 1137.96 L2104 1119.86 L2112.14 1101.76 \n",
       "  L2121.34 1083.65 L2131.56 1065.55 L2142.74 1047.45 L2154.74 1029.34 L2167.43 1011.24 L2180.62 993.136 L2194.11 975.033 L2207.66 956.93 L2221.03 938.826 L2233.97 920.723 \n",
       "  L2246.21 902.62 L2257.49 884.517 L2267.57 866.414 L2276.2 848.31 L2283.16 830.207 L2288.27 812.104 L2291.36 794.001 L2292.29 775.898 L2290.98 757.794 L2287.35 739.691 \n",
       "  L2281.39 721.588 L2273.13 703.485 L2262.61 685.382 L2249.92 667.278 L2235.2 649.175 L2218.61 631.072 L2200.32 612.969 L2180.55 594.866 L2159.52 576.762 L2137.46 558.659 \n",
       "  L2114.62 540.556 L2091.24 522.453 L2067.56 504.35 L2043.83 486.247 L2020.25 468.143 L1997.03 450.04 L1974.35 431.937 L1952.37 413.834 L1931.21 395.731 L1910.99 377.627 \n",
       "  L1891.77 359.524 L1873.59 341.421 L1856.48 323.318 L1840.42 305.215 L1825.38 287.111 L1811.29 269.008 L1798.08 250.905 L1785.65 232.802 L1773.88 214.699 L1762.67 196.595 \n",
       "  L1751.89 178.492 L1741.41 160.389 L1731.1 142.286 L1720.86 124.183 L1710.56 106.079 L1700.11 87.9763 L869.085 87.9763 L858.634 106.079 L848.335 124.183 L838.089 142.286 \n",
       "  L827.784 160.389 L817.302 178.492 L806.519 196.595 L795.309 214.699 L783.546 232.802 L771.114 250.905 L757.901 269.008 L743.813 287.111 L728.769 305.215 L712.71 323.318 \n",
       "  L695.599 341.421 L677.425 359.524 L658.203 377.627 L637.979 395.731 L616.824 413.834 L594.841 431.937 L572.162 450.04 L548.942 468.143 L525.364 486.247 L501.628 504.35 \n",
       "  L477.954 522.453 L454.576 540.556 L431.734 558.659 L409.675 576.762 L388.641 594.866 L368.868 612.969 L350.581 631.072 L333.987 649.175 L319.27 667.278 L306.587 685.382 \n",
       "  L296.065 703.485 L287.798 721.588 L281.842 739.691 L278.215 757.794 L276.898 775.898 L277.831 794.001 L280.918 812.104 L286.027 830.207 L292.994 848.31 L301.624 866.414 \n",
       "  L311.7 884.517 L322.983 902.62 L335.223 920.723 L348.16 938.826 L361.533 956.93 L375.086 975.033 L388.572 993.136 L401.763 1011.24 L414.451 1029.34 L426.456 1047.45 \n",
       "  L437.629 1065.55 L447.855 1083.65 L457.056 1101.76 L465.192 1119.86 L472.264 1137.96 L478.308 1156.06 L483.401 1174.17 L487.65 1192.27 L491.197 1210.37 L494.209 1228.48 \n",
       "  L496.876 1246.58 L499.403 1264.68 L502.008 1282.79 L504.914 1300.89 L508.343 1318.99 L512.511 1337.1 L517.622 1355.2 L523.862 1373.3 L531.397 1391.41 L540.364 1409.51 \n",
       "  L550.876 1427.61 L563.011 1445.72 L2006.18 1445.72  Z\n",
       "  \" fill=\"#009af9\" fill-rule=\"evenodd\" fill-opacity=\"1\"/>\n",
       "<polyline clip-path=\"url(#clip172)\" style=\"stroke:#000000; stroke-linecap:butt; stroke-linejoin:round; stroke-width:4; stroke-opacity:1; fill:none\" points=\"\n",
       "  2006.18,1445.72 2018.32,1427.61 2028.83,1409.51 2037.8,1391.41 2045.33,1373.3 2051.57,1355.2 2056.68,1337.1 2060.85,1318.99 2064.28,1300.89 2067.18,1282.79 \n",
       "  2069.79,1264.68 2072.32,1246.58 2074.98,1228.48 2077.99,1210.37 2081.54,1192.27 2085.79,1174.17 2090.88,1156.06 2096.93,1137.96 2104,1119.86 2112.14,1101.76 \n",
       "  2121.34,1083.65 2131.56,1065.55 2142.74,1047.45 2154.74,1029.34 2167.43,1011.24 2180.62,993.136 2194.11,975.033 2207.66,956.93 2221.03,938.826 2233.97,920.723 \n",
       "  2246.21,902.62 2257.49,884.517 2267.57,866.414 2276.2,848.31 2283.16,830.207 2288.27,812.104 2291.36,794.001 2292.29,775.898 2290.98,757.794 2287.35,739.691 \n",
       "  2281.39,721.588 2273.13,703.485 2262.61,685.382 2249.92,667.278 2235.2,649.175 2218.61,631.072 2200.32,612.969 2180.55,594.866 2159.52,576.762 2137.46,558.659 \n",
       "  2114.62,540.556 2091.24,522.453 2067.56,504.35 2043.83,486.247 2020.25,468.143 1997.03,450.04 1974.35,431.937 1952.37,413.834 1931.21,395.731 1910.99,377.627 \n",
       "  1891.77,359.524 1873.59,341.421 1856.48,323.318 1840.42,305.215 1825.38,287.111 1811.29,269.008 1798.08,250.905 1785.65,232.802 1773.88,214.699 1762.67,196.595 \n",
       "  1751.89,178.492 1741.41,160.389 1731.1,142.286 1720.86,124.183 1710.56,106.079 1700.11,87.9763 869.085,87.9763 858.634,106.079 848.335,124.183 838.089,142.286 \n",
       "  827.784,160.389 817.302,178.492 806.519,196.595 795.309,214.699 783.546,232.802 771.114,250.905 757.901,269.008 743.813,287.111 728.769,305.215 712.71,323.318 \n",
       "  695.599,341.421 677.425,359.524 658.203,377.627 637.979,395.731 616.824,413.834 594.841,431.937 572.162,450.04 548.942,468.143 525.364,486.247 501.628,504.35 \n",
       "  477.954,522.453 454.576,540.556 431.734,558.659 409.675,576.762 388.641,594.866 368.868,612.969 350.581,631.072 333.987,649.175 319.27,667.278 306.587,685.382 \n",
       "  296.065,703.485 287.798,721.588 281.842,739.691 278.215,757.794 276.898,775.898 277.831,794.001 280.918,812.104 286.027,830.207 292.994,848.31 301.624,866.414 \n",
       "  311.7,884.517 322.983,902.62 335.223,920.723 348.16,938.826 361.533,956.93 375.086,975.033 388.572,993.136 401.763,1011.24 414.451,1029.34 426.456,1047.45 \n",
       "  437.629,1065.55 447.855,1083.65 457.056,1101.76 465.192,1119.86 472.264,1137.96 478.308,1156.06 483.401,1174.17 487.65,1192.27 491.197,1210.37 494.209,1228.48 \n",
       "  496.876,1246.58 499.403,1264.68 502.008,1282.79 504.914,1300.89 508.343,1318.99 512.511,1337.1 517.622,1355.2 523.862,1373.3 531.397,1391.41 540.364,1409.51 \n",
       "  550.876,1427.61 563.011,1445.72 2006.18,1445.72 \n",
       "  \"/>\n",
       "</svg>\n"
      ]
     },
     "execution_count": 50,
     "metadata": {},
     "output_type": "execute_result"
    }
   ],
   "source": [
    "using StatsPlots\n",
    "violin([\"Forest\"], perf.per_fold[1], label=nothing)"
   ]
  },
  {
   "cell_type": "code",
   "execution_count": 51,
   "id": "02044046",
   "metadata": {},
   "outputs": [],
   "source": [
    "########### Now trying model tuning  #####################"
   ]
  },
  {
   "cell_type": "code",
   "execution_count": 52,
   "id": "44c74c88",
   "metadata": {},
   "outputs": [
    {
     "name": "stderr",
     "output_type": "stream",
     "text": [
      "┌ Info: Training \u001b[34mMachine{ProbabilisticTunedModel{Grid,…},…} @922\u001b[39m.\n",
      "└ @ MLJBase C:\\Users\\kapil\\.julia\\packages\\MLJBase\\KWyqX\\src\\machines.jl:342\n",
      "┌ Info: Attempting to evaluate 30 models.\n",
      "└ @ MLJTuning C:\\Users\\kapil\\.julia\\packages\\MLJTuning\\Uj5Cx\\src\\tuned_models.jl:602\n",
      "┌ Warning: The scitype of `X`, in `machine(model, X, ...)` is incompatible with `model=\u001b[34mResampler{CV,…} @128\u001b[39m`:\n",
      "│ scitype(X) = Table{Union{AbstractVector{Continuous}, AbstractVector{Multiclass{3}}, AbstractVector{OrderedFactor{3}}, AbstractVector{OrderedFactor{2}}, AbstractVector{OrderedFactor{4}}}}\n",
      "│ input_scitype(model) = Table{var\"#s46\"} where var\"#s46\"<:Union{AbstractVector{var\"#s9\"} where var\"#s9\"<:Count, AbstractVector{var\"#s9\"} where var\"#s9\"<:OrderedFactor, AbstractVector{var\"#s9\"} where var\"#s9\"<:Continuous}.\n",
      "└ @ MLJBase C:\\Users\\kapil\\.julia\\packages\\MLJBase\\KWyqX\\src\\machines.jl:91\n",
      "┌ Warning: The scitype of `X`, in `machine(model, X, ...)` is incompatible with `model=\u001b[34mProbabilisticEnsembleModel{DecisionTreeClassifier} @284\u001b[39m`:\n",
      "│ scitype(X) = Table{Union{AbstractVector{Continuous}, AbstractVector{Multiclass{3}}, AbstractVector{OrderedFactor{3}}, AbstractVector{OrderedFactor{2}}, AbstractVector{OrderedFactor{4}}}}\n",
      "│ input_scitype(model) = Table{var\"#s46\"} where var\"#s46\"<:Union{AbstractVector{var\"#s9\"} where var\"#s9\"<:Count, AbstractVector{var\"#s9\"} where var\"#s9\"<:OrderedFactor, AbstractVector{var\"#s9\"} where var\"#s9\"<:Continuous}.\n",
      "└ @ MLJBase C:\\Users\\kapil\\.julia\\packages\\MLJBase\\KWyqX\\src\\machines.jl:91\n",
      "┌ Warning: The scitype of `X`, in `machine(model, X, ...)` is incompatible with `model=\u001b[34mProbabilisticEnsembleModel{DecisionTreeClassifier} @282\u001b[39m`:\n",
      "│ scitype(X) = Table{Union{AbstractVector{Continuous}, AbstractVector{Multiclass{3}}, AbstractVector{OrderedFactor{3}}, AbstractVector{OrderedFactor{2}}, AbstractVector{OrderedFactor{4}}}}\n",
      "│ input_scitype(model) = Table{var\"#s46\"} where var\"#s46\"<:Union{AbstractVector{var\"#s9\"} where var\"#s9\"<:Count, AbstractVector{var\"#s9\"} where var\"#s9\"<:OrderedFactor, AbstractVector{var\"#s9\"} where var\"#s9\"<:Continuous}.\n",
      "└ @ MLJBase C:\\Users\\kapil\\.julia\\packages\\MLJBase\\KWyqX\\src\\machines.jl:91\n",
      "\u001b[33mEvaluating over 30 metamodels:   7%[=>                       ]  ETA: 0:00:07\u001b[39m┌ Warning: The scitype of `X`, in `machine(model, X, ...)` is incompatible with `model=\u001b[34mProbabilisticEnsembleModel{DecisionTreeClassifier} @832\u001b[39m`:\n",
      "│ scitype(X) = Table{Union{AbstractVector{Continuous}, AbstractVector{Multiclass{3}}, AbstractVector{OrderedFactor{3}}, AbstractVector{OrderedFactor{2}}, AbstractVector{OrderedFactor{4}}}}\n",
      "│ input_scitype(model) = Table{var\"#s46\"} where var\"#s46\"<:Union{AbstractVector{var\"#s9\"} where var\"#s9\"<:Count, AbstractVector{var\"#s9\"} where var\"#s9\"<:OrderedFactor, AbstractVector{var\"#s9\"} where var\"#s9\"<:Continuous}.\n",
      "└ @ MLJBase C:\\Users\\kapil\\.julia\\packages\\MLJBase\\KWyqX\\src\\machines.jl:91\n",
      "\u001b[33mEvaluating over 30 metamodels:  10%[==>                      ]  ETA: 0:00:11\u001b[39m┌ Warning: The scitype of `X`, in `machine(model, X, ...)` is incompatible with `model=\u001b[34mProbabilisticEnsembleModel{DecisionTreeClassifier} @556\u001b[39m`:\n",
      "│ scitype(X) = Table{Union{AbstractVector{Continuous}, AbstractVector{Multiclass{3}}, AbstractVector{OrderedFactor{3}}, AbstractVector{OrderedFactor{2}}, AbstractVector{OrderedFactor{4}}}}\n",
      "│ input_scitype(model) = Table{var\"#s46\"} where var\"#s46\"<:Union{AbstractVector{var\"#s9\"} where var\"#s9\"<:Count, AbstractVector{var\"#s9\"} where var\"#s9\"<:OrderedFactor, AbstractVector{var\"#s9\"} where var\"#s9\"<:Continuous}.\n",
      "└ @ MLJBase C:\\Users\\kapil\\.julia\\packages\\MLJBase\\KWyqX\\src\\machines.jl:91\n",
      "\u001b[33mEvaluating over 30 metamodels:  13%[===>                     ]  ETA: 0:00:14\u001b[39m┌ Warning: The scitype of `X`, in `machine(model, X, ...)` is incompatible with `model=\u001b[34mProbabilisticEnsembleModel{DecisionTreeClassifier} @145\u001b[39m`:\n",
      "│ scitype(X) = Table{Union{AbstractVector{Continuous}, AbstractVector{Multiclass{3}}, AbstractVector{OrderedFactor{3}}, AbstractVector{OrderedFactor{2}}, AbstractVector{OrderedFactor{4}}}}\n",
      "│ input_scitype(model) = Table{var\"#s46\"} where var\"#s46\"<:Union{AbstractVector{var\"#s9\"} where var\"#s9\"<:Count, AbstractVector{var\"#s9\"} where var\"#s9\"<:OrderedFactor, AbstractVector{var\"#s9\"} where var\"#s9\"<:Continuous}.\n",
      "└ @ MLJBase C:\\Users\\kapil\\.julia\\packages\\MLJBase\\KWyqX\\src\\machines.jl:91\n",
      "\u001b[33mEvaluating over 30 metamodels:  17%[====>                    ]  ETA: 0:00:16\u001b[39m┌ Warning: The scitype of `X`, in `machine(model, X, ...)` is incompatible with `model=\u001b[34mProbabilisticEnsembleModel{DecisionTreeClassifier} @849\u001b[39m`:\n",
      "│ scitype(X) = Table{Union{AbstractVector{Continuous}, AbstractVector{Multiclass{3}}, AbstractVector{OrderedFactor{3}}, AbstractVector{OrderedFactor{2}}, AbstractVector{OrderedFactor{4}}}}\n",
      "│ input_scitype(model) = Table{var\"#s46\"} where var\"#s46\"<:Union{AbstractVector{var\"#s9\"} where var\"#s9\"<:Count, AbstractVector{var\"#s9\"} where var\"#s9\"<:OrderedFactor, AbstractVector{var\"#s9\"} where var\"#s9\"<:Continuous}.\n",
      "└ @ MLJBase C:\\Users\\kapil\\.julia\\packages\\MLJBase\\KWyqX\\src\\machines.jl:91\n",
      "\u001b[33mEvaluating over 30 metamodels:  20%[=====>                   ]  ETA: 0:00:20\u001b[39m┌ Warning: The scitype of `X`, in `machine(model, X, ...)` is incompatible with `model=\u001b[34mProbabilisticEnsembleModel{DecisionTreeClassifier} @704\u001b[39m`:\n",
      "│ scitype(X) = Table{Union{AbstractVector{Continuous}, AbstractVector{Multiclass{3}}, AbstractVector{OrderedFactor{3}}, AbstractVector{OrderedFactor{2}}, AbstractVector{OrderedFactor{4}}}}\n",
      "│ input_scitype(model) = Table{var\"#s46\"} where var\"#s46\"<:Union{AbstractVector{var\"#s9\"} where var\"#s9\"<:Count, AbstractVector{var\"#s9\"} where var\"#s9\"<:OrderedFactor, AbstractVector{var\"#s9\"} where var\"#s9\"<:Continuous}.\n",
      "└ @ MLJBase C:\\Users\\kapil\\.julia\\packages\\MLJBase\\KWyqX\\src\\machines.jl:91\n",
      "\u001b[33mEvaluating over 30 metamodels:  23%[=====>                   ]  ETA: 0:00:24\u001b[39m┌ Warning: The scitype of `X`, in `machine(model, X, ...)` is incompatible with `model=\u001b[34mProbabilisticEnsembleModel{DecisionTreeClassifier} @817\u001b[39m`:\n",
      "│ scitype(X) = Table{Union{AbstractVector{Continuous}, AbstractVector{Multiclass{3}}, AbstractVector{OrderedFactor{3}}, AbstractVector{OrderedFactor{2}}, AbstractVector{OrderedFactor{4}}}}\n",
      "│ input_scitype(model) = Table{var\"#s46\"} where var\"#s46\"<:Union{AbstractVector{var\"#s9\"} where var\"#s9\"<:Count, AbstractVector{var\"#s9\"} where var\"#s9\"<:OrderedFactor, AbstractVector{var\"#s9\"} where var\"#s9\"<:Continuous}.\n",
      "└ @ MLJBase C:\\Users\\kapil\\.julia\\packages\\MLJBase\\KWyqX\\src\\machines.jl:91\n",
      "\u001b[33mEvaluating over 30 metamodels:  27%[======>                  ]  ETA: 0:00:29\u001b[39m┌ Warning: The scitype of `X`, in `machine(model, X, ...)` is incompatible with `model=\u001b[34mProbabilisticEnsembleModel{DecisionTreeClassifier} @823\u001b[39m`:\n",
      "│ scitype(X) = Table{Union{AbstractVector{Continuous}, AbstractVector{Multiclass{3}}, AbstractVector{OrderedFactor{3}}, AbstractVector{OrderedFactor{2}}, AbstractVector{OrderedFactor{4}}}}\n",
      "│ input_scitype(model) = Table{var\"#s46\"} where var\"#s46\"<:Union{AbstractVector{var\"#s9\"} where var\"#s9\"<:Count, AbstractVector{var\"#s9\"} where var\"#s9\"<:OrderedFactor, AbstractVector{var\"#s9\"} where var\"#s9\"<:Continuous}.\n",
      "└ @ MLJBase C:\\Users\\kapil\\.julia\\packages\\MLJBase\\KWyqX\\src\\machines.jl:91\n",
      "\u001b[33mEvaluating over 30 metamodels:  30%[=======>                 ]  ETA: 0:00:33\u001b[39m┌ Warning: The scitype of `X`, in `machine(model, X, ...)` is incompatible with `model=\u001b[34mProbabilisticEnsembleModel{DecisionTreeClassifier} @642\u001b[39m`:\n",
      "│ scitype(X) = Table{Union{AbstractVector{Continuous}, AbstractVector{Multiclass{3}}, AbstractVector{OrderedFactor{3}}, AbstractVector{OrderedFactor{2}}, AbstractVector{OrderedFactor{4}}}}\n",
      "│ input_scitype(model) = Table{var\"#s46\"} where var\"#s46\"<:Union{AbstractVector{var\"#s9\"} where var\"#s9\"<:Count, AbstractVector{var\"#s9\"} where var\"#s9\"<:OrderedFactor, AbstractVector{var\"#s9\"} where var\"#s9\"<:Continuous}.\n",
      "└ @ MLJBase C:\\Users\\kapil\\.julia\\packages\\MLJBase\\KWyqX\\src\\machines.jl:91\n",
      "\u001b[33mEvaluating over 30 metamodels:  33%[========>                ]  ETA: 0:00:38\u001b[39m┌ Warning: The scitype of `X`, in `machine(model, X, ...)` is incompatible with `model=\u001b[34mProbabilisticEnsembleModel{DecisionTreeClassifier} @947\u001b[39m`:\n",
      "│ scitype(X) = Table{Union{AbstractVector{Continuous}, AbstractVector{Multiclass{3}}, AbstractVector{OrderedFactor{3}}, AbstractVector{OrderedFactor{2}}, AbstractVector{OrderedFactor{4}}}}\n",
      "│ input_scitype(model) = Table{var\"#s46\"} where var\"#s46\"<:Union{AbstractVector{var\"#s9\"} where var\"#s9\"<:Count, AbstractVector{var\"#s9\"} where var\"#s9\"<:OrderedFactor, AbstractVector{var\"#s9\"} where var\"#s9\"<:Continuous}.\n",
      "└ @ MLJBase C:\\Users\\kapil\\.julia\\packages\\MLJBase\\KWyqX\\src\\machines.jl:91\n"
     ]
    },
    {
     "name": "stderr",
     "output_type": "stream",
     "text": [
      "\u001b[33mEvaluating over 30 metamodels:  37%[=========>               ]  ETA: 0:00:42\u001b[39m┌ Warning: The scitype of `X`, in `machine(model, X, ...)` is incompatible with `model=\u001b[34mProbabilisticEnsembleModel{DecisionTreeClassifier} @597\u001b[39m`:\n",
      "│ scitype(X) = Table{Union{AbstractVector{Continuous}, AbstractVector{Multiclass{3}}, AbstractVector{OrderedFactor{3}}, AbstractVector{OrderedFactor{2}}, AbstractVector{OrderedFactor{4}}}}\n",
      "│ input_scitype(model) = Table{var\"#s46\"} where var\"#s46\"<:Union{AbstractVector{var\"#s9\"} where var\"#s9\"<:Count, AbstractVector{var\"#s9\"} where var\"#s9\"<:OrderedFactor, AbstractVector{var\"#s9\"} where var\"#s9\"<:Continuous}.\n",
      "└ @ MLJBase C:\\Users\\kapil\\.julia\\packages\\MLJBase\\KWyqX\\src\\machines.jl:91\n",
      "\u001b[33mEvaluating over 30 metamodels:  40%[==========>              ]  ETA: 0:00:46\u001b[39m┌ Warning: The scitype of `X`, in `machine(model, X, ...)` is incompatible with `model=\u001b[34mProbabilisticEnsembleModel{DecisionTreeClassifier} @063\u001b[39m`:\n",
      "│ scitype(X) = Table{Union{AbstractVector{Continuous}, AbstractVector{Multiclass{3}}, AbstractVector{OrderedFactor{3}}, AbstractVector{OrderedFactor{2}}, AbstractVector{OrderedFactor{4}}}}\n",
      "│ input_scitype(model) = Table{var\"#s46\"} where var\"#s46\"<:Union{AbstractVector{var\"#s9\"} where var\"#s9\"<:Count, AbstractVector{var\"#s9\"} where var\"#s9\"<:OrderedFactor, AbstractVector{var\"#s9\"} where var\"#s9\"<:Continuous}.\n",
      "└ @ MLJBase C:\\Users\\kapil\\.julia\\packages\\MLJBase\\KWyqX\\src\\machines.jl:91\n",
      "\u001b[33mEvaluating over 30 metamodels:  43%[==========>              ]  ETA: 0:00:50\u001b[39m┌ Warning: The scitype of `X`, in `machine(model, X, ...)` is incompatible with `model=\u001b[34mProbabilisticEnsembleModel{DecisionTreeClassifier} @692\u001b[39m`:\n",
      "│ scitype(X) = Table{Union{AbstractVector{Continuous}, AbstractVector{Multiclass{3}}, AbstractVector{OrderedFactor{3}}, AbstractVector{OrderedFactor{2}}, AbstractVector{OrderedFactor{4}}}}\n",
      "│ input_scitype(model) = Table{var\"#s46\"} where var\"#s46\"<:Union{AbstractVector{var\"#s9\"} where var\"#s9\"<:Count, AbstractVector{var\"#s9\"} where var\"#s9\"<:OrderedFactor, AbstractVector{var\"#s9\"} where var\"#s9\"<:Continuous}.\n",
      "└ @ MLJBase C:\\Users\\kapil\\.julia\\packages\\MLJBase\\KWyqX\\src\\machines.jl:91\n",
      "\u001b[33mEvaluating over 30 metamodels:  47%[===========>             ]  ETA: 0:00:53\u001b[39m┌ Warning: The scitype of `X`, in `machine(model, X, ...)` is incompatible with `model=\u001b[34mProbabilisticEnsembleModel{DecisionTreeClassifier} @674\u001b[39m`:\n",
      "│ scitype(X) = Table{Union{AbstractVector{Continuous}, AbstractVector{Multiclass{3}}, AbstractVector{OrderedFactor{3}}, AbstractVector{OrderedFactor{2}}, AbstractVector{OrderedFactor{4}}}}\n",
      "│ input_scitype(model) = Table{var\"#s46\"} where var\"#s46\"<:Union{AbstractVector{var\"#s9\"} where var\"#s9\"<:Count, AbstractVector{var\"#s9\"} where var\"#s9\"<:OrderedFactor, AbstractVector{var\"#s9\"} where var\"#s9\"<:Continuous}.\n",
      "└ @ MLJBase C:\\Users\\kapil\\.julia\\packages\\MLJBase\\KWyqX\\src\\machines.jl:91\n",
      "\u001b[33mEvaluating over 30 metamodels:  50%[============>            ]  ETA: 0:00:56\u001b[39m┌ Warning: The scitype of `X`, in `machine(model, X, ...)` is incompatible with `model=\u001b[34mProbabilisticEnsembleModel{DecisionTreeClassifier} @861\u001b[39m`:\n",
      "│ scitype(X) = Table{Union{AbstractVector{Continuous}, AbstractVector{Multiclass{3}}, AbstractVector{OrderedFactor{3}}, AbstractVector{OrderedFactor{2}}, AbstractVector{OrderedFactor{4}}}}\n",
      "│ input_scitype(model) = Table{var\"#s46\"} where var\"#s46\"<:Union{AbstractVector{var\"#s9\"} where var\"#s9\"<:Count, AbstractVector{var\"#s9\"} where var\"#s9\"<:OrderedFactor, AbstractVector{var\"#s9\"} where var\"#s9\"<:Continuous}.\n",
      "└ @ MLJBase C:\\Users\\kapil\\.julia\\packages\\MLJBase\\KWyqX\\src\\machines.jl:91\n",
      "\u001b[33mEvaluating over 30 metamodels:  53%[=============>           ]  ETA: 0:00:58\u001b[39m┌ Warning: The scitype of `X`, in `machine(model, X, ...)` is incompatible with `model=\u001b[34mProbabilisticEnsembleModel{DecisionTreeClassifier} @096\u001b[39m`:\n",
      "│ scitype(X) = Table{Union{AbstractVector{Continuous}, AbstractVector{Multiclass{3}}, AbstractVector{OrderedFactor{3}}, AbstractVector{OrderedFactor{2}}, AbstractVector{OrderedFactor{4}}}}\n",
      "│ input_scitype(model) = Table{var\"#s46\"} where var\"#s46\"<:Union{AbstractVector{var\"#s9\"} where var\"#s9\"<:Count, AbstractVector{var\"#s9\"} where var\"#s9\"<:OrderedFactor, AbstractVector{var\"#s9\"} where var\"#s9\"<:Continuous}.\n",
      "└ @ MLJBase C:\\Users\\kapil\\.julia\\packages\\MLJBase\\KWyqX\\src\\machines.jl:91\n",
      "\u001b[33mEvaluating over 30 metamodels:  57%[==============>          ]  ETA: 0:01:00\u001b[39m┌ Warning: The scitype of `X`, in `machine(model, X, ...)` is incompatible with `model=\u001b[34mProbabilisticEnsembleModel{DecisionTreeClassifier} @087\u001b[39m`:\n",
      "│ scitype(X) = Table{Union{AbstractVector{Continuous}, AbstractVector{Multiclass{3}}, AbstractVector{OrderedFactor{3}}, AbstractVector{OrderedFactor{2}}, AbstractVector{OrderedFactor{4}}}}\n",
      "│ input_scitype(model) = Table{var\"#s46\"} where var\"#s46\"<:Union{AbstractVector{var\"#s9\"} where var\"#s9\"<:Count, AbstractVector{var\"#s9\"} where var\"#s9\"<:OrderedFactor, AbstractVector{var\"#s9\"} where var\"#s9\"<:Continuous}.\n",
      "└ @ MLJBase C:\\Users\\kapil\\.julia\\packages\\MLJBase\\KWyqX\\src\\machines.jl:91\n",
      "\u001b[33mEvaluating over 30 metamodels:  60%[===============>         ]  ETA: 0:01:01\u001b[39m┌ Warning: The scitype of `X`, in `machine(model, X, ...)` is incompatible with `model=\u001b[34mProbabilisticEnsembleModel{DecisionTreeClassifier} @224\u001b[39m`:\n",
      "│ scitype(X) = Table{Union{AbstractVector{Continuous}, AbstractVector{Multiclass{3}}, AbstractVector{OrderedFactor{3}}, AbstractVector{OrderedFactor{2}}, AbstractVector{OrderedFactor{4}}}}\n",
      "│ input_scitype(model) = Table{var\"#s46\"} where var\"#s46\"<:Union{AbstractVector{var\"#s9\"} where var\"#s9\"<:Count, AbstractVector{var\"#s9\"} where var\"#s9\"<:OrderedFactor, AbstractVector{var\"#s9\"} where var\"#s9\"<:Continuous}.\n",
      "└ @ MLJBase C:\\Users\\kapil\\.julia\\packages\\MLJBase\\KWyqX\\src\\machines.jl:91\n",
      "\u001b[33mEvaluating over 30 metamodels:  63%[===============>         ]  ETA: 0:01:01\u001b[39m┌ Warning: The scitype of `X`, in `machine(model, X, ...)` is incompatible with `model=\u001b[34mProbabilisticEnsembleModel{DecisionTreeClassifier} @278\u001b[39m`:\n",
      "│ scitype(X) = Table{Union{AbstractVector{Continuous}, AbstractVector{Multiclass{3}}, AbstractVector{OrderedFactor{3}}, AbstractVector{OrderedFactor{2}}, AbstractVector{OrderedFactor{4}}}}\n",
      "│ input_scitype(model) = Table{var\"#s46\"} where var\"#s46\"<:Union{AbstractVector{var\"#s9\"} where var\"#s9\"<:Count, AbstractVector{var\"#s9\"} where var\"#s9\"<:OrderedFactor, AbstractVector{var\"#s9\"} where var\"#s9\"<:Continuous}.\n",
      "└ @ MLJBase C:\\Users\\kapil\\.julia\\packages\\MLJBase\\KWyqX\\src\\machines.jl:91\n",
      "\u001b[33mEvaluating over 30 metamodels:  67%[================>        ]  ETA: 0:01:00\u001b[39m┌ Warning: The scitype of `X`, in `machine(model, X, ...)` is incompatible with `model=\u001b[34mProbabilisticEnsembleModel{DecisionTreeClassifier} @798\u001b[39m`:\n",
      "│ scitype(X) = Table{Union{AbstractVector{Continuous}, AbstractVector{Multiclass{3}}, AbstractVector{OrderedFactor{3}}, AbstractVector{OrderedFactor{2}}, AbstractVector{OrderedFactor{4}}}}\n",
      "│ input_scitype(model) = Table{var\"#s46\"} where var\"#s46\"<:Union{AbstractVector{var\"#s9\"} where var\"#s9\"<:Count, AbstractVector{var\"#s9\"} where var\"#s9\"<:OrderedFactor, AbstractVector{var\"#s9\"} where var\"#s9\"<:Continuous}.\n",
      "└ @ MLJBase C:\\Users\\kapil\\.julia\\packages\\MLJBase\\KWyqX\\src\\machines.jl:91\n",
      "\u001b[33mEvaluating over 30 metamodels:  70%[=================>       ]  ETA: 0:00:58\u001b[39m┌ Warning: The scitype of `X`, in `machine(model, X, ...)` is incompatible with `model=\u001b[34mProbabilisticEnsembleModel{DecisionTreeClassifier} @503\u001b[39m`:\n",
      "│ scitype(X) = Table{Union{AbstractVector{Continuous}, AbstractVector{Multiclass{3}}, AbstractVector{OrderedFactor{3}}, AbstractVector{OrderedFactor{2}}, AbstractVector{OrderedFactor{4}}}}\n",
      "│ input_scitype(model) = Table{var\"#s46\"} where var\"#s46\"<:Union{AbstractVector{var\"#s9\"} where var\"#s9\"<:Count, AbstractVector{var\"#s9\"} where var\"#s9\"<:OrderedFactor, AbstractVector{var\"#s9\"} where var\"#s9\"<:Continuous}.\n",
      "└ @ MLJBase C:\\Users\\kapil\\.julia\\packages\\MLJBase\\KWyqX\\src\\machines.jl:91\n",
      "\u001b[33mEvaluating over 30 metamodels:  73%[==================>      ]  ETA: 0:00:55\u001b[39m┌ Warning: The scitype of `X`, in `machine(model, X, ...)` is incompatible with `model=\u001b[34mProbabilisticEnsembleModel{DecisionTreeClassifier} @813\u001b[39m`:\n",
      "│ scitype(X) = Table{Union{AbstractVector{Continuous}, AbstractVector{Multiclass{3}}, AbstractVector{OrderedFactor{3}}, AbstractVector{OrderedFactor{2}}, AbstractVector{OrderedFactor{4}}}}\n",
      "│ input_scitype(model) = Table{var\"#s46\"} where var\"#s46\"<:Union{AbstractVector{var\"#s9\"} where var\"#s9\"<:Count, AbstractVector{var\"#s9\"} where var\"#s9\"<:OrderedFactor, AbstractVector{var\"#s9\"} where var\"#s9\"<:Continuous}.\n",
      "└ @ MLJBase C:\\Users\\kapil\\.julia\\packages\\MLJBase\\KWyqX\\src\\machines.jl:91\n"
     ]
    },
    {
     "name": "stderr",
     "output_type": "stream",
     "text": [
      "\u001b[33mEvaluating over 30 metamodels:  77%[===================>     ]  ETA: 0:00:51\u001b[39m┌ Warning: The scitype of `X`, in `machine(model, X, ...)` is incompatible with `model=\u001b[34mProbabilisticEnsembleModel{DecisionTreeClassifier} @375\u001b[39m`:\n",
      "│ scitype(X) = Table{Union{AbstractVector{Continuous}, AbstractVector{Multiclass{3}}, AbstractVector{OrderedFactor{3}}, AbstractVector{OrderedFactor{2}}, AbstractVector{OrderedFactor{4}}}}\n",
      "│ input_scitype(model) = Table{var\"#s46\"} where var\"#s46\"<:Union{AbstractVector{var\"#s9\"} where var\"#s9\"<:Count, AbstractVector{var\"#s9\"} where var\"#s9\"<:OrderedFactor, AbstractVector{var\"#s9\"} where var\"#s9\"<:Continuous}.\n",
      "└ @ MLJBase C:\\Users\\kapil\\.julia\\packages\\MLJBase\\KWyqX\\src\\machines.jl:91\n",
      "\u001b[33mEvaluating over 30 metamodels:  80%[====================>    ]  ETA: 0:00:47\u001b[39m┌ Warning: The scitype of `X`, in `machine(model, X, ...)` is incompatible with `model=\u001b[34mProbabilisticEnsembleModel{DecisionTreeClassifier} @272\u001b[39m`:\n",
      "│ scitype(X) = Table{Union{AbstractVector{Continuous}, AbstractVector{Multiclass{3}}, AbstractVector{OrderedFactor{3}}, AbstractVector{OrderedFactor{2}}, AbstractVector{OrderedFactor{4}}}}\n",
      "│ input_scitype(model) = Table{var\"#s46\"} where var\"#s46\"<:Union{AbstractVector{var\"#s9\"} where var\"#s9\"<:Count, AbstractVector{var\"#s9\"} where var\"#s9\"<:OrderedFactor, AbstractVector{var\"#s9\"} where var\"#s9\"<:Continuous}.\n",
      "└ @ MLJBase C:\\Users\\kapil\\.julia\\packages\\MLJBase\\KWyqX\\src\\machines.jl:91\n",
      "\u001b[33mEvaluating over 30 metamodels:  83%[====================>    ]  ETA: 0:00:42\u001b[39m┌ Warning: The scitype of `X`, in `machine(model, X, ...)` is incompatible with `model=\u001b[34mProbabilisticEnsembleModel{DecisionTreeClassifier} @164\u001b[39m`:\n",
      "│ scitype(X) = Table{Union{AbstractVector{Continuous}, AbstractVector{Multiclass{3}}, AbstractVector{OrderedFactor{3}}, AbstractVector{OrderedFactor{2}}, AbstractVector{OrderedFactor{4}}}}\n",
      "│ input_scitype(model) = Table{var\"#s46\"} where var\"#s46\"<:Union{AbstractVector{var\"#s9\"} where var\"#s9\"<:Count, AbstractVector{var\"#s9\"} where var\"#s9\"<:OrderedFactor, AbstractVector{var\"#s9\"} where var\"#s9\"<:Continuous}.\n",
      "└ @ MLJBase C:\\Users\\kapil\\.julia\\packages\\MLJBase\\KWyqX\\src\\machines.jl:91\n",
      "\u001b[33mEvaluating over 30 metamodels:  87%[=====================>   ]  ETA: 0:00:35\u001b[39m┌ Warning: The scitype of `X`, in `machine(model, X, ...)` is incompatible with `model=\u001b[34mProbabilisticEnsembleModel{DecisionTreeClassifier} @673\u001b[39m`:\n",
      "│ scitype(X) = Table{Union{AbstractVector{Continuous}, AbstractVector{Multiclass{3}}, AbstractVector{OrderedFactor{3}}, AbstractVector{OrderedFactor{2}}, AbstractVector{OrderedFactor{4}}}}\n",
      "│ input_scitype(model) = Table{var\"#s46\"} where var\"#s46\"<:Union{AbstractVector{var\"#s9\"} where var\"#s9\"<:Count, AbstractVector{var\"#s9\"} where var\"#s9\"<:OrderedFactor, AbstractVector{var\"#s9\"} where var\"#s9\"<:Continuous}.\n",
      "└ @ MLJBase C:\\Users\\kapil\\.julia\\packages\\MLJBase\\KWyqX\\src\\machines.jl:91\n",
      "\u001b[33mEvaluating over 30 metamodels:  90%[======================>  ]  ETA: 0:00:28\u001b[39m┌ Warning: The scitype of `X`, in `machine(model, X, ...)` is incompatible with `model=\u001b[34mProbabilisticEnsembleModel{DecisionTreeClassifier} @766\u001b[39m`:\n",
      "│ scitype(X) = Table{Union{AbstractVector{Continuous}, AbstractVector{Multiclass{3}}, AbstractVector{OrderedFactor{3}}, AbstractVector{OrderedFactor{2}}, AbstractVector{OrderedFactor{4}}}}\n",
      "│ input_scitype(model) = Table{var\"#s46\"} where var\"#s46\"<:Union{AbstractVector{var\"#s9\"} where var\"#s9\"<:Count, AbstractVector{var\"#s9\"} where var\"#s9\"<:OrderedFactor, AbstractVector{var\"#s9\"} where var\"#s9\"<:Continuous}.\n",
      "└ @ MLJBase C:\\Users\\kapil\\.julia\\packages\\MLJBase\\KWyqX\\src\\machines.jl:91\n",
      "\u001b[33mEvaluating over 30 metamodels:  93%[=======================> ]  ETA: 0:00:20\u001b[39m┌ Warning: The scitype of `X`, in `machine(model, X, ...)` is incompatible with `model=\u001b[34mProbabilisticEnsembleModel{DecisionTreeClassifier} @756\u001b[39m`:\n",
      "│ scitype(X) = Table{Union{AbstractVector{Continuous}, AbstractVector{Multiclass{3}}, AbstractVector{OrderedFactor{3}}, AbstractVector{OrderedFactor{2}}, AbstractVector{OrderedFactor{4}}}}\n",
      "│ input_scitype(model) = Table{var\"#s46\"} where var\"#s46\"<:Union{AbstractVector{var\"#s9\"} where var\"#s9\"<:Count, AbstractVector{var\"#s9\"} where var\"#s9\"<:OrderedFactor, AbstractVector{var\"#s9\"} where var\"#s9\"<:Continuous}.\n",
      "└ @ MLJBase C:\\Users\\kapil\\.julia\\packages\\MLJBase\\KWyqX\\src\\machines.jl:91\n",
      "\u001b[33mEvaluating over 30 metamodels:  97%[========================>]  ETA: 0:00:10\u001b[39m┌ Warning: The scitype of `X`, in `machine(model, X, ...)` is incompatible with `model=\u001b[34mProbabilisticEnsembleModel{DecisionTreeClassifier} @772\u001b[39m`:\n",
      "│ scitype(X) = Table{Union{AbstractVector{Continuous}, AbstractVector{Multiclass{3}}, AbstractVector{OrderedFactor{3}}, AbstractVector{OrderedFactor{2}}, AbstractVector{OrderedFactor{4}}}}\n",
      "│ input_scitype(model) = Table{var\"#s46\"} where var\"#s46\"<:Union{AbstractVector{var\"#s9\"} where var\"#s9\"<:Count, AbstractVector{var\"#s9\"} where var\"#s9\"<:OrderedFactor, AbstractVector{var\"#s9\"} where var\"#s9\"<:Continuous}.\n",
      "└ @ MLJBase C:\\Users\\kapil\\.julia\\packages\\MLJBase\\KWyqX\\src\\machines.jl:91\n",
      "\u001b[33mEvaluating over 30 metamodels: 100%[=========================] Time: 0:05:30\u001b[39m\n",
      "┌ Warning: The scitype of `X`, in `machine(model, X, ...)` is incompatible with `model=\u001b[34mProbabilisticEnsembleModel{DecisionTreeClassifier} @503\u001b[39m`:\n",
      "│ scitype(X) = Table{Union{AbstractVector{Continuous}, AbstractVector{Multiclass{3}}, AbstractVector{OrderedFactor{3}}, AbstractVector{OrderedFactor{2}}, AbstractVector{OrderedFactor{4}}}}\n",
      "│ input_scitype(model) = Table{var\"#s46\"} where var\"#s46\"<:Union{AbstractVector{var\"#s9\"} where var\"#s9\"<:Count, AbstractVector{var\"#s9\"} where var\"#s9\"<:OrderedFactor, AbstractVector{var\"#s9\"} where var\"#s9\"<:Continuous}.\n",
      "└ @ MLJBase C:\\Users\\kapil\\.julia\\packages\\MLJBase\\KWyqX\\src\\machines.jl:91\n"
     ]
    }
   ],
   "source": [
    "r = range(forest, :n, lower=10, upper=1000)\n",
    "curves = learning_curve!(mach, resampling=CV(nfolds=10),\n",
    "                         range=r, measure=auc);"
   ]
  },
  {
   "cell_type": "code",
   "execution_count": 53,
   "id": "f49a3edd",
   "metadata": {},
   "outputs": [
    {
     "name": "stderr",
     "output_type": "stream",
     "text": [
      "┌ Info: Training \u001b[34mMachine{ProbabilisticTunedModel{Grid,…},…} @286\u001b[39m.\n",
      "└ @ MLJBase C:\\Users\\kapil\\.julia\\packages\\MLJBase\\KWyqX\\src\\machines.jl:342\n",
      "┌ Info: Attempting to evaluate 30 models.\n",
      "└ @ MLJTuning C:\\Users\\kapil\\.julia\\packages\\MLJTuning\\Uj5Cx\\src\\tuned_models.jl:602\n",
      "┌ Warning: The scitype of `X`, in `machine(model, X, ...)` is incompatible with `model=\u001b[34mResampler{Holdout,…} @593\u001b[39m`:\n",
      "│ scitype(X) = Table{Union{AbstractVector{Continuous}, AbstractVector{Multiclass{3}}, AbstractVector{OrderedFactor{3}}, AbstractVector{OrderedFactor{2}}, AbstractVector{OrderedFactor{4}}}}\n",
      "│ input_scitype(model) = Table{var\"#s46\"} where var\"#s46\"<:Union{AbstractVector{var\"#s9\"} where var\"#s9\"<:Count, AbstractVector{var\"#s9\"} where var\"#s9\"<:OrderedFactor, AbstractVector{var\"#s9\"} where var\"#s9\"<:Continuous}.\n",
      "└ @ MLJBase C:\\Users\\kapil\\.julia\\packages\\MLJBase\\KWyqX\\src\\machines.jl:91\n",
      "┌ Warning: The scitype of `X`, in `machine(model, X, ...)` is incompatible with `model=\u001b[34mProbabilisticEnsembleModel{DecisionTreeClassifier} @928\u001b[39m`:\n",
      "│ scitype(X) = Table{Union{AbstractVector{Continuous}, AbstractVector{Multiclass{3}}, AbstractVector{OrderedFactor{3}}, AbstractVector{OrderedFactor{2}}, AbstractVector{OrderedFactor{4}}}}\n",
      "│ input_scitype(model) = Table{var\"#s46\"} where var\"#s46\"<:Union{AbstractVector{var\"#s9\"} where var\"#s9\"<:Count, AbstractVector{var\"#s9\"} where var\"#s9\"<:OrderedFactor, AbstractVector{var\"#s9\"} where var\"#s9\"<:Continuous}.\n",
      "└ @ MLJBase C:\\Users\\kapil\\.julia\\packages\\MLJBase\\KWyqX\\src\\machines.jl:91\n",
      "\u001b[33mEvaluating over 30 metamodels: 100%[=========================] Time: 0:00:07\u001b[39m\n",
      "┌ Warning: The scitype of `X`, in `machine(model, X, ...)` is incompatible with `model=\u001b[34mProbabilisticEnsembleModel{DecisionTreeClassifier} @958\u001b[39m`:\n",
      "│ scitype(X) = Table{Union{AbstractVector{Continuous}, AbstractVector{Multiclass{3}}, AbstractVector{OrderedFactor{3}}, AbstractVector{OrderedFactor{2}}, AbstractVector{OrderedFactor{4}}}}\n",
      "│ input_scitype(model) = Table{var\"#s46\"} where var\"#s46\"<:Union{AbstractVector{var\"#s9\"} where var\"#s9\"<:Count, AbstractVector{var\"#s9\"} where var\"#s9\"<:OrderedFactor, AbstractVector{var\"#s9\"} where var\"#s9\"<:Continuous}.\n",
      "└ @ MLJBase C:\\Users\\kapil\\.julia\\packages\\MLJBase\\KWyqX\\src\\machines.jl:91\n"
     ]
    }
   ],
   "source": [
    "Random.seed!(11)\n",
    "r = range(forest, :n, lower=10, upper=1000)\n",
    "curves = learning_curve!(mach, resampling=Holdout(fraction_train=0.8),\n",
    "                         range=r, measure=auc);"
   ]
  },
  {
   "cell_type": "code",
   "execution_count": 54,
   "id": "b82d4eca",
   "metadata": {},
   "outputs": [
    {
     "data": {
      "image/svg+xml": [
       "<?xml version=\"1.0\" encoding=\"utf-8\"?>\n",
       "<svg xmlns=\"http://www.w3.org/2000/svg\" xmlns:xlink=\"http://www.w3.org/1999/xlink\" width=\"600\" height=\"400\" viewBox=\"0 0 2400 1600\">\n",
       "<defs>\n",
       "  <clipPath id=\"clip210\">\n",
       "    <rect x=\"0\" y=\"0\" width=\"2400\" height=\"1600\"/>\n",
       "  </clipPath>\n",
       "</defs>\n",
       "<path clip-path=\"url(#clip210)\" d=\"\n",
       "M0 1600 L2400 1600 L2400 0 L0 0  Z\n",
       "  \" fill=\"#ffffff\" fill-rule=\"evenodd\" fill-opacity=\"1\"/>\n",
       "<defs>\n",
       "  <clipPath id=\"clip211\">\n",
       "    <rect x=\"480\" y=\"0\" width=\"1681\" height=\"1600\"/>\n",
       "  </clipPath>\n",
       "</defs>\n",
       "<path clip-path=\"url(#clip210)\" d=\"\n",
       "M279.704 1423.18 L2352.76 1423.18 L2352.76 47.2441 L279.704 47.2441  Z\n",
       "  \" fill=\"#ffffff\" fill-rule=\"evenodd\" fill-opacity=\"1\"/>\n",
       "<defs>\n",
       "  <clipPath id=\"clip212\">\n",
       "    <rect x=\"279\" y=\"47\" width=\"2074\" height=\"1377\"/>\n",
       "  </clipPath>\n",
       "</defs>\n",
       "<polyline clip-path=\"url(#clip212)\" style=\"stroke:#000000; stroke-linecap:butt; stroke-linejoin:round; stroke-width:2; stroke-opacity:0.1; fill:none\" points=\"\n",
       "  318.621,1423.18 318.621,47.2441 \n",
       "  \"/>\n",
       "<polyline clip-path=\"url(#clip212)\" style=\"stroke:#000000; stroke-linecap:butt; stroke-linejoin:round; stroke-width:2; stroke-opacity:0.1; fill:none\" points=\"\n",
       "  812.487,1423.18 812.487,47.2441 \n",
       "  \"/>\n",
       "<polyline clip-path=\"url(#clip212)\" style=\"stroke:#000000; stroke-linecap:butt; stroke-linejoin:round; stroke-width:2; stroke-opacity:0.1; fill:none\" points=\"\n",
       "  1306.35,1423.18 1306.35,47.2441 \n",
       "  \"/>\n",
       "<polyline clip-path=\"url(#clip212)\" style=\"stroke:#000000; stroke-linecap:butt; stroke-linejoin:round; stroke-width:2; stroke-opacity:0.1; fill:none\" points=\"\n",
       "  1800.22,1423.18 1800.22,47.2441 \n",
       "  \"/>\n",
       "<polyline clip-path=\"url(#clip212)\" style=\"stroke:#000000; stroke-linecap:butt; stroke-linejoin:round; stroke-width:2; stroke-opacity:0.1; fill:none\" points=\"\n",
       "  2294.08,1423.18 2294.08,47.2441 \n",
       "  \"/>\n",
       "<polyline clip-path=\"url(#clip210)\" style=\"stroke:#000000; stroke-linecap:butt; stroke-linejoin:round; stroke-width:4; stroke-opacity:1; fill:none\" points=\"\n",
       "  279.704,1423.18 2352.76,1423.18 \n",
       "  \"/>\n",
       "<polyline clip-path=\"url(#clip210)\" style=\"stroke:#000000; stroke-linecap:butt; stroke-linejoin:round; stroke-width:4; stroke-opacity:1; fill:none\" points=\"\n",
       "  318.621,1423.18 318.621,1404.28 \n",
       "  \"/>\n",
       "<polyline clip-path=\"url(#clip210)\" style=\"stroke:#000000; stroke-linecap:butt; stroke-linejoin:round; stroke-width:4; stroke-opacity:1; fill:none\" points=\"\n",
       "  812.487,1423.18 812.487,1404.28 \n",
       "  \"/>\n",
       "<polyline clip-path=\"url(#clip210)\" style=\"stroke:#000000; stroke-linecap:butt; stroke-linejoin:round; stroke-width:4; stroke-opacity:1; fill:none\" points=\"\n",
       "  1306.35,1423.18 1306.35,1404.28 \n",
       "  \"/>\n",
       "<polyline clip-path=\"url(#clip210)\" style=\"stroke:#000000; stroke-linecap:butt; stroke-linejoin:round; stroke-width:4; stroke-opacity:1; fill:none\" points=\"\n",
       "  1800.22,1423.18 1800.22,1404.28 \n",
       "  \"/>\n",
       "<polyline clip-path=\"url(#clip210)\" style=\"stroke:#000000; stroke-linecap:butt; stroke-linejoin:round; stroke-width:4; stroke-opacity:1; fill:none\" points=\"\n",
       "  2294.08,1423.18 2294.08,1404.28 \n",
       "  \"/>\n",
       "<path clip-path=\"url(#clip210)\" d=\"M318.621 1454.1 Q315.009 1454.1 313.181 1457.66 Q311.375 1461.2 311.375 1468.33 Q311.375 1475.44 313.181 1479.01 Q315.009 1482.55 318.621 1482.55 Q322.255 1482.55 324.06 1479.01 Q325.889 1475.44 325.889 1468.33 Q325.889 1461.2 324.06 1457.66 Q322.255 1454.1 318.621 1454.1 M318.621 1450.39 Q324.431 1450.39 327.486 1455 Q330.565 1459.58 330.565 1468.33 Q330.565 1477.06 327.486 1481.67 Q324.431 1486.25 318.621 1486.25 Q312.81 1486.25 309.732 1481.67 Q306.676 1477.06 306.676 1468.33 Q306.676 1459.58 309.732 1455 Q312.81 1450.39 318.621 1450.39 Z\" fill=\"#000000\" fill-rule=\"evenodd\" fill-opacity=\"1\" /><path clip-path=\"url(#clip210)\" d=\"M776.179 1481.64 L792.498 1481.64 L792.498 1485.58 L770.554 1485.58 L770.554 1481.64 Q773.216 1478.89 777.799 1474.26 Q782.406 1469.61 783.586 1468.27 Q785.832 1465.74 786.711 1464.01 Q787.614 1462.25 787.614 1460.56 Q787.614 1457.8 785.67 1456.07 Q783.748 1454.33 780.646 1454.33 Q778.447 1454.33 775.994 1455.09 Q773.563 1455.86 770.785 1457.41 L770.785 1452.69 Q773.609 1451.55 776.063 1450.97 Q778.517 1450.39 780.554 1450.39 Q785.924 1450.39 789.119 1453.08 Q792.313 1455.77 792.313 1460.26 Q792.313 1462.39 791.503 1464.31 Q790.716 1466.2 788.609 1468.8 Q788.031 1469.47 784.929 1472.69 Q781.827 1475.88 776.179 1481.64 Z\" fill=\"#000000\" fill-rule=\"evenodd\" fill-opacity=\"1\" /><path clip-path=\"url(#clip210)\" d=\"M802.359 1451.02 L820.716 1451.02 L820.716 1454.96 L806.642 1454.96 L806.642 1463.43 Q807.66 1463.08 808.679 1462.92 Q809.697 1462.73 810.716 1462.73 Q816.503 1462.73 819.882 1465.9 Q823.262 1469.08 823.262 1474.49 Q823.262 1480.07 819.79 1483.17 Q816.318 1486.25 809.998 1486.25 Q807.822 1486.25 805.554 1485.88 Q803.308 1485.51 800.901 1484.77 L800.901 1480.07 Q802.984 1481.2 805.207 1481.76 Q807.429 1482.32 809.906 1482.32 Q813.91 1482.32 816.248 1480.21 Q818.586 1478.1 818.586 1474.49 Q818.586 1470.88 816.248 1468.77 Q813.91 1466.67 809.906 1466.67 Q808.031 1466.67 806.156 1467.08 Q804.304 1467.5 802.359 1468.38 L802.359 1451.02 Z\" fill=\"#000000\" fill-rule=\"evenodd\" fill-opacity=\"1\" /><path clip-path=\"url(#clip210)\" d=\"M842.475 1454.1 Q838.864 1454.1 837.035 1457.66 Q835.23 1461.2 835.23 1468.33 Q835.23 1475.44 837.035 1479.01 Q838.864 1482.55 842.475 1482.55 Q846.109 1482.55 847.915 1479.01 Q849.743 1475.44 849.743 1468.33 Q849.743 1461.2 847.915 1457.66 Q846.109 1454.1 842.475 1454.1 M842.475 1450.39 Q848.285 1450.39 851.341 1455 Q854.419 1459.58 854.419 1468.33 Q854.419 1477.06 851.341 1481.67 Q848.285 1486.25 842.475 1486.25 Q836.665 1486.25 833.586 1481.67 Q830.53 1477.06 830.53 1468.33 Q830.53 1459.58 833.586 1455 Q836.665 1450.39 842.475 1450.39 Z\" fill=\"#000000\" fill-rule=\"evenodd\" fill-opacity=\"1\" /><path clip-path=\"url(#clip210)\" d=\"M1265.97 1451.02 L1284.33 1451.02 L1284.33 1454.96 L1270.25 1454.96 L1270.25 1463.43 Q1271.27 1463.08 1272.29 1462.92 Q1273.31 1462.73 1274.33 1462.73 Q1280.11 1462.73 1283.49 1465.9 Q1286.87 1469.08 1286.87 1474.49 Q1286.87 1480.07 1283.4 1483.17 Q1279.93 1486.25 1273.61 1486.25 Q1271.43 1486.25 1269.17 1485.88 Q1266.92 1485.51 1264.51 1484.77 L1264.51 1480.07 Q1266.6 1481.2 1268.82 1481.76 Q1271.04 1482.32 1273.52 1482.32 Q1277.52 1482.32 1279.86 1480.21 Q1282.2 1478.1 1282.2 1474.49 Q1282.2 1470.88 1279.86 1468.77 Q1277.52 1466.67 1273.52 1466.67 Q1271.64 1466.67 1269.77 1467.08 Q1267.92 1467.5 1265.97 1468.38 L1265.97 1451.02 Z\" fill=\"#000000\" fill-rule=\"evenodd\" fill-opacity=\"1\" /><path clip-path=\"url(#clip210)\" d=\"M1306.09 1454.1 Q1302.48 1454.1 1300.65 1457.66 Q1298.84 1461.2 1298.84 1468.33 Q1298.84 1475.44 1300.65 1479.01 Q1302.48 1482.55 1306.09 1482.55 Q1309.72 1482.55 1311.53 1479.01 Q1313.35 1475.44 1313.35 1468.33 Q1313.35 1461.2 1311.53 1457.66 Q1309.72 1454.1 1306.09 1454.1 M1306.09 1450.39 Q1311.9 1450.39 1314.95 1455 Q1318.03 1459.58 1318.03 1468.33 Q1318.03 1477.06 1314.95 1481.67 Q1311.9 1486.25 1306.09 1486.25 Q1300.28 1486.25 1297.2 1481.67 Q1294.14 1477.06 1294.14 1468.33 Q1294.14 1459.58 1297.2 1455 Q1300.28 1450.39 1306.09 1450.39 Z\" fill=\"#000000\" fill-rule=\"evenodd\" fill-opacity=\"1\" /><path clip-path=\"url(#clip210)\" d=\"M1336.25 1454.1 Q1332.64 1454.1 1330.81 1457.66 Q1329 1461.2 1329 1468.33 Q1329 1475.44 1330.81 1479.01 Q1332.64 1482.55 1336.25 1482.55 Q1339.88 1482.55 1341.69 1479.01 Q1343.52 1475.44 1343.52 1468.33 Q1343.52 1461.2 1341.69 1457.66 Q1339.88 1454.1 1336.25 1454.1 M1336.25 1450.39 Q1342.06 1450.39 1345.11 1455 Q1348.19 1459.58 1348.19 1468.33 Q1348.19 1477.06 1345.11 1481.67 Q1342.06 1486.25 1336.25 1486.25 Q1330.44 1486.25 1327.36 1481.67 Q1324.3 1477.06 1324.3 1468.33 Q1324.3 1459.58 1327.36 1455 Q1330.44 1450.39 1336.25 1450.39 Z\" fill=\"#000000\" fill-rule=\"evenodd\" fill-opacity=\"1\" /><path clip-path=\"url(#clip210)\" d=\"M1758.49 1451.02 L1780.72 1451.02 L1780.72 1453.01 L1768.17 1485.58 L1763.29 1485.58 L1775.09 1454.96 L1758.49 1454.96 L1758.49 1451.02 Z\" fill=\"#000000\" fill-rule=\"evenodd\" fill-opacity=\"1\" /><path clip-path=\"url(#clip210)\" d=\"M1789.88 1451.02 L1808.24 1451.02 L1808.24 1454.96 L1794.17 1454.96 L1794.17 1463.43 Q1795.18 1463.08 1796.2 1462.92 Q1797.22 1462.73 1798.24 1462.73 Q1804.03 1462.73 1807.41 1465.9 Q1810.79 1469.08 1810.79 1474.49 Q1810.79 1480.07 1807.31 1483.17 Q1803.84 1486.25 1797.52 1486.25 Q1795.35 1486.25 1793.08 1485.88 Q1790.83 1485.51 1788.42 1484.77 L1788.42 1480.07 Q1790.51 1481.2 1792.73 1481.76 Q1794.95 1482.32 1797.43 1482.32 Q1801.43 1482.32 1803.77 1480.21 Q1806.11 1478.1 1806.11 1474.49 Q1806.11 1470.88 1803.77 1468.77 Q1801.43 1466.67 1797.43 1466.67 Q1795.55 1466.67 1793.68 1467.08 Q1791.83 1467.5 1789.88 1468.38 L1789.88 1451.02 Z\" fill=\"#000000\" fill-rule=\"evenodd\" fill-opacity=\"1\" /><path clip-path=\"url(#clip210)\" d=\"M1830 1454.1 Q1826.39 1454.1 1824.56 1457.66 Q1822.75 1461.2 1822.75 1468.33 Q1822.75 1475.44 1824.56 1479.01 Q1826.39 1482.55 1830 1482.55 Q1833.63 1482.55 1835.44 1479.01 Q1837.27 1475.44 1837.27 1468.33 Q1837.27 1461.2 1835.44 1457.66 Q1833.63 1454.1 1830 1454.1 M1830 1450.39 Q1835.81 1450.39 1838.86 1455 Q1841.94 1459.58 1841.94 1468.33 Q1841.94 1477.06 1838.86 1481.67 Q1835.81 1486.25 1830 1486.25 Q1824.19 1486.25 1821.11 1481.67 Q1818.05 1477.06 1818.05 1468.33 Q1818.05 1459.58 1821.11 1455 Q1824.19 1450.39 1830 1450.39 Z\" fill=\"#000000\" fill-rule=\"evenodd\" fill-opacity=\"1\" /><path clip-path=\"url(#clip210)\" d=\"M2238.61 1481.64 L2246.25 1481.64 L2246.25 1455.28 L2237.94 1456.95 L2237.94 1452.69 L2246.2 1451.02 L2250.88 1451.02 L2250.88 1481.64 L2258.52 1481.64 L2258.52 1485.58 L2238.61 1485.58 L2238.61 1481.64 Z\" fill=\"#000000\" fill-rule=\"evenodd\" fill-opacity=\"1\" /><path clip-path=\"url(#clip210)\" d=\"M2277.96 1454.1 Q2274.35 1454.1 2272.52 1457.66 Q2270.72 1461.2 2270.72 1468.33 Q2270.72 1475.44 2272.52 1479.01 Q2274.35 1482.55 2277.96 1482.55 Q2281.6 1482.55 2283.4 1479.01 Q2285.23 1475.44 2285.23 1468.33 Q2285.23 1461.2 2283.4 1457.66 Q2281.6 1454.1 2277.96 1454.1 M2277.96 1450.39 Q2283.77 1450.39 2286.83 1455 Q2289.91 1459.58 2289.91 1468.33 Q2289.91 1477.06 2286.83 1481.67 Q2283.77 1486.25 2277.96 1486.25 Q2272.15 1486.25 2269.07 1481.67 Q2266.02 1477.06 2266.02 1468.33 Q2266.02 1459.58 2269.07 1455 Q2272.15 1450.39 2277.96 1450.39 Z\" fill=\"#000000\" fill-rule=\"evenodd\" fill-opacity=\"1\" /><path clip-path=\"url(#clip210)\" d=\"M2308.12 1454.1 Q2304.51 1454.1 2302.68 1457.66 Q2300.88 1461.2 2300.88 1468.33 Q2300.88 1475.44 2302.68 1479.01 Q2304.51 1482.55 2308.12 1482.55 Q2311.76 1482.55 2313.56 1479.01 Q2315.39 1475.44 2315.39 1468.33 Q2315.39 1461.2 2313.56 1457.66 Q2311.76 1454.1 2308.12 1454.1 M2308.12 1450.39 Q2313.93 1450.39 2316.99 1455 Q2320.07 1459.58 2320.07 1468.33 Q2320.07 1477.06 2316.99 1481.67 Q2313.93 1486.25 2308.12 1486.25 Q2302.31 1486.25 2299.24 1481.67 Q2296.18 1477.06 2296.18 1468.33 Q2296.18 1459.58 2299.24 1455 Q2302.31 1450.39 2308.12 1450.39 Z\" fill=\"#000000\" fill-rule=\"evenodd\" fill-opacity=\"1\" /><path clip-path=\"url(#clip210)\" d=\"M2338.29 1454.1 Q2334.67 1454.1 2332.85 1457.66 Q2331.04 1461.2 2331.04 1468.33 Q2331.04 1475.44 2332.85 1479.01 Q2334.67 1482.55 2338.29 1482.55 Q2341.92 1482.55 2343.73 1479.01 Q2345.55 1475.44 2345.55 1468.33 Q2345.55 1461.2 2343.73 1457.66 Q2341.92 1454.1 2338.29 1454.1 M2338.29 1450.39 Q2344.1 1450.39 2347.15 1455 Q2350.23 1459.58 2350.23 1468.33 Q2350.23 1477.06 2347.15 1481.67 Q2344.1 1486.25 2338.29 1486.25 Q2332.48 1486.25 2329.4 1481.67 Q2326.34 1477.06 2326.34 1468.33 Q2326.34 1459.58 2329.4 1455 Q2332.48 1450.39 2338.29 1450.39 Z\" fill=\"#000000\" fill-rule=\"evenodd\" fill-opacity=\"1\" /><path clip-path=\"url(#clip210)\" d=\"M1186.64 1539.37 L1177.38 1539.37 L1174.7 1550 L1184.03 1550 L1186.64 1539.37 M1181.87 1521.26 L1178.56 1534.46 L1187.85 1534.46 L1191.19 1521.26 L1196.28 1521.26 L1193.01 1534.46 L1202.94 1534.46 L1202.94 1539.37 L1191.76 1539.37 L1189.15 1550 L1199.28 1550 L1199.28 1554.87 L1187.91 1554.87 L1184.6 1568.04 L1179.51 1568.04 L1182.79 1554.87 L1173.46 1554.87 L1170.18 1568.04 L1165.06 1568.04 L1168.37 1554.87 L1158.34 1554.87 L1158.34 1550 L1169.55 1550 L1172.22 1539.37 L1161.97 1539.37 L1161.97 1534.46 L1173.46 1534.46 L1176.71 1521.26 L1181.87 1521.26 Z\" fill=\"#000000\" fill-rule=\"evenodd\" fill-opacity=\"1\" /><path clip-path=\"url(#clip210)\" d=\"M1248.61 1536.5 Q1243.9 1536.5 1241.16 1540.19 Q1238.43 1543.85 1238.43 1550.25 Q1238.43 1556.65 1241.13 1560.34 Q1243.87 1564 1248.61 1564 Q1253.29 1564 1256.03 1560.31 Q1258.76 1556.62 1258.76 1550.25 Q1258.76 1543.92 1256.03 1540.23 Q1253.29 1536.5 1248.61 1536.5 M1248.61 1531.54 Q1256.25 1531.54 1260.61 1536.5 Q1264.97 1541.47 1264.97 1550.25 Q1264.97 1559 1260.61 1564 Q1256.25 1568.97 1248.61 1568.97 Q1240.94 1568.97 1236.58 1564 Q1232.25 1559 1232.25 1550.25 Q1232.25 1541.47 1236.58 1536.5 Q1240.94 1531.54 1248.61 1531.54 Z\" fill=\"#000000\" fill-rule=\"evenodd\" fill-opacity=\"1\" /><path clip-path=\"url(#clip210)\" d=\"M1292.72 1518.52 L1292.72 1523.39 L1287.12 1523.39 Q1283.97 1523.39 1282.73 1524.66 Q1281.52 1525.93 1281.52 1529.24 L1281.52 1532.4 L1291.16 1532.4 L1291.16 1536.95 L1281.52 1536.95 L1281.52 1568.04 L1275.63 1568.04 L1275.63 1536.95 L1270.03 1536.95 L1270.03 1532.4 L1275.63 1532.4 L1275.63 1529.91 Q1275.63 1523.96 1278.4 1521.26 Q1281.17 1518.52 1287.19 1518.52 L1292.72 1518.52 Z\" fill=\"#000000\" fill-rule=\"evenodd\" fill-opacity=\"1\" /><path clip-path=\"url(#clip210)\" d=\"M1324.14 1522.27 L1324.14 1532.4 L1336.2 1532.4 L1336.2 1536.95 L1324.14 1536.95 L1324.14 1556.3 Q1324.14 1560.66 1325.32 1561.9 Q1326.53 1563.14 1330.19 1563.14 L1336.2 1563.14 L1336.2 1568.04 L1330.19 1568.04 Q1323.41 1568.04 1320.83 1565.53 Q1318.25 1562.98 1318.25 1556.3 L1318.25 1536.95 L1313.95 1536.95 L1313.95 1532.4 L1318.25 1532.4 L1318.25 1522.27 L1324.14 1522.27 Z\" fill=\"#000000\" fill-rule=\"evenodd\" fill-opacity=\"1\" /><path clip-path=\"url(#clip210)\" d=\"M1364.56 1537.87 Q1363.57 1537.3 1362.4 1537.04 Q1361.25 1536.76 1359.85 1536.76 Q1354.89 1536.76 1352.21 1540 Q1349.57 1543.22 1349.57 1549.27 L1349.57 1568.04 L1343.68 1568.04 L1343.68 1532.4 L1349.57 1532.4 L1349.57 1537.93 Q1351.42 1534.69 1354.38 1533.13 Q1357.34 1531.54 1361.57 1531.54 Q1362.17 1531.54 1362.91 1531.63 Q1363.64 1531.7 1364.53 1531.85 L1364.56 1537.87 Z\" fill=\"#000000\" fill-rule=\"evenodd\" fill-opacity=\"1\" /><path clip-path=\"url(#clip210)\" d=\"M1399.76 1548.76 L1399.76 1551.62 L1372.84 1551.62 Q1373.22 1557.67 1376.47 1560.85 Q1379.74 1564 1385.57 1564 Q1388.94 1564 1392.09 1563.17 Q1395.28 1562.35 1398.4 1560.69 L1398.4 1566.23 Q1395.24 1567.57 1391.93 1568.27 Q1388.62 1568.97 1385.22 1568.97 Q1376.69 1568.97 1371.69 1564 Q1366.73 1559.04 1366.73 1550.57 Q1366.73 1541.82 1371.44 1536.69 Q1376.18 1531.54 1384.2 1531.54 Q1391.39 1531.54 1395.56 1536.18 Q1399.76 1540.8 1399.76 1548.76 M1393.91 1547.04 Q1393.84 1542.23 1391.2 1539.37 Q1388.59 1536.5 1384.26 1536.5 Q1379.36 1536.5 1376.4 1539.27 Q1373.47 1542.04 1373.03 1547.07 L1393.91 1547.04 Z\" fill=\"#000000\" fill-rule=\"evenodd\" fill-opacity=\"1\" /><path clip-path=\"url(#clip210)\" d=\"M1439.87 1548.76 L1439.87 1551.62 L1412.94 1551.62 Q1413.32 1557.67 1416.57 1560.85 Q1419.85 1564 1425.67 1564 Q1429.05 1564 1432.2 1563.17 Q1435.38 1562.35 1438.5 1560.69 L1438.5 1566.23 Q1435.35 1567.57 1432.04 1568.27 Q1428.73 1568.97 1425.32 1568.97 Q1416.79 1568.97 1411.8 1564 Q1406.83 1559.04 1406.83 1550.57 Q1406.83 1541.82 1411.54 1536.69 Q1416.28 1531.54 1424.3 1531.54 Q1431.5 1531.54 1435.67 1536.18 Q1439.87 1540.8 1439.87 1548.76 M1434.01 1547.04 Q1433.95 1542.23 1431.31 1539.37 Q1428.7 1536.5 1424.37 1536.5 Q1419.47 1536.5 1416.51 1539.27 Q1413.58 1542.04 1413.13 1547.07 L1434.01 1547.04 Z\" fill=\"#000000\" fill-rule=\"evenodd\" fill-opacity=\"1\" /><path clip-path=\"url(#clip210)\" d=\"M1472.21 1533.45 L1472.21 1538.98 Q1469.72 1537.71 1467.05 1537.07 Q1464.38 1536.44 1461.51 1536.44 Q1457.15 1536.44 1454.95 1537.77 Q1452.79 1539.11 1452.79 1541.79 Q1452.79 1543.82 1454.35 1545 Q1455.91 1546.15 1460.62 1547.2 L1462.63 1547.64 Q1468.86 1548.98 1471.47 1551.43 Q1474.12 1553.85 1474.12 1558.21 Q1474.12 1563.17 1470.17 1566.07 Q1466.25 1568.97 1459.38 1568.97 Q1456.51 1568.97 1453.39 1568.39 Q1450.31 1567.85 1446.87 1566.74 L1446.87 1560.69 Q1450.12 1562.38 1453.27 1563.24 Q1456.42 1564.07 1459.51 1564.07 Q1463.64 1564.07 1465.87 1562.66 Q1468.1 1561.23 1468.1 1558.65 Q1468.1 1556.27 1466.48 1554.99 Q1464.89 1553.72 1459.44 1552.54 L1457.41 1552.07 Q1451.96 1550.92 1449.54 1548.56 Q1447.12 1546.18 1447.12 1542.04 Q1447.12 1537.01 1450.69 1534.27 Q1454.25 1531.54 1460.81 1531.54 Q1464.06 1531.54 1466.92 1532.01 Q1469.79 1532.49 1472.21 1533.45 Z\" fill=\"#000000\" fill-rule=\"evenodd\" fill-opacity=\"1\" /><polyline clip-path=\"url(#clip212)\" style=\"stroke:#000000; stroke-linecap:butt; stroke-linejoin:round; stroke-width:2; stroke-opacity:0.1; fill:none\" points=\"\n",
       "  279.704,1332.32 2352.76,1332.32 \n",
       "  \"/>\n",
       "<polyline clip-path=\"url(#clip212)\" style=\"stroke:#000000; stroke-linecap:butt; stroke-linejoin:round; stroke-width:2; stroke-opacity:0.1; fill:none\" points=\"\n",
       "  279.704,1143.32 2352.76,1143.32 \n",
       "  \"/>\n",
       "<polyline clip-path=\"url(#clip212)\" style=\"stroke:#000000; stroke-linecap:butt; stroke-linejoin:round; stroke-width:2; stroke-opacity:0.1; fill:none\" points=\"\n",
       "  279.704,954.323 2352.76,954.323 \n",
       "  \"/>\n",
       "<polyline clip-path=\"url(#clip212)\" style=\"stroke:#000000; stroke-linecap:butt; stroke-linejoin:round; stroke-width:2; stroke-opacity:0.1; fill:none\" points=\"\n",
       "  279.704,765.327 2352.76,765.327 \n",
       "  \"/>\n",
       "<polyline clip-path=\"url(#clip212)\" style=\"stroke:#000000; stroke-linecap:butt; stroke-linejoin:round; stroke-width:2; stroke-opacity:0.1; fill:none\" points=\"\n",
       "  279.704,576.33 2352.76,576.33 \n",
       "  \"/>\n",
       "<polyline clip-path=\"url(#clip212)\" style=\"stroke:#000000; stroke-linecap:butt; stroke-linejoin:round; stroke-width:2; stroke-opacity:0.1; fill:none\" points=\"\n",
       "  279.704,387.334 2352.76,387.334 \n",
       "  \"/>\n",
       "<polyline clip-path=\"url(#clip212)\" style=\"stroke:#000000; stroke-linecap:butt; stroke-linejoin:round; stroke-width:2; stroke-opacity:0.1; fill:none\" points=\"\n",
       "  279.704,198.337 2352.76,198.337 \n",
       "  \"/>\n",
       "<polyline clip-path=\"url(#clip210)\" style=\"stroke:#000000; stroke-linecap:butt; stroke-linejoin:round; stroke-width:4; stroke-opacity:1; fill:none\" points=\"\n",
       "  279.704,1423.18 279.704,47.2441 \n",
       "  \"/>\n",
       "<polyline clip-path=\"url(#clip210)\" style=\"stroke:#000000; stroke-linecap:butt; stroke-linejoin:round; stroke-width:4; stroke-opacity:1; fill:none\" points=\"\n",
       "  279.704,1332.32 298.602,1332.32 \n",
       "  \"/>\n",
       "<polyline clip-path=\"url(#clip210)\" style=\"stroke:#000000; stroke-linecap:butt; stroke-linejoin:round; stroke-width:4; stroke-opacity:1; fill:none\" points=\"\n",
       "  279.704,1143.32 298.602,1143.32 \n",
       "  \"/>\n",
       "<polyline clip-path=\"url(#clip210)\" style=\"stroke:#000000; stroke-linecap:butt; stroke-linejoin:round; stroke-width:4; stroke-opacity:1; fill:none\" points=\"\n",
       "  279.704,954.323 298.602,954.323 \n",
       "  \"/>\n",
       "<polyline clip-path=\"url(#clip210)\" style=\"stroke:#000000; stroke-linecap:butt; stroke-linejoin:round; stroke-width:4; stroke-opacity:1; fill:none\" points=\"\n",
       "  279.704,765.327 298.602,765.327 \n",
       "  \"/>\n",
       "<polyline clip-path=\"url(#clip210)\" style=\"stroke:#000000; stroke-linecap:butt; stroke-linejoin:round; stroke-width:4; stroke-opacity:1; fill:none\" points=\"\n",
       "  279.704,576.33 298.602,576.33 \n",
       "  \"/>\n",
       "<polyline clip-path=\"url(#clip210)\" style=\"stroke:#000000; stroke-linecap:butt; stroke-linejoin:round; stroke-width:4; stroke-opacity:1; fill:none\" points=\"\n",
       "  279.704,387.334 298.602,387.334 \n",
       "  \"/>\n",
       "<polyline clip-path=\"url(#clip210)\" style=\"stroke:#000000; stroke-linecap:butt; stroke-linejoin:round; stroke-width:4; stroke-opacity:1; fill:none\" points=\"\n",
       "  279.704,198.337 298.602,198.337 \n",
       "  \"/>\n",
       "<path clip-path=\"url(#clip210)\" d=\"M127.2 1318.11 Q123.589 1318.11 121.76 1321.68 Q119.955 1325.22 119.955 1332.35 Q119.955 1339.46 121.76 1343.02 Q123.589 1346.56 127.2 1346.56 Q130.834 1346.56 132.64 1343.02 Q134.468 1339.46 134.468 1332.35 Q134.468 1325.22 132.64 1321.68 Q130.834 1318.11 127.2 1318.11 M127.2 1314.41 Q133.01 1314.41 136.066 1319.02 Q139.144 1323.6 139.144 1332.35 Q139.144 1341.08 136.066 1345.68 Q133.01 1350.27 127.2 1350.27 Q121.39 1350.27 118.311 1345.68 Q115.256 1341.08 115.256 1332.35 Q115.256 1323.6 118.311 1319.02 Q121.39 1314.41 127.2 1314.41 Z\" fill=\"#000000\" fill-rule=\"evenodd\" fill-opacity=\"1\" /><path clip-path=\"url(#clip210)\" d=\"M147.362 1343.72 L152.246 1343.72 L152.246 1349.6 L147.362 1349.6 L147.362 1343.72 Z\" fill=\"#000000\" fill-rule=\"evenodd\" fill-opacity=\"1\" /><path clip-path=\"url(#clip210)\" d=\"M172.431 1333.18 Q169.098 1333.18 167.177 1334.97 Q165.278 1336.75 165.278 1339.87 Q165.278 1343 167.177 1344.78 Q169.098 1346.56 172.431 1346.56 Q175.764 1346.56 177.686 1344.78 Q179.607 1342.98 179.607 1339.87 Q179.607 1336.75 177.686 1334.97 Q175.788 1333.18 172.431 1333.18 M167.755 1331.19 Q164.746 1330.45 163.056 1328.39 Q161.39 1326.33 161.39 1323.37 Q161.39 1319.23 164.329 1316.82 Q167.292 1314.41 172.431 1314.41 Q177.593 1314.41 180.533 1316.82 Q183.473 1319.23 183.473 1323.37 Q183.473 1326.33 181.783 1328.39 Q180.116 1330.45 177.13 1331.19 Q180.51 1331.98 182.385 1334.27 Q184.283 1336.56 184.283 1339.87 Q184.283 1344.9 181.204 1347.58 Q178.149 1350.27 172.431 1350.27 Q166.714 1350.27 163.635 1347.58 Q160.579 1344.9 160.579 1339.87 Q160.579 1336.56 162.477 1334.27 Q164.376 1331.98 167.755 1331.19 M166.042 1323.81 Q166.042 1326.49 167.709 1328 Q169.399 1329.5 172.431 1329.5 Q175.44 1329.5 177.13 1328 Q178.843 1326.49 178.843 1323.81 Q178.843 1321.12 177.13 1319.62 Q175.44 1318.11 172.431 1318.11 Q169.399 1318.11 167.709 1319.62 Q166.042 1321.12 166.042 1323.81 Z\" fill=\"#000000\" fill-rule=\"evenodd\" fill-opacity=\"1\" /><path clip-path=\"url(#clip210)\" d=\"M191.413 1315.04 L213.635 1315.04 L213.635 1317.03 L201.088 1349.6 L196.204 1349.6 L208.01 1318.97 L191.413 1318.97 L191.413 1315.04 Z\" fill=\"#000000\" fill-rule=\"evenodd\" fill-opacity=\"1\" /><path clip-path=\"url(#clip210)\" d=\"M222.801 1315.04 L241.158 1315.04 L241.158 1318.97 L227.084 1318.97 L227.084 1327.44 Q228.102 1327.1 229.121 1326.93 Q230.139 1326.75 231.158 1326.75 Q236.945 1326.75 240.324 1329.92 Q243.704 1333.09 243.704 1338.51 Q243.704 1344.09 240.232 1347.19 Q236.76 1350.27 230.44 1350.27 Q228.264 1350.27 225.996 1349.9 Q223.75 1349.53 221.343 1348.79 L221.343 1344.09 Q223.426 1345.22 225.648 1345.78 Q227.871 1346.33 230.347 1346.33 Q234.352 1346.33 236.69 1344.23 Q239.028 1342.12 239.028 1338.51 Q239.028 1334.9 236.69 1332.79 Q234.352 1330.68 230.347 1330.68 Q228.473 1330.68 226.598 1331.1 Q224.746 1331.52 222.801 1332.4 L222.801 1315.04 Z\" fill=\"#000000\" fill-rule=\"evenodd\" fill-opacity=\"1\" /><path clip-path=\"url(#clip210)\" d=\"M126.205 1129.12 Q122.593 1129.12 120.765 1132.68 Q118.959 1136.22 118.959 1143.35 Q118.959 1150.46 120.765 1154.03 Q122.593 1157.57 126.205 1157.57 Q129.839 1157.57 131.644 1154.03 Q133.473 1150.46 133.473 1143.35 Q133.473 1136.22 131.644 1132.68 Q129.839 1129.12 126.205 1129.12 M126.205 1125.41 Q132.015 1125.41 135.07 1130.02 Q138.149 1134.6 138.149 1143.35 Q138.149 1152.08 135.07 1156.69 Q132.015 1161.27 126.205 1161.27 Q120.394 1161.27 117.316 1156.69 Q114.26 1152.08 114.26 1143.35 Q114.26 1134.6 117.316 1130.02 Q120.394 1125.41 126.205 1125.41 Z\" fill=\"#000000\" fill-rule=\"evenodd\" fill-opacity=\"1\" /><path clip-path=\"url(#clip210)\" d=\"M146.366 1154.72 L151.251 1154.72 L151.251 1160.6 L146.366 1160.6 L146.366 1154.72 Z\" fill=\"#000000\" fill-rule=\"evenodd\" fill-opacity=\"1\" /><path clip-path=\"url(#clip210)\" d=\"M171.436 1144.19 Q168.102 1144.19 166.181 1145.97 Q164.283 1147.75 164.283 1150.88 Q164.283 1154 166.181 1155.78 Q168.102 1157.57 171.436 1157.57 Q174.769 1157.57 176.69 1155.78 Q178.612 1153.98 178.612 1150.88 Q178.612 1147.75 176.69 1145.97 Q174.792 1144.19 171.436 1144.19 M166.76 1142.2 Q163.751 1141.46 162.061 1139.4 Q160.394 1137.34 160.394 1134.37 Q160.394 1130.23 163.334 1127.82 Q166.297 1125.41 171.436 1125.41 Q176.598 1125.41 179.538 1127.82 Q182.477 1130.23 182.477 1134.37 Q182.477 1137.34 180.788 1139.4 Q179.121 1141.46 176.135 1142.2 Q179.514 1142.98 181.389 1145.28 Q183.288 1147.57 183.288 1150.88 Q183.288 1155.9 180.209 1158.59 Q177.153 1161.27 171.436 1161.27 Q165.718 1161.27 162.64 1158.59 Q159.584 1155.9 159.584 1150.88 Q159.584 1147.57 161.482 1145.28 Q163.38 1142.98 166.76 1142.2 M165.047 1134.81 Q165.047 1137.5 166.714 1139 Q168.403 1140.51 171.436 1140.51 Q174.445 1140.51 176.135 1139 Q177.848 1137.5 177.848 1134.81 Q177.848 1132.13 176.135 1130.62 Q174.445 1129.12 171.436 1129.12 Q168.403 1129.12 166.714 1130.62 Q165.047 1132.13 165.047 1134.81 Z\" fill=\"#000000\" fill-rule=\"evenodd\" fill-opacity=\"1\" /><path clip-path=\"url(#clip210)\" d=\"M201.598 1144.19 Q198.264 1144.19 196.343 1145.97 Q194.445 1147.75 194.445 1150.88 Q194.445 1154 196.343 1155.78 Q198.264 1157.57 201.598 1157.57 Q204.931 1157.57 206.852 1155.78 Q208.774 1153.98 208.774 1150.88 Q208.774 1147.75 206.852 1145.97 Q204.954 1144.19 201.598 1144.19 M196.922 1142.2 Q193.913 1141.46 192.223 1139.4 Q190.556 1137.34 190.556 1134.37 Q190.556 1130.23 193.496 1127.82 Q196.459 1125.41 201.598 1125.41 Q206.76 1125.41 209.699 1127.82 Q212.639 1130.23 212.639 1134.37 Q212.639 1137.34 210.949 1139.4 Q209.283 1141.46 206.297 1142.2 Q209.676 1142.98 211.551 1145.28 Q213.449 1147.57 213.449 1150.88 Q213.449 1155.9 210.371 1158.59 Q207.315 1161.27 201.598 1161.27 Q195.88 1161.27 192.801 1158.59 Q189.746 1155.9 189.746 1150.88 Q189.746 1147.57 191.644 1145.28 Q193.542 1142.98 196.922 1142.2 M195.209 1134.81 Q195.209 1137.5 196.875 1139 Q198.565 1140.51 201.598 1140.51 Q204.607 1140.51 206.297 1139 Q208.01 1137.5 208.01 1134.81 Q208.01 1132.13 206.297 1130.62 Q204.607 1129.12 201.598 1129.12 Q198.565 1129.12 196.875 1130.62 Q195.209 1132.13 195.209 1134.81 Z\" fill=\"#000000\" fill-rule=\"evenodd\" fill-opacity=\"1\" /><path clip-path=\"url(#clip210)\" d=\"M231.76 1129.12 Q228.148 1129.12 226.32 1132.68 Q224.514 1136.22 224.514 1143.35 Q224.514 1150.46 226.32 1154.03 Q228.148 1157.57 231.76 1157.57 Q235.394 1157.57 237.199 1154.03 Q239.028 1150.46 239.028 1143.35 Q239.028 1136.22 237.199 1132.68 Q235.394 1129.12 231.76 1129.12 M231.76 1125.41 Q237.57 1125.41 240.625 1130.02 Q243.704 1134.6 243.704 1143.35 Q243.704 1152.08 240.625 1156.69 Q237.57 1161.27 231.76 1161.27 Q225.949 1161.27 222.871 1156.69 Q219.815 1152.08 219.815 1143.35 Q219.815 1134.6 222.871 1130.02 Q225.949 1125.41 231.76 1125.41 Z\" fill=\"#000000\" fill-rule=\"evenodd\" fill-opacity=\"1\" /><path clip-path=\"url(#clip210)\" d=\"M127.2 940.122 Q123.589 940.122 121.76 943.687 Q119.955 947.228 119.955 954.358 Q119.955 961.464 121.76 965.029 Q123.589 968.571 127.2 968.571 Q130.834 968.571 132.64 965.029 Q134.468 961.464 134.468 954.358 Q134.468 947.228 132.64 943.687 Q130.834 940.122 127.2 940.122 M127.2 936.418 Q133.01 936.418 136.066 941.025 Q139.144 945.608 139.144 954.358 Q139.144 963.085 136.066 967.691 Q133.01 972.275 127.2 972.275 Q121.39 972.275 118.311 967.691 Q115.256 963.085 115.256 954.358 Q115.256 945.608 118.311 941.025 Q121.39 936.418 127.2 936.418 Z\" fill=\"#000000\" fill-rule=\"evenodd\" fill-opacity=\"1\" /><path clip-path=\"url(#clip210)\" d=\"M147.362 965.724 L152.246 965.724 L152.246 971.603 L147.362 971.603 L147.362 965.724 Z\" fill=\"#000000\" fill-rule=\"evenodd\" fill-opacity=\"1\" /><path clip-path=\"url(#clip210)\" d=\"M172.431 955.191 Q169.098 955.191 167.177 956.974 Q165.278 958.756 165.278 961.881 Q165.278 965.006 167.177 966.788 Q169.098 968.571 172.431 968.571 Q175.764 968.571 177.686 966.788 Q179.607 964.983 179.607 961.881 Q179.607 958.756 177.686 956.974 Q175.788 955.191 172.431 955.191 M167.755 953.201 Q164.746 952.46 163.056 950.4 Q161.39 948.339 161.39 945.377 Q161.39 941.233 164.329 938.826 Q167.292 936.418 172.431 936.418 Q177.593 936.418 180.533 938.826 Q183.473 941.233 183.473 945.377 Q183.473 948.339 181.783 950.4 Q180.116 952.46 177.13 953.201 Q180.51 953.988 182.385 956.279 Q184.283 958.571 184.283 961.881 Q184.283 966.904 181.204 969.589 Q178.149 972.275 172.431 972.275 Q166.714 972.275 163.635 969.589 Q160.579 966.904 160.579 961.881 Q160.579 958.571 162.477 956.279 Q164.376 953.988 167.755 953.201 M166.042 945.816 Q166.042 948.502 167.709 950.006 Q169.399 951.511 172.431 951.511 Q175.44 951.511 177.13 950.006 Q178.843 948.502 178.843 945.816 Q178.843 943.131 177.13 941.627 Q175.44 940.122 172.431 940.122 Q169.399 940.122 167.709 941.627 Q166.042 943.131 166.042 945.816 Z\" fill=\"#000000\" fill-rule=\"evenodd\" fill-opacity=\"1\" /><path clip-path=\"url(#clip210)\" d=\"M202.593 955.191 Q199.26 955.191 197.338 956.974 Q195.44 958.756 195.44 961.881 Q195.44 965.006 197.338 966.788 Q199.26 968.571 202.593 968.571 Q205.926 968.571 207.848 966.788 Q209.769 964.983 209.769 961.881 Q209.769 958.756 207.848 956.974 Q205.949 955.191 202.593 955.191 M197.917 953.201 Q194.908 952.46 193.218 950.4 Q191.551 948.339 191.551 945.377 Q191.551 941.233 194.491 938.826 Q197.454 936.418 202.593 936.418 Q207.755 936.418 210.695 938.826 Q213.635 941.233 213.635 945.377 Q213.635 948.339 211.945 950.4 Q210.278 952.46 207.292 953.201 Q210.672 953.988 212.547 956.279 Q214.445 958.571 214.445 961.881 Q214.445 966.904 211.366 969.589 Q208.311 972.275 202.593 972.275 Q196.875 972.275 193.797 969.589 Q190.741 966.904 190.741 961.881 Q190.741 958.571 192.639 956.279 Q194.538 953.988 197.917 953.201 M196.204 945.816 Q196.204 948.502 197.871 950.006 Q199.561 951.511 202.593 951.511 Q205.602 951.511 207.292 950.006 Q209.005 948.502 209.005 945.816 Q209.005 943.131 207.292 941.627 Q205.602 940.122 202.593 940.122 Q199.561 940.122 197.871 941.627 Q196.204 943.131 196.204 945.816 Z\" fill=\"#000000\" fill-rule=\"evenodd\" fill-opacity=\"1\" /><path clip-path=\"url(#clip210)\" d=\"M222.801 937.043 L241.158 937.043 L241.158 940.978 L227.084 940.978 L227.084 949.451 Q228.102 949.103 229.121 948.941 Q230.139 948.756 231.158 948.756 Q236.945 948.756 240.324 951.927 Q243.704 955.099 243.704 960.515 Q243.704 966.094 240.232 969.196 Q236.76 972.275 230.44 972.275 Q228.264 972.275 225.996 971.904 Q223.75 971.534 221.343 970.793 L221.343 966.094 Q223.426 967.228 225.648 967.784 Q227.871 968.339 230.347 968.339 Q234.352 968.339 236.69 966.233 Q239.028 964.126 239.028 960.515 Q239.028 956.904 236.69 954.798 Q234.352 952.691 230.347 952.691 Q228.473 952.691 226.598 953.108 Q224.746 953.525 222.801 954.404 L222.801 937.043 Z\" fill=\"#000000\" fill-rule=\"evenodd\" fill-opacity=\"1\" /><path clip-path=\"url(#clip210)\" d=\"M126.205 751.125 Q122.593 751.125 120.765 754.69 Q118.959 758.232 118.959 765.362 Q118.959 772.468 120.765 776.033 Q122.593 779.574 126.205 779.574 Q129.839 779.574 131.644 776.033 Q133.473 772.468 133.473 765.362 Q133.473 758.232 131.644 754.69 Q129.839 751.125 126.205 751.125 M126.205 747.422 Q132.015 747.422 135.07 752.028 Q138.149 756.612 138.149 765.362 Q138.149 774.088 135.07 778.695 Q132.015 783.278 126.205 783.278 Q120.394 783.278 117.316 778.695 Q114.26 774.088 114.26 765.362 Q114.26 756.612 117.316 752.028 Q120.394 747.422 126.205 747.422 Z\" fill=\"#000000\" fill-rule=\"evenodd\" fill-opacity=\"1\" /><path clip-path=\"url(#clip210)\" d=\"M146.366 776.727 L151.251 776.727 L151.251 782.607 L146.366 782.607 L146.366 776.727 Z\" fill=\"#000000\" fill-rule=\"evenodd\" fill-opacity=\"1\" /><path clip-path=\"url(#clip210)\" d=\"M171.436 766.195 Q168.102 766.195 166.181 767.977 Q164.283 769.76 164.283 772.885 Q164.283 776.01 166.181 777.792 Q168.102 779.574 171.436 779.574 Q174.769 779.574 176.69 777.792 Q178.612 775.986 178.612 772.885 Q178.612 769.76 176.69 767.977 Q174.792 766.195 171.436 766.195 M166.76 764.204 Q163.751 763.463 162.061 761.403 Q160.394 759.343 160.394 756.38 Q160.394 752.237 163.334 749.829 Q166.297 747.422 171.436 747.422 Q176.598 747.422 179.538 749.829 Q182.477 752.237 182.477 756.38 Q182.477 759.343 180.788 761.403 Q179.121 763.463 176.135 764.204 Q179.514 764.991 181.389 767.283 Q183.288 769.574 183.288 772.885 Q183.288 777.908 180.209 780.593 Q177.153 783.278 171.436 783.278 Q165.718 783.278 162.64 780.593 Q159.584 777.908 159.584 772.885 Q159.584 769.574 161.482 767.283 Q163.38 764.991 166.76 764.204 M165.047 756.82 Q165.047 759.505 166.714 761.01 Q168.403 762.514 171.436 762.514 Q174.445 762.514 176.135 761.01 Q177.848 759.505 177.848 756.82 Q177.848 754.135 176.135 752.63 Q174.445 751.125 171.436 751.125 Q168.403 751.125 166.714 752.63 Q165.047 754.135 165.047 756.82 Z\" fill=\"#000000\" fill-rule=\"evenodd\" fill-opacity=\"1\" /><path clip-path=\"url(#clip210)\" d=\"M191.737 781.889 L191.737 777.63 Q193.496 778.463 195.301 778.903 Q197.107 779.343 198.843 779.343 Q203.473 779.343 205.903 776.241 Q208.357 773.116 208.704 766.774 Q207.362 768.764 205.301 769.829 Q203.241 770.894 200.741 770.894 Q195.556 770.894 192.524 767.769 Q189.514 764.621 189.514 759.181 Q189.514 753.857 192.663 750.639 Q195.811 747.422 201.042 747.422 Q207.037 747.422 210.186 752.028 Q213.357 756.612 213.357 765.362 Q213.357 773.533 209.468 778.417 Q205.602 783.278 199.051 783.278 Q197.292 783.278 195.487 782.931 Q193.681 782.584 191.737 781.889 M201.042 767.237 Q204.19 767.237 206.019 765.084 Q207.871 762.931 207.871 759.181 Q207.871 755.454 206.019 753.301 Q204.19 751.125 201.042 751.125 Q197.894 751.125 196.042 753.301 Q194.213 755.454 194.213 759.181 Q194.213 762.931 196.042 765.084 Q197.894 767.237 201.042 767.237 Z\" fill=\"#000000\" fill-rule=\"evenodd\" fill-opacity=\"1\" /><path clip-path=\"url(#clip210)\" d=\"M231.76 751.125 Q228.148 751.125 226.32 754.69 Q224.514 758.232 224.514 765.362 Q224.514 772.468 226.32 776.033 Q228.148 779.574 231.76 779.574 Q235.394 779.574 237.199 776.033 Q239.028 772.468 239.028 765.362 Q239.028 758.232 237.199 754.69 Q235.394 751.125 231.76 751.125 M231.76 747.422 Q237.57 747.422 240.625 752.028 Q243.704 756.612 243.704 765.362 Q243.704 774.088 240.625 778.695 Q237.57 783.278 231.76 783.278 Q225.949 783.278 222.871 778.695 Q219.815 774.088 219.815 765.362 Q219.815 756.612 222.871 752.028 Q225.949 747.422 231.76 747.422 Z\" fill=\"#000000\" fill-rule=\"evenodd\" fill-opacity=\"1\" /><path clip-path=\"url(#clip210)\" d=\"M127.2 562.129 Q123.589 562.129 121.76 565.694 Q119.955 569.235 119.955 576.365 Q119.955 583.471 121.76 587.036 Q123.589 590.578 127.2 590.578 Q130.834 590.578 132.64 587.036 Q134.468 583.471 134.468 576.365 Q134.468 569.235 132.64 565.694 Q130.834 562.129 127.2 562.129 M127.2 558.425 Q133.01 558.425 136.066 563.032 Q139.144 567.615 139.144 576.365 Q139.144 585.092 136.066 589.698 Q133.01 594.282 127.2 594.282 Q121.39 594.282 118.311 589.698 Q115.256 585.092 115.256 576.365 Q115.256 567.615 118.311 563.032 Q121.39 558.425 127.2 558.425 Z\" fill=\"#000000\" fill-rule=\"evenodd\" fill-opacity=\"1\" /><path clip-path=\"url(#clip210)\" d=\"M147.362 587.731 L152.246 587.731 L152.246 593.61 L147.362 593.61 L147.362 587.731 Z\" fill=\"#000000\" fill-rule=\"evenodd\" fill-opacity=\"1\" /><path clip-path=\"url(#clip210)\" d=\"M172.431 577.198 Q169.098 577.198 167.177 578.981 Q165.278 580.763 165.278 583.888 Q165.278 587.013 167.177 588.796 Q169.098 590.578 172.431 590.578 Q175.764 590.578 177.686 588.796 Q179.607 586.99 179.607 583.888 Q179.607 580.763 177.686 578.981 Q175.788 577.198 172.431 577.198 M167.755 575.208 Q164.746 574.467 163.056 572.407 Q161.39 570.347 161.39 567.384 Q161.39 563.24 164.329 560.833 Q167.292 558.425 172.431 558.425 Q177.593 558.425 180.533 560.833 Q183.473 563.24 183.473 567.384 Q183.473 570.347 181.783 572.407 Q180.116 574.467 177.13 575.208 Q180.51 575.995 182.385 578.286 Q184.283 580.578 184.283 583.888 Q184.283 588.911 181.204 591.596 Q178.149 594.282 172.431 594.282 Q166.714 594.282 163.635 591.596 Q160.579 588.911 160.579 583.888 Q160.579 580.578 162.477 578.286 Q164.376 575.995 167.755 575.208 M166.042 567.823 Q166.042 570.509 167.709 572.013 Q169.399 573.518 172.431 573.518 Q175.44 573.518 177.13 572.013 Q178.843 570.509 178.843 567.823 Q178.843 565.138 177.13 563.634 Q175.44 562.129 172.431 562.129 Q169.399 562.129 167.709 563.634 Q166.042 565.138 166.042 567.823 Z\" fill=\"#000000\" fill-rule=\"evenodd\" fill-opacity=\"1\" /><path clip-path=\"url(#clip210)\" d=\"M192.732 592.893 L192.732 588.634 Q194.491 589.467 196.297 589.907 Q198.102 590.346 199.838 590.346 Q204.468 590.346 206.899 587.245 Q209.352 584.12 209.699 577.777 Q208.357 579.768 206.297 580.833 Q204.237 581.897 201.737 581.897 Q196.551 581.897 193.519 578.772 Q190.51 575.624 190.51 570.185 Q190.51 564.86 193.658 561.643 Q196.806 558.425 202.037 558.425 Q208.033 558.425 211.181 563.032 Q214.352 567.615 214.352 576.365 Q214.352 584.536 210.463 589.421 Q206.598 594.282 200.047 594.282 Q198.287 594.282 196.482 593.934 Q194.676 593.587 192.732 592.893 M202.037 578.24 Q205.186 578.24 207.014 576.087 Q208.866 573.935 208.866 570.185 Q208.866 566.458 207.014 564.305 Q205.186 562.129 202.037 562.129 Q198.889 562.129 197.037 564.305 Q195.209 566.458 195.209 570.185 Q195.209 573.935 197.037 576.087 Q198.889 578.24 202.037 578.24 Z\" fill=\"#000000\" fill-rule=\"evenodd\" fill-opacity=\"1\" /><path clip-path=\"url(#clip210)\" d=\"M222.801 559.05 L241.158 559.05 L241.158 562.985 L227.084 562.985 L227.084 571.458 Q228.102 571.11 229.121 570.948 Q230.139 570.763 231.158 570.763 Q236.945 570.763 240.324 573.935 Q243.704 577.106 243.704 582.522 Q243.704 588.101 240.232 591.203 Q236.76 594.282 230.44 594.282 Q228.264 594.282 225.996 593.911 Q223.75 593.541 221.343 592.8 L221.343 588.101 Q223.426 589.235 225.648 589.791 Q227.871 590.346 230.347 590.346 Q234.352 590.346 236.69 588.24 Q239.028 586.134 239.028 582.522 Q239.028 578.911 236.69 576.805 Q234.352 574.698 230.347 574.698 Q228.473 574.698 226.598 575.115 Q224.746 575.532 222.801 576.411 L222.801 559.05 Z\" fill=\"#000000\" fill-rule=\"evenodd\" fill-opacity=\"1\" /><path clip-path=\"url(#clip210)\" d=\"M126.205 373.133 Q122.593 373.133 120.765 376.697 Q118.959 380.239 118.959 387.369 Q118.959 394.475 120.765 398.04 Q122.593 401.581 126.205 401.581 Q129.839 401.581 131.644 398.04 Q133.473 394.475 133.473 387.369 Q133.473 380.239 131.644 376.697 Q129.839 373.133 126.205 373.133 M126.205 369.429 Q132.015 369.429 135.07 374.035 Q138.149 378.619 138.149 387.369 Q138.149 396.095 135.07 400.702 Q132.015 405.285 126.205 405.285 Q120.394 405.285 117.316 400.702 Q114.26 396.095 114.26 387.369 Q114.26 378.619 117.316 374.035 Q120.394 369.429 126.205 369.429 Z\" fill=\"#000000\" fill-rule=\"evenodd\" fill-opacity=\"1\" /><path clip-path=\"url(#clip210)\" d=\"M146.366 398.734 L151.251 398.734 L151.251 404.614 L146.366 404.614 L146.366 398.734 Z\" fill=\"#000000\" fill-rule=\"evenodd\" fill-opacity=\"1\" /><path clip-path=\"url(#clip210)\" d=\"M161.575 403.896 L161.575 399.637 Q163.334 400.47 165.14 400.91 Q166.945 401.35 168.681 401.35 Q173.311 401.35 175.741 398.248 Q178.195 395.123 178.542 388.781 Q177.2 390.771 175.139 391.836 Q173.079 392.901 170.579 392.901 Q165.394 392.901 162.362 389.776 Q159.353 386.628 159.353 381.188 Q159.353 375.864 162.501 372.646 Q165.649 369.429 170.88 369.429 Q176.876 369.429 180.024 374.035 Q183.195 378.619 183.195 387.369 Q183.195 395.54 179.306 400.424 Q175.44 405.285 168.889 405.285 Q167.13 405.285 165.325 404.938 Q163.519 404.591 161.575 403.896 M170.88 389.244 Q174.028 389.244 175.857 387.091 Q177.709 384.938 177.709 381.188 Q177.709 377.461 175.857 375.308 Q174.028 373.133 170.88 373.133 Q167.732 373.133 165.88 375.308 Q164.052 377.461 164.052 381.188 Q164.052 384.938 165.88 387.091 Q167.732 389.244 170.88 389.244 Z\" fill=\"#000000\" fill-rule=\"evenodd\" fill-opacity=\"1\" /><path clip-path=\"url(#clip210)\" d=\"M201.598 373.133 Q197.987 373.133 196.158 376.697 Q194.352 380.239 194.352 387.369 Q194.352 394.475 196.158 398.04 Q197.987 401.581 201.598 401.581 Q205.232 401.581 207.037 398.04 Q208.866 394.475 208.866 387.369 Q208.866 380.239 207.037 376.697 Q205.232 373.133 201.598 373.133 M201.598 369.429 Q207.408 369.429 210.463 374.035 Q213.542 378.619 213.542 387.369 Q213.542 396.095 210.463 400.702 Q207.408 405.285 201.598 405.285 Q195.787 405.285 192.709 400.702 Q189.653 396.095 189.653 387.369 Q189.653 378.619 192.709 374.035 Q195.787 369.429 201.598 369.429 Z\" fill=\"#000000\" fill-rule=\"evenodd\" fill-opacity=\"1\" /><path clip-path=\"url(#clip210)\" d=\"M231.76 373.133 Q228.148 373.133 226.32 376.697 Q224.514 380.239 224.514 387.369 Q224.514 394.475 226.32 398.04 Q228.148 401.581 231.76 401.581 Q235.394 401.581 237.199 398.04 Q239.028 394.475 239.028 387.369 Q239.028 380.239 237.199 376.697 Q235.394 373.133 231.76 373.133 M231.76 369.429 Q237.57 369.429 240.625 374.035 Q243.704 378.619 243.704 387.369 Q243.704 396.095 240.625 400.702 Q237.57 405.285 231.76 405.285 Q225.949 405.285 222.871 400.702 Q219.815 396.095 219.815 387.369 Q219.815 378.619 222.871 374.035 Q225.949 369.429 231.76 369.429 Z\" fill=\"#000000\" fill-rule=\"evenodd\" fill-opacity=\"1\" /><path clip-path=\"url(#clip210)\" d=\"M127.2 184.136 Q123.589 184.136 121.76 187.701 Q119.955 191.243 119.955 198.372 Q119.955 205.479 121.76 209.043 Q123.589 212.585 127.2 212.585 Q130.834 212.585 132.64 209.043 Q134.468 205.479 134.468 198.372 Q134.468 191.243 132.64 187.701 Q130.834 184.136 127.2 184.136 M127.2 180.432 Q133.01 180.432 136.066 185.039 Q139.144 189.622 139.144 198.372 Q139.144 207.099 136.066 211.705 Q133.01 216.289 127.2 216.289 Q121.39 216.289 118.311 211.705 Q115.256 207.099 115.256 198.372 Q115.256 189.622 118.311 185.039 Q121.39 180.432 127.2 180.432 Z\" fill=\"#000000\" fill-rule=\"evenodd\" fill-opacity=\"1\" /><path clip-path=\"url(#clip210)\" d=\"M147.362 209.738 L152.246 209.738 L152.246 215.617 L147.362 215.617 L147.362 209.738 Z\" fill=\"#000000\" fill-rule=\"evenodd\" fill-opacity=\"1\" /><path clip-path=\"url(#clip210)\" d=\"M162.57 214.9 L162.57 210.641 Q164.329 211.474 166.135 211.914 Q167.94 212.354 169.677 212.354 Q174.306 212.354 176.737 209.252 Q179.19 206.127 179.538 199.784 Q178.195 201.775 176.135 202.84 Q174.075 203.905 171.575 203.905 Q166.39 203.905 163.357 200.78 Q160.348 197.631 160.348 192.192 Q160.348 186.868 163.496 183.65 Q166.644 180.432 171.876 180.432 Q177.871 180.432 181.019 185.039 Q184.19 189.622 184.19 198.372 Q184.19 206.543 180.301 211.428 Q176.436 216.289 169.885 216.289 Q168.126 216.289 166.32 215.941 Q164.515 215.594 162.57 214.9 M171.876 200.247 Q175.024 200.247 176.852 198.094 Q178.704 195.942 178.704 192.192 Q178.704 188.465 176.852 186.312 Q175.024 184.136 171.876 184.136 Q168.727 184.136 166.876 186.312 Q165.047 188.465 165.047 192.192 Q165.047 195.942 166.876 198.094 Q168.727 200.247 171.876 200.247 Z\" fill=\"#000000\" fill-rule=\"evenodd\" fill-opacity=\"1\" /><path clip-path=\"url(#clip210)\" d=\"M202.593 184.136 Q198.982 184.136 197.153 187.701 Q195.348 191.243 195.348 198.372 Q195.348 205.479 197.153 209.043 Q198.982 212.585 202.593 212.585 Q206.227 212.585 208.033 209.043 Q209.861 205.479 209.861 198.372 Q209.861 191.243 208.033 187.701 Q206.227 184.136 202.593 184.136 M202.593 180.432 Q208.403 180.432 211.459 185.039 Q214.537 189.622 214.537 198.372 Q214.537 207.099 211.459 211.705 Q208.403 216.289 202.593 216.289 Q196.783 216.289 193.704 211.705 Q190.649 207.099 190.649 198.372 Q190.649 189.622 193.704 185.039 Q196.783 180.432 202.593 180.432 Z\" fill=\"#000000\" fill-rule=\"evenodd\" fill-opacity=\"1\" /><path clip-path=\"url(#clip210)\" d=\"M222.801 181.057 L241.158 181.057 L241.158 184.993 L227.084 184.993 L227.084 193.465 Q228.102 193.118 229.121 192.956 Q230.139 192.77 231.158 192.77 Q236.945 192.77 240.324 195.942 Q243.704 199.113 243.704 204.53 Q243.704 210.108 240.232 213.21 Q236.76 216.289 230.44 216.289 Q228.264 216.289 225.996 215.918 Q223.75 215.548 221.343 214.807 L221.343 210.108 Q223.426 211.242 225.648 211.798 Q227.871 212.354 230.347 212.354 Q234.352 212.354 236.69 210.247 Q239.028 208.141 239.028 204.53 Q239.028 200.918 236.69 198.812 Q234.352 196.705 230.347 196.705 Q228.473 196.705 226.598 197.122 Q224.746 197.539 222.801 198.418 L222.801 181.057 Z\" fill=\"#000000\" fill-rule=\"evenodd\" fill-opacity=\"1\" /><path clip-path=\"url(#clip210)\" d=\"M22.818 780.329 L46.4666 789.05 L46.4666 771.576 L22.818 780.329 M16.4842 783.957 L16.4842 776.669 L64.0042 758.558 L64.0042 765.242 L51.8138 769.571 L51.8138 790.991 L64.0042 795.32 L64.0042 802.1 L16.4842 783.957 Z\" fill=\"#000000\" fill-rule=\"evenodd\" fill-opacity=\"1\" /><path clip-path=\"url(#clip210)\" d=\"M16.4842 752.352 L16.4842 745.89 L45.3526 745.89 Q52.9915 745.89 56.3653 743.121 Q59.7073 740.352 59.7073 734.146 Q59.7073 727.971 56.3653 725.202 Q52.9915 722.433 45.3526 722.433 L16.4842 722.433 L16.4842 715.972 L46.1484 715.972 Q55.4423 715.972 60.1847 720.587 Q64.9272 725.17 64.9272 734.146 Q64.9272 743.153 60.1847 747.768 Q55.4423 752.352 46.1484 752.352 L16.4842 752.352 Z\" fill=\"#000000\" fill-rule=\"evenodd\" fill-opacity=\"1\" /><path clip-path=\"url(#clip210)\" d=\"M20.1444 668.324 L26.9239 668.324 Q23.9002 671.571 22.4043 675.263 Q20.9083 678.923 20.9083 683.061 Q20.9083 691.209 25.9054 695.538 Q30.8707 699.866 40.2919 699.866 Q49.6813 699.866 54.6784 695.538 Q59.6436 691.209 59.6436 683.061 Q59.6436 678.923 58.1477 675.263 Q56.6518 671.571 53.6281 668.324 L60.3439 668.324 Q62.6355 671.698 63.7814 675.486 Q64.9272 679.241 64.9272 683.443 Q64.9272 694.233 58.3387 700.439 Q51.7183 706.646 40.2919 706.646 Q28.8336 706.646 22.2451 700.439 Q15.6248 694.233 15.6248 683.443 Q15.6248 679.178 16.7706 675.422 Q17.8846 671.634 20.1444 668.324 Z\" fill=\"#000000\" fill-rule=\"evenodd\" fill-opacity=\"1\" /><polyline clip-path=\"url(#clip212)\" style=\"stroke:#009af9; stroke-linecap:butt; stroke-linejoin:round; stroke-width:4; stroke-opacity:1; fill:none\" points=\"\n",
       "  338.375,1332.32 405.541,605.407 472.707,1384.24 539.873,86.1857 609.014,761.173 676.18,761.173 743.345,813.095 810.511,916.939 877.677,605.407 944.843,709.251 \n",
       "  1012.01,605.407 1081.15,709.251 1148.32,657.329 1215.48,865.017 1282.65,865.017 1349.81,813.095 1416.98,657.329 1484.14,761.173 1551.31,761.173 1620.45,553.485 \n",
       "  1687.62,761.173 1754.78,553.485 1821.95,968.861 1889.11,865.017 1956.28,605.407 2023.45,605.407 2092.59,657.329 2159.75,709.251 2226.92,813.095 2294.08,501.563 \n",
       "  \n",
       "  \"/>\n",
       "<path clip-path=\"url(#clip210)\" d=\"\n",
       "M2000.88 196.789 L2283.65 196.789 L2283.65 93.1086 L2000.88 93.1086  Z\n",
       "  \" fill=\"#ffffff\" fill-rule=\"evenodd\" fill-opacity=\"1\"/>\n",
       "<polyline clip-path=\"url(#clip210)\" style=\"stroke:#000000; stroke-linecap:butt; stroke-linejoin:round; stroke-width:4; stroke-opacity:1; fill:none\" points=\"\n",
       "  2000.88,196.789 2283.65,196.789 2283.65,93.1086 2000.88,93.1086 2000.88,196.789 \n",
       "  \"/>\n",
       "<polyline clip-path=\"url(#clip210)\" style=\"stroke:#009af9; stroke-linecap:butt; stroke-linejoin:round; stroke-width:4; stroke-opacity:1; fill:none\" points=\"\n",
       "  2023.92,144.949 2162.12,144.949 \n",
       "  \"/>\n",
       "<path clip-path=\"url(#clip210)\" d=\"M2199 164.636 Q2197.19 169.266 2195.48 170.678 Q2193.77 172.09 2190.9 172.09 L2187.49 172.09 L2187.49 168.525 L2189.99 168.525 Q2191.75 168.525 2192.73 167.692 Q2193.7 166.858 2194.88 163.756 L2195.64 161.812 L2185.16 136.303 L2189.67 136.303 L2197.77 156.581 L2205.87 136.303 L2210.39 136.303 L2199 164.636 Z\" fill=\"#000000\" fill-rule=\"evenodd\" fill-opacity=\"1\" /><path clip-path=\"url(#clip210)\" d=\"M2217.68 158.293 L2225.32 158.293 L2225.32 131.928 L2217.01 133.595 L2217.01 129.335 L2225.27 127.669 L2229.95 127.669 L2229.95 158.293 L2237.59 158.293 L2237.59 162.229 L2217.68 162.229 L2217.68 158.293 Z\" fill=\"#000000\" fill-rule=\"evenodd\" fill-opacity=\"1\" /></svg>\n"
      ]
     },
     "execution_count": 54,
     "metadata": {},
     "output_type": "execute_result"
    }
   ],
   "source": [
    "plot(curves.parameter_values, curves.measurements, ylabel=\"AUC\", xlabel=\"# of trees\")"
   ]
  },
  {
   "cell_type": "code",
   "execution_count": 55,
   "id": "3ebbc841",
   "metadata": {},
   "outputs": [
    {
     "name": "stderr",
     "output_type": "stream",
     "text": [
      "┌ Info: Training \u001b[34mMachine{ProbabilisticTunedModel{Grid,…},…} @654\u001b[39m.\n",
      "└ @ MLJBase C:\\Users\\kapil\\.julia\\packages\\MLJBase\\KWyqX\\src\\machines.jl:342\n",
      "┌ Info: Attempting to evaluate 30 models.\n",
      "└ @ MLJTuning C:\\Users\\kapil\\.julia\\packages\\MLJTuning\\Uj5Cx\\src\\tuned_models.jl:602\n",
      "┌ Warning: The scitype of `X`, in `machine(model, X, ...)` is incompatible with `model=\u001b[34mResampler{Holdout,…} @985\u001b[39m`:\n",
      "│ scitype(X) = Table{Union{AbstractVector{Continuous}, AbstractVector{Multiclass{3}}, AbstractVector{OrderedFactor{3}}, AbstractVector{OrderedFactor{2}}, AbstractVector{OrderedFactor{4}}}}\n",
      "│ input_scitype(model) = Table{var\"#s46\"} where var\"#s46\"<:Union{AbstractVector{var\"#s9\"} where var\"#s9\"<:Count, AbstractVector{var\"#s9\"} where var\"#s9\"<:OrderedFactor, AbstractVector{var\"#s9\"} where var\"#s9\"<:Continuous}.\n",
      "└ @ MLJBase C:\\Users\\kapil\\.julia\\packages\\MLJBase\\KWyqX\\src\\machines.jl:91\n",
      "┌ Warning: The scitype of `X`, in `machine(model, X, ...)` is incompatible with `model=\u001b[34mProbabilisticEnsembleModel{DecisionTreeClassifier} @881\u001b[39m`:\n",
      "│ scitype(X) = Table{Union{AbstractVector{Continuous}, AbstractVector{Multiclass{3}}, AbstractVector{OrderedFactor{3}}, AbstractVector{OrderedFactor{2}}, AbstractVector{OrderedFactor{4}}}}\n",
      "│ input_scitype(model) = Table{var\"#s46\"} where var\"#s46\"<:Union{AbstractVector{var\"#s9\"} where var\"#s9\"<:Count, AbstractVector{var\"#s9\"} where var\"#s9\"<:OrderedFactor, AbstractVector{var\"#s9\"} where var\"#s9\"<:Continuous}.\n",
      "└ @ MLJBase C:\\Users\\kapil\\.julia\\packages\\MLJBase\\KWyqX\\src\\machines.jl:91\n",
      "\u001b[33mEvaluating over 30 metamodels: 100%[=========================] Time: 0:00:02\u001b[39m\n",
      "┌ Warning: The scitype of `X`, in `machine(model, X, ...)` is incompatible with `model=\u001b[34mProbabilisticEnsembleModel{DecisionTreeClassifier} @838\u001b[39m`:\n",
      "│ scitype(X) = Table{Union{AbstractVector{Continuous}, AbstractVector{Multiclass{3}}, AbstractVector{OrderedFactor{3}}, AbstractVector{OrderedFactor{2}}, AbstractVector{OrderedFactor{4}}}}\n",
      "│ input_scitype(model) = Table{var\"#s46\"} where var\"#s46\"<:Union{AbstractVector{var\"#s9\"} where var\"#s9\"<:Count, AbstractVector{var\"#s9\"} where var\"#s9\"<:OrderedFactor, AbstractVector{var\"#s9\"} where var\"#s9\"<:Continuous}.\n",
      "└ @ MLJBase C:\\Users\\kapil\\.julia\\packages\\MLJBase\\KWyqX\\src\\machines.jl:91\n"
     ]
    },
    {
     "data": {
      "image/svg+xml": [
       "<?xml version=\"1.0\" encoding=\"utf-8\"?>\n",
       "<svg xmlns=\"http://www.w3.org/2000/svg\" xmlns:xlink=\"http://www.w3.org/1999/xlink\" width=\"600\" height=\"400\" viewBox=\"0 0 2400 1600\">\n",
       "<defs>\n",
       "  <clipPath id=\"clip250\">\n",
       "    <rect x=\"0\" y=\"0\" width=\"2400\" height=\"1600\"/>\n",
       "  </clipPath>\n",
       "</defs>\n",
       "<path clip-path=\"url(#clip250)\" d=\"\n",
       "M0 1600 L2400 1600 L2400 0 L0 0  Z\n",
       "  \" fill=\"#ffffff\" fill-rule=\"evenodd\" fill-opacity=\"1\"/>\n",
       "<defs>\n",
       "  <clipPath id=\"clip251\">\n",
       "    <rect x=\"480\" y=\"0\" width=\"1681\" height=\"1600\"/>\n",
       "  </clipPath>\n",
       "</defs>\n",
       "<path clip-path=\"url(#clip250)\" d=\"\n",
       "M249.542 1423.18 L2352.76 1423.18 L2352.76 47.2441 L249.542 47.2441  Z\n",
       "  \" fill=\"#ffffff\" fill-rule=\"evenodd\" fill-opacity=\"1\"/>\n",
       "<defs>\n",
       "  <clipPath id=\"clip252\">\n",
       "    <rect x=\"249\" y=\"47\" width=\"2104\" height=\"1377\"/>\n",
       "  </clipPath>\n",
       "</defs>\n",
       "<polyline clip-path=\"url(#clip252)\" style=\"stroke:#000000; stroke-linecap:butt; stroke-linejoin:round; stroke-width:2; stroke-opacity:0.1; fill:none\" points=\"\n",
       "  529.53,1423.18 529.53,47.2441 \n",
       "  \"/>\n",
       "<polyline clip-path=\"url(#clip252)\" style=\"stroke:#000000; stroke-linecap:butt; stroke-linejoin:round; stroke-width:2; stroke-opacity:0.1; fill:none\" points=\"\n",
       "  970.455,1423.18 970.455,47.2441 \n",
       "  \"/>\n",
       "<polyline clip-path=\"url(#clip252)\" style=\"stroke:#000000; stroke-linecap:butt; stroke-linejoin:round; stroke-width:2; stroke-opacity:0.1; fill:none\" points=\"\n",
       "  1411.38,1423.18 1411.38,47.2441 \n",
       "  \"/>\n",
       "<polyline clip-path=\"url(#clip252)\" style=\"stroke:#000000; stroke-linecap:butt; stroke-linejoin:round; stroke-width:2; stroke-opacity:0.1; fill:none\" points=\"\n",
       "  1852.31,1423.18 1852.31,47.2441 \n",
       "  \"/>\n",
       "<polyline clip-path=\"url(#clip252)\" style=\"stroke:#000000; stroke-linecap:butt; stroke-linejoin:round; stroke-width:2; stroke-opacity:0.1; fill:none\" points=\"\n",
       "  2293.23,1423.18 2293.23,47.2441 \n",
       "  \"/>\n",
       "<polyline clip-path=\"url(#clip250)\" style=\"stroke:#000000; stroke-linecap:butt; stroke-linejoin:round; stroke-width:4; stroke-opacity:1; fill:none\" points=\"\n",
       "  249.542,1423.18 2352.76,1423.18 \n",
       "  \"/>\n",
       "<polyline clip-path=\"url(#clip250)\" style=\"stroke:#000000; stroke-linecap:butt; stroke-linejoin:round; stroke-width:4; stroke-opacity:1; fill:none\" points=\"\n",
       "  529.53,1423.18 529.53,1404.28 \n",
       "  \"/>\n",
       "<polyline clip-path=\"url(#clip250)\" style=\"stroke:#000000; stroke-linecap:butt; stroke-linejoin:round; stroke-width:4; stroke-opacity:1; fill:none\" points=\"\n",
       "  970.455,1423.18 970.455,1404.28 \n",
       "  \"/>\n",
       "<polyline clip-path=\"url(#clip250)\" style=\"stroke:#000000; stroke-linecap:butt; stroke-linejoin:round; stroke-width:4; stroke-opacity:1; fill:none\" points=\"\n",
       "  1411.38,1423.18 1411.38,1404.28 \n",
       "  \"/>\n",
       "<polyline clip-path=\"url(#clip250)\" style=\"stroke:#000000; stroke-linecap:butt; stroke-linejoin:round; stroke-width:4; stroke-opacity:1; fill:none\" points=\"\n",
       "  1852.31,1423.18 1852.31,1404.28 \n",
       "  \"/>\n",
       "<polyline clip-path=\"url(#clip250)\" style=\"stroke:#000000; stroke-linecap:butt; stroke-linejoin:round; stroke-width:4; stroke-opacity:1; fill:none\" points=\"\n",
       "  2293.23,1423.18 2293.23,1404.28 \n",
       "  \"/>\n",
       "<path clip-path=\"url(#clip250)\" d=\"M507.713 1454.1 Q504.102 1454.1 502.273 1457.66 Q500.467 1461.2 500.467 1468.33 Q500.467 1475.44 502.273 1479.01 Q504.102 1482.55 507.713 1482.55 Q511.347 1482.55 513.152 1479.01 Q514.981 1475.44 514.981 1468.33 Q514.981 1461.2 513.152 1457.66 Q511.347 1454.1 507.713 1454.1 M507.713 1450.39 Q513.523 1450.39 516.578 1455 Q519.657 1459.58 519.657 1468.33 Q519.657 1477.06 516.578 1481.67 Q513.523 1486.25 507.713 1486.25 Q501.902 1486.25 498.824 1481.67 Q495.768 1477.06 495.768 1468.33 Q495.768 1459.58 498.824 1455 Q501.902 1450.39 507.713 1450.39 Z\" fill=\"#000000\" fill-rule=\"evenodd\" fill-opacity=\"1\" /><path clip-path=\"url(#clip250)\" d=\"M527.875 1479.7 L532.759 1479.7 L532.759 1485.58 L527.875 1485.58 L527.875 1479.7 Z\" fill=\"#000000\" fill-rule=\"evenodd\" fill-opacity=\"1\" /><path clip-path=\"url(#clip250)\" d=\"M546.972 1481.64 L563.291 1481.64 L563.291 1485.58 L541.347 1485.58 L541.347 1481.64 Q544.009 1478.89 548.592 1474.26 Q553.198 1469.61 554.379 1468.27 Q556.624 1465.74 557.504 1464.01 Q558.407 1462.25 558.407 1460.56 Q558.407 1457.8 556.462 1456.07 Q554.541 1454.33 551.439 1454.33 Q549.24 1454.33 546.786 1455.09 Q544.356 1455.86 541.578 1457.41 L541.578 1452.69 Q544.402 1451.55 546.856 1450.97 Q549.31 1450.39 551.347 1450.39 Q556.717 1450.39 559.911 1453.08 Q563.106 1455.77 563.106 1460.26 Q563.106 1462.39 562.296 1464.31 Q561.509 1466.2 559.402 1468.8 Q558.823 1469.47 555.722 1472.69 Q552.62 1475.88 546.972 1481.64 Z\" fill=\"#000000\" fill-rule=\"evenodd\" fill-opacity=\"1\" /><path clip-path=\"url(#clip250)\" d=\"M947.596 1454.1 Q943.985 1454.1 942.157 1457.66 Q940.351 1461.2 940.351 1468.33 Q940.351 1475.44 942.157 1479.01 Q943.985 1482.55 947.596 1482.55 Q951.231 1482.55 953.036 1479.01 Q954.865 1475.44 954.865 1468.33 Q954.865 1461.2 953.036 1457.66 Q951.231 1454.1 947.596 1454.1 M947.596 1450.39 Q953.406 1450.39 956.462 1455 Q959.541 1459.58 959.541 1468.33 Q959.541 1477.06 956.462 1481.67 Q953.406 1486.25 947.596 1486.25 Q941.786 1486.25 938.707 1481.67 Q935.652 1477.06 935.652 1468.33 Q935.652 1459.58 938.707 1455 Q941.786 1450.39 947.596 1450.39 Z\" fill=\"#000000\" fill-rule=\"evenodd\" fill-opacity=\"1\" /><path clip-path=\"url(#clip250)\" d=\"M967.758 1479.7 L972.642 1479.7 L972.642 1485.58 L967.758 1485.58 L967.758 1479.7 Z\" fill=\"#000000\" fill-rule=\"evenodd\" fill-opacity=\"1\" /><path clip-path=\"url(#clip250)\" d=\"M995.675 1455.09 L983.869 1473.54 L995.675 1473.54 L995.675 1455.09 M994.448 1451.02 L1000.33 1451.02 L1000.33 1473.54 L1005.26 1473.54 L1005.26 1477.43 L1000.33 1477.43 L1000.33 1485.58 L995.675 1485.58 L995.675 1477.43 L980.073 1477.43 L980.073 1472.92 L994.448 1451.02 Z\" fill=\"#000000\" fill-rule=\"evenodd\" fill-opacity=\"1\" /><path clip-path=\"url(#clip250)\" d=\"M1388.68 1454.1 Q1385.07 1454.1 1383.24 1457.66 Q1381.44 1461.2 1381.44 1468.33 Q1381.44 1475.44 1383.24 1479.01 Q1385.07 1482.55 1388.68 1482.55 Q1392.32 1482.55 1394.12 1479.01 Q1395.95 1475.44 1395.95 1468.33 Q1395.95 1461.2 1394.12 1457.66 Q1392.32 1454.1 1388.68 1454.1 M1388.68 1450.39 Q1394.49 1450.39 1397.55 1455 Q1400.63 1459.58 1400.63 1468.33 Q1400.63 1477.06 1397.55 1481.67 Q1394.49 1486.25 1388.68 1486.25 Q1382.87 1486.25 1379.79 1481.67 Q1376.74 1477.06 1376.74 1468.33 Q1376.74 1459.58 1379.79 1455 Q1382.87 1450.39 1388.68 1450.39 Z\" fill=\"#000000\" fill-rule=\"evenodd\" fill-opacity=\"1\" /><path clip-path=\"url(#clip250)\" d=\"M1408.85 1479.7 L1413.73 1479.7 L1413.73 1485.58 L1408.85 1485.58 L1408.85 1479.7 Z\" fill=\"#000000\" fill-rule=\"evenodd\" fill-opacity=\"1\" /><path clip-path=\"url(#clip250)\" d=\"M1434.49 1466.44 Q1431.35 1466.44 1429.49 1468.59 Q1427.66 1470.74 1427.66 1474.49 Q1427.66 1478.22 1429.49 1480.39 Q1431.35 1482.55 1434.49 1482.55 Q1437.64 1482.55 1439.47 1480.39 Q1441.32 1478.22 1441.32 1474.49 Q1441.32 1470.74 1439.47 1468.59 Q1437.64 1466.44 1434.49 1466.44 M1443.78 1451.78 L1443.78 1456.04 Q1442.02 1455.21 1440.21 1454.77 Q1438.43 1454.33 1436.67 1454.33 Q1432.04 1454.33 1429.59 1457.45 Q1427.16 1460.58 1426.81 1466.9 Q1428.17 1464.89 1430.23 1463.82 Q1432.29 1462.73 1434.77 1462.73 Q1439.98 1462.73 1442.99 1465.9 Q1446.02 1469.05 1446.02 1474.49 Q1446.02 1479.82 1442.87 1483.03 Q1439.73 1486.25 1434.49 1486.25 Q1428.5 1486.25 1425.33 1481.67 Q1422.16 1477.06 1422.16 1468.33 Q1422.16 1460.14 1426.04 1455.28 Q1429.93 1450.39 1436.48 1450.39 Q1438.24 1450.39 1440.03 1450.74 Q1441.83 1451.09 1443.78 1451.78 Z\" fill=\"#000000\" fill-rule=\"evenodd\" fill-opacity=\"1\" /><path clip-path=\"url(#clip250)\" d=\"M1829.74 1454.1 Q1826.13 1454.1 1824.3 1457.66 Q1822.49 1461.2 1822.49 1468.33 Q1822.49 1475.44 1824.3 1479.01 Q1826.13 1482.55 1829.74 1482.55 Q1833.37 1482.55 1835.18 1479.01 Q1837 1475.44 1837 1468.33 Q1837 1461.2 1835.18 1457.66 Q1833.37 1454.1 1829.74 1454.1 M1829.74 1450.39 Q1835.55 1450.39 1838.6 1455 Q1841.68 1459.58 1841.68 1468.33 Q1841.68 1477.06 1838.6 1481.67 Q1835.55 1486.25 1829.74 1486.25 Q1823.93 1486.25 1820.85 1481.67 Q1817.79 1477.06 1817.79 1468.33 Q1817.79 1459.58 1820.85 1455 Q1823.93 1450.39 1829.74 1450.39 Z\" fill=\"#000000\" fill-rule=\"evenodd\" fill-opacity=\"1\" /><path clip-path=\"url(#clip250)\" d=\"M1849.9 1479.7 L1854.78 1479.7 L1854.78 1485.58 L1849.9 1485.58 L1849.9 1479.7 Z\" fill=\"#000000\" fill-rule=\"evenodd\" fill-opacity=\"1\" /><path clip-path=\"url(#clip250)\" d=\"M1874.97 1469.17 Q1871.63 1469.17 1869.71 1470.95 Q1867.81 1472.73 1867.81 1475.86 Q1867.81 1478.98 1869.71 1480.77 Q1871.63 1482.55 1874.97 1482.55 Q1878.3 1482.55 1880.22 1480.77 Q1882.14 1478.96 1882.14 1475.86 Q1882.14 1472.73 1880.22 1470.95 Q1878.32 1469.17 1874.97 1469.17 M1870.29 1467.18 Q1867.28 1466.44 1865.59 1464.38 Q1863.93 1462.32 1863.93 1459.35 Q1863.93 1455.21 1866.87 1452.8 Q1869.83 1450.39 1874.97 1450.39 Q1880.13 1450.39 1883.07 1452.8 Q1886.01 1455.21 1886.01 1459.35 Q1886.01 1462.32 1884.32 1464.38 Q1882.65 1466.44 1879.67 1467.18 Q1883.05 1467.96 1884.92 1470.26 Q1886.82 1472.55 1886.82 1475.86 Q1886.82 1480.88 1883.74 1483.57 Q1880.69 1486.25 1874.97 1486.25 Q1869.25 1486.25 1866.17 1483.57 Q1863.12 1480.88 1863.12 1475.86 Q1863.12 1472.55 1865.01 1470.26 Q1866.91 1467.96 1870.29 1467.18 M1868.58 1459.79 Q1868.58 1462.48 1870.25 1463.98 Q1871.94 1465.49 1874.97 1465.49 Q1877.98 1465.49 1879.67 1463.98 Q1881.38 1462.48 1881.38 1459.79 Q1881.38 1457.11 1879.67 1455.6 Q1877.98 1454.1 1874.97 1454.1 Q1871.94 1454.1 1870.25 1455.6 Q1868.58 1457.11 1868.58 1459.79 Z\" fill=\"#000000\" fill-rule=\"evenodd\" fill-opacity=\"1\" /><path clip-path=\"url(#clip250)\" d=\"M2260.38 1481.64 L2268.02 1481.64 L2268.02 1455.28 L2259.71 1456.95 L2259.71 1452.69 L2267.98 1451.02 L2272.65 1451.02 L2272.65 1481.64 L2280.29 1481.64 L2280.29 1485.58 L2260.38 1485.58 L2260.38 1481.64 Z\" fill=\"#000000\" fill-rule=\"evenodd\" fill-opacity=\"1\" /><path clip-path=\"url(#clip250)\" d=\"M2289.74 1479.7 L2294.62 1479.7 L2294.62 1485.58 L2289.74 1485.58 L2289.74 1479.7 Z\" fill=\"#000000\" fill-rule=\"evenodd\" fill-opacity=\"1\" /><path clip-path=\"url(#clip250)\" d=\"M2314.8 1454.1 Q2311.19 1454.1 2309.37 1457.66 Q2307.56 1461.2 2307.56 1468.33 Q2307.56 1475.44 2309.37 1479.01 Q2311.19 1482.55 2314.8 1482.55 Q2318.44 1482.55 2320.24 1479.01 Q2322.07 1475.44 2322.07 1468.33 Q2322.07 1461.2 2320.24 1457.66 Q2318.44 1454.1 2314.8 1454.1 M2314.8 1450.39 Q2320.62 1450.39 2323.67 1455 Q2326.75 1459.58 2326.75 1468.33 Q2326.75 1477.06 2323.67 1481.67 Q2320.62 1486.25 2314.8 1486.25 Q2308.99 1486.25 2305.92 1481.67 Q2302.86 1477.06 2302.86 1468.33 Q2302.86 1459.58 2305.92 1455 Q2308.99 1450.39 2314.8 1450.39 Z\" fill=\"#000000\" fill-rule=\"evenodd\" fill-opacity=\"1\" /><path clip-path=\"url(#clip250)\" d=\"M1171.56 1539.37 L1162.3 1539.37 L1159.62 1550 L1168.95 1550 L1171.56 1539.37 M1166.78 1521.26 L1163.47 1534.46 L1172.77 1534.46 L1176.11 1521.26 L1181.2 1521.26 L1177.92 1534.46 L1187.86 1534.46 L1187.86 1539.37 L1176.68 1539.37 L1174.07 1550 L1184.2 1550 L1184.2 1554.87 L1172.83 1554.87 L1169.52 1568.04 L1164.43 1568.04 L1167.71 1554.87 L1158.38 1554.87 L1155.1 1568.04 L1149.98 1568.04 L1153.29 1554.87 L1143.26 1554.87 L1143.26 1550 L1154.47 1550 L1157.14 1539.37 L1146.89 1539.37 L1146.89 1534.46 L1158.38 1534.46 L1161.63 1521.26 L1166.78 1521.26 Z\" fill=\"#000000\" fill-rule=\"evenodd\" fill-opacity=\"1\" /><path clip-path=\"url(#clip250)\" d=\"M1233.53 1536.5 Q1228.82 1536.5 1226.08 1540.19 Q1223.34 1543.85 1223.34 1550.25 Q1223.34 1556.65 1226.05 1560.34 Q1228.79 1564 1233.53 1564 Q1238.21 1564 1240.95 1560.31 Q1243.68 1556.62 1243.68 1550.25 Q1243.68 1543.92 1240.95 1540.23 Q1238.21 1536.5 1233.53 1536.5 M1233.53 1531.54 Q1241.17 1531.54 1245.53 1536.5 Q1249.89 1541.47 1249.89 1550.25 Q1249.89 1559 1245.53 1564 Q1241.17 1568.97 1233.53 1568.97 Q1225.86 1568.97 1221.5 1564 Q1217.17 1559 1217.17 1550.25 Q1217.17 1541.47 1221.5 1536.5 Q1225.86 1531.54 1233.53 1531.54 Z\" fill=\"#000000\" fill-rule=\"evenodd\" fill-opacity=\"1\" /><path clip-path=\"url(#clip250)\" d=\"M1277.64 1518.52 L1277.64 1523.39 L1272.04 1523.39 Q1268.89 1523.39 1267.65 1524.66 Q1266.44 1525.93 1266.44 1529.24 L1266.44 1532.4 L1276.08 1532.4 L1276.08 1536.95 L1266.44 1536.95 L1266.44 1568.04 L1260.55 1568.04 L1260.55 1536.95 L1254.95 1536.95 L1254.95 1532.4 L1260.55 1532.4 L1260.55 1529.91 Q1260.55 1523.96 1263.32 1521.26 Q1266.09 1518.52 1272.11 1518.52 L1277.64 1518.52 Z\" fill=\"#000000\" fill-rule=\"evenodd\" fill-opacity=\"1\" /><path clip-path=\"url(#clip250)\" d=\"M1309.06 1522.27 L1309.06 1532.4 L1321.12 1532.4 L1321.12 1536.95 L1309.06 1536.95 L1309.06 1556.3 Q1309.06 1560.66 1310.24 1561.9 Q1311.45 1563.14 1315.11 1563.14 L1321.12 1563.14 L1321.12 1568.04 L1315.11 1568.04 Q1308.33 1568.04 1305.75 1565.53 Q1303.17 1562.98 1303.17 1556.3 L1303.17 1536.95 L1298.87 1536.95 L1298.87 1532.4 L1303.17 1532.4 L1303.17 1522.27 L1309.06 1522.27 Z\" fill=\"#000000\" fill-rule=\"evenodd\" fill-opacity=\"1\" /><path clip-path=\"url(#clip250)\" d=\"M1349.48 1537.87 Q1348.49 1537.3 1347.32 1537.04 Q1346.17 1536.76 1344.77 1536.76 Q1339.8 1536.76 1337.13 1540 Q1334.49 1543.22 1334.49 1549.27 L1334.49 1568.04 L1328.6 1568.04 L1328.6 1532.4 L1334.49 1532.4 L1334.49 1537.93 Q1336.34 1534.69 1339.3 1533.13 Q1342.26 1531.54 1346.49 1531.54 Q1347.09 1531.54 1347.83 1531.63 Q1348.56 1531.7 1349.45 1531.85 L1349.48 1537.87 Z\" fill=\"#000000\" fill-rule=\"evenodd\" fill-opacity=\"1\" /><path clip-path=\"url(#clip250)\" d=\"M1384.68 1548.76 L1384.68 1551.62 L1357.76 1551.62 Q1358.14 1557.67 1361.38 1560.85 Q1364.66 1564 1370.49 1564 Q1373.86 1564 1377.01 1563.17 Q1380.2 1562.35 1383.31 1560.69 L1383.31 1566.23 Q1380.16 1567.57 1376.85 1568.27 Q1373.54 1568.97 1370.14 1568.97 Q1361.61 1568.97 1356.61 1564 Q1351.64 1559.04 1351.64 1550.57 Q1351.64 1541.82 1356.36 1536.69 Q1361.1 1531.54 1369.12 1531.54 Q1376.31 1531.54 1380.48 1536.18 Q1384.68 1540.8 1384.68 1548.76 M1378.83 1547.04 Q1378.76 1542.23 1376.12 1539.37 Q1373.51 1536.5 1369.18 1536.5 Q1364.28 1536.5 1361.32 1539.27 Q1358.39 1542.04 1357.95 1547.07 L1378.83 1547.04 Z\" fill=\"#000000\" fill-rule=\"evenodd\" fill-opacity=\"1\" /><path clip-path=\"url(#clip250)\" d=\"M1424.79 1548.76 L1424.79 1551.62 L1397.86 1551.62 Q1398.24 1557.67 1401.49 1560.85 Q1404.77 1564 1410.59 1564 Q1413.97 1564 1417.12 1563.17 Q1420.3 1562.35 1423.42 1560.69 L1423.42 1566.23 Q1420.27 1567.57 1416.96 1568.27 Q1413.65 1568.97 1410.24 1568.97 Q1401.71 1568.97 1396.71 1564 Q1391.75 1559.04 1391.75 1550.57 Q1391.75 1541.82 1396.46 1536.69 Q1401.2 1531.54 1409.22 1531.54 Q1416.42 1531.54 1420.59 1536.18 Q1424.79 1540.8 1424.79 1548.76 M1418.93 1547.04 Q1418.87 1542.23 1416.23 1539.37 Q1413.62 1536.5 1409.29 1536.5 Q1404.38 1536.5 1401.42 1539.27 Q1398.5 1542.04 1398.05 1547.07 L1418.93 1547.04 Z\" fill=\"#000000\" fill-rule=\"evenodd\" fill-opacity=\"1\" /><path clip-path=\"url(#clip250)\" d=\"M1457.12 1533.45 L1457.12 1538.98 Q1454.64 1537.71 1451.97 1537.07 Q1449.29 1536.44 1446.43 1536.44 Q1442.07 1536.44 1439.87 1537.77 Q1437.71 1539.11 1437.71 1541.79 Q1437.71 1543.82 1439.27 1545 Q1440.83 1546.15 1445.54 1547.2 L1447.54 1547.64 Q1453.78 1548.98 1456.39 1551.43 Q1459.03 1553.85 1459.03 1558.21 Q1459.03 1563.17 1455.09 1566.07 Q1451.17 1568.97 1444.3 1568.97 Q1441.43 1568.97 1438.31 1568.39 Q1435.23 1567.85 1431.79 1566.74 L1431.79 1560.69 Q1435.04 1562.38 1438.19 1563.24 Q1441.34 1564.07 1444.43 1564.07 Q1448.56 1564.07 1450.79 1562.66 Q1453.02 1561.23 1453.02 1558.65 Q1453.02 1556.27 1451.4 1554.99 Q1449.8 1553.72 1444.36 1552.54 L1442.32 1552.07 Q1436.88 1550.92 1434.46 1548.56 Q1432.04 1546.18 1432.04 1542.04 Q1432.04 1537.01 1435.61 1534.27 Q1439.17 1531.54 1445.73 1531.54 Q1448.98 1531.54 1451.84 1532.01 Q1454.71 1532.49 1457.12 1533.45 Z\" fill=\"#000000\" fill-rule=\"evenodd\" fill-opacity=\"1\" /><polyline clip-path=\"url(#clip252)\" style=\"stroke:#000000; stroke-linecap:butt; stroke-linejoin:round; stroke-width:2; stroke-opacity:0.1; fill:none\" points=\"\n",
       "  249.542,1399.81 2352.76,1399.81 \n",
       "  \"/>\n",
       "<polyline clip-path=\"url(#clip252)\" style=\"stroke:#000000; stroke-linecap:butt; stroke-linejoin:round; stroke-width:2; stroke-opacity:0.1; fill:none\" points=\"\n",
       "  249.542,1084.82 2352.76,1084.82 \n",
       "  \"/>\n",
       "<polyline clip-path=\"url(#clip252)\" style=\"stroke:#000000; stroke-linecap:butt; stroke-linejoin:round; stroke-width:2; stroke-opacity:0.1; fill:none\" points=\"\n",
       "  249.542,769.827 2352.76,769.827 \n",
       "  \"/>\n",
       "<polyline clip-path=\"url(#clip252)\" style=\"stroke:#000000; stroke-linecap:butt; stroke-linejoin:round; stroke-width:2; stroke-opacity:0.1; fill:none\" points=\"\n",
       "  249.542,454.833 2352.76,454.833 \n",
       "  \"/>\n",
       "<polyline clip-path=\"url(#clip252)\" style=\"stroke:#000000; stroke-linecap:butt; stroke-linejoin:round; stroke-width:2; stroke-opacity:0.1; fill:none\" points=\"\n",
       "  249.542,139.839 2352.76,139.839 \n",
       "  \"/>\n",
       "<polyline clip-path=\"url(#clip250)\" style=\"stroke:#000000; stroke-linecap:butt; stroke-linejoin:round; stroke-width:4; stroke-opacity:1; fill:none\" points=\"\n",
       "  249.542,1423.18 249.542,47.2441 \n",
       "  \"/>\n",
       "<polyline clip-path=\"url(#clip250)\" style=\"stroke:#000000; stroke-linecap:butt; stroke-linejoin:round; stroke-width:4; stroke-opacity:1; fill:none\" points=\"\n",
       "  249.542,1399.81 268.44,1399.81 \n",
       "  \"/>\n",
       "<polyline clip-path=\"url(#clip250)\" style=\"stroke:#000000; stroke-linecap:butt; stroke-linejoin:round; stroke-width:4; stroke-opacity:1; fill:none\" points=\"\n",
       "  249.542,1084.82 268.44,1084.82 \n",
       "  \"/>\n",
       "<polyline clip-path=\"url(#clip250)\" style=\"stroke:#000000; stroke-linecap:butt; stroke-linejoin:round; stroke-width:4; stroke-opacity:1; fill:none\" points=\"\n",
       "  249.542,769.827 268.44,769.827 \n",
       "  \"/>\n",
       "<polyline clip-path=\"url(#clip250)\" style=\"stroke:#000000; stroke-linecap:butt; stroke-linejoin:round; stroke-width:4; stroke-opacity:1; fill:none\" points=\"\n",
       "  249.542,454.833 268.44,454.833 \n",
       "  \"/>\n",
       "<polyline clip-path=\"url(#clip250)\" style=\"stroke:#000000; stroke-linecap:butt; stroke-linejoin:round; stroke-width:4; stroke-opacity:1; fill:none\" points=\"\n",
       "  249.542,139.839 268.44,139.839 \n",
       "  \"/>\n",
       "<path clip-path=\"url(#clip250)\" d=\"M126.297 1385.61 Q122.686 1385.61 120.857 1389.18 Q119.052 1392.72 119.052 1399.85 Q119.052 1406.96 120.857 1410.52 Q122.686 1414.06 126.297 1414.06 Q129.931 1414.06 131.737 1410.52 Q133.566 1406.96 133.566 1399.85 Q133.566 1392.72 131.737 1389.18 Q129.931 1385.61 126.297 1385.61 M126.297 1381.91 Q132.107 1381.91 135.163 1386.52 Q138.242 1391.1 138.242 1399.85 Q138.242 1408.58 135.163 1413.18 Q132.107 1417.77 126.297 1417.77 Q120.487 1417.77 117.408 1413.18 Q114.353 1408.58 114.353 1399.85 Q114.353 1391.1 117.408 1386.52 Q120.487 1381.91 126.297 1381.91 Z\" fill=\"#000000\" fill-rule=\"evenodd\" fill-opacity=\"1\" /><path clip-path=\"url(#clip250)\" d=\"M146.459 1411.22 L151.343 1411.22 L151.343 1417.09 L146.459 1417.09 L146.459 1411.22 Z\" fill=\"#000000\" fill-rule=\"evenodd\" fill-opacity=\"1\" /><path clip-path=\"url(#clip250)\" d=\"M171.528 1400.68 Q168.195 1400.68 166.274 1402.47 Q164.376 1404.25 164.376 1407.37 Q164.376 1410.5 166.274 1412.28 Q168.195 1414.06 171.528 1414.06 Q174.862 1414.06 176.783 1412.28 Q178.704 1410.47 178.704 1407.37 Q178.704 1404.25 176.783 1402.47 Q174.885 1400.68 171.528 1400.68 M166.852 1398.69 Q163.843 1397.95 162.153 1395.89 Q160.487 1393.83 160.487 1390.87 Q160.487 1386.72 163.427 1384.32 Q166.39 1381.91 171.528 1381.91 Q176.69 1381.91 179.63 1384.32 Q182.57 1386.72 182.57 1390.87 Q182.57 1393.83 180.88 1395.89 Q179.214 1397.95 176.227 1398.69 Q179.607 1399.48 181.482 1401.77 Q183.38 1404.06 183.38 1407.37 Q183.38 1412.4 180.301 1415.08 Q177.246 1417.77 171.528 1417.77 Q165.811 1417.77 162.732 1415.08 Q159.677 1412.4 159.677 1407.37 Q159.677 1404.06 161.575 1401.77 Q163.473 1399.48 166.852 1398.69 M165.14 1391.31 Q165.14 1393.99 166.806 1395.5 Q168.496 1397 171.528 1397 Q174.538 1397 176.227 1395.5 Q177.94 1393.99 177.94 1391.31 Q177.94 1388.62 176.227 1387.12 Q174.538 1385.61 171.528 1385.61 Q168.496 1385.61 166.806 1387.12 Q165.14 1388.62 165.14 1391.31 Z\" fill=\"#000000\" fill-rule=\"evenodd\" fill-opacity=\"1\" /><path clip-path=\"url(#clip250)\" d=\"M201.69 1400.68 Q198.357 1400.68 196.436 1402.47 Q194.538 1404.25 194.538 1407.37 Q194.538 1410.5 196.436 1412.28 Q198.357 1414.06 201.69 1414.06 Q205.024 1414.06 206.945 1412.28 Q208.866 1410.47 208.866 1407.37 Q208.866 1404.25 206.945 1402.47 Q205.047 1400.68 201.69 1400.68 M197.014 1398.69 Q194.005 1397.95 192.315 1395.89 Q190.649 1393.83 190.649 1390.87 Q190.649 1386.72 193.588 1384.32 Q196.551 1381.91 201.69 1381.91 Q206.852 1381.91 209.792 1384.32 Q212.732 1386.72 212.732 1390.87 Q212.732 1393.83 211.042 1395.89 Q209.375 1397.95 206.389 1398.69 Q209.769 1399.48 211.644 1401.77 Q213.542 1404.06 213.542 1407.37 Q213.542 1412.4 210.463 1415.08 Q207.408 1417.77 201.69 1417.77 Q195.973 1417.77 192.894 1415.08 Q189.838 1412.4 189.838 1407.37 Q189.838 1404.06 191.737 1401.77 Q193.635 1399.48 197.014 1398.69 M195.301 1391.31 Q195.301 1393.99 196.968 1395.5 Q198.658 1397 201.69 1397 Q204.699 1397 206.389 1395.5 Q208.102 1393.99 208.102 1391.31 Q208.102 1388.62 206.389 1387.12 Q204.699 1385.61 201.69 1385.61 Q198.658 1385.61 196.968 1387.12 Q195.301 1388.62 195.301 1391.31 Z\" fill=\"#000000\" fill-rule=\"evenodd\" fill-opacity=\"1\" /><path clip-path=\"url(#clip250)\" d=\"M126.39 1070.62 Q122.779 1070.62 120.95 1074.18 Q119.144 1077.73 119.144 1084.86 Q119.144 1091.96 120.95 1095.53 Q122.779 1099.07 126.39 1099.07 Q130.024 1099.07 131.83 1095.53 Q133.658 1091.96 133.658 1084.86 Q133.658 1077.73 131.83 1074.18 Q130.024 1070.62 126.39 1070.62 M126.39 1066.92 Q132.2 1066.92 135.255 1071.52 Q138.334 1076.11 138.334 1084.86 Q138.334 1093.58 135.255 1098.19 Q132.2 1102.77 126.39 1102.77 Q120.58 1102.77 117.501 1098.19 Q114.445 1093.58 114.445 1084.86 Q114.445 1076.11 117.501 1071.52 Q120.58 1066.92 126.39 1066.92 Z\" fill=\"#000000\" fill-rule=\"evenodd\" fill-opacity=\"1\" /><path clip-path=\"url(#clip250)\" d=\"M146.552 1096.22 L151.436 1096.22 L151.436 1102.1 L146.552 1102.1 L146.552 1096.22 Z\" fill=\"#000000\" fill-rule=\"evenodd\" fill-opacity=\"1\" /><path clip-path=\"url(#clip250)\" d=\"M171.621 1085.69 Q168.288 1085.69 166.366 1087.47 Q164.468 1089.25 164.468 1092.38 Q164.468 1095.5 166.366 1097.29 Q168.288 1099.07 171.621 1099.07 Q174.954 1099.07 176.876 1097.29 Q178.797 1095.48 178.797 1092.38 Q178.797 1089.25 176.876 1087.47 Q174.977 1085.69 171.621 1085.69 M166.945 1083.7 Q163.936 1082.96 162.246 1080.9 Q160.579 1078.84 160.579 1075.87 Q160.579 1071.73 163.519 1069.32 Q166.482 1066.92 171.621 1066.92 Q176.783 1066.92 179.723 1069.32 Q182.663 1071.73 182.663 1075.87 Q182.663 1078.84 180.973 1080.9 Q179.306 1082.96 176.32 1083.7 Q179.7 1084.49 181.575 1086.78 Q183.473 1089.07 183.473 1092.38 Q183.473 1097.4 180.394 1100.09 Q177.339 1102.77 171.621 1102.77 Q165.903 1102.77 162.825 1100.09 Q159.769 1097.4 159.769 1092.38 Q159.769 1089.07 161.667 1086.78 Q163.565 1084.49 166.945 1083.7 M165.232 1076.31 Q165.232 1079 166.899 1080.5 Q168.589 1082.01 171.621 1082.01 Q174.63 1082.01 176.32 1080.5 Q178.033 1079 178.033 1076.31 Q178.033 1073.63 176.32 1072.12 Q174.63 1070.62 171.621 1070.62 Q168.589 1070.62 166.899 1072.12 Q165.232 1073.63 165.232 1076.31 Z\" fill=\"#000000\" fill-rule=\"evenodd\" fill-opacity=\"1\" /><path clip-path=\"url(#clip250)\" d=\"M191.922 1101.38 L191.922 1097.12 Q193.681 1097.96 195.487 1098.4 Q197.292 1098.84 199.028 1098.84 Q203.658 1098.84 206.088 1095.74 Q208.542 1092.61 208.889 1086.27 Q207.547 1088.26 205.487 1089.32 Q203.426 1090.39 200.926 1090.39 Q195.741 1090.39 192.709 1087.26 Q189.7 1084.11 189.7 1078.67 Q189.7 1073.35 192.848 1070.13 Q195.996 1066.92 201.227 1066.92 Q207.223 1066.92 210.371 1071.52 Q213.542 1076.11 213.542 1084.86 Q213.542 1093.03 209.653 1097.91 Q205.787 1102.77 199.237 1102.77 Q197.477 1102.77 195.672 1102.42 Q193.866 1102.08 191.922 1101.38 M201.227 1086.73 Q204.375 1086.73 206.204 1084.58 Q208.056 1082.42 208.056 1078.67 Q208.056 1074.95 206.204 1072.8 Q204.375 1070.62 201.227 1070.62 Q198.079 1070.62 196.227 1072.8 Q194.399 1074.95 194.399 1078.67 Q194.399 1082.42 196.227 1084.58 Q198.079 1086.73 201.227 1086.73 Z\" fill=\"#000000\" fill-rule=\"evenodd\" fill-opacity=\"1\" /><path clip-path=\"url(#clip250)\" d=\"M126.205 755.625 Q122.593 755.625 120.765 759.19 Q118.959 762.732 118.959 769.861 Q118.959 776.968 120.765 780.533 Q122.593 784.074 126.205 784.074 Q129.839 784.074 131.644 780.533 Q133.473 776.968 133.473 769.861 Q133.473 762.732 131.644 759.19 Q129.839 755.625 126.205 755.625 M126.205 751.922 Q132.015 751.922 135.07 756.528 Q138.149 761.111 138.149 769.861 Q138.149 778.588 135.07 783.195 Q132.015 787.778 126.205 787.778 Q120.394 787.778 117.316 783.195 Q114.26 778.588 114.26 769.861 Q114.26 761.111 117.316 756.528 Q120.394 751.922 126.205 751.922 Z\" fill=\"#000000\" fill-rule=\"evenodd\" fill-opacity=\"1\" /><path clip-path=\"url(#clip250)\" d=\"M146.366 781.227 L151.251 781.227 L151.251 787.107 L146.366 787.107 L146.366 781.227 Z\" fill=\"#000000\" fill-rule=\"evenodd\" fill-opacity=\"1\" /><path clip-path=\"url(#clip250)\" d=\"M161.575 786.389 L161.575 782.13 Q163.334 782.963 165.14 783.403 Q166.945 783.843 168.681 783.843 Q173.311 783.843 175.741 780.741 Q178.195 777.616 178.542 771.273 Q177.2 773.264 175.139 774.329 Q173.079 775.394 170.579 775.394 Q165.394 775.394 162.362 772.269 Q159.353 769.121 159.353 763.681 Q159.353 758.357 162.501 755.139 Q165.649 751.922 170.88 751.922 Q176.876 751.922 180.024 756.528 Q183.195 761.111 183.195 769.861 Q183.195 778.033 179.306 782.917 Q175.44 787.778 168.889 787.778 Q167.13 787.778 165.325 787.431 Q163.519 787.084 161.575 786.389 M170.88 771.736 Q174.028 771.736 175.857 769.584 Q177.709 767.431 177.709 763.681 Q177.709 759.954 175.857 757.801 Q174.028 755.625 170.88 755.625 Q167.732 755.625 165.88 757.801 Q164.052 759.954 164.052 763.681 Q164.052 767.431 165.88 769.584 Q167.732 771.736 170.88 771.736 Z\" fill=\"#000000\" fill-rule=\"evenodd\" fill-opacity=\"1\" /><path clip-path=\"url(#clip250)\" d=\"M201.598 755.625 Q197.987 755.625 196.158 759.19 Q194.352 762.732 194.352 769.861 Q194.352 776.968 196.158 780.533 Q197.987 784.074 201.598 784.074 Q205.232 784.074 207.037 780.533 Q208.866 776.968 208.866 769.861 Q208.866 762.732 207.037 759.19 Q205.232 755.625 201.598 755.625 M201.598 751.922 Q207.408 751.922 210.463 756.528 Q213.542 761.111 213.542 769.861 Q213.542 778.588 210.463 783.195 Q207.408 787.778 201.598 787.778 Q195.787 787.778 192.709 783.195 Q189.653 778.588 189.653 769.861 Q189.653 761.111 192.709 756.528 Q195.787 751.922 201.598 751.922 Z\" fill=\"#000000\" fill-rule=\"evenodd\" fill-opacity=\"1\" /><path clip-path=\"url(#clip250)\" d=\"M127.431 440.631 Q123.82 440.631 121.992 444.196 Q120.186 447.738 120.186 454.867 Q120.186 461.974 121.992 465.539 Q123.82 469.08 127.431 469.08 Q131.066 469.08 132.871 465.539 Q134.7 461.974 134.7 454.867 Q134.7 447.738 132.871 444.196 Q131.066 440.631 127.431 440.631 M127.431 436.928 Q133.242 436.928 136.297 441.534 Q139.376 446.117 139.376 454.867 Q139.376 463.594 136.297 468.201 Q133.242 472.784 127.431 472.784 Q121.621 472.784 118.543 468.201 Q115.487 463.594 115.487 454.867 Q115.487 446.117 118.543 441.534 Q121.621 436.928 127.431 436.928 Z\" fill=\"#000000\" fill-rule=\"evenodd\" fill-opacity=\"1\" /><path clip-path=\"url(#clip250)\" d=\"M147.593 466.233 L152.478 466.233 L152.478 472.113 L147.593 472.113 L147.593 466.233 Z\" fill=\"#000000\" fill-rule=\"evenodd\" fill-opacity=\"1\" /><path clip-path=\"url(#clip250)\" d=\"M162.802 471.395 L162.802 467.136 Q164.561 467.969 166.366 468.409 Q168.172 468.849 169.908 468.849 Q174.538 468.849 176.968 465.747 Q179.422 462.622 179.769 456.279 Q178.426 458.27 176.366 459.335 Q174.306 460.4 171.806 460.4 Q166.621 460.4 163.589 457.275 Q160.579 454.127 160.579 448.687 Q160.579 443.363 163.727 440.145 Q166.876 436.928 172.107 436.928 Q178.102 436.928 181.251 441.534 Q184.422 446.117 184.422 454.867 Q184.422 463.039 180.533 467.923 Q176.667 472.784 170.116 472.784 Q168.357 472.784 166.552 472.437 Q164.746 472.089 162.802 471.395 M172.107 456.742 Q175.255 456.742 177.084 454.59 Q178.936 452.437 178.936 448.687 Q178.936 444.96 177.084 442.807 Q175.255 440.631 172.107 440.631 Q168.959 440.631 167.107 442.807 Q165.278 444.96 165.278 448.687 Q165.278 452.437 167.107 454.59 Q168.959 456.742 172.107 456.742 Z\" fill=\"#000000\" fill-rule=\"evenodd\" fill-opacity=\"1\" /><path clip-path=\"url(#clip250)\" d=\"M193.635 468.177 L201.274 468.177 L201.274 441.812 L192.963 443.479 L192.963 439.219 L201.227 437.553 L205.903 437.553 L205.903 468.177 L213.542 468.177 L213.542 472.113 L193.635 472.113 L193.635 468.177 Z\" fill=\"#000000\" fill-rule=\"evenodd\" fill-opacity=\"1\" /><path clip-path=\"url(#clip250)\" d=\"M127.802 125.637 Q124.191 125.637 122.362 129.202 Q120.556 132.744 120.556 139.873 Q120.556 146.98 122.362 150.544 Q124.191 154.086 127.802 154.086 Q131.436 154.086 133.242 150.544 Q135.07 146.98 135.07 139.873 Q135.07 132.744 133.242 129.202 Q131.436 125.637 127.802 125.637 M127.802 121.934 Q133.612 121.934 136.667 126.54 Q139.746 131.123 139.746 139.873 Q139.746 148.6 136.667 153.206 Q133.612 157.79 127.802 157.79 Q121.992 157.79 118.913 153.206 Q115.857 148.6 115.857 139.873 Q115.857 131.123 118.913 126.54 Q121.992 121.934 127.802 121.934 Z\" fill=\"#000000\" fill-rule=\"evenodd\" fill-opacity=\"1\" /><path clip-path=\"url(#clip250)\" d=\"M147.964 151.239 L152.848 151.239 L152.848 157.119 L147.964 157.119 L147.964 151.239 Z\" fill=\"#000000\" fill-rule=\"evenodd\" fill-opacity=\"1\" /><path clip-path=\"url(#clip250)\" d=\"M163.172 156.401 L163.172 152.142 Q164.931 152.975 166.737 153.415 Q168.542 153.855 170.278 153.855 Q174.908 153.855 177.339 150.753 Q179.792 147.628 180.139 141.285 Q178.797 143.276 176.737 144.341 Q174.677 145.406 172.177 145.406 Q166.991 145.406 163.959 142.281 Q160.95 139.132 160.95 133.693 Q160.95 128.369 164.098 125.151 Q167.246 121.934 172.477 121.934 Q178.473 121.934 181.621 126.54 Q184.792 131.123 184.792 139.873 Q184.792 148.044 180.903 152.929 Q177.038 157.79 170.487 157.79 Q168.727 157.79 166.922 157.443 Q165.116 157.095 163.172 156.401 M172.477 141.748 Q175.626 141.748 177.454 139.595 Q179.306 137.443 179.306 133.693 Q179.306 129.966 177.454 127.813 Q175.626 125.637 172.477 125.637 Q169.329 125.637 167.477 127.813 Q165.649 129.966 165.649 133.693 Q165.649 137.443 167.477 139.595 Q169.329 141.748 172.477 141.748 Z\" fill=\"#000000\" fill-rule=\"evenodd\" fill-opacity=\"1\" /><path clip-path=\"url(#clip250)\" d=\"M197.223 153.183 L213.542 153.183 L213.542 157.119 L191.598 157.119 L191.598 153.183 Q194.26 150.429 198.843 145.799 Q203.449 141.146 204.63 139.804 Q206.875 137.281 207.755 135.545 Q208.658 133.785 208.658 132.095 Q208.658 129.341 206.713 127.605 Q204.792 125.869 201.69 125.869 Q199.491 125.869 197.037 126.633 Q194.607 127.396 191.829 128.947 L191.829 124.225 Q194.653 123.091 197.107 122.512 Q199.561 121.934 201.598 121.934 Q206.968 121.934 210.162 124.619 Q213.357 127.304 213.357 131.795 Q213.357 133.924 212.547 135.845 Q211.76 137.744 209.653 140.336 Q209.074 141.007 205.973 144.225 Q202.871 147.419 197.223 153.183 Z\" fill=\"#000000\" fill-rule=\"evenodd\" fill-opacity=\"1\" /><path clip-path=\"url(#clip250)\" d=\"M22.818 780.329 L46.4666 789.05 L46.4666 771.576 L22.818 780.329 M16.4842 783.957 L16.4842 776.669 L64.0042 758.558 L64.0042 765.242 L51.8138 769.571 L51.8138 790.991 L64.0042 795.32 L64.0042 802.1 L16.4842 783.957 Z\" fill=\"#000000\" fill-rule=\"evenodd\" fill-opacity=\"1\" /><path clip-path=\"url(#clip250)\" d=\"M16.4842 752.352 L16.4842 745.89 L45.3526 745.89 Q52.9915 745.89 56.3653 743.121 Q59.7073 740.352 59.7073 734.146 Q59.7073 727.971 56.3653 725.202 Q52.9915 722.433 45.3526 722.433 L16.4842 722.433 L16.4842 715.972 L46.1484 715.972 Q55.4423 715.972 60.1847 720.587 Q64.9272 725.17 64.9272 734.146 Q64.9272 743.153 60.1847 747.768 Q55.4423 752.352 46.1484 752.352 L16.4842 752.352 Z\" fill=\"#000000\" fill-rule=\"evenodd\" fill-opacity=\"1\" /><path clip-path=\"url(#clip250)\" d=\"M20.1444 668.324 L26.9239 668.324 Q23.9002 671.571 22.4043 675.263 Q20.9083 678.923 20.9083 683.061 Q20.9083 691.209 25.9054 695.538 Q30.8707 699.866 40.2919 699.866 Q49.6813 699.866 54.6784 695.538 Q59.6436 691.209 59.6436 683.061 Q59.6436 678.923 58.1477 675.263 Q56.6518 671.571 53.6281 668.324 L60.3439 668.324 Q62.6355 671.698 63.7814 675.486 Q64.9272 679.241 64.9272 683.443 Q64.9272 694.233 58.3387 700.439 Q51.7183 706.646 40.2919 706.646 Q28.8336 706.646 22.2451 700.439 Q15.6248 694.233 15.6248 683.443 Q15.6248 679.178 16.7706 675.422 Q17.8846 671.634 20.1444 668.324 Z\" fill=\"#000000\" fill-rule=\"evenodd\" fill-opacity=\"1\" /><polyline clip-path=\"url(#clip252)\" style=\"stroke:#009af9; stroke-linecap:butt; stroke-linejoin:round; stroke-width:4; stroke-opacity:1; fill:none\" points=\"\n",
       "  309.067,432.333 377.486,432.333 445.906,86.1857 514.325,129.454 582.745,648.675 651.164,259.259 719.584,475.601 788.003,389.065 856.423,951.554 924.842,562.138 \n",
       "  993.261,605.407 1061.68,432.333 1130.1,475.601 1198.52,735.212 1266.94,475.601 1335.36,648.675 1403.78,778.48 1472.2,865.017 1540.62,691.944 1609.04,865.017 \n",
       "  1677.46,1038.09 1745.88,691.944 1814.29,1254.43 1882.71,1124.63 1951.13,1384.24 2019.55,1124.63 2087.97,908.286 2156.39,1038.09 2224.81,1038.09 2293.23,1297.7 \n",
       "  \n",
       "  \"/>\n",
       "<path clip-path=\"url(#clip250)\" d=\"\n",
       "M1996.53 196.789 L2282.65 196.789 L2282.65 93.1086 L1996.53 93.1086  Z\n",
       "  \" fill=\"#ffffff\" fill-rule=\"evenodd\" fill-opacity=\"1\"/>\n",
       "<polyline clip-path=\"url(#clip250)\" style=\"stroke:#000000; stroke-linecap:butt; stroke-linejoin:round; stroke-width:4; stroke-opacity:1; fill:none\" points=\"\n",
       "  1996.53,196.789 2282.65,196.789 2282.65,93.1086 1996.53,93.1086 1996.53,196.789 \n",
       "  \"/>\n",
       "<polyline clip-path=\"url(#clip250)\" style=\"stroke:#009af9; stroke-linecap:butt; stroke-linejoin:round; stroke-width:4; stroke-opacity:1; fill:none\" points=\"\n",
       "  2019.9,144.949 2160.11,144.949 \n",
       "  \"/>\n",
       "<path clip-path=\"url(#clip250)\" d=\"M2197.32 164.636 Q2195.52 169.266 2193.8 170.678 Q2192.09 172.09 2189.22 172.09 L2185.82 172.09 L2185.82 168.525 L2188.32 168.525 Q2190.08 168.525 2191.05 167.692 Q2192.02 166.858 2193.2 163.756 L2193.97 161.812 L2183.48 136.303 L2187.99 136.303 L2196.1 156.581 L2204.2 136.303 L2208.71 136.303 L2197.32 164.636 Z\" fill=\"#000000\" fill-rule=\"evenodd\" fill-opacity=\"1\" /><path clip-path=\"url(#clip250)\" d=\"M2216 158.293 L2223.64 158.293 L2223.64 131.928 L2215.33 133.595 L2215.33 129.335 L2223.6 127.669 L2228.27 127.669 L2228.27 158.293 L2235.91 158.293 L2235.91 162.229 L2216 162.229 L2216 158.293 Z\" fill=\"#000000\" fill-rule=\"evenodd\" fill-opacity=\"1\" /></svg>\n"
      ]
     },
     "execution_count": 55,
     "metadata": {},
     "output_type": "execute_result"
    }
   ],
   "source": [
    "r = range(forest, :bagging_fraction, lower=0.1, upper=1.0)\n",
    "curves = learning_curve!(mach, resampling=Holdout(fraction_train=0.8),\n",
    "                         range=r, measure=auc);\n",
    "plot(curves.parameter_values, curves.measurements, ylabel=\"AUC\", xlabel=\"# of trees\")"
   ]
  },
  {
   "cell_type": "code",
   "execution_count": 56,
   "id": "90b4c92d",
   "metadata": {},
   "outputs": [],
   "source": [
    "################################### Auto tuning ##########################################################3"
   ]
  },
  {
   "cell_type": "code",
   "execution_count": 57,
   "id": "62c4993a",
   "metadata": {},
   "outputs": [
    {
     "name": "stderr",
     "output_type": "stream",
     "text": [
      "┌ Warning: The scitype of `X`, in `machine(model, X, ...)` is incompatible with `model=\u001b[34mProbabilisticTunedModel{Grid,…} @548\u001b[39m`:\n",
      "│ scitype(X) = Table{Union{AbstractVector{Continuous}, AbstractVector{Multiclass{3}}, AbstractVector{OrderedFactor{3}}, AbstractVector{OrderedFactor{2}}, AbstractVector{OrderedFactor{4}}}}\n",
      "│ input_scitype(model) = Table{var\"#s46\"} where var\"#s46\"<:Union{AbstractVector{var\"#s9\"} where var\"#s9\"<:Count, AbstractVector{var\"#s9\"} where var\"#s9\"<:OrderedFactor, AbstractVector{var\"#s9\"} where var\"#s9\"<:Continuous}.\n",
      "└ @ MLJBase C:\\Users\\kapil\\.julia\\packages\\MLJBase\\KWyqX\\src\\machines.jl:91\n",
      "┌ Info: Training \u001b[34mMachine{ProbabilisticTunedModel{Grid,…},…} @947\u001b[39m.\n",
      "└ @ MLJBase C:\\Users\\kapil\\.julia\\packages\\MLJBase\\KWyqX\\src\\machines.jl:342\n",
      "┌ Info: Attempting to evaluate 60 models.\n",
      "└ @ MLJTuning C:\\Users\\kapil\\.julia\\packages\\MLJTuning\\Uj5Cx\\src\\tuned_models.jl:602\n",
      "┌ Warning: The scitype of `X`, in `machine(model, X, ...)` is incompatible with `model=\u001b[34mResampler{CV,…} @920\u001b[39m`:\n",
      "│ scitype(X) = Table{Union{AbstractVector{Continuous}, AbstractVector{Multiclass{3}}, AbstractVector{OrderedFactor{3}}, AbstractVector{OrderedFactor{2}}, AbstractVector{OrderedFactor{4}}}}\n",
      "│ input_scitype(model) = Table{var\"#s46\"} where var\"#s46\"<:Union{AbstractVector{var\"#s9\"} where var\"#s9\"<:Count, AbstractVector{var\"#s9\"} where var\"#s9\"<:OrderedFactor, AbstractVector{var\"#s9\"} where var\"#s9\"<:Continuous}.\n",
      "└ @ MLJBase C:\\Users\\kapil\\.julia\\packages\\MLJBase\\KWyqX\\src\\machines.jl:91\n",
      "┌ Warning: The scitype of `X`, in `machine(model, X, ...)` is incompatible with `model=\u001b[34mProbabilisticEnsembleModel{DecisionTreeClassifier} @656\u001b[39m`:\n",
      "│ scitype(X) = Table{Union{AbstractVector{Continuous}, AbstractVector{Multiclass{3}}, AbstractVector{OrderedFactor{3}}, AbstractVector{OrderedFactor{2}}, AbstractVector{OrderedFactor{4}}}}\n",
      "│ input_scitype(model) = Table{var\"#s46\"} where var\"#s46\"<:Union{AbstractVector{var\"#s9\"} where var\"#s9\"<:Count, AbstractVector{var\"#s9\"} where var\"#s9\"<:OrderedFactor, AbstractVector{var\"#s9\"} where var\"#s9\"<:Continuous}.\n",
      "└ @ MLJBase C:\\Users\\kapil\\.julia\\packages\\MLJBase\\KWyqX\\src\\machines.jl:91\n",
      "┌ Warning: The scitype of `X`, in `machine(model, X, ...)` is incompatible with `model=\u001b[34mProbabilisticEnsembleModel{DecisionTreeClassifier} @236\u001b[39m`:\n",
      "│ scitype(X) = Table{Union{AbstractVector{Continuous}, AbstractVector{Multiclass{3}}, AbstractVector{OrderedFactor{3}}, AbstractVector{OrderedFactor{2}}, AbstractVector{OrderedFactor{4}}}}\n",
      "│ input_scitype(model) = Table{var\"#s46\"} where var\"#s46\"<:Union{AbstractVector{var\"#s9\"} where var\"#s9\"<:Count, AbstractVector{var\"#s9\"} where var\"#s9\"<:OrderedFactor, AbstractVector{var\"#s9\"} where var\"#s9\"<:Continuous}.\n",
      "└ @ MLJBase C:\\Users\\kapil\\.julia\\packages\\MLJBase\\KWyqX\\src\\machines.jl:91\n",
      "\u001b[33mEvaluating over 60 metamodels:   3%[>                        ]  ETA: 0:00:39\u001b[39m┌ Warning: The scitype of `X`, in `machine(model, X, ...)` is incompatible with `model=\u001b[34mProbabilisticEnsembleModel{DecisionTreeClassifier} @079\u001b[39m`:\n",
      "│ scitype(X) = Table{Union{AbstractVector{Continuous}, AbstractVector{Multiclass{3}}, AbstractVector{OrderedFactor{3}}, AbstractVector{OrderedFactor{2}}, AbstractVector{OrderedFactor{4}}}}\n",
      "│ input_scitype(model) = Table{var\"#s46\"} where var\"#s46\"<:Union{AbstractVector{var\"#s9\"} where var\"#s9\"<:Count, AbstractVector{var\"#s9\"} where var\"#s9\"<:OrderedFactor, AbstractVector{var\"#s9\"} where var\"#s9\"<:Continuous}.\n",
      "└ @ MLJBase C:\\Users\\kapil\\.julia\\packages\\MLJBase\\KWyqX\\src\\machines.jl:91\n",
      "\u001b[33mEvaluating over 60 metamodels:   5%[=>                       ]  ETA: 0:00:36\u001b[39m┌ Warning: The scitype of `X`, in `machine(model, X, ...)` is incompatible with `model=\u001b[34mProbabilisticEnsembleModel{DecisionTreeClassifier} @414\u001b[39m`:\n",
      "│ scitype(X) = Table{Union{AbstractVector{Continuous}, AbstractVector{Multiclass{3}}, AbstractVector{OrderedFactor{3}}, AbstractVector{OrderedFactor{2}}, AbstractVector{OrderedFactor{4}}}}\n",
      "│ input_scitype(model) = Table{var\"#s46\"} where var\"#s46\"<:Union{AbstractVector{var\"#s9\"} where var\"#s9\"<:Count, AbstractVector{var\"#s9\"} where var\"#s9\"<:OrderedFactor, AbstractVector{var\"#s9\"} where var\"#s9\"<:Continuous}.\n",
      "└ @ MLJBase C:\\Users\\kapil\\.julia\\packages\\MLJBase\\KWyqX\\src\\machines.jl:91\n",
      "\u001b[33mEvaluating over 60 metamodels:   7%[=>                       ]  ETA: 0:00:35\u001b[39m┌ Warning: The scitype of `X`, in `machine(model, X, ...)` is incompatible with `model=\u001b[34mProbabilisticEnsembleModel{DecisionTreeClassifier} @353\u001b[39m`:\n",
      "│ scitype(X) = Table{Union{AbstractVector{Continuous}, AbstractVector{Multiclass{3}}, AbstractVector{OrderedFactor{3}}, AbstractVector{OrderedFactor{2}}, AbstractVector{OrderedFactor{4}}}}\n",
      "│ input_scitype(model) = Table{var\"#s46\"} where var\"#s46\"<:Union{AbstractVector{var\"#s9\"} where var\"#s9\"<:Count, AbstractVector{var\"#s9\"} where var\"#s9\"<:OrderedFactor, AbstractVector{var\"#s9\"} where var\"#s9\"<:Continuous}.\n",
      "└ @ MLJBase C:\\Users\\kapil\\.julia\\packages\\MLJBase\\KWyqX\\src\\machines.jl:91\n",
      "\u001b[33mEvaluating over 60 metamodels:   8%[==>                      ]  ETA: 0:00:34\u001b[39m┌ Warning: The scitype of `X`, in `machine(model, X, ...)` is incompatible with `model=\u001b[34mProbabilisticEnsembleModel{DecisionTreeClassifier} @583\u001b[39m`:\n",
      "│ scitype(X) = Table{Union{AbstractVector{Continuous}, AbstractVector{Multiclass{3}}, AbstractVector{OrderedFactor{3}}, AbstractVector{OrderedFactor{2}}, AbstractVector{OrderedFactor{4}}}}\n",
      "│ input_scitype(model) = Table{var\"#s46\"} where var\"#s46\"<:Union{AbstractVector{var\"#s9\"} where var\"#s9\"<:Count, AbstractVector{var\"#s9\"} where var\"#s9\"<:OrderedFactor, AbstractVector{var\"#s9\"} where var\"#s9\"<:Continuous}.\n",
      "└ @ MLJBase C:\\Users\\kapil\\.julia\\packages\\MLJBase\\KWyqX\\src\\machines.jl:91\n",
      "\u001b[33mEvaluating over 60 metamodels:  10%[==>                      ]  ETA: 0:00:32\u001b[39m┌ Warning: The scitype of `X`, in `machine(model, X, ...)` is incompatible with `model=\u001b[34mProbabilisticEnsembleModel{DecisionTreeClassifier} @737\u001b[39m`:\n",
      "│ scitype(X) = Table{Union{AbstractVector{Continuous}, AbstractVector{Multiclass{3}}, AbstractVector{OrderedFactor{3}}, AbstractVector{OrderedFactor{2}}, AbstractVector{OrderedFactor{4}}}}\n",
      "│ input_scitype(model) = Table{var\"#s46\"} where var\"#s46\"<:Union{AbstractVector{var\"#s9\"} where var\"#s9\"<:Count, AbstractVector{var\"#s9\"} where var\"#s9\"<:OrderedFactor, AbstractVector{var\"#s9\"} where var\"#s9\"<:Continuous}.\n",
      "└ @ MLJBase C:\\Users\\kapil\\.julia\\packages\\MLJBase\\KWyqX\\src\\machines.jl:91\n",
      "\u001b[33mEvaluating over 60 metamodels:  12%[==>                      ]  ETA: 0:00:32\u001b[39m┌ Warning: The scitype of `X`, in `machine(model, X, ...)` is incompatible with `model=\u001b[34mProbabilisticEnsembleModel{DecisionTreeClassifier} @213\u001b[39m`:\n",
      "│ scitype(X) = Table{Union{AbstractVector{Continuous}, AbstractVector{Multiclass{3}}, AbstractVector{OrderedFactor{3}}, AbstractVector{OrderedFactor{2}}, AbstractVector{OrderedFactor{4}}}}\n",
      "│ input_scitype(model) = Table{var\"#s46\"} where var\"#s46\"<:Union{AbstractVector{var\"#s9\"} where var\"#s9\"<:Count, AbstractVector{var\"#s9\"} where var\"#s9\"<:OrderedFactor, AbstractVector{var\"#s9\"} where var\"#s9\"<:Continuous}.\n",
      "└ @ MLJBase C:\\Users\\kapil\\.julia\\packages\\MLJBase\\KWyqX\\src\\machines.jl:91\n",
      "\u001b[33mEvaluating over 60 metamodels:  13%[===>                     ]  ETA: 0:00:31\u001b[39m┌ Warning: The scitype of `X`, in `machine(model, X, ...)` is incompatible with `model=\u001b[34mProbabilisticEnsembleModel{DecisionTreeClassifier} @785\u001b[39m`:\n",
      "│ scitype(X) = Table{Union{AbstractVector{Continuous}, AbstractVector{Multiclass{3}}, AbstractVector{OrderedFactor{3}}, AbstractVector{OrderedFactor{2}}, AbstractVector{OrderedFactor{4}}}}\n",
      "│ input_scitype(model) = Table{var\"#s46\"} where var\"#s46\"<:Union{AbstractVector{var\"#s9\"} where var\"#s9\"<:Count, AbstractVector{var\"#s9\"} where var\"#s9\"<:OrderedFactor, AbstractVector{var\"#s9\"} where var\"#s9\"<:Continuous}.\n",
      "└ @ MLJBase C:\\Users\\kapil\\.julia\\packages\\MLJBase\\KWyqX\\src\\machines.jl:91\n",
      "\u001b[33mEvaluating over 60 metamodels:  15%[===>                     ]  ETA: 0:00:30\u001b[39m┌ Warning: The scitype of `X`, in `machine(model, X, ...)` is incompatible with `model=\u001b[34mProbabilisticEnsembleModel{DecisionTreeClassifier} @460\u001b[39m`:\n",
      "│ scitype(X) = Table{Union{AbstractVector{Continuous}, AbstractVector{Multiclass{3}}, AbstractVector{OrderedFactor{3}}, AbstractVector{OrderedFactor{2}}, AbstractVector{OrderedFactor{4}}}}\n",
      "│ input_scitype(model) = Table{var\"#s46\"} where var\"#s46\"<:Union{AbstractVector{var\"#s9\"} where var\"#s9\"<:Count, AbstractVector{var\"#s9\"} where var\"#s9\"<:OrderedFactor, AbstractVector{var\"#s9\"} where var\"#s9\"<:Continuous}.\n",
      "└ @ MLJBase C:\\Users\\kapil\\.julia\\packages\\MLJBase\\KWyqX\\src\\machines.jl:91\n"
     ]
    },
    {
     "name": "stderr",
     "output_type": "stream",
     "text": [
      "\u001b[33mEvaluating over 60 metamodels:  17%[====>                    ]  ETA: 0:00:30\u001b[39m┌ Warning: The scitype of `X`, in `machine(model, X, ...)` is incompatible with `model=\u001b[34mProbabilisticEnsembleModel{DecisionTreeClassifier} @844\u001b[39m`:\n",
      "│ scitype(X) = Table{Union{AbstractVector{Continuous}, AbstractVector{Multiclass{3}}, AbstractVector{OrderedFactor{3}}, AbstractVector{OrderedFactor{2}}, AbstractVector{OrderedFactor{4}}}}\n",
      "│ input_scitype(model) = Table{var\"#s46\"} where var\"#s46\"<:Union{AbstractVector{var\"#s9\"} where var\"#s9\"<:Count, AbstractVector{var\"#s9\"} where var\"#s9\"<:OrderedFactor, AbstractVector{var\"#s9\"} where var\"#s9\"<:Continuous}.\n",
      "└ @ MLJBase C:\\Users\\kapil\\.julia\\packages\\MLJBase\\KWyqX\\src\\machines.jl:91\n",
      "\u001b[33mEvaluating over 60 metamodels:  18%[====>                    ]  ETA: 0:00:29\u001b[39m┌ Warning: The scitype of `X`, in `machine(model, X, ...)` is incompatible with `model=\u001b[34mProbabilisticEnsembleModel{DecisionTreeClassifier} @331\u001b[39m`:\n",
      "│ scitype(X) = Table{Union{AbstractVector{Continuous}, AbstractVector{Multiclass{3}}, AbstractVector{OrderedFactor{3}}, AbstractVector{OrderedFactor{2}}, AbstractVector{OrderedFactor{4}}}}\n",
      "│ input_scitype(model) = Table{var\"#s46\"} where var\"#s46\"<:Union{AbstractVector{var\"#s9\"} where var\"#s9\"<:Count, AbstractVector{var\"#s9\"} where var\"#s9\"<:OrderedFactor, AbstractVector{var\"#s9\"} where var\"#s9\"<:Continuous}.\n",
      "└ @ MLJBase C:\\Users\\kapil\\.julia\\packages\\MLJBase\\KWyqX\\src\\machines.jl:91\n",
      "\u001b[33mEvaluating over 60 metamodels:  20%[=====>                   ]  ETA: 0:00:30\u001b[39m┌ Warning: The scitype of `X`, in `machine(model, X, ...)` is incompatible with `model=\u001b[34mProbabilisticEnsembleModel{DecisionTreeClassifier} @500\u001b[39m`:\n",
      "│ scitype(X) = Table{Union{AbstractVector{Continuous}, AbstractVector{Multiclass{3}}, AbstractVector{OrderedFactor{3}}, AbstractVector{OrderedFactor{2}}, AbstractVector{OrderedFactor{4}}}}\n",
      "│ input_scitype(model) = Table{var\"#s46\"} where var\"#s46\"<:Union{AbstractVector{var\"#s9\"} where var\"#s9\"<:Count, AbstractVector{var\"#s9\"} where var\"#s9\"<:OrderedFactor, AbstractVector{var\"#s9\"} where var\"#s9\"<:Continuous}.\n",
      "└ @ MLJBase C:\\Users\\kapil\\.julia\\packages\\MLJBase\\KWyqX\\src\\machines.jl:91\n",
      "\u001b[33mEvaluating over 60 metamodels:  22%[=====>                   ]  ETA: 0:00:29\u001b[39m┌ Warning: The scitype of `X`, in `machine(model, X, ...)` is incompatible with `model=\u001b[34mProbabilisticEnsembleModel{DecisionTreeClassifier} @669\u001b[39m`:\n",
      "│ scitype(X) = Table{Union{AbstractVector{Continuous}, AbstractVector{Multiclass{3}}, AbstractVector{OrderedFactor{3}}, AbstractVector{OrderedFactor{2}}, AbstractVector{OrderedFactor{4}}}}\n",
      "│ input_scitype(model) = Table{var\"#s46\"} where var\"#s46\"<:Union{AbstractVector{var\"#s9\"} where var\"#s9\"<:Count, AbstractVector{var\"#s9\"} where var\"#s9\"<:OrderedFactor, AbstractVector{var\"#s9\"} where var\"#s9\"<:Continuous}.\n",
      "└ @ MLJBase C:\\Users\\kapil\\.julia\\packages\\MLJBase\\KWyqX\\src\\machines.jl:91\n",
      "\u001b[33mEvaluating over 60 metamodels:  23%[=====>                   ]  ETA: 0:00:29\u001b[39m┌ Warning: The scitype of `X`, in `machine(model, X, ...)` is incompatible with `model=\u001b[34mProbabilisticEnsembleModel{DecisionTreeClassifier} @805\u001b[39m`:\n",
      "│ scitype(X) = Table{Union{AbstractVector{Continuous}, AbstractVector{Multiclass{3}}, AbstractVector{OrderedFactor{3}}, AbstractVector{OrderedFactor{2}}, AbstractVector{OrderedFactor{4}}}}\n",
      "│ input_scitype(model) = Table{var\"#s46\"} where var\"#s46\"<:Union{AbstractVector{var\"#s9\"} where var\"#s9\"<:Count, AbstractVector{var\"#s9\"} where var\"#s9\"<:OrderedFactor, AbstractVector{var\"#s9\"} where var\"#s9\"<:Continuous}.\n",
      "└ @ MLJBase C:\\Users\\kapil\\.julia\\packages\\MLJBase\\KWyqX\\src\\machines.jl:91\n",
      "\u001b[33mEvaluating over 60 metamodels:  25%[======>                  ]  ETA: 0:00:28\u001b[39m┌ Warning: The scitype of `X`, in `machine(model, X, ...)` is incompatible with `model=\u001b[34mProbabilisticEnsembleModel{DecisionTreeClassifier} @014\u001b[39m`:\n",
      "│ scitype(X) = Table{Union{AbstractVector{Continuous}, AbstractVector{Multiclass{3}}, AbstractVector{OrderedFactor{3}}, AbstractVector{OrderedFactor{2}}, AbstractVector{OrderedFactor{4}}}}\n",
      "│ input_scitype(model) = Table{var\"#s46\"} where var\"#s46\"<:Union{AbstractVector{var\"#s9\"} where var\"#s9\"<:Count, AbstractVector{var\"#s9\"} where var\"#s9\"<:OrderedFactor, AbstractVector{var\"#s9\"} where var\"#s9\"<:Continuous}.\n",
      "└ @ MLJBase C:\\Users\\kapil\\.julia\\packages\\MLJBase\\KWyqX\\src\\machines.jl:91\n",
      "\u001b[33mEvaluating over 60 metamodels:  27%[======>                  ]  ETA: 0:00:28\u001b[39m┌ Warning: The scitype of `X`, in `machine(model, X, ...)` is incompatible with `model=\u001b[34mProbabilisticEnsembleModel{DecisionTreeClassifier} @774\u001b[39m`:\n",
      "│ scitype(X) = Table{Union{AbstractVector{Continuous}, AbstractVector{Multiclass{3}}, AbstractVector{OrderedFactor{3}}, AbstractVector{OrderedFactor{2}}, AbstractVector{OrderedFactor{4}}}}\n",
      "│ input_scitype(model) = Table{var\"#s46\"} where var\"#s46\"<:Union{AbstractVector{var\"#s9\"} where var\"#s9\"<:Count, AbstractVector{var\"#s9\"} where var\"#s9\"<:OrderedFactor, AbstractVector{var\"#s9\"} where var\"#s9\"<:Continuous}.\n",
      "└ @ MLJBase C:\\Users\\kapil\\.julia\\packages\\MLJBase\\KWyqX\\src\\machines.jl:91\n",
      "\u001b[33mEvaluating over 60 metamodels:  28%[=======>                 ]  ETA: 0:00:27\u001b[39m┌ Warning: The scitype of `X`, in `machine(model, X, ...)` is incompatible with `model=\u001b[34mProbabilisticEnsembleModel{DecisionTreeClassifier} @470\u001b[39m`:\n",
      "│ scitype(X) = Table{Union{AbstractVector{Continuous}, AbstractVector{Multiclass{3}}, AbstractVector{OrderedFactor{3}}, AbstractVector{OrderedFactor{2}}, AbstractVector{OrderedFactor{4}}}}\n",
      "│ input_scitype(model) = Table{var\"#s46\"} where var\"#s46\"<:Union{AbstractVector{var\"#s9\"} where var\"#s9\"<:Count, AbstractVector{var\"#s9\"} where var\"#s9\"<:OrderedFactor, AbstractVector{var\"#s9\"} where var\"#s9\"<:Continuous}.\n",
      "└ @ MLJBase C:\\Users\\kapil\\.julia\\packages\\MLJBase\\KWyqX\\src\\machines.jl:91\n",
      "\u001b[33mEvaluating over 60 metamodels:  30%[=======>                 ]  ETA: 0:00:26\u001b[39m┌ Warning: The scitype of `X`, in `machine(model, X, ...)` is incompatible with `model=\u001b[34mProbabilisticEnsembleModel{DecisionTreeClassifier} @117\u001b[39m`:\n",
      "│ scitype(X) = Table{Union{AbstractVector{Continuous}, AbstractVector{Multiclass{3}}, AbstractVector{OrderedFactor{3}}, AbstractVector{OrderedFactor{2}}, AbstractVector{OrderedFactor{4}}}}\n",
      "│ input_scitype(model) = Table{var\"#s46\"} where var\"#s46\"<:Union{AbstractVector{var\"#s9\"} where var\"#s9\"<:Count, AbstractVector{var\"#s9\"} where var\"#s9\"<:OrderedFactor, AbstractVector{var\"#s9\"} where var\"#s9\"<:Continuous}.\n",
      "└ @ MLJBase C:\\Users\\kapil\\.julia\\packages\\MLJBase\\KWyqX\\src\\machines.jl:91\n",
      "\u001b[33mEvaluating over 60 metamodels:  32%[=======>                 ]  ETA: 0:00:26\u001b[39m┌ Warning: The scitype of `X`, in `machine(model, X, ...)` is incompatible with `model=\u001b[34mProbabilisticEnsembleModel{DecisionTreeClassifier} @639\u001b[39m`:\n",
      "│ scitype(X) = Table{Union{AbstractVector{Continuous}, AbstractVector{Multiclass{3}}, AbstractVector{OrderedFactor{3}}, AbstractVector{OrderedFactor{2}}, AbstractVector{OrderedFactor{4}}}}\n",
      "│ input_scitype(model) = Table{var\"#s46\"} where var\"#s46\"<:Union{AbstractVector{var\"#s9\"} where var\"#s9\"<:Count, AbstractVector{var\"#s9\"} where var\"#s9\"<:OrderedFactor, AbstractVector{var\"#s9\"} where var\"#s9\"<:Continuous}.\n",
      "└ @ MLJBase C:\\Users\\kapil\\.julia\\packages\\MLJBase\\KWyqX\\src\\machines.jl:91\n",
      "\u001b[33mEvaluating over 60 metamodels:  33%[========>                ]  ETA: 0:00:25\u001b[39m┌ Warning: The scitype of `X`, in `machine(model, X, ...)` is incompatible with `model=\u001b[34mProbabilisticEnsembleModel{DecisionTreeClassifier} @701\u001b[39m`:\n",
      "│ scitype(X) = Table{Union{AbstractVector{Continuous}, AbstractVector{Multiclass{3}}, AbstractVector{OrderedFactor{3}}, AbstractVector{OrderedFactor{2}}, AbstractVector{OrderedFactor{4}}}}\n",
      "│ input_scitype(model) = Table{var\"#s46\"} where var\"#s46\"<:Union{AbstractVector{var\"#s9\"} where var\"#s9\"<:Count, AbstractVector{var\"#s9\"} where var\"#s9\"<:OrderedFactor, AbstractVector{var\"#s9\"} where var\"#s9\"<:Continuous}.\n",
      "└ @ MLJBase C:\\Users\\kapil\\.julia\\packages\\MLJBase\\KWyqX\\src\\machines.jl:91\n",
      "\u001b[33mEvaluating over 60 metamodels:  35%[========>                ]  ETA: 0:00:24\u001b[39m┌ Warning: The scitype of `X`, in `machine(model, X, ...)` is incompatible with `model=\u001b[34mProbabilisticEnsembleModel{DecisionTreeClassifier} @786\u001b[39m`:\n",
      "│ scitype(X) = Table{Union{AbstractVector{Continuous}, AbstractVector{Multiclass{3}}, AbstractVector{OrderedFactor{3}}, AbstractVector{OrderedFactor{2}}, AbstractVector{OrderedFactor{4}}}}\n",
      "│ input_scitype(model) = Table{var\"#s46\"} where var\"#s46\"<:Union{AbstractVector{var\"#s9\"} where var\"#s9\"<:Count, AbstractVector{var\"#s9\"} where var\"#s9\"<:OrderedFactor, AbstractVector{var\"#s9\"} where var\"#s9\"<:Continuous}.\n",
      "└ @ MLJBase C:\\Users\\kapil\\.julia\\packages\\MLJBase\\KWyqX\\src\\machines.jl:91\n"
     ]
    },
    {
     "name": "stderr",
     "output_type": "stream",
     "text": [
      "\u001b[33mEvaluating over 60 metamodels:  37%[=========>               ]  ETA: 0:00:24\u001b[39m┌ Warning: The scitype of `X`, in `machine(model, X, ...)` is incompatible with `model=\u001b[34mProbabilisticEnsembleModel{DecisionTreeClassifier} @201\u001b[39m`:\n",
      "│ scitype(X) = Table{Union{AbstractVector{Continuous}, AbstractVector{Multiclass{3}}, AbstractVector{OrderedFactor{3}}, AbstractVector{OrderedFactor{2}}, AbstractVector{OrderedFactor{4}}}}\n",
      "│ input_scitype(model) = Table{var\"#s46\"} where var\"#s46\"<:Union{AbstractVector{var\"#s9\"} where var\"#s9\"<:Count, AbstractVector{var\"#s9\"} where var\"#s9\"<:OrderedFactor, AbstractVector{var\"#s9\"} where var\"#s9\"<:Continuous}.\n",
      "└ @ MLJBase C:\\Users\\kapil\\.julia\\packages\\MLJBase\\KWyqX\\src\\machines.jl:91\n",
      "\u001b[33mEvaluating over 60 metamodels:  38%[=========>               ]  ETA: 0:00:23\u001b[39m┌ Warning: The scitype of `X`, in `machine(model, X, ...)` is incompatible with `model=\u001b[34mProbabilisticEnsembleModel{DecisionTreeClassifier} @905\u001b[39m`:\n",
      "│ scitype(X) = Table{Union{AbstractVector{Continuous}, AbstractVector{Multiclass{3}}, AbstractVector{OrderedFactor{3}}, AbstractVector{OrderedFactor{2}}, AbstractVector{OrderedFactor{4}}}}\n",
      "│ input_scitype(model) = Table{var\"#s46\"} where var\"#s46\"<:Union{AbstractVector{var\"#s9\"} where var\"#s9\"<:Count, AbstractVector{var\"#s9\"} where var\"#s9\"<:OrderedFactor, AbstractVector{var\"#s9\"} where var\"#s9\"<:Continuous}.\n",
      "└ @ MLJBase C:\\Users\\kapil\\.julia\\packages\\MLJBase\\KWyqX\\src\\machines.jl:91\n",
      "\u001b[33mEvaluating over 60 metamodels:  40%[==========>              ]  ETA: 0:00:23\u001b[39m┌ Warning: The scitype of `X`, in `machine(model, X, ...)` is incompatible with `model=\u001b[34mProbabilisticEnsembleModel{DecisionTreeClassifier} @936\u001b[39m`:\n",
      "│ scitype(X) = Table{Union{AbstractVector{Continuous}, AbstractVector{Multiclass{3}}, AbstractVector{OrderedFactor{3}}, AbstractVector{OrderedFactor{2}}, AbstractVector{OrderedFactor{4}}}}\n",
      "│ input_scitype(model) = Table{var\"#s46\"} where var\"#s46\"<:Union{AbstractVector{var\"#s9\"} where var\"#s9\"<:Count, AbstractVector{var\"#s9\"} where var\"#s9\"<:OrderedFactor, AbstractVector{var\"#s9\"} where var\"#s9\"<:Continuous}.\n",
      "└ @ MLJBase C:\\Users\\kapil\\.julia\\packages\\MLJBase\\KWyqX\\src\\machines.jl:91\n",
      "\u001b[33mEvaluating over 60 metamodels:  42%[==========>              ]  ETA: 0:00:22\u001b[39m┌ Warning: The scitype of `X`, in `machine(model, X, ...)` is incompatible with `model=\u001b[34mProbabilisticEnsembleModel{DecisionTreeClassifier} @005\u001b[39m`:\n",
      "│ scitype(X) = Table{Union{AbstractVector{Continuous}, AbstractVector{Multiclass{3}}, AbstractVector{OrderedFactor{3}}, AbstractVector{OrderedFactor{2}}, AbstractVector{OrderedFactor{4}}}}\n",
      "│ input_scitype(model) = Table{var\"#s46\"} where var\"#s46\"<:Union{AbstractVector{var\"#s9\"} where var\"#s9\"<:Count, AbstractVector{var\"#s9\"} where var\"#s9\"<:OrderedFactor, AbstractVector{var\"#s9\"} where var\"#s9\"<:Continuous}.\n",
      "└ @ MLJBase C:\\Users\\kapil\\.julia\\packages\\MLJBase\\KWyqX\\src\\machines.jl:91\n",
      "\u001b[33mEvaluating over 60 metamodels:  43%[==========>              ]  ETA: 0:00:21\u001b[39m┌ Warning: The scitype of `X`, in `machine(model, X, ...)` is incompatible with `model=\u001b[34mProbabilisticEnsembleModel{DecisionTreeClassifier} @672\u001b[39m`:\n",
      "│ scitype(X) = Table{Union{AbstractVector{Continuous}, AbstractVector{Multiclass{3}}, AbstractVector{OrderedFactor{3}}, AbstractVector{OrderedFactor{2}}, AbstractVector{OrderedFactor{4}}}}\n",
      "│ input_scitype(model) = Table{var\"#s46\"} where var\"#s46\"<:Union{AbstractVector{var\"#s9\"} where var\"#s9\"<:Count, AbstractVector{var\"#s9\"} where var\"#s9\"<:OrderedFactor, AbstractVector{var\"#s9\"} where var\"#s9\"<:Continuous}.\n",
      "└ @ MLJBase C:\\Users\\kapil\\.julia\\packages\\MLJBase\\KWyqX\\src\\machines.jl:91\n",
      "\u001b[33mEvaluating over 60 metamodels:  45%[===========>             ]  ETA: 0:00:21\u001b[39m┌ Warning: The scitype of `X`, in `machine(model, X, ...)` is incompatible with `model=\u001b[34mProbabilisticEnsembleModel{DecisionTreeClassifier} @180\u001b[39m`:\n",
      "│ scitype(X) = Table{Union{AbstractVector{Continuous}, AbstractVector{Multiclass{3}}, AbstractVector{OrderedFactor{3}}, AbstractVector{OrderedFactor{2}}, AbstractVector{OrderedFactor{4}}}}\n",
      "│ input_scitype(model) = Table{var\"#s46\"} where var\"#s46\"<:Union{AbstractVector{var\"#s9\"} where var\"#s9\"<:Count, AbstractVector{var\"#s9\"} where var\"#s9\"<:OrderedFactor, AbstractVector{var\"#s9\"} where var\"#s9\"<:Continuous}.\n",
      "└ @ MLJBase C:\\Users\\kapil\\.julia\\packages\\MLJBase\\KWyqX\\src\\machines.jl:91\n",
      "\u001b[33mEvaluating over 60 metamodels:  47%[===========>             ]  ETA: 0:00:20\u001b[39m┌ Warning: The scitype of `X`, in `machine(model, X, ...)` is incompatible with `model=\u001b[34mProbabilisticEnsembleModel{DecisionTreeClassifier} @811\u001b[39m`:\n",
      "│ scitype(X) = Table{Union{AbstractVector{Continuous}, AbstractVector{Multiclass{3}}, AbstractVector{OrderedFactor{3}}, AbstractVector{OrderedFactor{2}}, AbstractVector{OrderedFactor{4}}}}\n",
      "│ input_scitype(model) = Table{var\"#s46\"} where var\"#s46\"<:Union{AbstractVector{var\"#s9\"} where var\"#s9\"<:Count, AbstractVector{var\"#s9\"} where var\"#s9\"<:OrderedFactor, AbstractVector{var\"#s9\"} where var\"#s9\"<:Continuous}.\n",
      "└ @ MLJBase C:\\Users\\kapil\\.julia\\packages\\MLJBase\\KWyqX\\src\\machines.jl:91\n",
      "\u001b[33mEvaluating over 60 metamodels:  48%[============>            ]  ETA: 0:00:19\u001b[39m┌ Warning: The scitype of `X`, in `machine(model, X, ...)` is incompatible with `model=\u001b[34mProbabilisticEnsembleModel{DecisionTreeClassifier} @237\u001b[39m`:\n",
      "│ scitype(X) = Table{Union{AbstractVector{Continuous}, AbstractVector{Multiclass{3}}, AbstractVector{OrderedFactor{3}}, AbstractVector{OrderedFactor{2}}, AbstractVector{OrderedFactor{4}}}}\n",
      "│ input_scitype(model) = Table{var\"#s46\"} where var\"#s46\"<:Union{AbstractVector{var\"#s9\"} where var\"#s9\"<:Count, AbstractVector{var\"#s9\"} where var\"#s9\"<:OrderedFactor, AbstractVector{var\"#s9\"} where var\"#s9\"<:Continuous}.\n",
      "└ @ MLJBase C:\\Users\\kapil\\.julia\\packages\\MLJBase\\KWyqX\\src\\machines.jl:91\n",
      "\u001b[33mEvaluating over 60 metamodels:  50%[============>            ]  ETA: 0:00:19\u001b[39m┌ Warning: The scitype of `X`, in `machine(model, X, ...)` is incompatible with `model=\u001b[34mProbabilisticEnsembleModel{DecisionTreeClassifier} @919\u001b[39m`:\n",
      "│ scitype(X) = Table{Union{AbstractVector{Continuous}, AbstractVector{Multiclass{3}}, AbstractVector{OrderedFactor{3}}, AbstractVector{OrderedFactor{2}}, AbstractVector{OrderedFactor{4}}}}\n",
      "│ input_scitype(model) = Table{var\"#s46\"} where var\"#s46\"<:Union{AbstractVector{var\"#s9\"} where var\"#s9\"<:Count, AbstractVector{var\"#s9\"} where var\"#s9\"<:OrderedFactor, AbstractVector{var\"#s9\"} where var\"#s9\"<:Continuous}.\n",
      "└ @ MLJBase C:\\Users\\kapil\\.julia\\packages\\MLJBase\\KWyqX\\src\\machines.jl:91\n",
      "\u001b[33mEvaluating over 60 metamodels:  52%[============>            ]  ETA: 0:00:18\u001b[39m┌ Warning: The scitype of `X`, in `machine(model, X, ...)` is incompatible with `model=\u001b[34mProbabilisticEnsembleModel{DecisionTreeClassifier} @734\u001b[39m`:\n",
      "│ scitype(X) = Table{Union{AbstractVector{Continuous}, AbstractVector{Multiclass{3}}, AbstractVector{OrderedFactor{3}}, AbstractVector{OrderedFactor{2}}, AbstractVector{OrderedFactor{4}}}}\n",
      "│ input_scitype(model) = Table{var\"#s46\"} where var\"#s46\"<:Union{AbstractVector{var\"#s9\"} where var\"#s9\"<:Count, AbstractVector{var\"#s9\"} where var\"#s9\"<:OrderedFactor, AbstractVector{var\"#s9\"} where var\"#s9\"<:Continuous}.\n",
      "└ @ MLJBase C:\\Users\\kapil\\.julia\\packages\\MLJBase\\KWyqX\\src\\machines.jl:91\n",
      "\u001b[33mEvaluating over 60 metamodels:  53%[=============>           ]  ETA: 0:00:17\u001b[39m┌ Warning: The scitype of `X`, in `machine(model, X, ...)` is incompatible with `model=\u001b[34mProbabilisticEnsembleModel{DecisionTreeClassifier} @428\u001b[39m`:\n",
      "│ scitype(X) = Table{Union{AbstractVector{Continuous}, AbstractVector{Multiclass{3}}, AbstractVector{OrderedFactor{3}}, AbstractVector{OrderedFactor{2}}, AbstractVector{OrderedFactor{4}}}}\n",
      "│ input_scitype(model) = Table{var\"#s46\"} where var\"#s46\"<:Union{AbstractVector{var\"#s9\"} where var\"#s9\"<:Count, AbstractVector{var\"#s9\"} where var\"#s9\"<:OrderedFactor, AbstractVector{var\"#s9\"} where var\"#s9\"<:Continuous}.\n",
      "└ @ MLJBase C:\\Users\\kapil\\.julia\\packages\\MLJBase\\KWyqX\\src\\machines.jl:91\n",
      "\u001b[33mEvaluating over 60 metamodels:  55%[=============>           ]  ETA: 0:00:17\u001b[39m┌ Warning: The scitype of `X`, in `machine(model, X, ...)` is incompatible with `model=\u001b[34mProbabilisticEnsembleModel{DecisionTreeClassifier} @647\u001b[39m`:\n",
      "│ scitype(X) = Table{Union{AbstractVector{Continuous}, AbstractVector{Multiclass{3}}, AbstractVector{OrderedFactor{3}}, AbstractVector{OrderedFactor{2}}, AbstractVector{OrderedFactor{4}}}}\n",
      "│ input_scitype(model) = Table{var\"#s46\"} where var\"#s46\"<:Union{AbstractVector{var\"#s9\"} where var\"#s9\"<:Count, AbstractVector{var\"#s9\"} where var\"#s9\"<:OrderedFactor, AbstractVector{var\"#s9\"} where var\"#s9\"<:Continuous}.\n",
      "└ @ MLJBase C:\\Users\\kapil\\.julia\\packages\\MLJBase\\KWyqX\\src\\machines.jl:91\n"
     ]
    },
    {
     "name": "stderr",
     "output_type": "stream",
     "text": [
      "\u001b[33mEvaluating over 60 metamodels:  57%[==============>          ]  ETA: 0:00:16\u001b[39m┌ Warning: The scitype of `X`, in `machine(model, X, ...)` is incompatible with `model=\u001b[34mProbabilisticEnsembleModel{DecisionTreeClassifier} @908\u001b[39m`:\n",
      "│ scitype(X) = Table{Union{AbstractVector{Continuous}, AbstractVector{Multiclass{3}}, AbstractVector{OrderedFactor{3}}, AbstractVector{OrderedFactor{2}}, AbstractVector{OrderedFactor{4}}}}\n",
      "│ input_scitype(model) = Table{var\"#s46\"} where var\"#s46\"<:Union{AbstractVector{var\"#s9\"} where var\"#s9\"<:Count, AbstractVector{var\"#s9\"} where var\"#s9\"<:OrderedFactor, AbstractVector{var\"#s9\"} where var\"#s9\"<:Continuous}.\n",
      "└ @ MLJBase C:\\Users\\kapil\\.julia\\packages\\MLJBase\\KWyqX\\src\\machines.jl:91\n",
      "\u001b[33mEvaluating over 60 metamodels:  58%[==============>          ]  ETA: 0:00:16\u001b[39m┌ Warning: The scitype of `X`, in `machine(model, X, ...)` is incompatible with `model=\u001b[34mProbabilisticEnsembleModel{DecisionTreeClassifier} @288\u001b[39m`:\n",
      "│ scitype(X) = Table{Union{AbstractVector{Continuous}, AbstractVector{Multiclass{3}}, AbstractVector{OrderedFactor{3}}, AbstractVector{OrderedFactor{2}}, AbstractVector{OrderedFactor{4}}}}\n",
      "│ input_scitype(model) = Table{var\"#s46\"} where var\"#s46\"<:Union{AbstractVector{var\"#s9\"} where var\"#s9\"<:Count, AbstractVector{var\"#s9\"} where var\"#s9\"<:OrderedFactor, AbstractVector{var\"#s9\"} where var\"#s9\"<:Continuous}.\n",
      "└ @ MLJBase C:\\Users\\kapil\\.julia\\packages\\MLJBase\\KWyqX\\src\\machines.jl:91\n",
      "\u001b[33mEvaluating over 60 metamodels:  60%[===============>         ]  ETA: 0:00:15\u001b[39m┌ Warning: The scitype of `X`, in `machine(model, X, ...)` is incompatible with `model=\u001b[34mProbabilisticEnsembleModel{DecisionTreeClassifier} @035\u001b[39m`:\n",
      "│ scitype(X) = Table{Union{AbstractVector{Continuous}, AbstractVector{Multiclass{3}}, AbstractVector{OrderedFactor{3}}, AbstractVector{OrderedFactor{2}}, AbstractVector{OrderedFactor{4}}}}\n",
      "│ input_scitype(model) = Table{var\"#s46\"} where var\"#s46\"<:Union{AbstractVector{var\"#s9\"} where var\"#s9\"<:Count, AbstractVector{var\"#s9\"} where var\"#s9\"<:OrderedFactor, AbstractVector{var\"#s9\"} where var\"#s9\"<:Continuous}.\n",
      "└ @ MLJBase C:\\Users\\kapil\\.julia\\packages\\MLJBase\\KWyqX\\src\\machines.jl:91\n",
      "\u001b[33mEvaluating over 60 metamodels:  62%[===============>         ]  ETA: 0:00:14\u001b[39m┌ Warning: The scitype of `X`, in `machine(model, X, ...)` is incompatible with `model=\u001b[34mProbabilisticEnsembleModel{DecisionTreeClassifier} @849\u001b[39m`:\n",
      "│ scitype(X) = Table{Union{AbstractVector{Continuous}, AbstractVector{Multiclass{3}}, AbstractVector{OrderedFactor{3}}, AbstractVector{OrderedFactor{2}}, AbstractVector{OrderedFactor{4}}}}\n",
      "│ input_scitype(model) = Table{var\"#s46\"} where var\"#s46\"<:Union{AbstractVector{var\"#s9\"} where var\"#s9\"<:Count, AbstractVector{var\"#s9\"} where var\"#s9\"<:OrderedFactor, AbstractVector{var\"#s9\"} where var\"#s9\"<:Continuous}.\n",
      "└ @ MLJBase C:\\Users\\kapil\\.julia\\packages\\MLJBase\\KWyqX\\src\\machines.jl:91\n",
      "\u001b[33mEvaluating over 60 metamodels:  63%[===============>         ]  ETA: 0:00:14\u001b[39m┌ Warning: The scitype of `X`, in `machine(model, X, ...)` is incompatible with `model=\u001b[34mProbabilisticEnsembleModel{DecisionTreeClassifier} @011\u001b[39m`:\n",
      "│ scitype(X) = Table{Union{AbstractVector{Continuous}, AbstractVector{Multiclass{3}}, AbstractVector{OrderedFactor{3}}, AbstractVector{OrderedFactor{2}}, AbstractVector{OrderedFactor{4}}}}\n",
      "│ input_scitype(model) = Table{var\"#s46\"} where var\"#s46\"<:Union{AbstractVector{var\"#s9\"} where var\"#s9\"<:Count, AbstractVector{var\"#s9\"} where var\"#s9\"<:OrderedFactor, AbstractVector{var\"#s9\"} where var\"#s9\"<:Continuous}.\n",
      "└ @ MLJBase C:\\Users\\kapil\\.julia\\packages\\MLJBase\\KWyqX\\src\\machines.jl:91\n",
      "\u001b[33mEvaluating over 60 metamodels:  65%[================>        ]  ETA: 0:00:13\u001b[39m┌ Warning: The scitype of `X`, in `machine(model, X, ...)` is incompatible with `model=\u001b[34mProbabilisticEnsembleModel{DecisionTreeClassifier} @161\u001b[39m`:\n",
      "│ scitype(X) = Table{Union{AbstractVector{Continuous}, AbstractVector{Multiclass{3}}, AbstractVector{OrderedFactor{3}}, AbstractVector{OrderedFactor{2}}, AbstractVector{OrderedFactor{4}}}}\n",
      "│ input_scitype(model) = Table{var\"#s46\"} where var\"#s46\"<:Union{AbstractVector{var\"#s9\"} where var\"#s9\"<:Count, AbstractVector{var\"#s9\"} where var\"#s9\"<:OrderedFactor, AbstractVector{var\"#s9\"} where var\"#s9\"<:Continuous}.\n",
      "└ @ MLJBase C:\\Users\\kapil\\.julia\\packages\\MLJBase\\KWyqX\\src\\machines.jl:91\n",
      "\u001b[33mEvaluating over 60 metamodels:  67%[================>        ]  ETA: 0:00:12\u001b[39m┌ Warning: The scitype of `X`, in `machine(model, X, ...)` is incompatible with `model=\u001b[34mProbabilisticEnsembleModel{DecisionTreeClassifier} @760\u001b[39m`:\n",
      "│ scitype(X) = Table{Union{AbstractVector{Continuous}, AbstractVector{Multiclass{3}}, AbstractVector{OrderedFactor{3}}, AbstractVector{OrderedFactor{2}}, AbstractVector{OrderedFactor{4}}}}\n",
      "│ input_scitype(model) = Table{var\"#s46\"} where var\"#s46\"<:Union{AbstractVector{var\"#s9\"} where var\"#s9\"<:Count, AbstractVector{var\"#s9\"} where var\"#s9\"<:OrderedFactor, AbstractVector{var\"#s9\"} where var\"#s9\"<:Continuous}.\n",
      "└ @ MLJBase C:\\Users\\kapil\\.julia\\packages\\MLJBase\\KWyqX\\src\\machines.jl:91\n",
      "\u001b[33mEvaluating over 60 metamodels:  68%[=================>       ]  ETA: 0:00:12\u001b[39m┌ Warning: The scitype of `X`, in `machine(model, X, ...)` is incompatible with `model=\u001b[34mProbabilisticEnsembleModel{DecisionTreeClassifier} @308\u001b[39m`:\n",
      "│ scitype(X) = Table{Union{AbstractVector{Continuous}, AbstractVector{Multiclass{3}}, AbstractVector{OrderedFactor{3}}, AbstractVector{OrderedFactor{2}}, AbstractVector{OrderedFactor{4}}}}\n",
      "│ input_scitype(model) = Table{var\"#s46\"} where var\"#s46\"<:Union{AbstractVector{var\"#s9\"} where var\"#s9\"<:Count, AbstractVector{var\"#s9\"} where var\"#s9\"<:OrderedFactor, AbstractVector{var\"#s9\"} where var\"#s9\"<:Continuous}.\n",
      "└ @ MLJBase C:\\Users\\kapil\\.julia\\packages\\MLJBase\\KWyqX\\src\\machines.jl:91\n",
      "\u001b[33mEvaluating over 60 metamodels:  70%[=================>       ]  ETA: 0:00:11\u001b[39m┌ Warning: The scitype of `X`, in `machine(model, X, ...)` is incompatible with `model=\u001b[34mProbabilisticEnsembleModel{DecisionTreeClassifier} @958\u001b[39m`:\n",
      "│ scitype(X) = Table{Union{AbstractVector{Continuous}, AbstractVector{Multiclass{3}}, AbstractVector{OrderedFactor{3}}, AbstractVector{OrderedFactor{2}}, AbstractVector{OrderedFactor{4}}}}\n",
      "│ input_scitype(model) = Table{var\"#s46\"} where var\"#s46\"<:Union{AbstractVector{var\"#s9\"} where var\"#s9\"<:Count, AbstractVector{var\"#s9\"} where var\"#s9\"<:OrderedFactor, AbstractVector{var\"#s9\"} where var\"#s9\"<:Continuous}.\n",
      "└ @ MLJBase C:\\Users\\kapil\\.julia\\packages\\MLJBase\\KWyqX\\src\\machines.jl:91\n",
      "\u001b[33mEvaluating over 60 metamodels:  72%[=================>       ]  ETA: 0:00:10\u001b[39m┌ Warning: The scitype of `X`, in `machine(model, X, ...)` is incompatible with `model=\u001b[34mProbabilisticEnsembleModel{DecisionTreeClassifier} @171\u001b[39m`:\n",
      "│ scitype(X) = Table{Union{AbstractVector{Continuous}, AbstractVector{Multiclass{3}}, AbstractVector{OrderedFactor{3}}, AbstractVector{OrderedFactor{2}}, AbstractVector{OrderedFactor{4}}}}\n",
      "│ input_scitype(model) = Table{var\"#s46\"} where var\"#s46\"<:Union{AbstractVector{var\"#s9\"} where var\"#s9\"<:Count, AbstractVector{var\"#s9\"} where var\"#s9\"<:OrderedFactor, AbstractVector{var\"#s9\"} where var\"#s9\"<:Continuous}.\n",
      "└ @ MLJBase C:\\Users\\kapil\\.julia\\packages\\MLJBase\\KWyqX\\src\\machines.jl:91\n",
      "\u001b[33mEvaluating over 60 metamodels:  73%[==================>      ]  ETA: 0:00:10\u001b[39m┌ Warning: The scitype of `X`, in `machine(model, X, ...)` is incompatible with `model=\u001b[34mProbabilisticEnsembleModel{DecisionTreeClassifier} @117\u001b[39m`:\n",
      "│ scitype(X) = Table{Union{AbstractVector{Continuous}, AbstractVector{Multiclass{3}}, AbstractVector{OrderedFactor{3}}, AbstractVector{OrderedFactor{2}}, AbstractVector{OrderedFactor{4}}}}\n",
      "│ input_scitype(model) = Table{var\"#s46\"} where var\"#s46\"<:Union{AbstractVector{var\"#s9\"} where var\"#s9\"<:Count, AbstractVector{var\"#s9\"} where var\"#s9\"<:OrderedFactor, AbstractVector{var\"#s9\"} where var\"#s9\"<:Continuous}.\n",
      "└ @ MLJBase C:\\Users\\kapil\\.julia\\packages\\MLJBase\\KWyqX\\src\\machines.jl:91\n",
      "\u001b[33mEvaluating over 60 metamodels:  75%[==================>      ]  ETA: 0:00:09\u001b[39m┌ Warning: The scitype of `X`, in `machine(model, X, ...)` is incompatible with `model=\u001b[34mProbabilisticEnsembleModel{DecisionTreeClassifier} @068\u001b[39m`:\n",
      "│ scitype(X) = Table{Union{AbstractVector{Continuous}, AbstractVector{Multiclass{3}}, AbstractVector{OrderedFactor{3}}, AbstractVector{OrderedFactor{2}}, AbstractVector{OrderedFactor{4}}}}\n",
      "│ input_scitype(model) = Table{var\"#s46\"} where var\"#s46\"<:Union{AbstractVector{var\"#s9\"} where var\"#s9\"<:Count, AbstractVector{var\"#s9\"} where var\"#s9\"<:OrderedFactor, AbstractVector{var\"#s9\"} where var\"#s9\"<:Continuous}.\n",
      "└ @ MLJBase C:\\Users\\kapil\\.julia\\packages\\MLJBase\\KWyqX\\src\\machines.jl:91\n"
     ]
    },
    {
     "name": "stderr",
     "output_type": "stream",
     "text": [
      "\u001b[33mEvaluating over 60 metamodels:  77%[===================>     ]  ETA: 0:00:09\u001b[39m┌ Warning: The scitype of `X`, in `machine(model, X, ...)` is incompatible with `model=\u001b[34mProbabilisticEnsembleModel{DecisionTreeClassifier} @160\u001b[39m`:\n",
      "│ scitype(X) = Table{Union{AbstractVector{Continuous}, AbstractVector{Multiclass{3}}, AbstractVector{OrderedFactor{3}}, AbstractVector{OrderedFactor{2}}, AbstractVector{OrderedFactor{4}}}}\n",
      "│ input_scitype(model) = Table{var\"#s46\"} where var\"#s46\"<:Union{AbstractVector{var\"#s9\"} where var\"#s9\"<:Count, AbstractVector{var\"#s9\"} where var\"#s9\"<:OrderedFactor, AbstractVector{var\"#s9\"} where var\"#s9\"<:Continuous}.\n",
      "└ @ MLJBase C:\\Users\\kapil\\.julia\\packages\\MLJBase\\KWyqX\\src\\machines.jl:91\n",
      "\u001b[33mEvaluating over 60 metamodels:  78%[===================>     ]  ETA: 0:00:08\u001b[39m┌ Warning: The scitype of `X`, in `machine(model, X, ...)` is incompatible with `model=\u001b[34mProbabilisticEnsembleModel{DecisionTreeClassifier} @038\u001b[39m`:\n",
      "│ scitype(X) = Table{Union{AbstractVector{Continuous}, AbstractVector{Multiclass{3}}, AbstractVector{OrderedFactor{3}}, AbstractVector{OrderedFactor{2}}, AbstractVector{OrderedFactor{4}}}}\n",
      "│ input_scitype(model) = Table{var\"#s46\"} where var\"#s46\"<:Union{AbstractVector{var\"#s9\"} where var\"#s9\"<:Count, AbstractVector{var\"#s9\"} where var\"#s9\"<:OrderedFactor, AbstractVector{var\"#s9\"} where var\"#s9\"<:Continuous}.\n",
      "└ @ MLJBase C:\\Users\\kapil\\.julia\\packages\\MLJBase\\KWyqX\\src\\machines.jl:91\n",
      "\u001b[33mEvaluating over 60 metamodels:  80%[====================>    ]  ETA: 0:00:07\u001b[39m┌ Warning: The scitype of `X`, in `machine(model, X, ...)` is incompatible with `model=\u001b[34mProbabilisticEnsembleModel{DecisionTreeClassifier} @202\u001b[39m`:\n",
      "│ scitype(X) = Table{Union{AbstractVector{Continuous}, AbstractVector{Multiclass{3}}, AbstractVector{OrderedFactor{3}}, AbstractVector{OrderedFactor{2}}, AbstractVector{OrderedFactor{4}}}}\n",
      "│ input_scitype(model) = Table{var\"#s46\"} where var\"#s46\"<:Union{AbstractVector{var\"#s9\"} where var\"#s9\"<:Count, AbstractVector{var\"#s9\"} where var\"#s9\"<:OrderedFactor, AbstractVector{var\"#s9\"} where var\"#s9\"<:Continuous}.\n",
      "└ @ MLJBase C:\\Users\\kapil\\.julia\\packages\\MLJBase\\KWyqX\\src\\machines.jl:91\n",
      "\u001b[33mEvaluating over 60 metamodels:  82%[====================>    ]  ETA: 0:00:07\u001b[39m┌ Warning: The scitype of `X`, in `machine(model, X, ...)` is incompatible with `model=\u001b[34mProbabilisticEnsembleModel{DecisionTreeClassifier} @088\u001b[39m`:\n",
      "│ scitype(X) = Table{Union{AbstractVector{Continuous}, AbstractVector{Multiclass{3}}, AbstractVector{OrderedFactor{3}}, AbstractVector{OrderedFactor{2}}, AbstractVector{OrderedFactor{4}}}}\n",
      "│ input_scitype(model) = Table{var\"#s46\"} where var\"#s46\"<:Union{AbstractVector{var\"#s9\"} where var\"#s9\"<:Count, AbstractVector{var\"#s9\"} where var\"#s9\"<:OrderedFactor, AbstractVector{var\"#s9\"} where var\"#s9\"<:Continuous}.\n",
      "└ @ MLJBase C:\\Users\\kapil\\.julia\\packages\\MLJBase\\KWyqX\\src\\machines.jl:91\n",
      "\u001b[33mEvaluating over 60 metamodels:  83%[====================>    ]  ETA: 0:00:06\u001b[39m┌ Warning: The scitype of `X`, in `machine(model, X, ...)` is incompatible with `model=\u001b[34mProbabilisticEnsembleModel{DecisionTreeClassifier} @303\u001b[39m`:\n",
      "│ scitype(X) = Table{Union{AbstractVector{Continuous}, AbstractVector{Multiclass{3}}, AbstractVector{OrderedFactor{3}}, AbstractVector{OrderedFactor{2}}, AbstractVector{OrderedFactor{4}}}}\n",
      "│ input_scitype(model) = Table{var\"#s46\"} where var\"#s46\"<:Union{AbstractVector{var\"#s9\"} where var\"#s9\"<:Count, AbstractVector{var\"#s9\"} where var\"#s9\"<:OrderedFactor, AbstractVector{var\"#s9\"} where var\"#s9\"<:Continuous}.\n",
      "└ @ MLJBase C:\\Users\\kapil\\.julia\\packages\\MLJBase\\KWyqX\\src\\machines.jl:91\n",
      "\u001b[33mEvaluating over 60 metamodels:  85%[=====================>   ]  ETA: 0:00:06\u001b[39m┌ Warning: The scitype of `X`, in `machine(model, X, ...)` is incompatible with `model=\u001b[34mProbabilisticEnsembleModel{DecisionTreeClassifier} @585\u001b[39m`:\n",
      "│ scitype(X) = Table{Union{AbstractVector{Continuous}, AbstractVector{Multiclass{3}}, AbstractVector{OrderedFactor{3}}, AbstractVector{OrderedFactor{2}}, AbstractVector{OrderedFactor{4}}}}\n",
      "│ input_scitype(model) = Table{var\"#s46\"} where var\"#s46\"<:Union{AbstractVector{var\"#s9\"} where var\"#s9\"<:Count, AbstractVector{var\"#s9\"} where var\"#s9\"<:OrderedFactor, AbstractVector{var\"#s9\"} where var\"#s9\"<:Continuous}.\n",
      "└ @ MLJBase C:\\Users\\kapil\\.julia\\packages\\MLJBase\\KWyqX\\src\\machines.jl:91\n",
      "\u001b[33mEvaluating over 60 metamodels:  87%[=====================>   ]  ETA: 0:00:05\u001b[39m┌ Warning: The scitype of `X`, in `machine(model, X, ...)` is incompatible with `model=\u001b[34mProbabilisticEnsembleModel{DecisionTreeClassifier} @129\u001b[39m`:\n",
      "│ scitype(X) = Table{Union{AbstractVector{Continuous}, AbstractVector{Multiclass{3}}, AbstractVector{OrderedFactor{3}}, AbstractVector{OrderedFactor{2}}, AbstractVector{OrderedFactor{4}}}}\n",
      "│ input_scitype(model) = Table{var\"#s46\"} where var\"#s46\"<:Union{AbstractVector{var\"#s9\"} where var\"#s9\"<:Count, AbstractVector{var\"#s9\"} where var\"#s9\"<:OrderedFactor, AbstractVector{var\"#s9\"} where var\"#s9\"<:Continuous}.\n",
      "└ @ MLJBase C:\\Users\\kapil\\.julia\\packages\\MLJBase\\KWyqX\\src\\machines.jl:91\n",
      "\u001b[33mEvaluating over 60 metamodels:  88%[======================>  ]  ETA: 0:00:04\u001b[39m┌ Warning: The scitype of `X`, in `machine(model, X, ...)` is incompatible with `model=\u001b[34mProbabilisticEnsembleModel{DecisionTreeClassifier} @062\u001b[39m`:\n",
      "│ scitype(X) = Table{Union{AbstractVector{Continuous}, AbstractVector{Multiclass{3}}, AbstractVector{OrderedFactor{3}}, AbstractVector{OrderedFactor{2}}, AbstractVector{OrderedFactor{4}}}}\n",
      "│ input_scitype(model) = Table{var\"#s46\"} where var\"#s46\"<:Union{AbstractVector{var\"#s9\"} where var\"#s9\"<:Count, AbstractVector{var\"#s9\"} where var\"#s9\"<:OrderedFactor, AbstractVector{var\"#s9\"} where var\"#s9\"<:Continuous}.\n",
      "└ @ MLJBase C:\\Users\\kapil\\.julia\\packages\\MLJBase\\KWyqX\\src\\machines.jl:91\n",
      "\u001b[33mEvaluating over 60 metamodels:  90%[======================>  ]  ETA: 0:00:04\u001b[39m┌ Warning: The scitype of `X`, in `machine(model, X, ...)` is incompatible with `model=\u001b[34mProbabilisticEnsembleModel{DecisionTreeClassifier} @087\u001b[39m`:\n",
      "│ scitype(X) = Table{Union{AbstractVector{Continuous}, AbstractVector{Multiclass{3}}, AbstractVector{OrderedFactor{3}}, AbstractVector{OrderedFactor{2}}, AbstractVector{OrderedFactor{4}}}}\n",
      "│ input_scitype(model) = Table{var\"#s46\"} where var\"#s46\"<:Union{AbstractVector{var\"#s9\"} where var\"#s9\"<:Count, AbstractVector{var\"#s9\"} where var\"#s9\"<:OrderedFactor, AbstractVector{var\"#s9\"} where var\"#s9\"<:Continuous}.\n",
      "└ @ MLJBase C:\\Users\\kapil\\.julia\\packages\\MLJBase\\KWyqX\\src\\machines.jl:91\n",
      "\u001b[33mEvaluating over 60 metamodels:  92%[======================>  ]  ETA: 0:00:03\u001b[39m┌ Warning: The scitype of `X`, in `machine(model, X, ...)` is incompatible with `model=\u001b[34mProbabilisticEnsembleModel{DecisionTreeClassifier} @021\u001b[39m`:\n",
      "│ scitype(X) = Table{Union{AbstractVector{Continuous}, AbstractVector{Multiclass{3}}, AbstractVector{OrderedFactor{3}}, AbstractVector{OrderedFactor{2}}, AbstractVector{OrderedFactor{4}}}}\n",
      "│ input_scitype(model) = Table{var\"#s46\"} where var\"#s46\"<:Union{AbstractVector{var\"#s9\"} where var\"#s9\"<:Count, AbstractVector{var\"#s9\"} where var\"#s9\"<:OrderedFactor, AbstractVector{var\"#s9\"} where var\"#s9\"<:Continuous}.\n",
      "└ @ MLJBase C:\\Users\\kapil\\.julia\\packages\\MLJBase\\KWyqX\\src\\machines.jl:91\n",
      "\u001b[33mEvaluating over 60 metamodels:  93%[=======================> ]  ETA: 0:00:02\u001b[39m┌ Warning: The scitype of `X`, in `machine(model, X, ...)` is incompatible with `model=\u001b[34mProbabilisticEnsembleModel{DecisionTreeClassifier} @212\u001b[39m`:\n",
      "│ scitype(X) = Table{Union{AbstractVector{Continuous}, AbstractVector{Multiclass{3}}, AbstractVector{OrderedFactor{3}}, AbstractVector{OrderedFactor{2}}, AbstractVector{OrderedFactor{4}}}}\n",
      "│ input_scitype(model) = Table{var\"#s46\"} where var\"#s46\"<:Union{AbstractVector{var\"#s9\"} where var\"#s9\"<:Count, AbstractVector{var\"#s9\"} where var\"#s9\"<:OrderedFactor, AbstractVector{var\"#s9\"} where var\"#s9\"<:Continuous}.\n",
      "└ @ MLJBase C:\\Users\\kapil\\.julia\\packages\\MLJBase\\KWyqX\\src\\machines.jl:91\n",
      "\u001b[33mEvaluating over 60 metamodels:  95%[=======================> ]  ETA: 0:00:02\u001b[39m┌ Warning: The scitype of `X`, in `machine(model, X, ...)` is incompatible with `model=\u001b[34mProbabilisticEnsembleModel{DecisionTreeClassifier} @318\u001b[39m`:\n",
      "│ scitype(X) = Table{Union{AbstractVector{Continuous}, AbstractVector{Multiclass{3}}, AbstractVector{OrderedFactor{3}}, AbstractVector{OrderedFactor{2}}, AbstractVector{OrderedFactor{4}}}}\n",
      "│ input_scitype(model) = Table{var\"#s46\"} where var\"#s46\"<:Union{AbstractVector{var\"#s9\"} where var\"#s9\"<:Count, AbstractVector{var\"#s9\"} where var\"#s9\"<:OrderedFactor, AbstractVector{var\"#s9\"} where var\"#s9\"<:Continuous}.\n",
      "└ @ MLJBase C:\\Users\\kapil\\.julia\\packages\\MLJBase\\KWyqX\\src\\machines.jl:91\n"
     ]
    },
    {
     "name": "stderr",
     "output_type": "stream",
     "text": [
      "\u001b[33mEvaluating over 60 metamodels:  97%[========================>]  ETA: 0:00:01\u001b[39m┌ Warning: The scitype of `X`, in `machine(model, X, ...)` is incompatible with `model=\u001b[34mProbabilisticEnsembleModel{DecisionTreeClassifier} @004\u001b[39m`:\n",
      "│ scitype(X) = Table{Union{AbstractVector{Continuous}, AbstractVector{Multiclass{3}}, AbstractVector{OrderedFactor{3}}, AbstractVector{OrderedFactor{2}}, AbstractVector{OrderedFactor{4}}}}\n",
      "│ input_scitype(model) = Table{var\"#s46\"} where var\"#s46\"<:Union{AbstractVector{var\"#s9\"} where var\"#s9\"<:Count, AbstractVector{var\"#s9\"} where var\"#s9\"<:OrderedFactor, AbstractVector{var\"#s9\"} where var\"#s9\"<:Continuous}.\n",
      "└ @ MLJBase C:\\Users\\kapil\\.julia\\packages\\MLJBase\\KWyqX\\src\\machines.jl:91\n",
      "\u001b[33mEvaluating over 60 metamodels:  98%[========================>]  ETA: 0:00:01\u001b[39m┌ Warning: The scitype of `X`, in `machine(model, X, ...)` is incompatible with `model=\u001b[34mProbabilisticEnsembleModel{DecisionTreeClassifier} @092\u001b[39m`:\n",
      "│ scitype(X) = Table{Union{AbstractVector{Continuous}, AbstractVector{Multiclass{3}}, AbstractVector{OrderedFactor{3}}, AbstractVector{OrderedFactor{2}}, AbstractVector{OrderedFactor{4}}}}\n",
      "│ input_scitype(model) = Table{var\"#s46\"} where var\"#s46\"<:Union{AbstractVector{var\"#s9\"} where var\"#s9\"<:Count, AbstractVector{var\"#s9\"} where var\"#s9\"<:OrderedFactor, AbstractVector{var\"#s9\"} where var\"#s9\"<:Continuous}.\n",
      "└ @ MLJBase C:\\Users\\kapil\\.julia\\packages\\MLJBase\\KWyqX\\src\\machines.jl:91\n",
      "\u001b[33mEvaluating over 60 metamodels: 100%[=========================] Time: 0:00:37\u001b[39m\n",
      "┌ Warning: The scitype of `X`, in `machine(model, X, ...)` is incompatible with `model=\u001b[34mProbabilisticEnsembleModel{DecisionTreeClassifier} @236\u001b[39m`:\n",
      "│ scitype(X) = Table{Union{AbstractVector{Continuous}, AbstractVector{Multiclass{3}}, AbstractVector{OrderedFactor{3}}, AbstractVector{OrderedFactor{2}}, AbstractVector{OrderedFactor{4}}}}\n",
      "│ input_scitype(model) = Table{var\"#s46\"} where var\"#s46\"<:Union{AbstractVector{var\"#s9\"} where var\"#s9\"<:Count, AbstractVector{var\"#s9\"} where var\"#s9\"<:OrderedFactor, AbstractVector{var\"#s9\"} where var\"#s9\"<:Continuous}.\n",
      "└ @ MLJBase C:\\Users\\kapil\\.julia\\packages\\MLJBase\\KWyqX\\src\\machines.jl:91\n"
     ]
    }
   ],
   "source": [
    "r1 = range(forest, :(atom.n_subfeatures), lower=1, upper=6)\n",
    "r2 = range(forest, :bagging_fraction, lower=0.4, upper=1.0)\n",
    "tm = TunedModel(model=forest, tuning=Grid(resolution=10),\n",
    "                resampling=CV(nfolds=6), ranges=[r1, r2],\n",
    "                measure=auc)\n",
    "m = machine(tm, X, y)\n",
    "MLJ.fit!(m);"
   ]
  },
  {
   "cell_type": "code",
   "execution_count": 58,
   "id": "410c4073",
   "metadata": {},
   "outputs": [
    {
     "data": {
      "text/plain": [
       "0.9061842429542658"
      ]
     },
     "execution_count": 58,
     "metadata": {},
     "output_type": "execute_result"
    }
   ],
   "source": [
    "r = report(m)\n",
    "r.best_history_entry.measurement[1]"
   ]
  },
  {
   "cell_type": "code",
   "execution_count": 59,
   "id": "ae260256",
   "metadata": {},
   "outputs": [],
   "source": [
    "#Pkg.build(\"PyCall\")"
   ]
  },
  {
   "cell_type": "code",
   "execution_count": 60,
   "id": "a735d1de",
   "metadata": {},
   "outputs": [],
   "source": [
    "#import Pkg; Pkg.add(\"PyPlot\")\n",
    "using PyPlot"
   ]
  },
  {
   "cell_type": "code",
   "execution_count": 61,
   "id": "d13ed36c",
   "metadata": {},
   "outputs": [],
   "source": [
    "res = r.plotting\n",
    "vals_sf = res.parameter_values[:, 1]\n",
    "vals_bf = res.parameter_values[:, 2];"
   ]
  },
  {
   "cell_type": "code",
   "execution_count": 62,
   "id": "602d74cb",
   "metadata": {},
   "outputs": [
    {
     "data": {
      "image/png": "[encoded data removed]",
      "text/plain": [
       "Figure(PyObject <Figure size 1000x600 with 2 Axes>)"
      ]
     },
     "metadata": {},
     "output_type": "display_data"
    },
    {
     "data": {
      "image/png": "[encoded data removed]",
      "text/plain": [
       "Figure(PyObject <Figure size 1000x600 with 2 Axes>)"
      ]
     },
     "metadata": {},
     "output_type": "display_data"
    }
   ],
   "source": [
    "f=figure(figsize=(10,6))\n",
    "tricontourf(vals_sf, vals_bf, res.measurements, cmap=get_cmap(\"hot\"))\n",
    "xlabel(\"Number of sub-features\", fontsize=14)\n",
    "ylabel(\"Bagging fraction\", fontsize=14)\n",
    "colorbar();\n",
    "display(f)"
   ]
  },
  {
   "cell_type": "code",
   "execution_count": 63,
   "id": "3a03de74",
   "metadata": {},
   "outputs": [
    {
     "data": {
      "text/plain": [
       "(6, 0.9333333333333333)"
      ]
     },
     "execution_count": 63,
     "metadata": {},
     "output_type": "execute_result"
    }
   ],
   "source": [
    "idx = argmin(res.measurements)\n",
    "vals_sf[idx],vals_bf[idx]"
   ]
  },
  {
   "cell_type": "code",
   "execution_count": 64,
   "id": "11fc0ec0",
   "metadata": {},
   "outputs": [],
   "source": [
    "### here we got the best combination of best features : 6 sub features and 1.0 for bagging fraction) ##############"
   ]
  },
  {
   "cell_type": "code",
   "execution_count": 65,
   "id": "6e96034d",
   "metadata": {},
   "outputs": [
    {
     "name": "stderr",
     "output_type": "stream",
     "text": [
      "┌ Info: Training \u001b[34mMachine{ProbabilisticTunedModel{Grid,…},…} @920\u001b[39m.\n",
      "└ @ MLJBase C:\\Users\\kapil\\.julia\\packages\\MLJBase\\KWyqX\\src\\machines.jl:342\n",
      "┌ Info: Attempting to evaluate 30 models.\n",
      "└ @ MLJTuning C:\\Users\\kapil\\.julia\\packages\\MLJTuning\\Uj5Cx\\src\\tuned_models.jl:602\n",
      "┌ Warning: The scitype of `X`, in `machine(model, X, ...)` is incompatible with `model=\u001b[34mResampler{Holdout,…} @294\u001b[39m`:\n",
      "│ scitype(X) = Table{Union{AbstractVector{Continuous}, AbstractVector{Multiclass{3}}, AbstractVector{OrderedFactor{3}}, AbstractVector{OrderedFactor{2}}, AbstractVector{OrderedFactor{4}}}}\n",
      "│ input_scitype(model) = Table{var\"#s46\"} where var\"#s46\"<:Union{AbstractVector{var\"#s9\"} where var\"#s9\"<:Count, AbstractVector{var\"#s9\"} where var\"#s9\"<:OrderedFactor, AbstractVector{var\"#s9\"} where var\"#s9\"<:Continuous}.\n",
      "└ @ MLJBase C:\\Users\\kapil\\.julia\\packages\\MLJBase\\KWyqX\\src\\machines.jl:91\n",
      "┌ Warning: The scitype of `X`, in `machine(model, X, ...)` is incompatible with `model=\u001b[34mProbabilisticEnsembleModel{DecisionTreeClassifier} @719\u001b[39m`:\n",
      "│ scitype(X) = Table{Union{AbstractVector{Continuous}, AbstractVector{Multiclass{3}}, AbstractVector{OrderedFactor{3}}, AbstractVector{OrderedFactor{2}}, AbstractVector{OrderedFactor{4}}}}\n",
      "│ input_scitype(model) = Table{var\"#s46\"} where var\"#s46\"<:Union{AbstractVector{var\"#s9\"} where var\"#s9\"<:Count, AbstractVector{var\"#s9\"} where var\"#s9\"<:OrderedFactor, AbstractVector{var\"#s9\"} where var\"#s9\"<:Continuous}.\n",
      "└ @ MLJBase C:\\Users\\kapil\\.julia\\packages\\MLJBase\\KWyqX\\src\\machines.jl:91\n",
      "\u001b[33mEvaluating over 30 metamodels: 100%[=========================] Time: 0:00:03\u001b[39m\n",
      "┌ Warning: The scitype of `X`, in `machine(model, X, ...)` is incompatible with `model=\u001b[34mProbabilisticEnsembleModel{DecisionTreeClassifier} @719\u001b[39m`:\n",
      "│ scitype(X) = Table{Union{AbstractVector{Continuous}, AbstractVector{Multiclass{3}}, AbstractVector{OrderedFactor{3}}, AbstractVector{OrderedFactor{2}}, AbstractVector{OrderedFactor{4}}}}\n",
      "│ input_scitype(model) = Table{var\"#s46\"} where var\"#s46\"<:Union{AbstractVector{var\"#s9\"} where var\"#s9\"<:Count, AbstractVector{var\"#s9\"} where var\"#s9\"<:OrderedFactor, AbstractVector{var\"#s9\"} where var\"#s9\"<:Continuous}.\n",
      "└ @ MLJBase C:\\Users\\kapil\\.julia\\packages\\MLJBase\\KWyqX\\src\\machines.jl:91\n",
      "┌ Info: Training \u001b[34mMachine{ProbabilisticTunedModel{Grid,…},…} @210\u001b[39m.\n",
      "└ @ MLJBase C:\\Users\\kapil\\.julia\\packages\\MLJBase\\KWyqX\\src\\machines.jl:342\n",
      "┌ Info: Attempting to evaluate 30 models.\n",
      "└ @ MLJTuning C:\\Users\\kapil\\.julia\\packages\\MLJTuning\\Uj5Cx\\src\\tuned_models.jl:602\n",
      "┌ Warning: The scitype of `X`, in `machine(model, X, ...)` is incompatible with `model=\u001b[34mResampler{Holdout,…} @891\u001b[39m`:\n",
      "│ scitype(X) = Table{Union{AbstractVector{Continuous}, AbstractVector{Multiclass{3}}, AbstractVector{OrderedFactor{3}}, AbstractVector{OrderedFactor{2}}, AbstractVector{OrderedFactor{4}}}}\n",
      "│ input_scitype(model) = Table{var\"#s46\"} where var\"#s46\"<:Union{AbstractVector{var\"#s9\"} where var\"#s9\"<:Count, AbstractVector{var\"#s9\"} where var\"#s9\"<:OrderedFactor, AbstractVector{var\"#s9\"} where var\"#s9\"<:Continuous}.\n",
      "└ @ MLJBase C:\\Users\\kapil\\.julia\\packages\\MLJBase\\KWyqX\\src\\machines.jl:91\n",
      "┌ Warning: The scitype of `X`, in `machine(model, X, ...)` is incompatible with `model=\u001b[34mProbabilisticEnsembleModel{DecisionTreeClassifier} @212\u001b[39m`:\n",
      "│ scitype(X) = Table{Union{AbstractVector{Continuous}, AbstractVector{Multiclass{3}}, AbstractVector{OrderedFactor{3}}, AbstractVector{OrderedFactor{2}}, AbstractVector{OrderedFactor{4}}}}\n",
      "│ input_scitype(model) = Table{var\"#s46\"} where var\"#s46\"<:Union{AbstractVector{var\"#s9\"} where var\"#s9\"<:Count, AbstractVector{var\"#s9\"} where var\"#s9\"<:OrderedFactor, AbstractVector{var\"#s9\"} where var\"#s9\"<:Continuous}.\n",
      "└ @ MLJBase C:\\Users\\kapil\\.julia\\packages\\MLJBase\\KWyqX\\src\\machines.jl:91\n",
      "\u001b[33mEvaluating over 30 metamodels: 100%[=========================] Time: 0:00:03\u001b[39m\n",
      "┌ Warning: The scitype of `X`, in `machine(model, X, ...)` is incompatible with `model=\u001b[34mProbabilisticEnsembleModel{DecisionTreeClassifier} @866\u001b[39m`:\n",
      "│ scitype(X) = Table{Union{AbstractVector{Continuous}, AbstractVector{Multiclass{3}}, AbstractVector{OrderedFactor{3}}, AbstractVector{OrderedFactor{2}}, AbstractVector{OrderedFactor{4}}}}\n",
      "│ input_scitype(model) = Table{var\"#s46\"} where var\"#s46\"<:Union{AbstractVector{var\"#s9\"} where var\"#s9\"<:Count, AbstractVector{var\"#s9\"} where var\"#s9\"<:OrderedFactor, AbstractVector{var\"#s9\"} where var\"#s9\"<:Continuous}.\n",
      "└ @ MLJBase C:\\Users\\kapil\\.julia\\packages\\MLJBase\\KWyqX\\src\\machines.jl:91\n",
      "┌ Info: Training \u001b[34mMachine{ProbabilisticTunedModel{Grid,…},…} @757\u001b[39m.\n",
      "└ @ MLJBase C:\\Users\\kapil\\.julia\\packages\\MLJBase\\KWyqX\\src\\machines.jl:342\n",
      "┌ Info: Attempting to evaluate 30 models.\n",
      "└ @ MLJTuning C:\\Users\\kapil\\.julia\\packages\\MLJTuning\\Uj5Cx\\src\\tuned_models.jl:602\n",
      "┌ Warning: The scitype of `X`, in `machine(model, X, ...)` is incompatible with `model=\u001b[34mResampler{Holdout,…} @424\u001b[39m`:\n",
      "│ scitype(X) = Table{Union{AbstractVector{Continuous}, AbstractVector{Multiclass{3}}, AbstractVector{OrderedFactor{3}}, AbstractVector{OrderedFactor{2}}, AbstractVector{OrderedFactor{4}}}}\n",
      "│ input_scitype(model) = Table{var\"#s46\"} where var\"#s46\"<:Union{AbstractVector{var\"#s9\"} where var\"#s9\"<:Count, AbstractVector{var\"#s9\"} where var\"#s9\"<:OrderedFactor, AbstractVector{var\"#s9\"} where var\"#s9\"<:Continuous}.\n",
      "└ @ MLJBase C:\\Users\\kapil\\.julia\\packages\\MLJBase\\KWyqX\\src\\machines.jl:91\n",
      "┌ Warning: The scitype of `X`, in `machine(model, X, ...)` is incompatible with `model=\u001b[34mProbabilisticEnsembleModel{DecisionTreeClassifier} @238\u001b[39m`:\n",
      "│ scitype(X) = Table{Union{AbstractVector{Continuous}, AbstractVector{Multiclass{3}}, AbstractVector{OrderedFactor{3}}, AbstractVector{OrderedFactor{2}}, AbstractVector{OrderedFactor{4}}}}\n",
      "│ input_scitype(model) = Table{var\"#s46\"} where var\"#s46\"<:Union{AbstractVector{var\"#s9\"} where var\"#s9\"<:Count, AbstractVector{var\"#s9\"} where var\"#s9\"<:OrderedFactor, AbstractVector{var\"#s9\"} where var\"#s9\"<:Continuous}.\n",
      "└ @ MLJBase C:\\Users\\kapil\\.julia\\packages\\MLJBase\\KWyqX\\src\\machines.jl:91\n",
      "\u001b[33mEvaluating over 30 metamodels: 100%[=========================] Time: 0:00:03\u001b[39m\n",
      "┌ Warning: The scitype of `X`, in `machine(model, X, ...)` is incompatible with `model=\u001b[34mProbabilisticEnsembleModel{DecisionTreeClassifier} @383\u001b[39m`:\n",
      "│ scitype(X) = Table{Union{AbstractVector{Continuous}, AbstractVector{Multiclass{3}}, AbstractVector{OrderedFactor{3}}, AbstractVector{OrderedFactor{2}}, AbstractVector{OrderedFactor{4}}}}\n",
      "│ input_scitype(model) = Table{var\"#s46\"} where var\"#s46\"<:Union{AbstractVector{var\"#s9\"} where var\"#s9\"<:Count, AbstractVector{var\"#s9\"} where var\"#s9\"<:OrderedFactor, AbstractVector{var\"#s9\"} where var\"#s9\"<:Continuous}.\n",
      "└ @ MLJBase C:\\Users\\kapil\\.julia\\packages\\MLJBase\\KWyqX\\src\\machines.jl:91\n",
      "┌ Info: Training \u001b[34mMachine{ProbabilisticTunedModel{Grid,…},…} @288\u001b[39m.\n",
      "└ @ MLJBase C:\\Users\\kapil\\.julia\\packages\\MLJBase\\KWyqX\\src\\machines.jl:342\n",
      "┌ Info: Attempting to evaluate 30 models.\n",
      "└ @ MLJTuning C:\\Users\\kapil\\.julia\\packages\\MLJTuning\\Uj5Cx\\src\\tuned_models.jl:602\n",
      "┌ Warning: The scitype of `X`, in `machine(model, X, ...)` is incompatible with `model=\u001b[34mResampler{Holdout,…} @178\u001b[39m`:\n",
      "│ scitype(X) = Table{Union{AbstractVector{Continuous}, AbstractVector{Multiclass{3}}, AbstractVector{OrderedFactor{3}}, AbstractVector{OrderedFactor{2}}, AbstractVector{OrderedFactor{4}}}}\n",
      "│ input_scitype(model) = Table{var\"#s46\"} where var\"#s46\"<:Union{AbstractVector{var\"#s9\"} where var\"#s9\"<:Count, AbstractVector{var\"#s9\"} where var\"#s9\"<:OrderedFactor, AbstractVector{var\"#s9\"} where var\"#s9\"<:Continuous}.\n",
      "└ @ MLJBase C:\\Users\\kapil\\.julia\\packages\\MLJBase\\KWyqX\\src\\machines.jl:91\n",
      "┌ Warning: The scitype of `X`, in `machine(model, X, ...)` is incompatible with `model=\u001b[34mProbabilisticEnsembleModel{DecisionTreeClassifier} @424\u001b[39m`:\n",
      "│ scitype(X) = Table{Union{AbstractVector{Continuous}, AbstractVector{Multiclass{3}}, AbstractVector{OrderedFactor{3}}, AbstractVector{OrderedFactor{2}}, AbstractVector{OrderedFactor{4}}}}\n",
      "│ input_scitype(model) = Table{var\"#s46\"} where var\"#s46\"<:Union{AbstractVector{var\"#s9\"} where var\"#s9\"<:Count, AbstractVector{var\"#s9\"} where var\"#s9\"<:OrderedFactor, AbstractVector{var\"#s9\"} where var\"#s9\"<:Continuous}.\n",
      "└ @ MLJBase C:\\Users\\kapil\\.julia\\packages\\MLJBase\\KWyqX\\src\\machines.jl:91\n"
     ]
    },
    {
     "name": "stderr",
     "output_type": "stream",
     "text": [
      "\u001b[33mEvaluating over 30 metamodels: 100%[=========================] Time: 0:00:03\u001b[39m\n",
      "┌ Warning: The scitype of `X`, in `machine(model, X, ...)` is incompatible with `model=\u001b[34mProbabilisticEnsembleModel{DecisionTreeClassifier} @938\u001b[39m`:\n",
      "│ scitype(X) = Table{Union{AbstractVector{Continuous}, AbstractVector{Multiclass{3}}, AbstractVector{OrderedFactor{3}}, AbstractVector{OrderedFactor{2}}, AbstractVector{OrderedFactor{4}}}}\n",
      "│ input_scitype(model) = Table{var\"#s46\"} where var\"#s46\"<:Union{AbstractVector{var\"#s9\"} where var\"#s9\"<:Count, AbstractVector{var\"#s9\"} where var\"#s9\"<:OrderedFactor, AbstractVector{var\"#s9\"} where var\"#s9\"<:Continuous}.\n",
      "└ @ MLJBase C:\\Users\\kapil\\.julia\\packages\\MLJBase\\KWyqX\\src\\machines.jl:91\n",
      "┌ Info: Training \u001b[34mMachine{ProbabilisticTunedModel{Grid,…},…} @408\u001b[39m.\n",
      "└ @ MLJBase C:\\Users\\kapil\\.julia\\packages\\MLJBase\\KWyqX\\src\\machines.jl:342\n",
      "┌ Info: Attempting to evaluate 30 models.\n",
      "└ @ MLJTuning C:\\Users\\kapil\\.julia\\packages\\MLJTuning\\Uj5Cx\\src\\tuned_models.jl:602\n",
      "┌ Warning: The scitype of `X`, in `machine(model, X, ...)` is incompatible with `model=\u001b[34mResampler{Holdout,…} @359\u001b[39m`:\n",
      "│ scitype(X) = Table{Union{AbstractVector{Continuous}, AbstractVector{Multiclass{3}}, AbstractVector{OrderedFactor{3}}, AbstractVector{OrderedFactor{2}}, AbstractVector{OrderedFactor{4}}}}\n",
      "│ input_scitype(model) = Table{var\"#s46\"} where var\"#s46\"<:Union{AbstractVector{var\"#s9\"} where var\"#s9\"<:Count, AbstractVector{var\"#s9\"} where var\"#s9\"<:OrderedFactor, AbstractVector{var\"#s9\"} where var\"#s9\"<:Continuous}.\n",
      "└ @ MLJBase C:\\Users\\kapil\\.julia\\packages\\MLJBase\\KWyqX\\src\\machines.jl:91\n",
      "┌ Warning: The scitype of `X`, in `machine(model, X, ...)` is incompatible with `model=\u001b[34mProbabilisticEnsembleModel{DecisionTreeClassifier} @439\u001b[39m`:\n",
      "│ scitype(X) = Table{Union{AbstractVector{Continuous}, AbstractVector{Multiclass{3}}, AbstractVector{OrderedFactor{3}}, AbstractVector{OrderedFactor{2}}, AbstractVector{OrderedFactor{4}}}}\n",
      "│ input_scitype(model) = Table{var\"#s46\"} where var\"#s46\"<:Union{AbstractVector{var\"#s9\"} where var\"#s9\"<:Count, AbstractVector{var\"#s9\"} where var\"#s9\"<:OrderedFactor, AbstractVector{var\"#s9\"} where var\"#s9\"<:Continuous}.\n",
      "└ @ MLJBase C:\\Users\\kapil\\.julia\\packages\\MLJBase\\KWyqX\\src\\machines.jl:91\n",
      "\u001b[33mEvaluating over 30 metamodels: 100%[=========================] Time: 0:00:03\u001b[39m\n",
      "┌ Warning: The scitype of `X`, in `machine(model, X, ...)` is incompatible with `model=\u001b[34mProbabilisticEnsembleModel{DecisionTreeClassifier} @719\u001b[39m`:\n",
      "│ scitype(X) = Table{Union{AbstractVector{Continuous}, AbstractVector{Multiclass{3}}, AbstractVector{OrderedFactor{3}}, AbstractVector{OrderedFactor{2}}, AbstractVector{OrderedFactor{4}}}}\n",
      "│ input_scitype(model) = Table{var\"#s46\"} where var\"#s46\"<:Union{AbstractVector{var\"#s9\"} where var\"#s9\"<:Count, AbstractVector{var\"#s9\"} where var\"#s9\"<:OrderedFactor, AbstractVector{var\"#s9\"} where var\"#s9\"<:Continuous}.\n",
      "└ @ MLJBase C:\\Users\\kapil\\.julia\\packages\\MLJBase\\KWyqX\\src\\machines.jl:91\n",
      "┌ Info: Training \u001b[34mMachine{ProbabilisticTunedModel{Grid,…},…} @757\u001b[39m.\n",
      "└ @ MLJBase C:\\Users\\kapil\\.julia\\packages\\MLJBase\\KWyqX\\src\\machines.jl:342\n",
      "┌ Info: Attempting to evaluate 30 models.\n",
      "└ @ MLJTuning C:\\Users\\kapil\\.julia\\packages\\MLJTuning\\Uj5Cx\\src\\tuned_models.jl:602\n",
      "┌ Warning: The scitype of `X`, in `machine(model, X, ...)` is incompatible with `model=\u001b[34mResampler{Holdout,…} @433\u001b[39m`:\n",
      "│ scitype(X) = Table{Union{AbstractVector{Continuous}, AbstractVector{Multiclass{3}}, AbstractVector{OrderedFactor{3}}, AbstractVector{OrderedFactor{2}}, AbstractVector{OrderedFactor{4}}}}\n",
      "│ input_scitype(model) = Table{var\"#s46\"} where var\"#s46\"<:Union{AbstractVector{var\"#s9\"} where var\"#s9\"<:Count, AbstractVector{var\"#s9\"} where var\"#s9\"<:OrderedFactor, AbstractVector{var\"#s9\"} where var\"#s9\"<:Continuous}.\n",
      "└ @ MLJBase C:\\Users\\kapil\\.julia\\packages\\MLJBase\\KWyqX\\src\\machines.jl:91\n",
      "┌ Warning: The scitype of `X`, in `machine(model, X, ...)` is incompatible with `model=\u001b[34mProbabilisticEnsembleModel{DecisionTreeClassifier} @472\u001b[39m`:\n",
      "│ scitype(X) = Table{Union{AbstractVector{Continuous}, AbstractVector{Multiclass{3}}, AbstractVector{OrderedFactor{3}}, AbstractVector{OrderedFactor{2}}, AbstractVector{OrderedFactor{4}}}}\n",
      "│ input_scitype(model) = Table{var\"#s46\"} where var\"#s46\"<:Union{AbstractVector{var\"#s9\"} where var\"#s9\"<:Count, AbstractVector{var\"#s9\"} where var\"#s9\"<:OrderedFactor, AbstractVector{var\"#s9\"} where var\"#s9\"<:Continuous}.\n",
      "└ @ MLJBase C:\\Users\\kapil\\.julia\\packages\\MLJBase\\KWyqX\\src\\machines.jl:91\n",
      "\u001b[33mEvaluating over 30 metamodels: 100%[=========================] Time: 0:00:02\u001b[39m\n",
      "┌ Warning: The scitype of `X`, in `machine(model, X, ...)` is incompatible with `model=\u001b[34mProbabilisticEnsembleModel{DecisionTreeClassifier} @332\u001b[39m`:\n",
      "│ scitype(X) = Table{Union{AbstractVector{Continuous}, AbstractVector{Multiclass{3}}, AbstractVector{OrderedFactor{3}}, AbstractVector{OrderedFactor{2}}, AbstractVector{OrderedFactor{4}}}}\n",
      "│ input_scitype(model) = Table{var\"#s46\"} where var\"#s46\"<:Union{AbstractVector{var\"#s9\"} where var\"#s9\"<:Count, AbstractVector{var\"#s9\"} where var\"#s9\"<:OrderedFactor, AbstractVector{var\"#s9\"} where var\"#s9\"<:Continuous}.\n",
      "└ @ MLJBase C:\\Users\\kapil\\.julia\\packages\\MLJBase\\KWyqX\\src\\machines.jl:91\n",
      "┌ Info: Training \u001b[34mMachine{ProbabilisticTunedModel{Grid,…},…} @419\u001b[39m.\n",
      "└ @ MLJBase C:\\Users\\kapil\\.julia\\packages\\MLJBase\\KWyqX\\src\\machines.jl:342\n",
      "┌ Info: Attempting to evaluate 30 models.\n",
      "└ @ MLJTuning C:\\Users\\kapil\\.julia\\packages\\MLJTuning\\Uj5Cx\\src\\tuned_models.jl:602\n",
      "┌ Warning: The scitype of `X`, in `machine(model, X, ...)` is incompatible with `model=\u001b[34mResampler{Holdout,…} @312\u001b[39m`:\n",
      "│ scitype(X) = Table{Union{AbstractVector{Continuous}, AbstractVector{Multiclass{3}}, AbstractVector{OrderedFactor{3}}, AbstractVector{OrderedFactor{2}}, AbstractVector{OrderedFactor{4}}}}\n",
      "│ input_scitype(model) = Table{var\"#s46\"} where var\"#s46\"<:Union{AbstractVector{var\"#s9\"} where var\"#s9\"<:Count, AbstractVector{var\"#s9\"} where var\"#s9\"<:OrderedFactor, AbstractVector{var\"#s9\"} where var\"#s9\"<:Continuous}.\n",
      "└ @ MLJBase C:\\Users\\kapil\\.julia\\packages\\MLJBase\\KWyqX\\src\\machines.jl:91\n",
      "┌ Warning: The scitype of `X`, in `machine(model, X, ...)` is incompatible with `model=\u001b[34mProbabilisticEnsembleModel{DecisionTreeClassifier} @283\u001b[39m`:\n",
      "│ scitype(X) = Table{Union{AbstractVector{Continuous}, AbstractVector{Multiclass{3}}, AbstractVector{OrderedFactor{3}}, AbstractVector{OrderedFactor{2}}, AbstractVector{OrderedFactor{4}}}}\n",
      "│ input_scitype(model) = Table{var\"#s46\"} where var\"#s46\"<:Union{AbstractVector{var\"#s9\"} where var\"#s9\"<:Count, AbstractVector{var\"#s9\"} where var\"#s9\"<:OrderedFactor, AbstractVector{var\"#s9\"} where var\"#s9\"<:Continuous}.\n",
      "└ @ MLJBase C:\\Users\\kapil\\.julia\\packages\\MLJBase\\KWyqX\\src\\machines.jl:91\n",
      "\u001b[33mEvaluating over 30 metamodels: 100%[=========================] Time: 0:00:02\u001b[39m"
     ]
    },
    {
     "name": "stdout",
     "output_type": "stream",
     "text": [
      "  2.970 s (29413358 allocations: 2.03 GiB)\n"
     ]
    },
    {
     "name": "stderr",
     "output_type": "stream",
     "text": [
      "\n",
      "┌ Warning: The scitype of `X`, in `machine(model, X, ...)` is incompatible with `model=\u001b[34mProbabilisticEnsembleModel{DecisionTreeClassifier} @919\u001b[39m`:\n",
      "│ scitype(X) = Table{Union{AbstractVector{Continuous}, AbstractVector{Multiclass{3}}, AbstractVector{OrderedFactor{3}}, AbstractVector{OrderedFactor{2}}, AbstractVector{OrderedFactor{4}}}}\n",
      "│ input_scitype(model) = Table{var\"#s46\"} where var\"#s46\"<:Union{AbstractVector{var\"#s9\"} where var\"#s9\"<:Count, AbstractVector{var\"#s9\"} where var\"#s9\"<:OrderedFactor, AbstractVector{var\"#s9\"} where var\"#s9\"<:Continuous}.\n",
      "└ @ MLJBase C:\\Users\\kapil\\.julia\\packages\\MLJBase\\KWyqX\\src\\machines.jl:91\n"
     ]
    }
   ],
   "source": [
    "using BenchmarkTools\n",
    "@btime learning_curve!(mach, resampling=Holdout(fraction_train=0.8),\n",
    "                         range=range(forest, :bagging_fraction, lower=0.1, upper=1.0), measure=auc);"
   ]
  }
 ],
 "metadata": {
  "kernelspec": {
   "display_name": "Julia 1.6.3",
   "language": "julia",
   "name": "julia-1.6"
  },
  "language_info": {
   "file_extension": ".jl",
   "mimetype": "application/julia",
   "name": "julia",
   "version": "1.6.3"
  }
 },
 "nbformat": 4,
 "nbformat_minor": 5
}

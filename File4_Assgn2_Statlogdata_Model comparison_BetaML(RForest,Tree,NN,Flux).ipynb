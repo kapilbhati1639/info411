{
 "cells": [
  {
   "cell_type": "code",
   "execution_count": 168,
   "id": "af4a6168",
   "metadata": {},
   "outputs": [
    {
     "data": {
      "text/html": [
       "<table class=\"data-frame\"><thead><tr><th></th><th>variable</th><th>mean</th><th>min</th><th>median</th><th>max</th><th>nmissing</th><th>eltype</th></tr><tr><th></th><th>Symbol</th><th>Float64</th><th>Real</th><th>Float64</th><th>Real</th><th>Int64</th><th>DataType</th></tr></thead><tbody><p>14 rows × 7 columns</p><tr><th>1</th><td>age</td><td>54.4333</td><td>29.0</td><td>55.0</td><td>77.0</td><td>0</td><td>Float64</td></tr><tr><th>2</th><td>sex</td><td>0.677778</td><td>0.0</td><td>1.0</td><td>1.0</td><td>0</td><td>Float64</td></tr><tr><th>3</th><td>chest_pain</td><td>3.17407</td><td>1.0</td><td>3.0</td><td>4.0</td><td>0</td><td>Float64</td></tr><tr><th>4</th><td>rest_bp</td><td>131.344</td><td>94.0</td><td>130.0</td><td>200.0</td><td>0</td><td>Float64</td></tr><tr><th>5</th><td>serum_cholestrol</td><td>249.659</td><td>126.0</td><td>245.0</td><td>564.0</td><td>0</td><td>Float64</td></tr><tr><th>6</th><td>fasting_blood_sugar</td><td>0.148148</td><td>0.0</td><td>0.0</td><td>1.0</td><td>0</td><td>Float64</td></tr><tr><th>7</th><td>rest_ECG</td><td>1.02222</td><td>0.0</td><td>2.0</td><td>2.0</td><td>0</td><td>Float64</td></tr><tr><th>8</th><td>max_HR</td><td>149.678</td><td>71.0</td><td>153.5</td><td>202.0</td><td>0</td><td>Float64</td></tr><tr><th>9</th><td>ex_ind_ang</td><td>0.32963</td><td>0.0</td><td>0.0</td><td>1.0</td><td>0</td><td>Float64</td></tr><tr><th>10</th><td>oldpeak</td><td>1.05</td><td>0.0</td><td>0.8</td><td>6.2</td><td>0</td><td>Float64</td></tr><tr><th>11</th><td>slope</td><td>1.58519</td><td>1.0</td><td>2.0</td><td>3.0</td><td>0</td><td>Float64</td></tr><tr><th>12</th><td>major_vessel</td><td>0.67037</td><td>0.0</td><td>0.0</td><td>3.0</td><td>0</td><td>Float64</td></tr><tr><th>13</th><td>thal</td><td>4.6963</td><td>3.0</td><td>3.0</td><td>7.0</td><td>0</td><td>Float64</td></tr><tr><th>14</th><td>heart_dis</td><td>1.44444</td><td>1</td><td>1.0</td><td>2</td><td>0</td><td>Int64</td></tr></tbody></table>"
      ],
      "text/latex": [
       "\\begin{tabular}{r|ccccccc}\n",
       "\t& variable & mean & min & median & max & nmissing & eltype\\\\\n",
       "\t\\hline\n",
       "\t& Symbol & Float64 & Real & Float64 & Real & Int64 & DataType\\\\\n",
       "\t\\hline\n",
       "\t1 & age & 54.4333 & 29.0 & 55.0 & 77.0 & 0 & Float64 \\\\\n",
       "\t2 & sex & 0.677778 & 0.0 & 1.0 & 1.0 & 0 & Float64 \\\\\n",
       "\t3 & chest\\_pain & 3.17407 & 1.0 & 3.0 & 4.0 & 0 & Float64 \\\\\n",
       "\t4 & rest\\_bp & 131.344 & 94.0 & 130.0 & 200.0 & 0 & Float64 \\\\\n",
       "\t5 & serum\\_cholestrol & 249.659 & 126.0 & 245.0 & 564.0 & 0 & Float64 \\\\\n",
       "\t6 & fasting\\_blood\\_sugar & 0.148148 & 0.0 & 0.0 & 1.0 & 0 & Float64 \\\\\n",
       "\t7 & rest\\_ECG & 1.02222 & 0.0 & 2.0 & 2.0 & 0 & Float64 \\\\\n",
       "\t8 & max\\_HR & 149.678 & 71.0 & 153.5 & 202.0 & 0 & Float64 \\\\\n",
       "\t9 & ex\\_ind\\_ang & 0.32963 & 0.0 & 0.0 & 1.0 & 0 & Float64 \\\\\n",
       "\t10 & oldpeak & 1.05 & 0.0 & 0.8 & 6.2 & 0 & Float64 \\\\\n",
       "\t11 & slope & 1.58519 & 1.0 & 2.0 & 3.0 & 0 & Float64 \\\\\n",
       "\t12 & major\\_vessel & 0.67037 & 0.0 & 0.0 & 3.0 & 0 & Float64 \\\\\n",
       "\t13 & thal & 4.6963 & 3.0 & 3.0 & 7.0 & 0 & Float64 \\\\\n",
       "\t14 & heart\\_dis & 1.44444 & 1 & 1.0 & 2 & 0 & Int64 \\\\\n",
       "\\end{tabular}\n"
      ],
      "text/plain": [
       "\u001b[1m14×7 DataFrame\u001b[0m\n",
       "\u001b[1m Row \u001b[0m│\u001b[1m variable            \u001b[0m\u001b[1m mean       \u001b[0m\u001b[1m min   \u001b[0m\u001b[1m median  \u001b[0m\u001b[1m max   \u001b[0m\u001b[1m nmissing \u001b[0m\u001b[1m eltyp\u001b[0m ⋯\n",
       "\u001b[1m     \u001b[0m│\u001b[90m Symbol              \u001b[0m\u001b[90m Float64    \u001b[0m\u001b[90m Real  \u001b[0m\u001b[90m Float64 \u001b[0m\u001b[90m Real  \u001b[0m\u001b[90m Int64    \u001b[0m\u001b[90m DataT\u001b[0m ⋯\n",
       "─────┼──────────────────────────────────────────────────────────────────────────\n",
       "   1 │ age                   54.4333     29.0     55.0   77.0         0  Float ⋯\n",
       "   2 │ sex                    0.677778    0.0      1.0    1.0         0  Float\n",
       "   3 │ chest_pain             3.17407     1.0      3.0    4.0         0  Float\n",
       "   4 │ rest_bp              131.344      94.0    130.0  200.0         0  Float\n",
       "   5 │ serum_cholestrol     249.659     126.0    245.0  564.0         0  Float ⋯\n",
       "   6 │ fasting_blood_sugar    0.148148    0.0      0.0    1.0         0  Float\n",
       "   7 │ rest_ECG               1.02222     0.0      2.0    2.0         0  Float\n",
       "   8 │ max_HR               149.678      71.0    153.5  202.0         0  Float\n",
       "   9 │ ex_ind_ang             0.32963     0.0      0.0    1.0         0  Float ⋯\n",
       "  10 │ oldpeak                1.05        0.0      0.8    6.2         0  Float\n",
       "  11 │ slope                  1.58519     1.0      2.0    3.0         0  Float\n",
       "  12 │ major_vessel           0.67037     0.0      0.0    3.0         0  Float\n",
       "  13 │ thal                   4.6963      3.0      3.0    7.0         0  Float ⋯\n",
       "  14 │ heart_dis              1.44444       1      1.0      2         0  Int64\n",
       "\u001b[36m                                                                1 column omitted\u001b[0m"
      ]
     },
     "execution_count": 168,
     "metadata": {},
     "output_type": "execute_result"
    }
   ],
   "source": [
    "using UrlDownload, Plots, DataFrames, Random,BenchmarkTools, BetaML\n",
    "import DecisionTree, Flux\n",
    "\n",
    "\n",
    "url = \"https://archive.ics.uci.edu/ml/machine-learning-databases/statlog/heart/heart.dat\";\n",
    "feature_names = [\"age\", \"sex\", \"chest_pain\", \"rest_bp\", \"serum_cholestrol\", \"fasting_blood_sugar\", \"rest_ECG\", \"max_HR\", \"ex_ind_ang\", \"oldpeak\",\n",
    "\"slope\", \"major_vessel\", \"thal\",\"heart_dis\"]\n",
    "data = urldownload(url, true, format = :CSV, header = feature_names);\n",
    "s_log = DataFrame(data)\n",
    "describe(s_log)\n"
   ]
  },
  {
   "cell_type": "code",
   "execution_count": 169,
   "id": "1e807ebf",
   "metadata": {},
   "outputs": [],
   "source": [
    "#import Pkg; Pkg.add(\"BenchmarkTools\")"
   ]
  },
  {
   "cell_type": "code",
   "execution_count": 170,
   "id": "ca7fe09d",
   "metadata": {},
   "outputs": [],
   "source": [
    "x     = Matrix{Union{Missing,Float64}}(s_log[:,1:13]);\n",
    "y     = Vector{Int64}(s_log[:,14]);"
   ]
  },
  {
   "cell_type": "code",
   "execution_count": 171,
   "id": "3d11a477",
   "metadata": {},
   "outputs": [
    {
     "name": "stdout",
     "output_type": "stream",
     "text": [
      "Iter. 1:\tVar. of the post  13.914203140512832 \t  Log-likelihood -7709.961707028344\n"
     ]
    }
   ],
   "source": [
    "xFull = predictMissing(x,rng=copy(FIXEDRNG)).X̂;\n"
   ]
  },
  {
   "cell_type": "code",
   "execution_count": 172,
   "id": "16a0a45e",
   "metadata": {},
   "outputs": [],
   "source": [
    "y_oh  = oneHotEncoder(y);"
   ]
  },
  {
   "cell_type": "code",
   "execution_count": 173,
   "id": "06f1880a",
   "metadata": {},
   "outputs": [],
   "source": [
    "((xtrain,xtest),(xtrainFull,xtestFull),(ytrain,ytest),(ytrain_oh,ytest_oh)) = partition([x,xFull,y,y_oh],[0.8,1-0.8],rng=copy(FIXEDRNG));"
   ]
  },
  {
   "cell_type": "code",
   "execution_count": 174,
   "id": "08901431",
   "metadata": {},
   "outputs": [],
   "source": [
    "myForest = buildForest(xtrain,ytrain,30, rng=copy(FIXEDRNG),forceClassification=true);"
   ]
  },
  {
   "cell_type": "code",
   "execution_count": 175,
   "id": "21798a7a",
   "metadata": {},
   "outputs": [],
   "source": [
    "ŷtrain,ŷtest   = predict.(Ref(myForest), [xtrain,xtest],rng=copy(FIXEDRNG));"
   ]
  },
  {
   "cell_type": "code",
   "execution_count": 176,
   "id": "ed52b3e0",
   "metadata": {},
   "outputs": [
    {
     "data": {
      "text/plain": [
       "2-element Vector{Float64}:\n",
       " 0.9953703703703703\n",
       " 0.7777777777777778"
      ]
     },
     "execution_count": 176,
     "metadata": {},
     "output_type": "execute_result"
    }
   ],
   "source": [
    "trainAccuracy,testAccuracy  = accuracy.([parse.(Int64,mode(ŷtrain,rng=copy(FIXEDRNG))),parse.(Int64,mode(ŷtest,rng=copy(FIXEDRNG)))],[ytrain,ytest])"
   ]
  },
  {
   "cell_type": "code",
   "execution_count": 119,
   "id": "0f4edb45",
   "metadata": {
    "scrolled": true
   },
   "outputs": [
    {
     "data": {
      "text/plain": [
       "3×3 Matrix{Any}:\n",
       " \"Labels\"     \"Absent\"    \"Present\"\n",
       " \"Absent\"   27           6\n",
       " \"Present\"   6          15"
      ]
     },
     "metadata": {},
     "output_type": "display_data"
    },
    {
     "data": {
      "text/plain": [
       "3×3 Matrix{Any}:\n",
       " \"Labels\"    \"Absent\"   \"Present\"\n",
       " \"Absent\"   0.818182   0.181818\n",
       " \"Present\"  0.285714   0.714286"
      ]
     },
     "metadata": {},
     "output_type": "display_data"
    },
    {
     "name": "stdout",
     "output_type": "stream",
     "text": [
      "\n",
      "-----------------------------------------------------------------\n",
      "\n",
      "*** CONFUSION MATRIX ***\n",
      "\n",
      "Scores actual (rows) vs predicted (columns):\n",
      "\n",
      "\n",
      "Normalised scores actual (rows) vs predicted (columns):\n",
      "\n",
      "\n",
      " *** CONFUSION REPORT ***\n",
      "\n",
      "- Accuracy:               0.7777777777777778\n",
      "- Misclassification rate: 0.2222222222222222\n",
      "- Number of classes:      2\n",
      "\n",
      "  N Class   precision   recall  specificity  f1Score  actualCount  predictedCount\n",
      "                          TPR       TNR                 support                  \n",
      "\n",
      "  1 Absent      0.818    0.818        0.714    0.818           33              33\n",
      "  2 Present     0.714    0.714        0.818    0.714           21              21\n",
      "\n",
      "- Simple   avg.    0.766    0.766        0.766    0.766\n",
      "- Weigthed avg.    0.778    0.778        0.755    0.778\n",
      "\n",
      "-----------------------------------------------------------------\n"
     ]
    }
   ],
   "source": [
    "cm = ConfusionMatrix(parse.(Int64,mode(ŷtest,rng=copy(FIXEDRNG))),ytest,classes=[1,2],labels=[\"Absent\",\"Present\"])\n",
    "print(cm;what=\"all\")"
   ]
  },
  {
   "cell_type": "code",
   "execution_count": null,
   "id": "655e1445",
   "metadata": {},
   "outputs": [],
   "source": []
  },
  {
   "cell_type": "code",
   "execution_count": 120,
   "id": "f0f80ec4",
   "metadata": {},
   "outputs": [],
   "source": [
    "####Now compare it with Decision Tree"
   ]
  },
  {
   "cell_type": "code",
   "execution_count": 121,
   "id": "d8084c5e",
   "metadata": {},
   "outputs": [
    {
     "data": {
      "text/plain": [
       "2-element Vector{Float64}:\n",
       " 0.9861111111111112\n",
       " 0.7777777777777778"
      ]
     },
     "execution_count": 121,
     "metadata": {},
     "output_type": "execute_result"
    }
   ],
   "source": [
    "#train the model\n",
    "model = DecisionTree.build_forest(ytrain, xtrainFull,-1,30,rng=123)\n",
    "# generate predictions and measure their error\n",
    "(ŷtrain,ŷtest) = DecisionTree.apply_forest.([model],[xtrainFull,xtestFull]);\n",
    "(trainAccuracy,testAccuracy) = accuracy.([ŷtrain,ŷtest],[ytrain,ytest])"
   ]
  },
  {
   "cell_type": "code",
   "execution_count": null,
   "id": "e8021f57",
   "metadata": {},
   "outputs": [],
   "source": []
  },
  {
   "cell_type": "code",
   "execution_count": 122,
   "id": "8bb6b278",
   "metadata": {},
   "outputs": [],
   "source": [
    "########## Neural Network ############"
   ]
  },
  {
   "cell_type": "code",
   "execution_count": 123,
   "id": "e0b031aa",
   "metadata": {},
   "outputs": [
    {
     "data": {
      "text/plain": [
       "2"
      ]
     },
     "execution_count": 123,
     "metadata": {},
     "output_type": "execute_result"
    }
   ],
   "source": [
    "xScaleFactors   = getScaleFactors(xtrainFull)\n",
    "D               = size(xtrainFull,2)\n",
    "classes         = unique(y)\n",
    "nCl             = length(classes)"
   ]
  },
  {
   "cell_type": "code",
   "execution_count": 124,
   "id": "e396f353",
   "metadata": {},
   "outputs": [
    {
     "data": {
      "text/plain": [
       "DenseLayer([-0.21670047185742425 0.11485258740575172 … 0.015708445469304444 -0.143712203658498; -0.09002285443322663 -0.3106534072484348 … 0.24140674578878807 -0.0467179750052083], [0.03062628460300243, 0.09404664993620965], BetaML.Utils.relu, nothing)"
      ]
     },
     "execution_count": 124,
     "metadata": {},
     "output_type": "execute_result"
    }
   ],
   "source": [
    "ls   = 50\n",
    "l1   = DenseLayer(D,ls,f=relu,rng=copy(FIXEDRNG))\n",
    "l2   = DenseLayer(ls,nCl,f=relu,rng=copy(FIXEDRNG))"
   ]
  },
  {
   "cell_type": "code",
   "execution_count": 125,
   "id": "f55a087a",
   "metadata": {},
   "outputs": [
    {
     "data": {
      "text/plain": [
       "VectorFunctionLayer{0}(fill(NaN), 2, 2, BetaML.Utils.softmax, nothing, nothing)"
      ]
     },
     "execution_count": 125,
     "metadata": {},
     "output_type": "execute_result"
    }
   ],
   "source": [
    "l3   = VectorFunctionLayer(nCl,f=softmax) ## Add a (parameterless) layer whose activation function (softMax in this case) is defined to all its nodes at once"
   ]
  },
  {
   "cell_type": "code",
   "execution_count": 126,
   "id": "822f8b80",
   "metadata": {},
   "outputs": [
    {
     "data": {
      "text/plain": [
       "NN(AbstractLayer[DenseLayer([-0.19687530959080626 0.11544496297917989 … -0.05598223094485649 0.002138517600364709; -0.08178698082600586 -0.09013840862941555 … -0.2700364115819889 0.004476485381907591; … ; -0.025915512537422913 -0.13056448075414953 … -0.026913579804940246 0.26042043933950687; 0.20742643302401387 -0.04244391216027166 … -0.07352930707299968 -0.30143554079789964], [0.2475958451621727, 0.08226907268205336, 0.10388889417149283, -0.11131697180073483, -0.1468940776225006, -0.027258225608090658, -0.07019643251425495, -0.2886476021065192, -0.039210506664476674, -0.06713446918227134  …  -0.1439254733419904, -0.1853363218137804, -0.20352858780757255, 0.0015028967970229234, -0.05504984654735395, -0.2176419341768248, -0.1463224541567973, -0.1449790503871383, 0.15786425167021867, -0.2829014303108609], BetaML.Utils.relu, nothing), DenseLayer([-0.21670047185742425 0.11485258740575172 … 0.015708445469304444 -0.143712203658498; -0.09002285443322663 -0.3106534072484348 … 0.24140674578878807 -0.0467179750052083], [0.03062628460300243, 0.09404664993620965], BetaML.Utils.relu, nothing), VectorFunctionLayer{0}(fill(NaN), 2, 2, BetaML.Utils.softmax, nothing, nothing)], BetaML.Utils.squaredCost, nothing, false, \"Multinomial logistic regression Model heart disease\")"
      ]
     },
     "execution_count": 126,
     "metadata": {},
     "output_type": "execute_result"
    }
   ],
   "source": [
    "mynn = buildNetwork([l1,l2,l3],squaredCost,name=\"Multinomial logistic regression Model heart disease\") ## Build the NN and use the MSE as error function (crossEntropy could also be used)"
   ]
  },
  {
   "cell_type": "code",
   "execution_count": 127,
   "id": "17d1a5e7",
   "metadata": {},
   "outputs": [
    {
     "name": "stdout",
     "output_type": "stream",
     "text": [
      "***\n",
      "*** Training Multinomial logistic regression Model heart disease for 500 epochs with algorithm ADAM.\n",
      "Training.. \t avg ϵ on (Epoch 1 Batch 27): \t 0.21225197383788996\n",
      "Training.. \t avg ϵ on (Epoch 50 Batch 27): \t 0.008174163355146803"
     ]
    },
    {
     "name": "stderr",
     "output_type": "stream",
     "text": [
      "\r",
      "\u001b[32mTraining the Neural Network... 15%|████                 |  ETA: 0:00:06\u001b[39m"
     ]
    },
    {
     "name": "stdout",
     "output_type": "stream",
     "text": [
      "\n",
      "Training.. \t avg ϵ on (Epoch 100 Batch 27): \t 0.03298905809207948"
     ]
    },
    {
     "name": "stderr",
     "output_type": "stream",
     "text": [
      "\r",
      "\u001b[32mTraining the Neural Network... 31%|███████              |  ETA: 0:00:05\u001b[39m"
     ]
    },
    {
     "name": "stdout",
     "output_type": "stream",
     "text": [
      "\n",
      "Training.. \t avg ϵ on (Epoch 150 Batch 27): \t 0.0025191231062001306\n",
      "Training.. \t avg ϵ on (Epoch 200 Batch 27): \t 0.12687079321287373"
     ]
    },
    {
     "name": "stderr",
     "output_type": "stream",
     "text": [
      "\r",
      "\u001b[32mTraining the Neural Network... 46%|██████████           |  ETA: 0:00:03\u001b[39m"
     ]
    },
    {
     "name": "stdout",
     "output_type": "stream",
     "text": [
      "\n",
      "Training.. \t avg ϵ on (Epoch 250 Batch 27): \t 0.00015368432602192792\n",
      "Training.. \t avg ϵ on (Epoch 300 Batch 27): \t 0.0006180179859277398"
     ]
    },
    {
     "name": "stderr",
     "output_type": "stream",
     "text": [
      "\r"
     ]
    },
    {
     "name": "stdout",
     "output_type": "stream",
     "text": [
      "\n",
      "Training.. \t avg ϵ on (Epoch 350 Batch 27): \t 0.00010593693953843641"
     ]
    },
    {
     "name": "stderr",
     "output_type": "stream",
     "text": [
      "\u001b[32mTraining the Neural Network... 77%|█████████████████    |  ETA: 0:00:01\u001b[39m"
     ]
    },
    {
     "name": "stdout",
     "output_type": "stream",
     "text": [
      "\n",
      "Training.. \t avg ϵ on (Epoch 400 Batch 27): \t 3.803606874906938e-5\n",
      "Training.. \t avg ϵ on (Epoch 450 Batch 27): \t 7.46933296213425e-5"
     ]
    },
    {
     "name": "stderr",
     "output_type": "stream",
     "text": [
      "\r",
      "\u001b[32mTraining the Neural Network... 93%|████████████████████ |  ETA: 0:00:00\u001b[39m"
     ]
    },
    {
     "name": "stdout",
     "output_type": "stream",
     "text": [
      "\n"
     ]
    },
    {
     "name": "stderr",
     "output_type": "stream",
     "text": [
      "\r",
      "\u001b[32mTraining the Neural Network...100%|█████████████████████| Time: 0:00:06\u001b[39m\n"
     ]
    },
    {
     "name": "stdout",
     "output_type": "stream",
     "text": [
      "Training.. \t avg ϵ on (Epoch 500 Batch 27): \t 0.03133596506003456\n",
      "Training of 500 epoch completed. Final epoch error: 0.013984188596164645.\n"
     ]
    },
    {
     "data": {
      "text/plain": [
       "(epochs = 500, ϵ_epochs = [0.279893136638733, 0.21751017208249013, 0.18153477654884326, 0.1553164186812575, 0.13017651674106367, 0.11364356265222048, 0.0995538698425807, 0.09153132179960696, 0.08523512282494052, 0.08149005277437722  …  0.013912064543859482, 0.013911285553495982, 0.013910566298040843, 0.013909895049314391, 0.013909192223368309, 0.013908590711507351, 0.013908049017475362, 0.013907544395619515, 0.013952913721953477, 0.013984188596164645], θ_epochs = Any[])"
      ]
     },
     "execution_count": 127,
     "metadata": {},
     "output_type": "execute_result"
    }
   ],
   "source": [
    "res  = train!(mynn,scale(xtrainFull,xScaleFactors),ytrain_oh,epochs=500,batchSize=8,optAlg=ADAM(),rng=copy(FIXEDRNG)) ## Use optAlg=SGD() to use Stochastic Gradient Descent instead"
   ]
  },
  {
   "cell_type": "code",
   "execution_count": 128,
   "id": "eaec7be2",
   "metadata": {},
   "outputs": [
    {
     "data": {
      "text/plain": [
       "0.9861111111111112"
      ]
     },
     "execution_count": 128,
     "metadata": {},
     "output_type": "execute_result"
    }
   ],
   "source": [
    "(ŷtrain,ŷtest)  = predict.(Ref(mynn),[scale(xtrainFull,xScaleFactors),scale(xtestFull,xScaleFactors)])\n",
    "trainAccuracy   = accuracy(ŷtrain,ytrain,rng=copy(FIXEDRNG))"
   ]
  },
  {
   "cell_type": "code",
   "execution_count": 129,
   "id": "6f313bf7",
   "metadata": {},
   "outputs": [
    {
     "data": {
      "text/plain": [
       "0.7777777777777778"
      ]
     },
     "execution_count": 129,
     "metadata": {},
     "output_type": "execute_result"
    }
   ],
   "source": [
    "testAccuracy    = accuracy(ŷtest,ytest,rng=copy(FIXEDRNG))"
   ]
  },
  {
   "cell_type": "code",
   "execution_count": 130,
   "id": "7f88b7f8",
   "metadata": {},
   "outputs": [
    {
     "data": {
      "text/plain": [
       "3×3 Matrix{Any}:\n",
       " \"Labels\"     \"Absent\"    \"Present\"\n",
       " \"Absent\"   26           7\n",
       " \"Present\"   5          16"
      ]
     },
     "metadata": {},
     "output_type": "display_data"
    },
    {
     "data": {
      "text/plain": [
       "3×3 Matrix{Any}:\n",
       " \"Labels\"    \"Absent\"   \"Present\"\n",
       " \"Absent\"   0.787879   0.212121\n",
       " \"Present\"  0.238095   0.761905"
      ]
     },
     "metadata": {},
     "output_type": "display_data"
    },
    {
     "name": "stdout",
     "output_type": "stream",
     "text": [
      "\n",
      "-----------------------------------------------------------------\n",
      "\n",
      "*** CONFUSION MATRIX ***\n",
      "\n",
      "Scores actual (rows) vs predicted (columns):\n",
      "\n",
      "\n",
      "Normalised scores actual (rows) vs predicted (columns):\n",
      "\n",
      "\n",
      " *** CONFUSION REPORT ***\n",
      "\n",
      "- Accuracy:               0.7777777777777778\n",
      "- Misclassification rate: 0.2222222222222222\n",
      "- Number of classes:      2\n",
      "\n",
      "  N Class   precision   recall  specificity  f1Score  actualCount  predictedCount\n",
      "                          TPR       TNR                 support                  \n",
      "\n",
      "  1 Absent      0.839    0.788        0.762    0.812           33              31\n",
      "  2 Present     0.696    0.762        0.788    0.727           21              23\n",
      "\n",
      "- Simple   avg.    0.767    0.775        0.775    0.770\n",
      "- Weigthed avg.    0.783    0.778        0.772    0.779\n",
      "\n",
      "-----------------------------------------------------------------\n"
     ]
    }
   ],
   "source": [
    "cm = ConfusionMatrix(ŷtest,ytest,classes=[1,2],labels=[\"Absent\",\"Present\"],rng=copy(FIXEDRNG))\n",
    "print(cm)"
   ]
  },
  {
   "cell_type": "code",
   "execution_count": null,
   "id": "3d67b8ba",
   "metadata": {},
   "outputs": [],
   "source": []
  },
  {
   "cell_type": "code",
   "execution_count": 131,
   "id": "e6b8611f",
   "metadata": {},
   "outputs": [],
   "source": [
    "##################        FLUX         #######################################################"
   ]
  },
  {
   "cell_type": "code",
   "execution_count": 132,
   "id": "41b8cf2c",
   "metadata": {},
   "outputs": [
    {
     "data": {
      "text/plain": [
       "2-element Vector{LinearAlgebra.Transpose{Float64, Matrix{Float64}}}:\n",
       " [-0.6189858705759482 -0.5092149772718392 … 1.0275775289856883 -0.9482985504882756; 0.7144854865492444 -1.3996085558430407 … 0.7144854865492444 0.7144854865492444; … ; 2.4851402543173067 -0.7163923198330208 … 0.35078520488375503 -0.7163923198330208; 1.1928142960683614 -0.8724994349999038 … 1.1928142960683614 1.1928142960683614]\n",
       " [0.0 1.0 … 1.0 1.0; 1.0 0.0 … 0.0 0.0]"
      ]
     },
     "execution_count": 132,
     "metadata": {},
     "output_type": "execute_result"
    }
   ],
   "source": [
    "xtrainT, ytrain_ohT = transpose.([scale(xtrainFull,xScaleFactors), ytrain_oh])\n",
    "xtestT, ytest_ohT   = transpose.([scale(xtestFull,xScaleFactors), ytest_oh])    #since Flux requires the data in fields and observations"
   ]
  },
  {
   "cell_type": "code",
   "execution_count": 133,
   "id": "aea49de2",
   "metadata": {},
   "outputs": [
    {
     "data": {
      "text/plain": [
       "1.0"
      ]
     },
     "execution_count": 133,
     "metadata": {},
     "output_type": "execute_result"
    }
   ],
   "source": [
    "Random.seed!(123)\n",
    "\n",
    "l1         = Flux.Dense(D,ls,Flux.relu)\n",
    "l2         = Flux.Dense(ls,ls,Flux.relu)\n",
    "l3         = Flux.Dense(ls,nCl,Flux.relu)\n",
    "Flux_nn    = Flux.Chain(l1,l3)\n",
    "loss(x, y) = Flux.logitcrossentropy(Flux_nn(x), y)\n",
    "ps         = Flux.params(Flux_nn)\n",
    "nndata     = Flux.Data.DataLoader((xtrainT, ytrain_ohT), batchsize=8,shuffle=true)\n",
    "begin for i in 1:500  Flux.train!(loss, ps, nndata, Flux.ADAM()) end end\n",
    "ŷtrain     = Flux.onecold(Flux_nn(xtrainT),1:3)\n",
    "ŷtest      = Flux.onecold(Flux_nn(xtestT),1:3)\n",
    "trainAccuracy =  accuracy(ŷtrain,ytrain)"
   ]
  },
  {
   "cell_type": "code",
   "execution_count": 134,
   "id": "a1001d08",
   "metadata": {},
   "outputs": [
    {
     "data": {
      "text/plain": [
       "0.7407407407407407"
      ]
     },
     "execution_count": 134,
     "metadata": {},
     "output_type": "execute_result"
    }
   ],
   "source": [
    "testAccuracy  = accuracy(ŷtest,ytest)"
   ]
  },
  {
   "cell_type": "code",
   "execution_count": 135,
   "id": "2bfa0900",
   "metadata": {},
   "outputs": [],
   "source": [
    "###################### Processing times ##########################"
   ]
  },
  {
   "cell_type": "code",
   "execution_count": 136,
   "id": "29888896",
   "metadata": {},
   "outputs": [
    {
     "name": "stdout",
     "output_type": "stream",
     "text": [
      "  144.009 ms (458357 allocations: 109.86 MiB)\n"
     ]
    }
   ],
   "source": [
    "@btime buildForest(xtrain,ytrain,30, rng=copy(FIXEDRNG),forceClassification=true);"
   ]
  },
  {
   "cell_type": "code",
   "execution_count": 137,
   "id": "6fe5aa2c",
   "metadata": {},
   "outputs": [
    {
     "name": "stdout",
     "output_type": "stream",
     "text": [
      "  2.582 ms (8491 allocations: 1.32 MiB)\n"
     ]
    }
   ],
   "source": [
    "@btime  DecisionTree.build_forest(ytrain, xtrainFull,-1,30,rng=123);"
   ]
  },
  {
   "cell_type": "code",
   "execution_count": 138,
   "id": "f97f2ead",
   "metadata": {},
   "outputs": [
    {
     "name": "stdout",
     "output_type": "stream",
     "text": [
      "  5.813 s (40431782 allocations: 4.74 GiB)\n"
     ]
    }
   ],
   "source": [
    "@btime train!(mynn,scale(xtrainFull),ytrain_oh,epochs=500,batchSize=8,rng=copy(FIXEDRNG),verbosity=NONE);"
   ]
  },
  {
   "cell_type": "code",
   "execution_count": 139,
   "id": "2804dcf1",
   "metadata": {},
   "outputs": [
    {
     "name": "stdout",
     "output_type": "stream",
     "text": [
      "  928.258 ms (4021000 allocations: 713.82 MiB)\n"
     ]
    }
   ],
   "source": [
    "@btime begin for i in 1:500 Flux.train!(loss, ps, nndata, Flux.ADAM()) end end;"
   ]
  }
 ],
 "metadata": {
  "kernelspec": {
   "display_name": "Julia 1.6.3",
   "language": "julia",
   "name": "julia-1.6"
  },
  "language_info": {
   "file_extension": ".jl",
   "mimetype": "application/julia",
   "name": "julia",
   "version": "1.6.3"
  }
 },
 "nbformat": 4,
 "nbformat_minor": 5
}

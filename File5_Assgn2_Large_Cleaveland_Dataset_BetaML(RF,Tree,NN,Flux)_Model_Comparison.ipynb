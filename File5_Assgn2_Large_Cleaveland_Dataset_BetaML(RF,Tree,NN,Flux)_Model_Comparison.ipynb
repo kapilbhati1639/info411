{
 "cells": [
  {
   "cell_type": "code",
   "execution_count": 121,
   "id": "af4a6168",
   "metadata": {},
   "outputs": [
    {
     "data": {
      "text/html": [
       "<table class=\"data-frame\"><thead><tr><th></th><th>variable</th><th>mean</th><th>min</th><th>median</th><th>max</th><th>nmissing</th><th>eltype</th></tr><tr><th></th><th>Symbol</th><th>Union…</th><th>Any</th><th>Union…</th><th>Any</th><th>Int64</th><th>DataType</th></tr></thead><tbody><p>14 rows × 7 columns</p><tr><th>1</th><td>age</td><td>54.4389</td><td>29.0</td><td>56.0</td><td>77.0</td><td>0</td><td>Float64</td></tr><tr><th>2</th><td>sex</td><td>0.679868</td><td>0.0</td><td>1.0</td><td>1.0</td><td>0</td><td>Float64</td></tr><tr><th>3</th><td>cp</td><td>3.15842</td><td>1.0</td><td>3.0</td><td>4.0</td><td>0</td><td>Float64</td></tr><tr><th>4</th><td>trestbps</td><td>131.69</td><td>94.0</td><td>130.0</td><td>200.0</td><td>0</td><td>Float64</td></tr><tr><th>5</th><td>chol</td><td>246.693</td><td>126.0</td><td>241.0</td><td>564.0</td><td>0</td><td>Float64</td></tr><tr><th>6</th><td>fbs</td><td>0.148515</td><td>0.0</td><td>0.0</td><td>1.0</td><td>0</td><td>Float64</td></tr><tr><th>7</th><td>restecg</td><td>0.990099</td><td>0.0</td><td>1.0</td><td>2.0</td><td>0</td><td>Float64</td></tr><tr><th>8</th><td>thalach</td><td>149.607</td><td>71.0</td><td>153.0</td><td>202.0</td><td>0</td><td>Float64</td></tr><tr><th>9</th><td>exang</td><td>0.326733</td><td>0.0</td><td>0.0</td><td>1.0</td><td>0</td><td>Float64</td></tr><tr><th>10</th><td>oldpeak</td><td>1.0396</td><td>0.0</td><td>0.8</td><td>6.2</td><td>0</td><td>Float64</td></tr><tr><th>11</th><td>slope</td><td>1.60066</td><td>1.0</td><td>2.0</td><td>3.0</td><td>0</td><td>Float64</td></tr><tr><th>12</th><td>ca</td><td></td><td>0.0</td><td></td><td>?</td><td>0</td><td>String</td></tr><tr><th>13</th><td>thal</td><td></td><td>3.0</td><td></td><td>?</td><td>0</td><td>String</td></tr><tr><th>14</th><td>heart_dis</td><td>0.937294</td><td>0</td><td>0.0</td><td>4</td><td>0</td><td>Int64</td></tr></tbody></table>"
      ],
      "text/latex": [
       "\\begin{tabular}{r|ccccccc}\n",
       "\t& variable & mean & min & median & max & nmissing & eltype\\\\\n",
       "\t\\hline\n",
       "\t& Symbol & Union… & Any & Union… & Any & Int64 & DataType\\\\\n",
       "\t\\hline\n",
       "\t1 & age & 54.4389 & 29.0 & 56.0 & 77.0 & 0 & Float64 \\\\\n",
       "\t2 & sex & 0.679868 & 0.0 & 1.0 & 1.0 & 0 & Float64 \\\\\n",
       "\t3 & cp & 3.15842 & 1.0 & 3.0 & 4.0 & 0 & Float64 \\\\\n",
       "\t4 & trestbps & 131.69 & 94.0 & 130.0 & 200.0 & 0 & Float64 \\\\\n",
       "\t5 & chol & 246.693 & 126.0 & 241.0 & 564.0 & 0 & Float64 \\\\\n",
       "\t6 & fbs & 0.148515 & 0.0 & 0.0 & 1.0 & 0 & Float64 \\\\\n",
       "\t7 & restecg & 0.990099 & 0.0 & 1.0 & 2.0 & 0 & Float64 \\\\\n",
       "\t8 & thalach & 149.607 & 71.0 & 153.0 & 202.0 & 0 & Float64 \\\\\n",
       "\t9 & exang & 0.326733 & 0.0 & 0.0 & 1.0 & 0 & Float64 \\\\\n",
       "\t10 & oldpeak & 1.0396 & 0.0 & 0.8 & 6.2 & 0 & Float64 \\\\\n",
       "\t11 & slope & 1.60066 & 1.0 & 2.0 & 3.0 & 0 & Float64 \\\\\n",
       "\t12 & ca &  & 0.0 &  & ? & 0 & String \\\\\n",
       "\t13 & thal &  & 3.0 &  & ? & 0 & String \\\\\n",
       "\t14 & heart\\_dis & 0.937294 & 0 & 0.0 & 4 & 0 & Int64 \\\\\n",
       "\\end{tabular}\n"
      ],
      "text/plain": [
       "\u001b[1m14×7 DataFrame\u001b[0m\n",
       "\u001b[1m Row \u001b[0m│\u001b[1m variable  \u001b[0m\u001b[1m mean     \u001b[0m\u001b[1m min   \u001b[0m\u001b[1m median \u001b[0m\u001b[1m max   \u001b[0m\u001b[1m nmissing \u001b[0m\u001b[1m eltype   \u001b[0m\n",
       "\u001b[1m     \u001b[0m│\u001b[90m Symbol    \u001b[0m\u001b[90m Union…   \u001b[0m\u001b[90m Any   \u001b[0m\u001b[90m Union… \u001b[0m\u001b[90m Any   \u001b[0m\u001b[90m Int64    \u001b[0m\u001b[90m DataType \u001b[0m\n",
       "─────┼───────────────────────────────────────────────────────────────\n",
       "   1 │ age        54.4389   29.0   56.0    77.0          0  Float64\n",
       "   2 │ sex        0.679868  0.0    1.0     1.0           0  Float64\n",
       "   3 │ cp         3.15842   1.0    3.0     4.0           0  Float64\n",
       "   4 │ trestbps   131.69    94.0   130.0   200.0         0  Float64\n",
       "   5 │ chol       246.693   126.0  241.0   564.0         0  Float64\n",
       "   6 │ fbs        0.148515  0.0    0.0     1.0           0  Float64\n",
       "   7 │ restecg    0.990099  0.0    1.0     2.0           0  Float64\n",
       "   8 │ thalach    149.607   71.0   153.0   202.0         0  Float64\n",
       "   9 │ exang      0.326733  0.0    0.0     1.0           0  Float64\n",
       "  10 │ oldpeak    1.0396    0.0    0.8     6.2           0  Float64\n",
       "  11 │ slope      1.60066   1.0    2.0     3.0           0  Float64\n",
       "  12 │ ca        \u001b[90m          \u001b[0m 0.0   \u001b[90m        \u001b[0m ?             0  String\n",
       "  13 │ thal      \u001b[90m          \u001b[0m 3.0   \u001b[90m        \u001b[0m ?             0  String\n",
       "  14 │ heart_dis  0.937294  0      0.0     4             0  Int64"
      ]
     },
     "execution_count": 121,
     "metadata": {},
     "output_type": "execute_result"
    }
   ],
   "source": [
    "using UrlDownload, Plots, HTTP, CSV, DataFrames, Random, BenchmarkTools, BetaML\n",
    "import DecisionTree, Flux\n",
    "\n",
    "\n",
    "url = \"https://archive.ics.uci.edu/ml/machine-learning-databases/heart-disease/processed.cleveland.data\";\n",
    "feature_names = [\"age\", \"sex\", \"cp\", \"trestbps\", \"chol\", \"fbs\", \"restecg\", \"max_HR\", \"exang\", \"oldpeak\", \"slope\", \"ca\", \"thal\",\"heart_dis\"]\n",
    "data2 = urldownload(url, true, format = :CSV, header = feature_names);\n",
    "h_data = DataFrame(data2)\n",
    "describe(h_data)\n"
   ]
  },
  {
   "cell_type": "code",
   "execution_count": 122,
   "id": "c91579a1",
   "metadata": {
    "scrolled": false
   },
   "outputs": [
    {
     "data": {
      "text/plain": [
       "303-element Vector{String}:\n",
       " \"0.0\"\n",
       " \"3.0\"\n",
       " \"2.0\"\n",
       " \"0.0\"\n",
       " \"0.0\"\n",
       " \"0.0\"\n",
       " \"2.0\"\n",
       " \"0.0\"\n",
       " \"1.0\"\n",
       " \"0.0\"\n",
       " \"0.0\"\n",
       " \"0.0\"\n",
       " \"1.0\"\n",
       " ⋮\n",
       " \"0.0\"\n",
       " \"0.0\"\n",
       " \"2.0\"\n",
       " \"0.0\"\n",
       " \"0.0\"\n",
       " \"2.0\"\n",
       " \"0.0\"\n",
       " \"0.0\"\n",
       " \"2.0\"\n",
       " \"1.0\"\n",
       " \"1.0\"\n",
       " \"0\""
      ]
     },
     "execution_count": 122,
     "metadata": {},
     "output_type": "execute_result"
    }
   ],
   "source": [
    "replace!(h_data.ca,\"?\" => \"0\") #converting missing values to null"
   ]
  },
  {
   "cell_type": "code",
   "execution_count": 123,
   "id": "79b04bda",
   "metadata": {},
   "outputs": [
    {
     "data": {
      "text/plain": [
       "303-element Vector{String}:\n",
       " \"6.0\"\n",
       " \"3.0\"\n",
       " \"7.0\"\n",
       " \"3.0\"\n",
       " \"3.0\"\n",
       " \"3.0\"\n",
       " \"3.0\"\n",
       " \"3.0\"\n",
       " \"7.0\"\n",
       " \"7.0\"\n",
       " \"6.0\"\n",
       " \"3.0\"\n",
       " \"6.0\"\n",
       " ⋮\n",
       " \"3.0\"\n",
       " \"6.0\"\n",
       " \"7.0\"\n",
       " \"3.0\"\n",
       " \"3.0\"\n",
       " \"6.0\"\n",
       " \"7.0\"\n",
       " \"7.0\"\n",
       " \"7.0\"\n",
       " \"7.0\"\n",
       " \"3.0\"\n",
       " \"3.0\""
      ]
     },
     "execution_count": 123,
     "metadata": {},
     "output_type": "execute_result"
    }
   ],
   "source": [
    "replace!(h_data.thal,\"?\" => \"0\")"
   ]
  },
  {
   "cell_type": "code",
   "execution_count": 124,
   "id": "cf3f6c45",
   "metadata": {},
   "outputs": [
    {
     "data": {
      "text/plain": [
       "303-element Vector{Float64}:\n",
       " 6.0\n",
       " 3.0\n",
       " 7.0\n",
       " 3.0\n",
       " 3.0\n",
       " 3.0\n",
       " 3.0\n",
       " 3.0\n",
       " 7.0\n",
       " 7.0\n",
       " 6.0\n",
       " 3.0\n",
       " 6.0\n",
       " ⋮\n",
       " 3.0\n",
       " 6.0\n",
       " 7.0\n",
       " 3.0\n",
       " 3.0\n",
       " 6.0\n",
       " 7.0\n",
       " 7.0\n",
       " 7.0\n",
       " 7.0\n",
       " 3.0\n",
       " 3.0"
      ]
     },
     "execution_count": 124,
     "metadata": {},
     "output_type": "execute_result"
    }
   ],
   "source": [
    "h_data.ca = parse.(Float64, h_data.ca)\n",
    "h_data.thal = parse.(Float64, h_data.thal)    #changing them to float so the BetaML modelling work without issues"
   ]
  },
  {
   "cell_type": "code",
   "execution_count": 125,
   "id": "a5edc934",
   "metadata": {},
   "outputs": [
    {
     "data": {
      "text/html": [
       "<table class=\"data-frame\"><thead><tr><th></th><th>variable</th><th>mean</th><th>min</th><th>median</th><th>max</th><th>nmissing</th><th>eltype</th></tr><tr><th></th><th>Symbol</th><th>Float64</th><th>Real</th><th>Float64</th><th>Real</th><th>Int64</th><th>DataType</th></tr></thead><tbody><p>14 rows × 7 columns</p><tr><th>1</th><td>age</td><td>54.4389</td><td>29.0</td><td>56.0</td><td>77.0</td><td>0</td><td>Float64</td></tr><tr><th>2</th><td>sex</td><td>0.679868</td><td>0.0</td><td>1.0</td><td>1.0</td><td>0</td><td>Float64</td></tr><tr><th>3</th><td>cp</td><td>3.15842</td><td>1.0</td><td>3.0</td><td>4.0</td><td>0</td><td>Float64</td></tr><tr><th>4</th><td>trestbps</td><td>131.69</td><td>94.0</td><td>130.0</td><td>200.0</td><td>0</td><td>Float64</td></tr><tr><th>5</th><td>chol</td><td>246.693</td><td>126.0</td><td>241.0</td><td>564.0</td><td>0</td><td>Float64</td></tr><tr><th>6</th><td>fbs</td><td>0.148515</td><td>0.0</td><td>0.0</td><td>1.0</td><td>0</td><td>Float64</td></tr><tr><th>7</th><td>restecg</td><td>0.990099</td><td>0.0</td><td>1.0</td><td>2.0</td><td>0</td><td>Float64</td></tr><tr><th>8</th><td>thalach</td><td>149.607</td><td>71.0</td><td>153.0</td><td>202.0</td><td>0</td><td>Float64</td></tr><tr><th>9</th><td>exang</td><td>0.326733</td><td>0.0</td><td>0.0</td><td>1.0</td><td>0</td><td>Float64</td></tr><tr><th>10</th><td>oldpeak</td><td>1.0396</td><td>0.0</td><td>0.8</td><td>6.2</td><td>0</td><td>Float64</td></tr><tr><th>11</th><td>slope</td><td>1.60066</td><td>1.0</td><td>2.0</td><td>3.0</td><td>0</td><td>Float64</td></tr><tr><th>12</th><td>ca</td><td>0.663366</td><td>0.0</td><td>0.0</td><td>3.0</td><td>0</td><td>Float64</td></tr><tr><th>13</th><td>thal</td><td>4.70297</td><td>0.0</td><td>3.0</td><td>7.0</td><td>0</td><td>Float64</td></tr><tr><th>14</th><td>heart_dis</td><td>0.937294</td><td>0</td><td>0.0</td><td>4</td><td>0</td><td>Int64</td></tr></tbody></table>"
      ],
      "text/latex": [
       "\\begin{tabular}{r|ccccccc}\n",
       "\t& variable & mean & min & median & max & nmissing & eltype\\\\\n",
       "\t\\hline\n",
       "\t& Symbol & Float64 & Real & Float64 & Real & Int64 & DataType\\\\\n",
       "\t\\hline\n",
       "\t1 & age & 54.4389 & 29.0 & 56.0 & 77.0 & 0 & Float64 \\\\\n",
       "\t2 & sex & 0.679868 & 0.0 & 1.0 & 1.0 & 0 & Float64 \\\\\n",
       "\t3 & cp & 3.15842 & 1.0 & 3.0 & 4.0 & 0 & Float64 \\\\\n",
       "\t4 & trestbps & 131.69 & 94.0 & 130.0 & 200.0 & 0 & Float64 \\\\\n",
       "\t5 & chol & 246.693 & 126.0 & 241.0 & 564.0 & 0 & Float64 \\\\\n",
       "\t6 & fbs & 0.148515 & 0.0 & 0.0 & 1.0 & 0 & Float64 \\\\\n",
       "\t7 & restecg & 0.990099 & 0.0 & 1.0 & 2.0 & 0 & Float64 \\\\\n",
       "\t8 & thalach & 149.607 & 71.0 & 153.0 & 202.0 & 0 & Float64 \\\\\n",
       "\t9 & exang & 0.326733 & 0.0 & 0.0 & 1.0 & 0 & Float64 \\\\\n",
       "\t10 & oldpeak & 1.0396 & 0.0 & 0.8 & 6.2 & 0 & Float64 \\\\\n",
       "\t11 & slope & 1.60066 & 1.0 & 2.0 & 3.0 & 0 & Float64 \\\\\n",
       "\t12 & ca & 0.663366 & 0.0 & 0.0 & 3.0 & 0 & Float64 \\\\\n",
       "\t13 & thal & 4.70297 & 0.0 & 3.0 & 7.0 & 0 & Float64 \\\\\n",
       "\t14 & heart\\_dis & 0.937294 & 0 & 0.0 & 4 & 0 & Int64 \\\\\n",
       "\\end{tabular}\n"
      ],
      "text/plain": [
       "\u001b[1m14×7 DataFrame\u001b[0m\n",
       "\u001b[1m Row \u001b[0m│\u001b[1m variable  \u001b[0m\u001b[1m mean       \u001b[0m\u001b[1m min   \u001b[0m\u001b[1m median  \u001b[0m\u001b[1m max   \u001b[0m\u001b[1m nmissing \u001b[0m\u001b[1m eltype   \u001b[0m\n",
       "\u001b[1m     \u001b[0m│\u001b[90m Symbol    \u001b[0m\u001b[90m Float64    \u001b[0m\u001b[90m Real  \u001b[0m\u001b[90m Float64 \u001b[0m\u001b[90m Real  \u001b[0m\u001b[90m Int64    \u001b[0m\u001b[90m DataType \u001b[0m\n",
       "─────┼──────────────────────────────────────────────────────────────────\n",
       "   1 │ age         54.4389     29.0     56.0   77.0         0  Float64\n",
       "   2 │ sex          0.679868    0.0      1.0    1.0         0  Float64\n",
       "   3 │ cp           3.15842     1.0      3.0    4.0         0  Float64\n",
       "   4 │ trestbps   131.69       94.0    130.0  200.0         0  Float64\n",
       "   5 │ chol       246.693     126.0    241.0  564.0         0  Float64\n",
       "   6 │ fbs          0.148515    0.0      0.0    1.0         0  Float64\n",
       "   7 │ restecg      0.990099    0.0      1.0    2.0         0  Float64\n",
       "   8 │ thalach    149.607      71.0    153.0  202.0         0  Float64\n",
       "   9 │ exang        0.326733    0.0      0.0    1.0         0  Float64\n",
       "  10 │ oldpeak      1.0396      0.0      0.8    6.2         0  Float64\n",
       "  11 │ slope        1.60066     1.0      2.0    3.0         0  Float64\n",
       "  12 │ ca           0.663366    0.0      0.0    3.0         0  Float64\n",
       "  13 │ thal         4.70297     0.0      3.0    7.0         0  Float64\n",
       "  14 │ heart_dis    0.937294      0      0.0      4         0  Int64"
      ]
     },
     "execution_count": 125,
     "metadata": {},
     "output_type": "execute_result"
    }
   ],
   "source": [
    "describe(h_data) # just to check that all the variables has right type and "
   ]
  },
  {
   "cell_type": "code",
   "execution_count": 126,
   "id": "5a89135f",
   "metadata": {},
   "outputs": [
    {
     "data": {
      "text/plain": [
       "303-element Vector{Int64}:\n",
       " 0\n",
       " 2\n",
       " 2\n",
       " 0\n",
       " 0\n",
       " 0\n",
       " 2\n",
       " 0\n",
       " 2\n",
       " 2\n",
       " 0\n",
       " 0\n",
       " 2\n",
       " ⋮\n",
       " 0\n",
       " 2\n",
       " 2\n",
       " 2\n",
       " 0\n",
       " 2\n",
       " 2\n",
       " 2\n",
       " 2\n",
       " 2\n",
       " 2\n",
       " 0"
      ]
     },
     "execution_count": 126,
     "metadata": {},
     "output_type": "execute_result"
    }
   ],
   "source": [
    "replace!(h_data.heart_dis,1 => 2, 3 => 2, 4 => 2) # now 2 is present"
   ]
  },
  {
   "cell_type": "code",
   "execution_count": 127,
   "id": "1ad3d1b5",
   "metadata": {},
   "outputs": [
    {
     "data": {
      "text/plain": [
       "303-element Vector{Int64}:\n",
       " 1\n",
       " 2\n",
       " 2\n",
       " 1\n",
       " 1\n",
       " 1\n",
       " 2\n",
       " 1\n",
       " 2\n",
       " 2\n",
       " 1\n",
       " 1\n",
       " 2\n",
       " ⋮\n",
       " 1\n",
       " 2\n",
       " 2\n",
       " 2\n",
       " 1\n",
       " 2\n",
       " 2\n",
       " 2\n",
       " 2\n",
       " 2\n",
       " 2\n",
       " 1"
      ]
     },
     "execution_count": 127,
     "metadata": {},
     "output_type": "execute_result"
    }
   ],
   "source": [
    "replace!(h_data.heart_dis,0 => 1) # now 1 is absent"
   ]
  },
  {
   "cell_type": "code",
   "execution_count": 128,
   "id": "a55365de",
   "metadata": {
    "scrolled": true
   },
   "outputs": [
    {
     "data": {
      "text/html": [
       "<table class=\"data-frame\"><thead><tr><th></th><th>variable</th><th>mean</th><th>min</th><th>median</th><th>max</th><th>nmissing</th><th>eltype</th></tr><tr><th></th><th>Symbol</th><th>Float64</th><th>Real</th><th>Float64</th><th>Real</th><th>Int64</th><th>DataType</th></tr></thead><tbody><p>14 rows × 7 columns</p><tr><th>1</th><td>age</td><td>54.4389</td><td>29.0</td><td>56.0</td><td>77.0</td><td>0</td><td>Float64</td></tr><tr><th>2</th><td>sex</td><td>0.679868</td><td>0.0</td><td>1.0</td><td>1.0</td><td>0</td><td>Float64</td></tr><tr><th>3</th><td>cp</td><td>3.15842</td><td>1.0</td><td>3.0</td><td>4.0</td><td>0</td><td>Float64</td></tr><tr><th>4</th><td>trestbps</td><td>131.69</td><td>94.0</td><td>130.0</td><td>200.0</td><td>0</td><td>Float64</td></tr><tr><th>5</th><td>chol</td><td>246.693</td><td>126.0</td><td>241.0</td><td>564.0</td><td>0</td><td>Float64</td></tr><tr><th>6</th><td>fbs</td><td>0.148515</td><td>0.0</td><td>0.0</td><td>1.0</td><td>0</td><td>Float64</td></tr><tr><th>7</th><td>restecg</td><td>0.990099</td><td>0.0</td><td>1.0</td><td>2.0</td><td>0</td><td>Float64</td></tr><tr><th>8</th><td>thalach</td><td>149.607</td><td>71.0</td><td>153.0</td><td>202.0</td><td>0</td><td>Float64</td></tr><tr><th>9</th><td>exang</td><td>0.326733</td><td>0.0</td><td>0.0</td><td>1.0</td><td>0</td><td>Float64</td></tr><tr><th>10</th><td>oldpeak</td><td>1.0396</td><td>0.0</td><td>0.8</td><td>6.2</td><td>0</td><td>Float64</td></tr><tr><th>11</th><td>slope</td><td>1.60066</td><td>1.0</td><td>2.0</td><td>3.0</td><td>0</td><td>Float64</td></tr><tr><th>12</th><td>ca</td><td>0.663366</td><td>0.0</td><td>0.0</td><td>3.0</td><td>0</td><td>Float64</td></tr><tr><th>13</th><td>thal</td><td>4.70297</td><td>0.0</td><td>3.0</td><td>7.0</td><td>0</td><td>Float64</td></tr><tr><th>14</th><td>heart_dis</td><td>1.45875</td><td>1</td><td>1.0</td><td>2</td><td>0</td><td>Int64</td></tr></tbody></table>"
      ],
      "text/latex": [
       "\\begin{tabular}{r|ccccccc}\n",
       "\t& variable & mean & min & median & max & nmissing & eltype\\\\\n",
       "\t\\hline\n",
       "\t& Symbol & Float64 & Real & Float64 & Real & Int64 & DataType\\\\\n",
       "\t\\hline\n",
       "\t1 & age & 54.4389 & 29.0 & 56.0 & 77.0 & 0 & Float64 \\\\\n",
       "\t2 & sex & 0.679868 & 0.0 & 1.0 & 1.0 & 0 & Float64 \\\\\n",
       "\t3 & cp & 3.15842 & 1.0 & 3.0 & 4.0 & 0 & Float64 \\\\\n",
       "\t4 & trestbps & 131.69 & 94.0 & 130.0 & 200.0 & 0 & Float64 \\\\\n",
       "\t5 & chol & 246.693 & 126.0 & 241.0 & 564.0 & 0 & Float64 \\\\\n",
       "\t6 & fbs & 0.148515 & 0.0 & 0.0 & 1.0 & 0 & Float64 \\\\\n",
       "\t7 & restecg & 0.990099 & 0.0 & 1.0 & 2.0 & 0 & Float64 \\\\\n",
       "\t8 & thalach & 149.607 & 71.0 & 153.0 & 202.0 & 0 & Float64 \\\\\n",
       "\t9 & exang & 0.326733 & 0.0 & 0.0 & 1.0 & 0 & Float64 \\\\\n",
       "\t10 & oldpeak & 1.0396 & 0.0 & 0.8 & 6.2 & 0 & Float64 \\\\\n",
       "\t11 & slope & 1.60066 & 1.0 & 2.0 & 3.0 & 0 & Float64 \\\\\n",
       "\t12 & ca & 0.663366 & 0.0 & 0.0 & 3.0 & 0 & Float64 \\\\\n",
       "\t13 & thal & 4.70297 & 0.0 & 3.0 & 7.0 & 0 & Float64 \\\\\n",
       "\t14 & heart\\_dis & 1.45875 & 1 & 1.0 & 2 & 0 & Int64 \\\\\n",
       "\\end{tabular}\n"
      ],
      "text/plain": [
       "\u001b[1m14×7 DataFrame\u001b[0m\n",
       "\u001b[1m Row \u001b[0m│\u001b[1m variable  \u001b[0m\u001b[1m mean       \u001b[0m\u001b[1m min   \u001b[0m\u001b[1m median  \u001b[0m\u001b[1m max   \u001b[0m\u001b[1m nmissing \u001b[0m\u001b[1m eltype   \u001b[0m\n",
       "\u001b[1m     \u001b[0m│\u001b[90m Symbol    \u001b[0m\u001b[90m Float64    \u001b[0m\u001b[90m Real  \u001b[0m\u001b[90m Float64 \u001b[0m\u001b[90m Real  \u001b[0m\u001b[90m Int64    \u001b[0m\u001b[90m DataType \u001b[0m\n",
       "─────┼──────────────────────────────────────────────────────────────────\n",
       "   1 │ age         54.4389     29.0     56.0   77.0         0  Float64\n",
       "   2 │ sex          0.679868    0.0      1.0    1.0         0  Float64\n",
       "   3 │ cp           3.15842     1.0      3.0    4.0         0  Float64\n",
       "   4 │ trestbps   131.69       94.0    130.0  200.0         0  Float64\n",
       "   5 │ chol       246.693     126.0    241.0  564.0         0  Float64\n",
       "   6 │ fbs          0.148515    0.0      0.0    1.0         0  Float64\n",
       "   7 │ restecg      0.990099    0.0      1.0    2.0         0  Float64\n",
       "   8 │ thalach    149.607      71.0    153.0  202.0         0  Float64\n",
       "   9 │ exang        0.326733    0.0      0.0    1.0         0  Float64\n",
       "  10 │ oldpeak      1.0396      0.0      0.8    6.2         0  Float64\n",
       "  11 │ slope        1.60066     1.0      2.0    3.0         0  Float64\n",
       "  12 │ ca           0.663366    0.0      0.0    3.0         0  Float64\n",
       "  13 │ thal         4.70297     0.0      3.0    7.0         0  Float64\n",
       "  14 │ heart_dis    1.45875       1      1.0      2         0  Int64"
      ]
     },
     "execution_count": 128,
     "metadata": {},
     "output_type": "execute_result"
    }
   ],
   "source": [
    "describe(h_data) #now prediction values are only 1 & 2 (1 is absent and 2 is present)"
   ]
  },
  {
   "cell_type": "code",
   "execution_count": 129,
   "id": "79645a30",
   "metadata": {},
   "outputs": [],
   "source": [
    "x = Matrix{Union{Missing,Float64,String}}(h_data[:,1:13]);\n",
    "y = Vector{Int64}(h_data[:,14]);"
   ]
  },
  {
   "cell_type": "code",
   "execution_count": 130,
   "id": "315b4cfc",
   "metadata": {},
   "outputs": [
    {
     "name": "stdout",
     "output_type": "stream",
     "text": [
      "Iter. 1:\tVar. of the post  14.720620309270092 \t  Log-likelihood -8654.178838662394\n"
     ]
    }
   ],
   "source": [
    "xFull = predictMissing(x,rng=copy(FIXEDRNG)).X̂;"
   ]
  },
  {
   "cell_type": "code",
   "execution_count": 131,
   "id": "dc4b82e8",
   "metadata": {},
   "outputs": [],
   "source": [
    "y_ohe  = oneHotEncoder(y);"
   ]
  },
  {
   "cell_type": "code",
   "execution_count": 132,
   "id": "196944cd",
   "metadata": {},
   "outputs": [],
   "source": [
    "((xtrain,xtest),(xtrainFull,xtestFull),(ytrain,ytest),(ytrain_oh,ytest_oh)) = partition([x,xFull,y,y_ohe],[0.8,1-0.8],rng=copy(FIXEDRNG));"
   ]
  },
  {
   "cell_type": "code",
   "execution_count": 133,
   "id": "f3d11a63",
   "metadata": {},
   "outputs": [],
   "source": [
    "myForest = buildForest(xtrain,ytrain,30, rng=copy(FIXEDRNG),forceClassification=true);"
   ]
  },
  {
   "cell_type": "code",
   "execution_count": 134,
   "id": "22d43694",
   "metadata": {},
   "outputs": [],
   "source": [
    "ŷtrain,ŷtest   = predict.(Ref(myForest), [xtrain,xtest],rng=copy(FIXEDRNG));"
   ]
  },
  {
   "cell_type": "code",
   "execution_count": 135,
   "id": "804ec08b",
   "metadata": {},
   "outputs": [
    {
     "data": {
      "text/plain": [
       "2-element Vector{Float64}:\n",
       " 1.0\n",
       " 0.8032786885245902"
      ]
     },
     "execution_count": 135,
     "metadata": {},
     "output_type": "execute_result"
    }
   ],
   "source": [
    "trainAccuracy,testAccuracy  = accuracy.([parse.(Int64,mode(ŷtrain,rng=copy(FIXEDRNG))),parse.(Int64,mode(ŷtest,rng=copy(FIXEDRNG)))],[ytrain,ytest])"
   ]
  },
  {
   "cell_type": "code",
   "execution_count": 136,
   "id": "a6945869",
   "metadata": {},
   "outputs": [
    {
     "data": {
      "text/plain": [
       "3×3 Matrix{Any}:\n",
       " \"Labels\"     \"Absent\"    \"Present\"\n",
       " \"Absent\"   30           6\n",
       " \"Present\"   6          19"
      ]
     },
     "metadata": {},
     "output_type": "display_data"
    },
    {
     "data": {
      "text/plain": [
       "3×3 Matrix{Any}:\n",
       " \"Labels\"    \"Absent\"   \"Present\"\n",
       " \"Absent\"   0.833333   0.166667\n",
       " \"Present\"  0.24       0.76"
      ]
     },
     "metadata": {},
     "output_type": "display_data"
    },
    {
     "name": "stdout",
     "output_type": "stream",
     "text": [
      "\n",
      "-----------------------------------------------------------------\n",
      "\n",
      "*** CONFUSION MATRIX ***\n",
      "\n",
      "Scores actual (rows) vs predicted (columns):\n",
      "\n",
      "\n",
      "Normalised scores actual (rows) vs predicted (columns):\n",
      "\n",
      "\n",
      " *** CONFUSION REPORT ***\n",
      "\n",
      "- Accuracy:               0.8032786885245902\n",
      "- Misclassification rate: 0.19672131147540983\n",
      "- Number of classes:      2\n",
      "\n",
      "  N Class   precision   recall  specificity  f1Score  actualCount  predictedCount\n",
      "                          TPR       TNR                 support                  \n",
      "\n",
      "  1 Absent      0.833    0.833        0.760    0.833           36              36\n",
      "  2 Present     0.760    0.760        0.833    0.760           25              25\n",
      "\n",
      "- Simple   avg.    0.797    0.797        0.797    0.797\n",
      "- Weigthed avg.    0.803    0.803        0.790    0.803\n",
      "\n",
      "-----------------------------------------------------------------\n"
     ]
    }
   ],
   "source": [
    "cm = ConfusionMatrix(parse.(Int64,mode(ŷtest,rng=copy(FIXEDRNG))),ytest,classes=[1,2],labels=[\"Absent\",\"Present\"])\n",
    "print(cm;what=\"all\")"
   ]
  },
  {
   "cell_type": "code",
   "execution_count": null,
   "id": "1ab3ded8",
   "metadata": {},
   "outputs": [],
   "source": []
  },
  {
   "cell_type": "code",
   "execution_count": 138,
   "id": "b64b2b98",
   "metadata": {},
   "outputs": [],
   "source": [
    "####Now compare with Decision Tree"
   ]
  },
  {
   "cell_type": "code",
   "execution_count": 139,
   "id": "aa1298cb",
   "metadata": {},
   "outputs": [
    {
     "data": {
      "text/plain": [
       "2-element Vector{Float64}:\n",
       " 0.9834710743801653\n",
       " 0.819672131147541"
      ]
     },
     "execution_count": 139,
     "metadata": {},
     "output_type": "execute_result"
    }
   ],
   "source": [
    "# We can train the model\n",
    "model = DecisionTree.build_forest(ytrain, xtrainFull,-1,30,rng=123)\n",
    "# we generate predictions and measure their error\n",
    "(ŷtrain,ŷtest) = DecisionTree.apply_forest.([model],[xtrainFull,xtestFull]);\n",
    "(trainAccuracy,testAccuracy) = accuracy.([ŷtrain,ŷtest],[ytrain,ytest])"
   ]
  },
  {
   "cell_type": "code",
   "execution_count": 141,
   "id": "6467634b",
   "metadata": {},
   "outputs": [],
   "source": [
    "########## Neural Network ############"
   ]
  },
  {
   "cell_type": "code",
   "execution_count": 142,
   "id": "bb173fbe",
   "metadata": {},
   "outputs": [
    {
     "data": {
      "text/plain": [
       "2"
      ]
     },
     "execution_count": 142,
     "metadata": {},
     "output_type": "execute_result"
    }
   ],
   "source": [
    "xScaleFactors   = getScaleFactors(xtrainFull)\n",
    "D               = size(xtrainFull,2)\n",
    "classes         = unique(y)\n",
    "nCl             = length(classes)"
   ]
  },
  {
   "cell_type": "code",
   "execution_count": 143,
   "id": "469f3785",
   "metadata": {},
   "outputs": [
    {
     "data": {
      "text/plain": [
       "DenseLayer([-0.21670047185742425 0.11485258740575172 … 0.015708445469304444 -0.143712203658498; -0.09002285443322663 -0.3106534072484348 … 0.24140674578878807 -0.0467179750052083], [0.03062628460300243, 0.09404664993620965], BetaML.Utils.relu, nothing)"
      ]
     },
     "execution_count": 143,
     "metadata": {},
     "output_type": "execute_result"
    }
   ],
   "source": [
    "ls   = 50\n",
    "l1   = DenseLayer(D,ls,f=relu,rng=copy(FIXEDRNG))\n",
    "l2   = DenseLayer(ls,nCl,f=relu,rng=copy(FIXEDRNG))"
   ]
  },
  {
   "cell_type": "code",
   "execution_count": 144,
   "id": "5a684a49",
   "metadata": {},
   "outputs": [
    {
     "data": {
      "text/plain": [
       "VectorFunctionLayer{0}(fill(NaN), 2, 2, BetaML.Utils.softmax, nothing, nothing)"
      ]
     },
     "execution_count": 144,
     "metadata": {},
     "output_type": "execute_result"
    }
   ],
   "source": [
    "l3   = VectorFunctionLayer(nCl,f=softmax) ## Add a (parameterless) layer whose activation function (softMax in this case) is defined to all its nodes at once"
   ]
  },
  {
   "cell_type": "code",
   "execution_count": 145,
   "id": "49dc78f9",
   "metadata": {},
   "outputs": [
    {
     "data": {
      "text/plain": [
       "NN(AbstractLayer[DenseLayer([-0.19687530959080626 0.11544496297917989 … -0.05598223094485649 0.002138517600364709; -0.08178698082600586 -0.09013840862941555 … -0.2700364115819889 0.004476485381907591; … ; -0.025915512537422913 -0.13056448075414953 … -0.026913579804940246 0.26042043933950687; 0.20742643302401387 -0.04244391216027166 … -0.07352930707299968 -0.30143554079789964], [0.2475958451621727, 0.08226907268205336, 0.10388889417149283, -0.11131697180073483, -0.1468940776225006, -0.027258225608090658, -0.07019643251425495, -0.2886476021065192, -0.039210506664476674, -0.06713446918227134  …  -0.1439254733419904, -0.1853363218137804, -0.20352858780757255, 0.0015028967970229234, -0.05504984654735395, -0.2176419341768248, -0.1463224541567973, -0.1449790503871383, 0.15786425167021867, -0.2829014303108609], BetaML.Utils.relu, nothing), DenseLayer([-0.21670047185742425 0.11485258740575172 … 0.015708445469304444 -0.143712203658498; -0.09002285443322663 -0.3106534072484348 … 0.24140674578878807 -0.0467179750052083], [0.03062628460300243, 0.09404664993620965], BetaML.Utils.relu, nothing), VectorFunctionLayer{0}(fill(NaN), 2, 2, BetaML.Utils.softmax, nothing, nothing)], BetaML.Utils.squaredCost, nothing, false, \"Multinomial logistic regression Model heart disease\")"
      ]
     },
     "execution_count": 145,
     "metadata": {},
     "output_type": "execute_result"
    }
   ],
   "source": [
    "mynn = buildNetwork([l1,l2,l3],squaredCost,name=\"Multinomial logistic regression Model heart disease\") ## Build the NN and use the MSE as error function "
   ]
  },
  {
   "cell_type": "code",
   "execution_count": 146,
   "id": "46e95f53",
   "metadata": {},
   "outputs": [
    {
     "name": "stdout",
     "output_type": "stream",
     "text": [
      "***\n",
      "*** Training Multinomial logistic regression Model heart disease for 500 epochs with algorithm ADAM.\n",
      "Training.. \t avg ϵ on (Epoch 1 Batch 30): \t 0.21186544440644547\n"
     ]
    },
    {
     "name": "stderr",
     "output_type": "stream",
     "text": [
      "\r",
      "\u001b[32mTraining the Neural Network... 15%|████                 |  ETA: 0:00:06\u001b[39m"
     ]
    },
    {
     "name": "stdout",
     "output_type": "stream",
     "text": [
      "Training.. \t avg ϵ on (Epoch 50 Batch 30): \t 0.061405696937562405\n",
      "Training.. \t avg ϵ on (Epoch 100 Batch 30): \t 0.023383461041245893"
     ]
    },
    {
     "name": "stderr",
     "output_type": "stream",
     "text": [
      "\r"
     ]
    },
    {
     "name": "stdout",
     "output_type": "stream",
     "text": [
      "\n",
      "Training.. \t avg ϵ on (Epoch 150 Batch 30): \t 0.003351196947473489"
     ]
    },
    {
     "name": "stderr",
     "output_type": "stream",
     "text": [
      "\u001b[32mTraining the Neural Network... 29%|███████              |  ETA: 0:00:05\u001b[39m"
     ]
    },
    {
     "name": "stdout",
     "output_type": "stream",
     "text": [
      "\n",
      "Training.. \t avg ϵ on (Epoch 200 Batch 30): \t 0.002458487137816643"
     ]
    },
    {
     "name": "stderr",
     "output_type": "stream",
     "text": [
      "\r",
      "\u001b[32mTraining the Neural Network... 44%|██████████           |  ETA: 0:00:04\u001b[39m"
     ]
    },
    {
     "name": "stdout",
     "output_type": "stream",
     "text": [
      "\n",
      "Training.. \t avg ϵ on (Epoch 250 Batch 30): \t 0.00047866788705310464"
     ]
    },
    {
     "name": "stderr",
     "output_type": "stream",
     "text": [
      "\r",
      "\u001b[32mTraining the Neural Network... 58%|█████████████        |  ETA: 0:00:03\u001b[39m"
     ]
    },
    {
     "name": "stdout",
     "output_type": "stream",
     "text": [
      "\n",
      "Training.. \t avg ϵ on (Epoch 300 Batch 30): \t 0.00043109660876984845\n",
      "Training.. \t avg ϵ on (Epoch 350 Batch 30): \t 0.0002035618066568527"
     ]
    },
    {
     "name": "stderr",
     "output_type": "stream",
     "text": [
      "\r",
      "\u001b[32mTraining the Neural Network... 72%|████████████████     |  ETA: 0:00:02\u001b[39m"
     ]
    },
    {
     "name": "stdout",
     "output_type": "stream",
     "text": [
      "\n",
      "Training.. \t avg ϵ on (Epoch 400 Batch 30): \t 0.00017490142520301406"
     ]
    },
    {
     "name": "stderr",
     "output_type": "stream",
     "text": [
      "\r",
      "\u001b[32mTraining the Neural Network... 87%|███████████████████  |  ETA: 0:00:01\u001b[39m"
     ]
    },
    {
     "name": "stdout",
     "output_type": "stream",
     "text": [
      "\n",
      "Training.. \t avg ϵ on (Epoch 450 Batch 30): \t 0.03128408946951958"
     ]
    },
    {
     "name": "stderr",
     "output_type": "stream",
     "text": [
      "\r",
      "\u001b[32mTraining the Neural Network...100%|█████████████████████| Time: 0:00:06\u001b[39m\n"
     ]
    },
    {
     "name": "stdout",
     "output_type": "stream",
     "text": [
      "\n",
      "Training.. \t avg ϵ on (Epoch 500 Batch 30): \t 0.0001222050782705046\n",
      "Training of 500 epoch completed. Final epoch error: 0.013490710450436351.\n"
     ]
    },
    {
     "data": {
      "text/plain": [
       "(epochs = 500, ϵ_epochs = [0.28206958169328145, 0.22320560995660887, 0.18842786038522769, 0.16186657666583398, 0.14021825736056967, 0.12536590006558362, 0.11507452104296659, 0.10895461274889606, 0.10453240959591863, 0.1014439758672413  …  0.013500375074344328, 0.013492043221863677, 0.013487380137307105, 0.013701565058436838, 0.013799313154214206, 0.01354581952993218, 0.013530861977241314, 0.013503749608654357, 0.013496202800231921, 0.013490710450436351], θ_epochs = Any[])"
      ]
     },
     "execution_count": 146,
     "metadata": {},
     "output_type": "execute_result"
    }
   ],
   "source": [
    "res  = train!(mynn,scale(xtrainFull,xScaleFactors),ytrain_oh,epochs=500,batchSize=8,optAlg=ADAM(),rng=copy(FIXEDRNG)) "
   ]
  },
  {
   "cell_type": "code",
   "execution_count": 147,
   "id": "91f7ba7e",
   "metadata": {},
   "outputs": [
    {
     "data": {
      "text/plain": [
       "0.9793388429752066"
      ]
     },
     "execution_count": 147,
     "metadata": {},
     "output_type": "execute_result"
    }
   ],
   "source": [
    "(ŷtrain,ŷtest)  = predict.(Ref(mynn),[scale(xtrainFull,xScaleFactors),scale(xtestFull,xScaleFactors)])\n",
    "trainAccuracy   = accuracy(ŷtrain,ytrain,rng=copy(FIXEDRNG))"
   ]
  },
  {
   "cell_type": "code",
   "execution_count": 148,
   "id": "db15a536",
   "metadata": {},
   "outputs": [
    {
     "data": {
      "text/plain": [
       "0.8524590163934426"
      ]
     },
     "execution_count": 148,
     "metadata": {},
     "output_type": "execute_result"
    }
   ],
   "source": [
    "testAccuracy    = accuracy(ŷtest,ytest,rng=copy(FIXEDRNG))"
   ]
  },
  {
   "cell_type": "code",
   "execution_count": 149,
   "id": "6ffe2d7e",
   "metadata": {},
   "outputs": [
    {
     "data": {
      "text/plain": [
       "3×3 Matrix{Any}:\n",
       " \"Labels\"     \"Absent\"    \"Present\"\n",
       " \"Absent\"   34           2\n",
       " \"Present\"   7          18"
      ]
     },
     "metadata": {},
     "output_type": "display_data"
    },
    {
     "data": {
      "text/plain": [
       "3×3 Matrix{Any}:\n",
       " \"Labels\"    \"Absent\"   \"Present\"\n",
       " \"Absent\"   0.944444   0.0555556\n",
       " \"Present\"  0.28       0.72"
      ]
     },
     "metadata": {},
     "output_type": "display_data"
    },
    {
     "name": "stdout",
     "output_type": "stream",
     "text": [
      "\n",
      "-----------------------------------------------------------------\n",
      "\n",
      "*** CONFUSION MATRIX ***\n",
      "\n",
      "Scores actual (rows) vs predicted (columns):\n",
      "\n",
      "\n",
      "Normalised scores actual (rows) vs predicted (columns):\n",
      "\n",
      "\n",
      " *** CONFUSION REPORT ***\n",
      "\n",
      "- Accuracy:               0.8524590163934426\n",
      "- Misclassification rate: 0.14754098360655743\n",
      "- Number of classes:      2\n",
      "\n",
      "  N Class   precision   recall  specificity  f1Score  actualCount  predictedCount\n",
      "                          TPR       TNR                 support                  \n",
      "\n",
      "  1 Absent      0.829    0.944        0.720    0.883           36              41\n",
      "  2 Present     0.900    0.720        0.944    0.800           25              20\n",
      "\n",
      "- Simple   avg.    0.865    0.832        0.832    0.842\n",
      "- Weigthed avg.    0.858    0.852        0.812    0.849\n",
      "\n",
      "-----------------------------------------------------------------\n"
     ]
    }
   ],
   "source": [
    "cm = ConfusionMatrix(ŷtest,ytest,classes=[1,2],labels=[\"Absent\",\"Present\"],rng=copy(FIXEDRNG))\n",
    "print(cm)"
   ]
  },
  {
   "cell_type": "code",
   "execution_count": 151,
   "id": "3c1af28e",
   "metadata": {},
   "outputs": [],
   "source": [
    "##################        FLUX         #######################################################"
   ]
  },
  {
   "cell_type": "code",
   "execution_count": 152,
   "id": "67cd4cfd",
   "metadata": {},
   "outputs": [
    {
     "data": {
      "text/plain": [
       "2-element Vector{LinearAlgebra.Transpose{Float64, Matrix{Float64}}}:\n",
       " [0.8101917340992101 0.03522572756953108 … -1.9575440035067864 0.4780634455864905; -1.4922019523732948 0.6701505774131562 … 0.6701505774131562 0.6701505774131562; … ; 1.365429964786998 -0.7527370318697552 … -0.7527370318697552 -0.7527370318697552; -0.8916976312610534 1.111001457046834 … -0.8916976312610534 -0.8916976312610534]\n",
       " [0.0 0.0 … 1.0 1.0; 1.0 1.0 … 0.0 0.0]"
      ]
     },
     "execution_count": 152,
     "metadata": {},
     "output_type": "execute_result"
    }
   ],
   "source": [
    "xtrainT, ytrain_ohT = transpose.([scale(xtrainFull,xScaleFactors), ytrain_oh])\n",
    "xtestT, ytest_ohT   = transpose.([scale(xtestFull,xScaleFactors), ytest_oh])"
   ]
  },
  {
   "cell_type": "code",
   "execution_count": 153,
   "id": "53f53133",
   "metadata": {},
   "outputs": [
    {
     "data": {
      "text/plain": [
       "1.0"
      ]
     },
     "execution_count": 153,
     "metadata": {},
     "output_type": "execute_result"
    }
   ],
   "source": [
    "Random.seed!(123)\n",
    "\n",
    "l1         = Flux.Dense(D,ls,Flux.relu)\n",
    "l2         = Flux.Dense(ls,ls,Flux.relu)\n",
    "l3         = Flux.Dense(ls,nCl,Flux.relu)\n",
    "Flux_nn    = Flux.Chain(l1,l3)\n",
    "loss(x, y) = Flux.logitcrossentropy(Flux_nn(x), y)\n",
    "ps         = Flux.params(Flux_nn)\n",
    "nndata     = Flux.Data.DataLoader((xtrainT, ytrain_ohT), batchsize=8,shuffle=true)\n",
    "begin for i in 1:500  Flux.train!(loss, ps, nndata, Flux.ADAM()) end end\n",
    "ŷtrain     = Flux.onecold(Flux_nn(xtrainT),1:3)\n",
    "ŷtest      = Flux.onecold(Flux_nn(xtestT),1:3)\n",
    "trainAccuracy =  accuracy(ŷtrain,ytrain)"
   ]
  },
  {
   "cell_type": "code",
   "execution_count": 154,
   "id": "7534e8a3",
   "metadata": {},
   "outputs": [
    {
     "data": {
      "text/plain": [
       "0.7868852459016393"
      ]
     },
     "execution_count": 154,
     "metadata": {},
     "output_type": "execute_result"
    }
   ],
   "source": [
    "testAccuracy  = accuracy(ŷtest,ytest)"
   ]
  },
  {
   "cell_type": "code",
   "execution_count": 157,
   "id": "99e1dcaf",
   "metadata": {},
   "outputs": [],
   "source": [
    "### All the benchmarks for different models' processing times "
   ]
  },
  {
   "cell_type": "code",
   "execution_count": 158,
   "id": "fa12dcdd",
   "metadata": {},
   "outputs": [
    {
     "name": "stdout",
     "output_type": "stream",
     "text": [
      "  801.809 ms (1990076 allocations: 147.66 MiB)\n"
     ]
    }
   ],
   "source": [
    "@btime buildForest(xtrain,ytrain,30, rng=copy(FIXEDRNG),forceClassification=true);"
   ]
  },
  {
   "cell_type": "code",
   "execution_count": 159,
   "id": "0696eb31",
   "metadata": {},
   "outputs": [
    {
     "name": "stdout",
     "output_type": "stream",
     "text": [
      "  4.138 ms (12603 allocations: 1.55 MiB)\n"
     ]
    }
   ],
   "source": [
    "@btime  DecisionTree.build_forest(ytrain, xtrainFull,-1,30,rng=123);"
   ]
  },
  {
   "cell_type": "code",
   "execution_count": 160,
   "id": "5c02b814",
   "metadata": {},
   "outputs": [
    {
     "name": "stdout",
     "output_type": "stream",
     "text": [
      "  6.285 s (44891975 allocations: 5.27 GiB)\n"
     ]
    }
   ],
   "source": [
    "@btime train!(mynn,scale(xtrainFull),ytrain_oh,epochs=500,batchSize=8,rng=copy(FIXEDRNG),verbosity=NONE);"
   ]
  },
  {
   "cell_type": "code",
   "execution_count": 161,
   "id": "48d1e2e3",
   "metadata": {},
   "outputs": [
    {
     "name": "stdout",
     "output_type": "stream",
     "text": [
      "  1.031 s (4615000 allocations: 811.72 MiB)\n"
     ]
    }
   ],
   "source": [
    "@btime begin for i in 1:500 Flux.train!(loss, ps, nndata, Flux.ADAM()) end end;"
   ]
  }
 ],
 "metadata": {
  "kernelspec": {
   "display_name": "Julia 1.6.3",
   "language": "julia",
   "name": "julia-1.6"
  },
  "language_info": {
   "file_extension": ".jl",
   "mimetype": "application/julia",
   "name": "julia",
   "version": "1.6.3"
  }
 },
 "nbformat": 4,
 "nbformat_minor": 5
}

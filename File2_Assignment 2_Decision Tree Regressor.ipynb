{
 "cells": [
  {
   "cell_type": "code",
   "execution_count": 90,
   "id": "4bff8ae5",
   "metadata": {
    "scrolled": true
   },
   "outputs": [
    {
     "data": {
      "text/plain": [
       "┌─────────────────────┬─────────┬────────────┐\n",
       "│\u001b[22m _.names             \u001b[0m│\u001b[22m _.types \u001b[0m│\u001b[22m _.scitypes \u001b[0m│\n",
       "├─────────────────────┼─────────┼────────────┤\n",
       "│ age                 │ Float64 │ Continuous │\n",
       "│ sex                 │ Float64 │ Continuous │\n",
       "│ chest_pain          │ Float64 │ Continuous │\n",
       "│ rest_bp             │ Float64 │ Continuous │\n",
       "│ serum_cholestrol    │ Float64 │ Continuous │\n",
       "│ fasting_blood_sugar │ Float64 │ Continuous │\n",
       "│ rest_ECG            │ Float64 │ Continuous │\n",
       "│ max_HR              │ Float64 │ Continuous │\n",
       "│ ex_ind_ang          │ Float64 │ Continuous │\n",
       "│ oldpeak             │ Float64 │ Continuous │\n",
       "│ slope               │ Float64 │ Continuous │\n",
       "│ major_vessel        │ Float64 │ Continuous │\n",
       "│ thal                │ Float64 │ Continuous │\n",
       "│ heart_dis           │ Int64   │ Count      │\n",
       "└─────────────────────┴─────────┴────────────┘\n",
       "_.nrows = 270\n"
      ]
     },
     "execution_count": 90,
     "metadata": {},
     "output_type": "execute_result"
    }
   ],
   "source": [
    "using MLJ, CSV, DataFrames, UrlDownload, BenchmarkTools\n",
    "\n",
    "url = \"https://archive.ics.uci.edu/ml/machine-learning-databases/statlog/heart/heart.dat\";\n",
    "feature_names = [\"age\", \"sex\", \"chest_pain\", \"rest_bp\", \"serum_cholestrol\", \"fasting_blood_sugar\", \"rest_ECG\", \"max_HR\", \"ex_ind_ang\", \"oldpeak\",\n",
    "\"slope\", \"major_vessel\", \"thal\",\"heart_dis\"]\n",
    "data = urldownload(url, true, format = :CSV, header = feature_names);\n",
    "s_log = DataFrame(data)\n",
    "schema(s_log)"
   ]
  },
  {
   "cell_type": "code",
   "execution_count": 91,
   "id": "d1cd527f",
   "metadata": {},
   "outputs": [],
   "source": [
    "################# Assessing the data and Fixing scientific types in tabular data ############"
   ]
  },
  {
   "cell_type": "code",
   "execution_count": 92,
   "id": "fe678735",
   "metadata": {
    "scrolled": false
   },
   "outputs": [
    {
     "data": {
      "text/html": [
       "<table class=\"data-frame\"><thead><tr><th></th><th>variable</th><th>mean</th><th>min</th><th>median</th><th>max</th><th>nmissing</th><th>eltype</th></tr><tr><th></th><th>Symbol</th><th>Float64</th><th>Real</th><th>Float64</th><th>Real</th><th>Int64</th><th>DataType</th></tr></thead><tbody><p>14 rows × 7 columns</p><tr><th>1</th><td>age</td><td>54.4333</td><td>29.0</td><td>55.0</td><td>77.0</td><td>0</td><td>Float64</td></tr><tr><th>2</th><td>sex</td><td>0.677778</td><td>0.0</td><td>1.0</td><td>1.0</td><td>0</td><td>Float64</td></tr><tr><th>3</th><td>chest_pain</td><td>3.17407</td><td>1.0</td><td>3.0</td><td>4.0</td><td>0</td><td>Float64</td></tr><tr><th>4</th><td>rest_bp</td><td>131.344</td><td>94.0</td><td>130.0</td><td>200.0</td><td>0</td><td>Float64</td></tr><tr><th>5</th><td>serum_cholestrol</td><td>249.659</td><td>126.0</td><td>245.0</td><td>564.0</td><td>0</td><td>Float64</td></tr><tr><th>6</th><td>fasting_blood_sugar</td><td>0.148148</td><td>0.0</td><td>0.0</td><td>1.0</td><td>0</td><td>Float64</td></tr><tr><th>7</th><td>rest_ECG</td><td>1.02222</td><td>0.0</td><td>2.0</td><td>2.0</td><td>0</td><td>Float64</td></tr><tr><th>8</th><td>max_HR</td><td>149.678</td><td>71.0</td><td>153.5</td><td>202.0</td><td>0</td><td>Float64</td></tr><tr><th>9</th><td>ex_ind_ang</td><td>0.32963</td><td>0.0</td><td>0.0</td><td>1.0</td><td>0</td><td>Float64</td></tr><tr><th>10</th><td>oldpeak</td><td>1.05</td><td>0.0</td><td>0.8</td><td>6.2</td><td>0</td><td>Float64</td></tr><tr><th>11</th><td>slope</td><td>1.58519</td><td>1.0</td><td>2.0</td><td>3.0</td><td>0</td><td>Float64</td></tr><tr><th>12</th><td>major_vessel</td><td>0.67037</td><td>0.0</td><td>0.0</td><td>3.0</td><td>0</td><td>Float64</td></tr><tr><th>13</th><td>thal</td><td>4.6963</td><td>3.0</td><td>3.0</td><td>7.0</td><td>0</td><td>Float64</td></tr><tr><th>14</th><td>heart_dis</td><td>1.44444</td><td>1</td><td>1.0</td><td>2</td><td>0</td><td>Int64</td></tr></tbody></table>"
      ],
      "text/latex": [
       "\\begin{tabular}{r|ccccccc}\n",
       "\t& variable & mean & min & median & max & nmissing & eltype\\\\\n",
       "\t\\hline\n",
       "\t& Symbol & Float64 & Real & Float64 & Real & Int64 & DataType\\\\\n",
       "\t\\hline\n",
       "\t1 & age & 54.4333 & 29.0 & 55.0 & 77.0 & 0 & Float64 \\\\\n",
       "\t2 & sex & 0.677778 & 0.0 & 1.0 & 1.0 & 0 & Float64 \\\\\n",
       "\t3 & chest\\_pain & 3.17407 & 1.0 & 3.0 & 4.0 & 0 & Float64 \\\\\n",
       "\t4 & rest\\_bp & 131.344 & 94.0 & 130.0 & 200.0 & 0 & Float64 \\\\\n",
       "\t5 & serum\\_cholestrol & 249.659 & 126.0 & 245.0 & 564.0 & 0 & Float64 \\\\\n",
       "\t6 & fasting\\_blood\\_sugar & 0.148148 & 0.0 & 0.0 & 1.0 & 0 & Float64 \\\\\n",
       "\t7 & rest\\_ECG & 1.02222 & 0.0 & 2.0 & 2.0 & 0 & Float64 \\\\\n",
       "\t8 & max\\_HR & 149.678 & 71.0 & 153.5 & 202.0 & 0 & Float64 \\\\\n",
       "\t9 & ex\\_ind\\_ang & 0.32963 & 0.0 & 0.0 & 1.0 & 0 & Float64 \\\\\n",
       "\t10 & oldpeak & 1.05 & 0.0 & 0.8 & 6.2 & 0 & Float64 \\\\\n",
       "\t11 & slope & 1.58519 & 1.0 & 2.0 & 3.0 & 0 & Float64 \\\\\n",
       "\t12 & major\\_vessel & 0.67037 & 0.0 & 0.0 & 3.0 & 0 & Float64 \\\\\n",
       "\t13 & thal & 4.6963 & 3.0 & 3.0 & 7.0 & 0 & Float64 \\\\\n",
       "\t14 & heart\\_dis & 1.44444 & 1 & 1.0 & 2 & 0 & Int64 \\\\\n",
       "\\end{tabular}\n"
      ],
      "text/plain": [
       "\u001b[1m14×7 DataFrame\u001b[0m\n",
       "\u001b[1m Row \u001b[0m│\u001b[1m variable            \u001b[0m\u001b[1m mean       \u001b[0m\u001b[1m min   \u001b[0m\u001b[1m median  \u001b[0m\u001b[1m max   \u001b[0m\u001b[1m nmissing \u001b[0m\u001b[1m eltyp\u001b[0m ⋯\n",
       "\u001b[1m     \u001b[0m│\u001b[90m Symbol              \u001b[0m\u001b[90m Float64    \u001b[0m\u001b[90m Real  \u001b[0m\u001b[90m Float64 \u001b[0m\u001b[90m Real  \u001b[0m\u001b[90m Int64    \u001b[0m\u001b[90m DataT\u001b[0m ⋯\n",
       "─────┼──────────────────────────────────────────────────────────────────────────\n",
       "   1 │ age                   54.4333     29.0     55.0   77.0         0  Float ⋯\n",
       "   2 │ sex                    0.677778    0.0      1.0    1.0         0  Float\n",
       "   3 │ chest_pain             3.17407     1.0      3.0    4.0         0  Float\n",
       "   4 │ rest_bp              131.344      94.0    130.0  200.0         0  Float\n",
       "   5 │ serum_cholestrol     249.659     126.0    245.0  564.0         0  Float ⋯\n",
       "   6 │ fasting_blood_sugar    0.148148    0.0      0.0    1.0         0  Float\n",
       "   7 │ rest_ECG               1.02222     0.0      2.0    2.0         0  Float\n",
       "   8 │ max_HR               149.678      71.0    153.5  202.0         0  Float\n",
       "   9 │ ex_ind_ang             0.32963     0.0      0.0    1.0         0  Float ⋯\n",
       "  10 │ oldpeak                1.05        0.0      0.8    6.2         0  Float\n",
       "  11 │ slope                  1.58519     1.0      2.0    3.0         0  Float\n",
       "  12 │ major_vessel           0.67037     0.0      0.0    3.0         0  Float\n",
       "  13 │ thal                   4.6963      3.0      3.0    7.0         0  Float ⋯\n",
       "  14 │ heart_dis              1.44444       1      1.0      2         0  Int64\n",
       "\u001b[36m                                                                1 column omitted\u001b[0m"
      ]
     },
     "execution_count": 92,
     "metadata": {},
     "output_type": "execute_result"
    }
   ],
   "source": [
    "describe(s_log)"
   ]
  },
  {
   "cell_type": "code",
   "execution_count": 93,
   "id": "f45553cf",
   "metadata": {
    "scrolled": true
   },
   "outputs": [
    {
     "data": {
      "text/plain": [
       "Dict{Symbol, Type} with 9 entries:\n",
       "  :rest_ECG            => OrderedFactor\n",
       "  :chest_pain          => OrderedFactor\n",
       "  :fasting_blood_sugar => OrderedFactor\n",
       "  :major_vessel        => OrderedFactor\n",
       "  :sex                 => OrderedFactor\n",
       "  :ex_ind_ang          => OrderedFactor\n",
       "  :thal                => OrderedFactor\n",
       "  :slope               => OrderedFactor\n",
       "  :heart_dis           => OrderedFactor"
      ]
     },
     "execution_count": 93,
     "metadata": {},
     "output_type": "execute_result"
    }
   ],
   "source": [
    "autotype(s_log)"
   ]
  },
  {
   "cell_type": "code",
   "execution_count": 94,
   "id": "685cd45d",
   "metadata": {},
   "outputs": [
    {
     "data": {
      "text/plain": [
       "┌─────────────────────┬───────────────────────────────────┬──────────────────┐\n",
       "│\u001b[22m _.names             \u001b[0m│\u001b[22m _.types                           \u001b[0m│\u001b[22m _.scitypes       \u001b[0m│\n",
       "├─────────────────────┼───────────────────────────────────┼──────────────────┤\n",
       "│ age                 │ Float64                           │ Continuous       │\n",
       "│ sex                 │ CategoricalValue{Float64, UInt32} │ OrderedFactor{2} │\n",
       "│ chest_pain          │ CategoricalValue{Float64, UInt32} │ OrderedFactor{4} │\n",
       "│ rest_bp             │ Float64                           │ Continuous       │\n",
       "│ serum_cholestrol    │ Float64                           │ Continuous       │\n",
       "│ fasting_blood_sugar │ CategoricalValue{Float64, UInt32} │ OrderedFactor{2} │\n",
       "│ rest_ECG            │ CategoricalValue{Float64, UInt32} │ OrderedFactor{3} │\n",
       "│ max_HR              │ Float64                           │ Continuous       │\n",
       "│ ex_ind_ang          │ CategoricalValue{Float64, UInt32} │ OrderedFactor{2} │\n",
       "│ oldpeak             │ Float64                           │ Continuous       │\n",
       "│ slope               │ CategoricalValue{Float64, UInt32} │ OrderedFactor{3} │\n",
       "│ major_vessel        │ CategoricalValue{Float64, UInt32} │ OrderedFactor{4} │\n",
       "│ thal                │ CategoricalValue{Float64, UInt32} │ OrderedFactor{3} │\n",
       "│ heart_dis           │ CategoricalValue{Int64, UInt32}   │ OrderedFactor{2} │\n",
       "└─────────────────────┴───────────────────────────────────┴──────────────────┘\n",
       "_.nrows = 270\n"
      ]
     },
     "execution_count": 94,
     "metadata": {},
     "output_type": "execute_result"
    }
   ],
   "source": [
    "coerce!(s_log, autotype(s_log));\n",
    "schema(s_log)"
   ]
  },
  {
   "cell_type": "code",
   "execution_count": 95,
   "id": "bab224e5",
   "metadata": {},
   "outputs": [
    {
     "data": {
      "text/plain": [
       "┌─────────────────────┬───────────────────────────────────┬──────────────────┐\n",
       "│\u001b[22m _.names             \u001b[0m│\u001b[22m _.types                           \u001b[0m│\u001b[22m _.scitypes       \u001b[0m│\n",
       "├─────────────────────┼───────────────────────────────────┼──────────────────┤\n",
       "│ age                 │ Float64                           │ Continuous       │\n",
       "│ sex                 │ CategoricalValue{Float64, UInt32} │ OrderedFactor{2} │\n",
       "│ chest_pain          │ CategoricalValue{Float64, UInt32} │ OrderedFactor{4} │\n",
       "│ rest_bp             │ Float64                           │ Continuous       │\n",
       "│ serum_cholestrol    │ Float64                           │ Continuous       │\n",
       "│ fasting_blood_sugar │ CategoricalValue{Float64, UInt32} │ OrderedFactor{2} │\n",
       "│ rest_ECG            │ CategoricalValue{Float64, UInt32} │ OrderedFactor{3} │\n",
       "│ max_HR              │ Float64                           │ Continuous       │\n",
       "│ ex_ind_ang          │ CategoricalValue{Float64, UInt32} │ OrderedFactor{2} │\n",
       "│ oldpeak             │ Float64                           │ Continuous       │\n",
       "│ slope               │ CategoricalValue{Float64, UInt32} │ OrderedFactor{3} │\n",
       "│ major_vessel        │ CategoricalValue{Float64, UInt32} │ OrderedFactor{4} │\n",
       "│ thal                │ CategoricalValue{Float64, UInt32} │ Multiclass{3}    │\n",
       "│ heart_dis           │ CategoricalValue{Int64, UInt32}   │ OrderedFactor{2} │\n",
       "└─────────────────────┴───────────────────────────────────┴──────────────────┘\n",
       "_.nrows = 270\n"
      ]
     },
     "execution_count": 95,
     "metadata": {},
     "output_type": "execute_result"
    }
   ],
   "source": [
    "coerce!(s_log,\n",
    "          :presence => OrderedFactor,\n",
    "          :exang    => OrderedFactor,\n",
    "          :sex      => OrderedFactor,\n",
    "          :fbs      => OrderedFactor,\n",
    "          :restecg  => Multiclass,\n",
    "          :slope    => OrderedFactor,\n",
    "          :ca       => Continuous,\n",
    "          :thal     => Multiclass,\n",
    "          :cp       => Multiclass);\n",
    "schema(s_log)"
   ]
  },
  {
   "cell_type": "code",
   "execution_count": 96,
   "id": "1e64ab46",
   "metadata": {},
   "outputs": [],
   "source": [
    "###########################################Training and Evaluating Models#################################################"
   ]
  },
  {
   "cell_type": "code",
   "execution_count": 97,
   "id": "269e6041",
   "metadata": {},
   "outputs": [
    {
     "data": {
      "text/plain": [
       "AbstractVector{OrderedFactor{2}} (alias for AbstractArray{OrderedFactor{2}, 1})"
      ]
     },
     "execution_count": 97,
     "metadata": {},
     "output_type": "execute_result"
    }
   ],
   "source": [
    "y, X = unpack(s_log, ==(:heart_dis), name->true; rng=123);\n",
    "scitype(y)"
   ]
  },
  {
   "cell_type": "code",
   "execution_count": 98,
   "id": "37043dbb",
   "metadata": {},
   "outputs": [
    {
     "name": "stdout",
     "output_type": "stream",
     "text": [
      "import MLJDecisionTreeInterface ✔\n"
     ]
    },
    {
     "name": "stderr",
     "output_type": "stream",
     "text": [
      "┌ Info: For silent loading, specify `verbosity=0`. \n",
      "└ @ Main C:\\Users\\kapil\\.julia\\packages\\MLJModels\\w0uSt\\src\\loading.jl:168\n"
     ]
    },
    {
     "data": {
      "text/plain": [
       "MLJDecisionTreeInterface.DecisionTreeClassifier"
      ]
     },
     "execution_count": 98,
     "metadata": {},
     "output_type": "execute_result"
    }
   ],
   "source": [
    "using MLJ\n",
    "DecisionTreeClassifier = @load DecisionTreeClassifier pkg=DecisionTree verbosity=1"
   ]
  },
  {
   "cell_type": "code",
   "execution_count": 99,
   "id": "9908d620",
   "metadata": {},
   "outputs": [
    {
     "data": {
      "text/plain": [
       "DecisionTreeClassifier(\n",
       "    max_depth = -1,\n",
       "    min_samples_leaf = 2,\n",
       "    min_samples_split = 2,\n",
       "    min_purity_increase = 0.0,\n",
       "    n_subfeatures = 0,\n",
       "    post_prune = false,\n",
       "    merge_purity_threshold = 1.0,\n",
       "    pdf_smoothing = 0.0,\n",
       "    display_depth = 5,\n",
       "    rng = Random._GLOBAL_RNG())\u001b[34m @045\u001b[39m"
      ]
     },
     "execution_count": 99,
     "metadata": {},
     "output_type": "execute_result"
    }
   ],
   "source": [
    "model1 = DecisionTreeClassifier(min_samples_leaf=2)"
   ]
  },
  {
   "cell_type": "code",
   "execution_count": 100,
   "id": "5fb58310",
   "metadata": {},
   "outputs": [
    {
     "data": {
      "text/plain": [
       "\u001b[35mCART decision tree classifier.\u001b[39m\n",
       "\u001b[35m→ based on [DecisionTree](https://github.com/bensadeghi/DecisionTree.jl).\u001b[39m\n",
       "\u001b[35m→ do `@load DecisionTreeClassifier pkg=\"DecisionTree\"` to use the model.\u001b[39m\n",
       "\u001b[35m→ do `?DecisionTreeClassifier` for documentation.\u001b[39m\n",
       "(name = \"DecisionTreeClassifier\",\n",
       " package_name = \"DecisionTree\",\n",
       " is_supervised = true,\n",
       " deep_properties = (),\n",
       " docstring = \"CART decision tree classifier.\\n→ based on [DecisionTree](https://github.com/bensadeghi/DecisionTree.jl).\\n→ do `@load DecisionTreeClassifier pkg=\\\"DecisionTree\\\"` to use the model.\\n→ do `?DecisionTreeClassifier` for documentation.\",\n",
       " hyperparameter_ranges = (nothing, nothing, nothing, nothing, nothing, nothing, nothing, nothing, nothing, nothing),\n",
       " hyperparameter_types = (\"Int64\", \"Int64\", \"Int64\", \"Float64\", \"Int64\", \"Bool\", \"Float64\", \"Float64\", \"Int64\", \"Union{Integer, Random.AbstractRNG}\"),\n",
       " hyperparameters = (:max_depth, :min_samples_leaf, :min_samples_split, :min_purity_increase, :n_subfeatures, :post_prune, :merge_purity_threshold, :pdf_smoothing, :display_depth, :rng),\n",
       " implemented_methods = [:clean!, :fit, :fitted_params, :predict],\n",
       " is_pure_julia = true,\n",
       " is_wrapper = false,\n",
       " iteration_parameter = nothing,\n",
       " load_path = \"MLJDecisionTreeInterface.DecisionTreeClassifier\",\n",
       " package_license = \"MIT\",\n",
       " package_url = \"https://github.com/bensadeghi/DecisionTree.jl\",\n",
       " package_uuid = \"7806a523-6efd-50cb-b5f6-3fa6f1930dbb\",\n",
       " prediction_type = :probabilistic,\n",
       " supports_class_weights = false,\n",
       " supports_online = false,\n",
       " supports_training_losses = false,\n",
       " supports_weights = false,\n",
       " input_scitype = Table{var\"#s46\"} where var\"#s46\"<:Union{AbstractVector{var\"#s9\"} where var\"#s9\"<:Count, AbstractVector{var\"#s9\"} where var\"#s9\"<:OrderedFactor, AbstractVector{var\"#s9\"} where var\"#s9\"<:Continuous},\n",
       " target_scitype = AbstractVector{var\"#s41\"} where var\"#s41\"<:Finite,\n",
       " output_scitype = Unknown,)"
      ]
     },
     "execution_count": 100,
     "metadata": {},
     "output_type": "execute_result"
    }
   ],
   "source": [
    "info(model1) #information about the model we have chosen"
   ]
  },
  {
   "cell_type": "code",
   "execution_count": 101,
   "id": "c317c06a",
   "metadata": {},
   "outputs": [
    {
     "name": "stderr",
     "output_type": "stream",
     "text": [
      "┌ Warning: The scitype of `X`, in `machine(model, X, ...)` is incompatible with `model=\u001b[34mDecisionTreeClassifier @045\u001b[39m`:\n",
      "│ scitype(X) = Table{Union{AbstractVector{Continuous}, AbstractVector{Multiclass{3}}, AbstractVector{OrderedFactor{3}}, AbstractVector{OrderedFactor{2}}, AbstractVector{OrderedFactor{4}}}}\n",
      "│ input_scitype(model) = Table{var\"#s46\"} where var\"#s46\"<:Union{AbstractVector{var\"#s9\"} where var\"#s9\"<:Count, AbstractVector{var\"#s9\"} where var\"#s9\"<:OrderedFactor, AbstractVector{var\"#s9\"} where var\"#s9\"<:Continuous}.\n",
      "└ @ MLJBase C:\\Users\\kapil\\.julia\\packages\\MLJBase\\KWyqX\\src\\machines.jl:91\n"
     ]
    },
    {
     "data": {
      "text/plain": [
       "\u001b[34mMachine{DecisionTreeClassifier,…} @110\u001b[39m trained 0 times; caches data\n",
       "  args: \n",
       "    1:\t\u001b[34mSource @391\u001b[39m ⏎ `Table{Union{AbstractVector{Continuous}, AbstractVector{Multiclass{3}}, AbstractVector{OrderedFactor{3}}, AbstractVector{OrderedFactor{2}}, AbstractVector{OrderedFactor{4}}}}`\n",
       "    2:\t\u001b[34mSource @236\u001b[39m ⏎ `AbstractVector{OrderedFactor{2}}`\n"
      ]
     },
     "execution_count": 101,
     "metadata": {},
     "output_type": "execute_result"
    }
   ],
   "source": [
    "mach = machine(model1, X, y)"
   ]
  },
  {
   "cell_type": "code",
   "execution_count": 102,
   "id": "40002cdc",
   "metadata": {},
   "outputs": [],
   "source": [
    "train, test = partition(eachindex(y), 0.6, shuffle=true);  "
   ]
  },
  {
   "cell_type": "code",
   "execution_count": 103,
   "id": "bcdc84b9",
   "metadata": {},
   "outputs": [
    {
     "data": {
      "text/plain": [
       "\u001b[34mMachine{DecisionTreeClassifier,…} @110\u001b[39m trained 1 time; caches data\n",
       "  args: \n",
       "    1:\t\u001b[34mSource @391\u001b[39m ⏎ `Table{Union{AbstractVector{Continuous}, AbstractVector{Multiclass{3}}, AbstractVector{OrderedFactor{3}}, AbstractVector{OrderedFactor{2}}, AbstractVector{OrderedFactor{4}}}}`\n",
       "    2:\t\u001b[34mSource @236\u001b[39m ⏎ `AbstractVector{OrderedFactor{2}}`\n"
      ]
     },
     "execution_count": 103,
     "metadata": {},
     "output_type": "execute_result"
    }
   ],
   "source": [
    "fit!(mach, rows=train, verbosity=0)"
   ]
  },
  {
   "cell_type": "code",
   "execution_count": 104,
   "id": "bf81158e",
   "metadata": {
    "scrolled": true
   },
   "outputs": [
    {
     "data": {
      "text/plain": [
       "0.962962962962963"
      ]
     },
     "execution_count": 104,
     "metadata": {},
     "output_type": "execute_result"
    }
   ],
   "source": [
    "yhat = predict_mode(mach, rows=train)\n",
    "accuracy(yhat, y[train])"
   ]
  },
  {
   "cell_type": "code",
   "execution_count": 105,
   "id": "8c8eeb08",
   "metadata": {},
   "outputs": [
    {
     "data": {
      "text/plain": [
       "0.7407407407407407"
      ]
     },
     "execution_count": 105,
     "metadata": {},
     "output_type": "execute_result"
    }
   ],
   "source": [
    "yhat1 = predict_mode(mach, rows=test)\n",
    "accuracy(yhat1, y[test])"
   ]
  },
  {
   "cell_type": "code",
   "execution_count": 106,
   "id": "9b61095a",
   "metadata": {},
   "outputs": [],
   "source": [
    "######### Let's find the best max depth value for the tree ##########################\n",
    "using Plots"
   ]
  },
  {
   "cell_type": "code",
   "execution_count": 107,
   "id": "4351bc04",
   "metadata": {
    "scrolled": true
   },
   "outputs": [
    {
     "name": "stderr",
     "output_type": "stream",
     "text": [
      "┌ Warning: The scitype of `X`, in `machine(model, X, ...)` is incompatible with `model=\u001b[34mDecisionTreeClassifier @603\u001b[39m`:\n",
      "│ scitype(X) = Table{Union{AbstractVector{Continuous}, AbstractVector{Multiclass{3}}, AbstractVector{OrderedFactor{3}}, AbstractVector{OrderedFactor{2}}, AbstractVector{OrderedFactor{4}}}}\n",
      "│ input_scitype(model) = Table{var\"#s46\"} where var\"#s46\"<:Union{AbstractVector{var\"#s9\"} where var\"#s9\"<:Count, AbstractVector{var\"#s9\"} where var\"#s9\"<:OrderedFactor, AbstractVector{var\"#s9\"} where var\"#s9\"<:Continuous}.\n",
      "└ @ MLJBase C:\\Users\\kapil\\.julia\\packages\\MLJBase\\KWyqX\\src\\machines.jl:91\n",
      "┌ Warning: The scitype of `X`, in `machine(model, X, ...)` is incompatible with `model=\u001b[34mDecisionTreeClassifier @775\u001b[39m`:\n",
      "│ scitype(X) = Table{Union{AbstractVector{Continuous}, AbstractVector{Multiclass{3}}, AbstractVector{OrderedFactor{3}}, AbstractVector{OrderedFactor{2}}, AbstractVector{OrderedFactor{4}}}}\n",
      "│ input_scitype(model) = Table{var\"#s46\"} where var\"#s46\"<:Union{AbstractVector{var\"#s9\"} where var\"#s9\"<:Count, AbstractVector{var\"#s9\"} where var\"#s9\"<:OrderedFactor, AbstractVector{var\"#s9\"} where var\"#s9\"<:Continuous}.\n",
      "└ @ MLJBase C:\\Users\\kapil\\.julia\\packages\\MLJBase\\KWyqX\\src\\machines.jl:91\n",
      "┌ Warning: The scitype of `X`, in `machine(model, X, ...)` is incompatible with `model=\u001b[34mDecisionTreeClassifier @709\u001b[39m`:\n",
      "│ scitype(X) = Table{Union{AbstractVector{Continuous}, AbstractVector{Multiclass{3}}, AbstractVector{OrderedFactor{3}}, AbstractVector{OrderedFactor{2}}, AbstractVector{OrderedFactor{4}}}}\n",
      "│ input_scitype(model) = Table{var\"#s46\"} where var\"#s46\"<:Union{AbstractVector{var\"#s9\"} where var\"#s9\"<:Count, AbstractVector{var\"#s9\"} where var\"#s9\"<:OrderedFactor, AbstractVector{var\"#s9\"} where var\"#s9\"<:Continuous}.\n",
      "└ @ MLJBase C:\\Users\\kapil\\.julia\\packages\\MLJBase\\KWyqX\\src\\machines.jl:91\n",
      "┌ Warning: The scitype of `X`, in `machine(model, X, ...)` is incompatible with `model=\u001b[34mDecisionTreeClassifier @312\u001b[39m`:\n",
      "│ scitype(X) = Table{Union{AbstractVector{Continuous}, AbstractVector{Multiclass{3}}, AbstractVector{OrderedFactor{3}}, AbstractVector{OrderedFactor{2}}, AbstractVector{OrderedFactor{4}}}}\n",
      "│ input_scitype(model) = Table{var\"#s46\"} where var\"#s46\"<:Union{AbstractVector{var\"#s9\"} where var\"#s9\"<:Count, AbstractVector{var\"#s9\"} where var\"#s9\"<:OrderedFactor, AbstractVector{var\"#s9\"} where var\"#s9\"<:Continuous}.\n",
      "└ @ MLJBase C:\\Users\\kapil\\.julia\\packages\\MLJBase\\KWyqX\\src\\machines.jl:91\n",
      "┌ Warning: The scitype of `X`, in `machine(model, X, ...)` is incompatible with `model=\u001b[34mDecisionTreeClassifier @283\u001b[39m`:\n",
      "│ scitype(X) = Table{Union{AbstractVector{Continuous}, AbstractVector{Multiclass{3}}, AbstractVector{OrderedFactor{3}}, AbstractVector{OrderedFactor{2}}, AbstractVector{OrderedFactor{4}}}}\n",
      "│ input_scitype(model) = Table{var\"#s46\"} where var\"#s46\"<:Union{AbstractVector{var\"#s9\"} where var\"#s9\"<:Count, AbstractVector{var\"#s9\"} where var\"#s9\"<:OrderedFactor, AbstractVector{var\"#s9\"} where var\"#s9\"<:Continuous}.\n",
      "└ @ MLJBase C:\\Users\\kapil\\.julia\\packages\\MLJBase\\KWyqX\\src\\machines.jl:91\n",
      "┌ Warning: The scitype of `X`, in `machine(model, X, ...)` is incompatible with `model=\u001b[34mDecisionTreeClassifier @198\u001b[39m`:\n",
      "│ scitype(X) = Table{Union{AbstractVector{Continuous}, AbstractVector{Multiclass{3}}, AbstractVector{OrderedFactor{3}}, AbstractVector{OrderedFactor{2}}, AbstractVector{OrderedFactor{4}}}}\n",
      "│ input_scitype(model) = Table{var\"#s46\"} where var\"#s46\"<:Union{AbstractVector{var\"#s9\"} where var\"#s9\"<:Count, AbstractVector{var\"#s9\"} where var\"#s9\"<:OrderedFactor, AbstractVector{var\"#s9\"} where var\"#s9\"<:Continuous}.\n",
      "└ @ MLJBase C:\\Users\\kapil\\.julia\\packages\\MLJBase\\KWyqX\\src\\machines.jl:91\n",
      "┌ Warning: The scitype of `X`, in `machine(model, X, ...)` is incompatible with `model=\u001b[34mDecisionTreeClassifier @132\u001b[39m`:\n",
      "│ scitype(X) = Table{Union{AbstractVector{Continuous}, AbstractVector{Multiclass{3}}, AbstractVector{OrderedFactor{3}}, AbstractVector{OrderedFactor{2}}, AbstractVector{OrderedFactor{4}}}}\n",
      "│ input_scitype(model) = Table{var\"#s46\"} where var\"#s46\"<:Union{AbstractVector{var\"#s9\"} where var\"#s9\"<:Count, AbstractVector{var\"#s9\"} where var\"#s9\"<:OrderedFactor, AbstractVector{var\"#s9\"} where var\"#s9\"<:Continuous}.\n",
      "└ @ MLJBase C:\\Users\\kapil\\.julia\\packages\\MLJBase\\KWyqX\\src\\machines.jl:91\n",
      "┌ Warning: The scitype of `X`, in `machine(model, X, ...)` is incompatible with `model=\u001b[34mDecisionTreeClassifier @644\u001b[39m`:\n",
      "│ scitype(X) = Table{Union{AbstractVector{Continuous}, AbstractVector{Multiclass{3}}, AbstractVector{OrderedFactor{3}}, AbstractVector{OrderedFactor{2}}, AbstractVector{OrderedFactor{4}}}}\n",
      "│ input_scitype(model) = Table{var\"#s46\"} where var\"#s46\"<:Union{AbstractVector{var\"#s9\"} where var\"#s9\"<:Count, AbstractVector{var\"#s9\"} where var\"#s9\"<:OrderedFactor, AbstractVector{var\"#s9\"} where var\"#s9\"<:Continuous}.\n",
      "└ @ MLJBase C:\\Users\\kapil\\.julia\\packages\\MLJBase\\KWyqX\\src\\machines.jl:91\n",
      "┌ Warning: The scitype of `X`, in `machine(model, X, ...)` is incompatible with `model=\u001b[34mDecisionTreeClassifier @510\u001b[39m`:\n",
      "│ scitype(X) = Table{Union{AbstractVector{Continuous}, AbstractVector{Multiclass{3}}, AbstractVector{OrderedFactor{3}}, AbstractVector{OrderedFactor{2}}, AbstractVector{OrderedFactor{4}}}}\n",
      "│ input_scitype(model) = Table{var\"#s46\"} where var\"#s46\"<:Union{AbstractVector{var\"#s9\"} where var\"#s9\"<:Count, AbstractVector{var\"#s9\"} where var\"#s9\"<:OrderedFactor, AbstractVector{var\"#s9\"} where var\"#s9\"<:Continuous}.\n",
      "└ @ MLJBase C:\\Users\\kapil\\.julia\\packages\\MLJBase\\KWyqX\\src\\machines.jl:91\n",
      "┌ Warning: The scitype of `X`, in `machine(model, X, ...)` is incompatible with `model=\u001b[34mDecisionTreeClassifier @051\u001b[39m`:\n",
      "│ scitype(X) = Table{Union{AbstractVector{Continuous}, AbstractVector{Multiclass{3}}, AbstractVector{OrderedFactor{3}}, AbstractVector{OrderedFactor{2}}, AbstractVector{OrderedFactor{4}}}}\n",
      "│ input_scitype(model) = Table{var\"#s46\"} where var\"#s46\"<:Union{AbstractVector{var\"#s9\"} where var\"#s9\"<:Count, AbstractVector{var\"#s9\"} where var\"#s9\"<:OrderedFactor, AbstractVector{var\"#s9\"} where var\"#s9\"<:Continuous}.\n",
      "└ @ MLJBase C:\\Users\\kapil\\.julia\\packages\\MLJBase\\KWyqX\\src\\machines.jl:91\n"
     ]
    },
    {
     "data": {
      "image/png": "[encoded data removed]"
     },
     "execution_count": 107,
     "metadata": {},
     "output_type": "execute_result"
    }
   ],
   "source": [
    "accu_tr = []\n",
    "accu_te = []\n",
    "ds = 1:10\n",
    "for depth in ds\n",
    "    model1 = DecisionTreeClassifier(max_depth=depth)\n",
    "    mach = machine(model1, X, y)\n",
    "    fit!(mach, rows=train, verbosity=0)\n",
    "    push!(accu_tr, accuracy(predict_mode(mach, rows=train), y[train]))\n",
    "    push!(accu_te, accuracy(predict_mode(mach, rows=test), y[test]))\n",
    "    \n",
    "end\n",
    "\n",
    "plot(ds, accu_tr, label=\"Training\")\n",
    "plot!(ds, accu_te, label=\"Testing\", xlabel= \"max_depth\", ylabel= \"Accuracy\", fmt = :png)"
   ]
  },
  {
   "cell_type": "code",
   "execution_count": 108,
   "id": "a3b60cb0",
   "metadata": {},
   "outputs": [],
   "source": [
    "# max_depth = 3 we have got the highest accuracy"
   ]
  },
  {
   "cell_type": "code",
   "execution_count": 109,
   "id": "7b36d75f",
   "metadata": {},
   "outputs": [
    {
     "name": "stderr",
     "output_type": "stream",
     "text": [
      "┌ Warning: The scitype of `X`, in `machine(model, X, ...)` is incompatible with `model=\u001b[34mDecisionTreeClassifier @823\u001b[39m`:\n",
      "│ scitype(X) = Table{Union{AbstractVector{Continuous}, AbstractVector{Multiclass{3}}, AbstractVector{OrderedFactor{3}}, AbstractVector{OrderedFactor{2}}, AbstractVector{OrderedFactor{4}}}}\n",
      "│ input_scitype(model) = Table{var\"#s46\"} where var\"#s46\"<:Union{AbstractVector{var\"#s9\"} where var\"#s9\"<:Count, AbstractVector{var\"#s9\"} where var\"#s9\"<:OrderedFactor, AbstractVector{var\"#s9\"} where var\"#s9\"<:Continuous}.\n",
      "└ @ MLJBase C:\\Users\\kapil\\.julia\\packages\\MLJBase\\KWyqX\\src\\machines.jl:91\n"
     ]
    },
    {
     "data": {
      "text/plain": [
       "0.8240740740740741"
      ]
     },
     "execution_count": 109,
     "metadata": {},
     "output_type": "execute_result"
    }
   ],
   "source": [
    "model1 = DecisionTreeClassifier(min_samples_leaf=2,max_depth = 3)\n",
    "mach = machine(model1, X, y)\n",
    "train, test = partition(eachindex(y), 0.6, shuffle=true);  \n",
    "fit!(mach, rows=train, verbosity=0)\n",
    "yhat = predict_mode(mach, rows=train)\n",
    "accuracy(yhat, y[train])\n",
    "yhat1 = predict_mode(mach, rows=test)\n",
    "\n",
    "accuracy(yhat1, y[test])"
   ]
  },
  {
   "cell_type": "code",
   "execution_count": 110,
   "id": "0ec7200f",
   "metadata": {},
   "outputs": [
    {
     "name": "stdout",
     "output_type": "stream",
     "text": [
      "  143.075 ns (1 allocation: 96 bytes)\n"
     ]
    },
    {
     "data": {
      "text/plain": [
       "DecisionTreeClassifier(\n",
       "    max_depth = 3,\n",
       "    min_samples_leaf = 2,\n",
       "    min_samples_split = 2,\n",
       "    min_purity_increase = 0.0,\n",
       "    n_subfeatures = 0,\n",
       "    post_prune = false,\n",
       "    merge_purity_threshold = 1.0,\n",
       "    pdf_smoothing = 0.0,\n",
       "    display_depth = 5,\n",
       "    rng = Random._GLOBAL_RNG())\u001b[34m @139\u001b[39m"
      ]
     },
     "execution_count": 110,
     "metadata": {},
     "output_type": "execute_result"
    }
   ],
   "source": [
    "@btime DecisionTreeClassifier(min_samples_leaf=2,max_depth = 3)"
   ]
  },
  {
   "cell_type": "code",
   "execution_count": null,
   "id": "63061c19",
   "metadata": {},
   "outputs": [],
   "source": []
  },
  {
   "cell_type": "code",
   "execution_count": null,
   "id": "df81f72e",
   "metadata": {},
   "outputs": [],
   "source": []
  },
  {
   "cell_type": "code",
   "execution_count": null,
   "id": "3c14954f",
   "metadata": {},
   "outputs": [],
   "source": []
  },
  {
   "cell_type": "code",
   "execution_count": null,
   "id": "8a956775",
   "metadata": {},
   "outputs": [],
   "source": []
  },
  {
   "cell_type": "code",
   "execution_count": null,
   "id": "10b5a528",
   "metadata": {},
   "outputs": [],
   "source": []
  },
  {
   "cell_type": "code",
   "execution_count": null,
   "id": "a2591723",
   "metadata": {},
   "outputs": [],
   "source": []
  },
  {
   "cell_type": "code",
   "execution_count": null,
   "id": "3354082b",
   "metadata": {},
   "outputs": [],
   "source": []
  },
  {
   "cell_type": "code",
   "execution_count": null,
   "id": "7023c071",
   "metadata": {},
   "outputs": [],
   "source": []
  },
  {
   "cell_type": "code",
   "execution_count": null,
   "id": "483d06f4",
   "metadata": {},
   "outputs": [],
   "source": []
  },
  {
   "cell_type": "code",
   "execution_count": null,
   "id": "d4335c98",
   "metadata": {},
   "outputs": [],
   "source": []
  },
  {
   "cell_type": "code",
   "execution_count": null,
   "id": "02f2cabf",
   "metadata": {},
   "outputs": [],
   "source": []
  },
  {
   "cell_type": "code",
   "execution_count": null,
   "id": "2a0f4144",
   "metadata": {},
   "outputs": [],
   "source": []
  },
  {
   "cell_type": "code",
   "execution_count": null,
   "id": "591b0f04",
   "metadata": {},
   "outputs": [],
   "source": []
  }
 ],
 "metadata": {
  "kernelspec": {
   "display_name": "Julia 1.6.3",
   "language": "julia",
   "name": "julia-1.6"
  },
  "language_info": {
   "file_extension": ".jl",
   "mimetype": "application/julia",
   "name": "julia",
   "version": "1.6.3"
  }
 },
 "nbformat": 4,
 "nbformat_minor": 5
}
